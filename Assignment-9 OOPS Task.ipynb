{
 "cells": [
  {
   "cell_type": "markdown",
   "id": "bc04ac98-2d7b-4121-9452-25d751588126",
   "metadata": {},
   "source": [
    "Q1. Create a vehicle class with an init method having instance variables as name_of_vehicle, max_speed\n",
    "and average_of_vehicle."
   ]
  },
  {
   "cell_type": "code",
   "execution_count": 1,
   "id": "7c50f41d-b504-4075-a8af-9f5ac3b1e134",
   "metadata": {},
   "outputs": [],
   "source": [
    "class vehicle:\n",
    "    \n",
    "    def __init__(self, name_of_vehicle, max_speed, average_of_vehicle):\n",
    "        self.name_of_vehicle = name_of_vehicle\n",
    "        self.max_speed = max_speed\n",
    "        self.average_of_vehicle = average_of_vehicle"
   ]
  },
  {
   "cell_type": "code",
   "execution_count": null,
   "id": "b536d330-ffc2-4cfc-b895-2e3ee00518ac",
   "metadata": {},
   "outputs": [],
   "source": []
  },
  {
   "cell_type": "markdown",
   "id": "3c447243-84a9-4106-a92b-9f02e1b51a53",
   "metadata": {},
   "source": [
    "Q2. Create a child class car from the vehicle class created in Que 1, which will inherit the vehicle class.\n",
    "Create a method named seating_capacity which takes capacity as an argument and returns the name of\n",
    "the vehicle and its seating capacity."
   ]
  },
  {
   "cell_type": "code",
   "execution_count": 12,
   "id": "f8e211ea-e9dc-4ed3-a135-7e15b0cc91ff",
   "metadata": {},
   "outputs": [],
   "source": [
    "class car(vehicle):\n",
    "    \n",
    "    def seating_capacity(self, capacity):\n",
    "        self.capacity = capacity\n",
    "        return self.name_of_vehicle, self.capacity"
   ]
  },
  {
   "cell_type": "code",
   "execution_count": 13,
   "id": "b2ea0cb9-e085-4ed4-a2dd-a62be89a0be0",
   "metadata": {},
   "outputs": [],
   "source": [
    "c = car('Car', 240, 15)"
   ]
  },
  {
   "cell_type": "code",
   "execution_count": 14,
   "id": "aa816f82-f0ba-4080-9c02-e0742164a703",
   "metadata": {},
   "outputs": [
    {
     "data": {
      "text/plain": [
       "('Car', 150)"
      ]
     },
     "execution_count": 14,
     "metadata": {},
     "output_type": "execute_result"
    }
   ],
   "source": [
    "c.seating_capacity(150)"
   ]
  },
  {
   "cell_type": "code",
   "execution_count": null,
   "id": "b7d5e832-579c-42b2-a792-d6d8d3496e48",
   "metadata": {},
   "outputs": [],
   "source": []
  },
  {
   "cell_type": "markdown",
   "id": "fe69a83a-5de0-4da8-8359-f064337ab47f",
   "metadata": {},
   "source": [
    "Q3. What is multiple inheritance? Write a python code to demonstrate multiple inheritance."
   ]
  },
  {
   "cell_type": "markdown",
   "id": "46124534-9a39-4ab7-8cf4-db6f034d4964",
   "metadata": {},
   "source": [
    ":- Multiple inheritance is one of the type of inheritance. When a child class inherits from different parent classes then    it is a multiple inheritance. Below is the example."
   ]
  },
  {
   "cell_type": "code",
   "execution_count": 15,
   "id": "31b27000-fdd8-4d39-8b13-f70bb64b059b",
   "metadata": {},
   "outputs": [],
   "source": [
    "class Father:\n",
    "    \n",
    "    def f_prop(self):\n",
    "        print(\"This is a method of father class.\")\n",
    "        \n",
    "class Mother:\n",
    "    \n",
    "    def m_prop(self):\n",
    "        print(\"This is a method of mother class.\")\n",
    "        \n",
    "class child(Father, Mother):\n",
    "    \n",
    "    def c_prop(self):\n",
    "        print(\"This is a method of child class.\")"
   ]
  },
  {
   "cell_type": "code",
   "execution_count": 16,
   "id": "2f564ebf-6272-4692-998c-ccbd8db9101a",
   "metadata": {},
   "outputs": [],
   "source": [
    "c_obj = child()"
   ]
  },
  {
   "cell_type": "code",
   "execution_count": 18,
   "id": "90bb8a68-1d02-4517-9639-99f8d7929758",
   "metadata": {},
   "outputs": [
    {
     "name": "stdout",
     "output_type": "stream",
     "text": [
      "This is a method of father class.\n"
     ]
    }
   ],
   "source": [
    "c_obj.f_prop()"
   ]
  },
  {
   "cell_type": "code",
   "execution_count": 19,
   "id": "a508aa7c-0465-4b44-a375-29a8b421c83e",
   "metadata": {},
   "outputs": [
    {
     "name": "stdout",
     "output_type": "stream",
     "text": [
      "This is a method of mother class.\n"
     ]
    }
   ],
   "source": [
    "c_obj.m_prop()"
   ]
  },
  {
   "cell_type": "code",
   "execution_count": 20,
   "id": "e74fa574-d0d4-4c0b-8d31-83db01d28ed0",
   "metadata": {},
   "outputs": [
    {
     "name": "stdout",
     "output_type": "stream",
     "text": [
      "This is a method of child class.\n"
     ]
    }
   ],
   "source": [
    "c_obj.c_prop()"
   ]
  },
  {
   "cell_type": "code",
   "execution_count": null,
   "id": "3003d591-9891-42e1-a373-b80b5b2b6cea",
   "metadata": {},
   "outputs": [],
   "source": []
  },
  {
   "cell_type": "markdown",
   "id": "272126bc-8a6b-42c6-b9f0-e01cd80896e5",
   "metadata": {},
   "source": [
    "Q4. What are getter and setter in python? Create a class and create a getter and a setter method in this\n",
    "class."
   ]
  },
  {
   "cell_type": "markdown",
   "id": "4b52fa37-2e0c-45af-8b7f-8d5ea066d039",
   "metadata": {},
   "source": [
    ":- \n",
    "getter - A method that allows you to access the attribute in a given class is a getter method.\n",
    "   \n",
    "setter - A method that allows you to set or mutate the value of attribute in a given class is a setter method."
   ]
  },
  {
   "cell_type": "code",
   "execution_count": 4,
   "id": "fe2dfa6a-e5cc-49a5-863b-7f944c4e56e8",
   "metadata": {},
   "outputs": [],
   "source": [
    "class Label:\n",
    "    \n",
    "    def __init__(self, size, font):\n",
    "        self.__size = size\n",
    "        self.__font = font\n",
    "        \n",
    "    def get_size(self):\n",
    "        return self.__size\n",
    "    \n",
    "    def set_size(self, s):\n",
    "        self.__size = s\n",
    "    \n",
    "    def get_font(self):\n",
    "        return self.__font\n",
    "    \n",
    "    def set_font(self, f):\n",
    "        self.__font = f\n",
    "    "
   ]
  },
  {
   "cell_type": "code",
   "execution_count": 5,
   "id": "1a9f2426-2e55-4dc4-96ee-3898b4d88d6f",
   "metadata": {},
   "outputs": [],
   "source": [
    "l = Label(100, \"Arial\")"
   ]
  },
  {
   "cell_type": "code",
   "execution_count": 6,
   "id": "374d1a7f-284b-4438-82a7-0546ff499fc9",
   "metadata": {},
   "outputs": [
    {
     "data": {
      "text/plain": [
       "100"
      ]
     },
     "execution_count": 6,
     "metadata": {},
     "output_type": "execute_result"
    }
   ],
   "source": [
    "l.get_size()"
   ]
  },
  {
   "cell_type": "code",
   "execution_count": 7,
   "id": "cc4b9ab2-b719-4efc-a6ce-468d47be8b32",
   "metadata": {},
   "outputs": [],
   "source": [
    "l.set_size(120)"
   ]
  },
  {
   "cell_type": "code",
   "execution_count": 8,
   "id": "31849134-1e0e-4cf5-9622-1c0c98f2cc51",
   "metadata": {},
   "outputs": [
    {
     "data": {
      "text/plain": [
       "120"
      ]
     },
     "execution_count": 8,
     "metadata": {},
     "output_type": "execute_result"
    }
   ],
   "source": [
    "l.get_size()"
   ]
  },
  {
   "cell_type": "code",
   "execution_count": 9,
   "id": "2a429877-b398-486a-b950-925debf16b64",
   "metadata": {},
   "outputs": [
    {
     "data": {
      "text/plain": [
       "'Arial'"
      ]
     },
     "execution_count": 9,
     "metadata": {},
     "output_type": "execute_result"
    }
   ],
   "source": [
    "l.get_font()"
   ]
  },
  {
   "cell_type": "code",
   "execution_count": 10,
   "id": "28c120b5-cc5f-4a6a-a21d-2634d6e24edc",
   "metadata": {},
   "outputs": [],
   "source": [
    "l.set_font(\"Roman\")"
   ]
  },
  {
   "cell_type": "code",
   "execution_count": 11,
   "id": "96391d9e-a9b7-4967-9a90-2bf4999d2834",
   "metadata": {},
   "outputs": [
    {
     "data": {
      "text/plain": [
       "'Roman'"
      ]
     },
     "execution_count": 11,
     "metadata": {},
     "output_type": "execute_result"
    }
   ],
   "source": [
    "l.get_font()"
   ]
  },
  {
   "cell_type": "code",
   "execution_count": null,
   "id": "e019bc3a-d5fc-4f01-9cda-4744f9dab2e9",
   "metadata": {},
   "outputs": [],
   "source": []
  },
  {
   "cell_type": "markdown",
   "id": "96de4b7d-3213-4ce2-a9e8-bbf687dba079",
   "metadata": {},
   "source": [
    "Q5.What is method overriding in python? Write a python code to demonstrate method overriding."
   ]
  },
  {
   "cell_type": "markdown",
   "id": "0eca8dcd-1aee-4af0-b373-0f6dafc45771",
   "metadata": {},
   "source": [
    ":- This is an important feature of inheritance in Python. In method overriding, the child class can change its functions       that are defined by its ancestral classes.\n",
    "\n",
    "When you have 2 function with same name and which performs differnt task is called as overriding in python.\n",
    "   "
   ]
  },
  {
   "cell_type": "code",
   "execution_count": 3,
   "id": "ae78f345-fe93-4ce5-8af6-16082142a9f2",
   "metadata": {},
   "outputs": [],
   "source": [
    "class test:\n",
    "    \n",
    "    def __init__(self):\n",
    "        self.val = \"This is test Parent.\"\n",
    "        \n",
    "    def show(self):\n",
    "        print(self.val)\n",
    "        \n",
    "class sub_test(test):\n",
    "    \n",
    "    def __init__(self):\n",
    "        self.value = \"This is test Child.\"\n",
    "        \n",
    "    def show(self):\n",
    "        print(self.value)"
   ]
  },
  {
   "cell_type": "code",
   "execution_count": 4,
   "id": "5b35a1fa-d106-4e15-acbe-0bb0c4baa19a",
   "metadata": {},
   "outputs": [],
   "source": [
    "t1 = test()"
   ]
  },
  {
   "cell_type": "code",
   "execution_count": 5,
   "id": "a55dbabd-5ae0-443b-ae01-1954eaade34d",
   "metadata": {},
   "outputs": [],
   "source": [
    "t2 = sub_test()"
   ]
  },
  {
   "cell_type": "code",
   "execution_count": 6,
   "id": "eb257cf6-91c5-4203-bd1b-b5629694124a",
   "metadata": {},
   "outputs": [
    {
     "name": "stdout",
     "output_type": "stream",
     "text": [
      "This is test Parent.\n"
     ]
    }
   ],
   "source": [
    "t1.show()"
   ]
  },
  {
   "cell_type": "code",
   "execution_count": 7,
   "id": "8a8c1a8d-3549-4a88-8cb8-c2cc40da1dd3",
   "metadata": {},
   "outputs": [
    {
     "name": "stdout",
     "output_type": "stream",
     "text": [
      "This is test Child.\n"
     ]
    }
   ],
   "source": [
    "t2.show()"
   ]
  },
  {
   "cell_type": "code",
   "execution_count": null,
   "id": "50fe5408-7b58-43c7-a4a6-1ffc8ad7ace7",
   "metadata": {},
   "outputs": [],
   "source": []
  }
 ],
 "metadata": {
  "kernelspec": {
   "display_name": "Python 3 (ipykernel)",
   "language": "python",
   "name": "python3"
  },
  "language_info": {
   "codemirror_mode": {
    "name": "ipython",
    "version": 3
   },
   "file_extension": ".py",
   "mimetype": "text/x-python",
   "name": "python",
   "nbconvert_exporter": "python",
   "pygments_lexer": "ipython3",
   "version": "3.10.8"
  }
 },
 "nbformat": 4,
 "nbformat_minor": 5
}
