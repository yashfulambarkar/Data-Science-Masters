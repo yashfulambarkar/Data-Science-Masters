{
 "cells": [
  {
   "cell_type": "markdown",
   "id": "fbe88b15-5072-477d-b817-1b8451b17c92",
   "metadata": {},
   "source": [
    "## Logical Operators\n",
    "* And\n",
    "* Or\n",
    "* Not"
   ]
  },
  {
   "cell_type": "code",
   "execution_count": 1,
   "id": "016c325a-3647-4799-bc7d-0ec039364ef6",
   "metadata": {},
   "outputs": [
    {
     "data": {
      "text/plain": [
       "False"
      ]
     },
     "execution_count": 1,
     "metadata": {},
     "output_type": "execute_result"
    }
   ],
   "source": [
    "True and False"
   ]
  },
  {
   "cell_type": "code",
   "execution_count": 2,
   "id": "3f594b65-ef15-44f0-afa2-3c30665bce42",
   "metadata": {},
   "outputs": [
    {
     "data": {
      "text/plain": [
       "True"
      ]
     },
     "execution_count": 2,
     "metadata": {},
     "output_type": "execute_result"
    }
   ],
   "source": [
    "False or True"
   ]
  },
  {
   "cell_type": "code",
   "execution_count": 3,
   "id": "02e60f0c-22aa-45a6-bd76-f9722f7b36da",
   "metadata": {},
   "outputs": [
    {
     "ename": "ZeroDivisionError",
     "evalue": "division by zero",
     "output_type": "error",
     "traceback": [
      "\u001b[0;31m---------------------------------------------------------------------------\u001b[0m",
      "\u001b[0;31mZeroDivisionError\u001b[0m                         Traceback (most recent call last)",
      "Cell \u001b[0;32mIn[3], line 1\u001b[0m\n\u001b[0;32m----> 1\u001b[0m \u001b[38;5;28;43;01mTrue\u001b[39;49;00m\u001b[38;5;241;43m/\u001b[39;49m\u001b[38;5;28;43;01mFalse\u001b[39;49;00m\n",
      "\u001b[0;31mZeroDivisionError\u001b[0m: division by zero"
     ]
    }
   ],
   "source": [
    "True/False"
   ]
  },
  {
   "cell_type": "code",
   "execution_count": 5,
   "id": "fbd7de57-8090-462d-9b43-f24121a60974",
   "metadata": {},
   "outputs": [
    {
     "name": "stdin",
     "output_type": "stream",
     "text": [
      " 15\n"
     ]
    },
    {
     "name": "stdout",
     "output_type": "stream",
     "text": [
      "The no is between 10 to 20\n"
     ]
    }
   ],
   "source": [
    "no=int(input())\n",
    "if no>=10 and no<20:\n",
    "    print(\"The no is between 10 to 20\")\n",
    "else:\n",
    "    (\"The no is not in another range\")"
   ]
  },
  {
   "cell_type": "code",
   "execution_count": 22,
   "id": "58bc5dd3-2bd5-4cf1-9b6b-d42333a7e219",
   "metadata": {},
   "outputs": [
    {
     "name": "stdout",
     "output_type": "stream",
     "text": [
      "The numbers are 1\n",
      "The strings are ABC\n",
      "The numbers are 4\n",
      "The numbers are 7\n",
      "The strings are Ball\n",
      "The numbers are 3.5\n"
     ]
    }
   ],
   "source": [
    "s=[1,'ABC',4,7,'Ball',3.5]\n",
    "for i in s:\n",
    "    if type(i)==int or type(i)==float:\n",
    "        print(\"The numbers are\",i)\n",
    "    else:\n",
    "        print(\"The strings are\",i)"
   ]
  },
  {
   "cell_type": "code",
   "execution_count": 23,
   "id": "4fe0ee8d-7984-4d0d-adfd-5e4f91b659e5",
   "metadata": {},
   "outputs": [
    {
     "name": "stdout",
     "output_type": "stream",
     "text": [
      "The comments 'YES' follows\n"
     ]
    }
   ],
   "source": [
    "print(\"The comments \\'YES\\' follows\")\n",
    "    "
   ]
  },
  {
   "cell_type": "code",
   "execution_count": 24,
   "id": "56354cb2-7a0a-42d5-82f2-6ec5ed294f9c",
   "metadata": {},
   "outputs": [
    {
     "data": {
      "text/plain": [
       "False"
      ]
     },
     "execution_count": 24,
     "metadata": {},
     "output_type": "execute_result"
    }
   ],
   "source": [
    "bool(0)"
   ]
  },
  {
   "cell_type": "code",
   "execution_count": 25,
   "id": "8ad2bbe8-2137-4f8d-87c3-7b5724e23518",
   "metadata": {},
   "outputs": [
    {
     "data": {
      "text/plain": [
       "True"
      ]
     },
     "execution_count": 25,
     "metadata": {},
     "output_type": "execute_result"
    }
   ],
   "source": [
    "not False"
   ]
  },
  {
   "cell_type": "code",
   "execution_count": 28,
   "id": "58c91c45-6d66-4e0b-838a-a552fd574d1c",
   "metadata": {},
   "outputs": [
    {
     "data": {
      "text/plain": [
       "1.0"
      ]
     },
     "execution_count": 28,
     "metadata": {},
     "output_type": "execute_result"
    }
   ],
   "source": [
    "True/(not False)"
   ]
  },
  {
   "cell_type": "code",
   "execution_count": 31,
   "id": "e5aabcba-6659-4019-80c3-237c7e53071c",
   "metadata": {},
   "outputs": [
    {
     "data": {
      "text/plain": [
       "True"
      ]
     },
     "execution_count": 31,
     "metadata": {},
     "output_type": "execute_result"
    }
   ],
   "source": [
    "# Not will always give you output in True or False\n",
    "not 0"
   ]
  },
  {
   "cell_type": "code",
   "execution_count": 30,
   "id": "597e0065-599e-4f7f-ad00-5f4638584c5d",
   "metadata": {},
   "outputs": [
    {
     "data": {
      "text/plain": [
       "False"
      ]
     },
     "execution_count": 30,
     "metadata": {},
     "output_type": "execute_result"
    }
   ],
   "source": [
    "not 1"
   ]
  },
  {
   "cell_type": "code",
   "execution_count": 32,
   "id": "b985b6ed-b857-4ea3-8ef2-bac41e1330f4",
   "metadata": {},
   "outputs": [
    {
     "data": {
      "text/plain": [
       "1"
      ]
     },
     "execution_count": 32,
     "metadata": {},
     "output_type": "execute_result"
    }
   ],
   "source": [
    "int(not 0)"
   ]
  },
  {
   "cell_type": "code",
   "execution_count": 34,
   "id": "e88d31ff-7cb6-4d97-ab4a-425559033e16",
   "metadata": {},
   "outputs": [
    {
     "data": {
      "text/plain": [
       "0"
      ]
     },
     "execution_count": 34,
     "metadata": {},
     "output_type": "execute_result"
    }
   ],
   "source": [
    "int(not bool(1))"
   ]
  },
  {
   "cell_type": "code",
   "execution_count": 35,
   "id": "b1ad2870-4dd1-4e57-a440-6ff567722ee2",
   "metadata": {},
   "outputs": [
    {
     "data": {
      "text/plain": [
       "True"
      ]
     },
     "execution_count": 35,
     "metadata": {},
     "output_type": "execute_result"
    }
   ],
   "source": [
    "bool(-2)"
   ]
  },
  {
   "cell_type": "code",
   "execution_count": 36,
   "id": "42d98580-4708-43d3-8539-4cee3aa384e2",
   "metadata": {},
   "outputs": [
    {
     "data": {
      "text/plain": [
       "False"
      ]
     },
     "execution_count": 36,
     "metadata": {},
     "output_type": "execute_result"
    }
   ],
   "source": [
    "not -9"
   ]
  },
  {
   "cell_type": "code",
   "execution_count": 38,
   "id": "d6f931c6-8411-42c6-a0a8-3d3c70a0b54f",
   "metadata": {},
   "outputs": [
    {
     "data": {
      "text/plain": [
       "0"
      ]
     },
     "execution_count": 38,
     "metadata": {},
     "output_type": "execute_result"
    }
   ],
   "source": [
    "True * (not (True))"
   ]
  },
  {
   "cell_type": "code",
   "execution_count": 40,
   "id": "127cd176-ed40-4fa6-bee3-7092f946b0b1",
   "metadata": {},
   "outputs": [
    {
     "data": {
      "text/plain": [
       "True"
      ]
     },
     "execution_count": 40,
     "metadata": {},
     "output_type": "execute_result"
    }
   ],
   "source": [
    "not(False) * True"
   ]
  },
  {
   "cell_type": "code",
   "execution_count": 41,
   "id": "953cf28f-f07b-42ca-bd99-506f57cd3467",
   "metadata": {},
   "outputs": [
    {
     "data": {
      "text/plain": [
       "1"
      ]
     },
     "execution_count": 41,
     "metadata": {},
     "output_type": "execute_result"
    }
   ],
   "source": [
    "(not(False)) * True"
   ]
  },
  {
   "cell_type": "code",
   "execution_count": 43,
   "id": "2879b0ce-3b38-4f99-a1ee-fd75195ce2df",
   "metadata": {},
   "outputs": [
    {
     "data": {
      "text/plain": [
       "True"
      ]
     },
     "execution_count": 43,
     "metadata": {},
     "output_type": "execute_result"
    }
   ],
   "source": [
    "not False * False == True"
   ]
  },
  {
   "cell_type": "code",
   "execution_count": 44,
   "id": "38cb6e8c-c5c3-46c5-bf3a-021cd0be863e",
   "metadata": {},
   "outputs": [
    {
     "data": {
      "text/plain": [
       "False"
      ]
     },
     "execution_count": 44,
     "metadata": {},
     "output_type": "execute_result"
    }
   ],
   "source": [
    "(not(False))*False==True"
   ]
  },
  {
   "cell_type": "code",
   "execution_count": 1,
   "id": "02b60cd4-0ad1-487b-b1ca-e8347c58d310",
   "metadata": {},
   "outputs": [
    {
     "data": {
      "text/plain": [
       "False"
      ]
     },
     "execution_count": 1,
     "metadata": {},
     "output_type": "execute_result"
    }
   ],
   "source": [
    "# is and is not condition is checking based on memory address.\n",
    "l1=[2,4,6,8]\n",
    "l2=[2,4,6,8]\n",
    "l1 is l2"
   ]
  },
  {
   "cell_type": "code",
   "execution_count": 2,
   "id": "b3211db9-c700-4cc9-b935-7ccfffdd5db1",
   "metadata": {},
   "outputs": [
    {
     "data": {
      "text/plain": [
       "True"
      ]
     },
     "execution_count": 2,
     "metadata": {},
     "output_type": "execute_result"
    }
   ],
   "source": [
    "l1 is not l2"
   ]
  },
  {
   "cell_type": "code",
   "execution_count": 2,
   "id": "0533d239-e0d9-485e-9250-8ba0920847cb",
   "metadata": {},
   "outputs": [
    {
     "data": {
      "text/plain": [
       "True"
      ]
     },
     "execution_count": 2,
     "metadata": {},
     "output_type": "execute_result"
    }
   ],
   "source": [
    "# '==' is checking based on elements present.\n",
    "l1=[2,4,6,8]\n",
    "l2=[2,4,6,8]\n",
    "l1 == l2"
   ]
  },
  {
   "cell_type": "code",
   "execution_count": 3,
   "id": "66400770-bba6-44bf-8c4c-d4fa2ebfab61",
   "metadata": {},
   "outputs": [
    {
     "name": "stdout",
     "output_type": "stream",
     "text": [
      "139865187910224\n",
      "139865187910224\n"
     ]
    }
   ],
   "source": [
    "a=12\n",
    "b=12\n",
    "print(id(a))\n",
    "print(id(b))"
   ]
  },
  {
   "cell_type": "code",
   "execution_count": 4,
   "id": "24478f9a-ab93-4a7f-ac8d-d5084c907c87",
   "metadata": {},
   "outputs": [
    {
     "name": "stdout",
     "output_type": "stream",
     "text": [
      "139865078712512\n",
      "139865078704704\n"
     ]
    }
   ],
   "source": [
    "print(id(l1))\n",
    "print(id(l2))"
   ]
  },
  {
   "cell_type": "code",
   "execution_count": 5,
   "id": "083cdc2e-93be-4bb6-8ca7-e693dbb9b14e",
   "metadata": {},
   "outputs": [
    {
     "name": "stdout",
     "output_type": "stream",
     "text": [
      "12\n",
      "12\n"
     ]
    }
   ],
   "source": [
    "print(hash(a))\n",
    "print(hash(b))"
   ]
  },
  {
   "cell_type": "code",
   "execution_count": 6,
   "id": "a3659552-330e-465e-a5b1-e435816d661c",
   "metadata": {},
   "outputs": [
    {
     "ename": "TypeError",
     "evalue": "unhashable type: 'list'",
     "output_type": "error",
     "traceback": [
      "\u001b[0;31m---------------------------------------------------------------------------\u001b[0m",
      "\u001b[0;31mTypeError\u001b[0m                                 Traceback (most recent call last)",
      "Cell \u001b[0;32mIn[6], line 1\u001b[0m\n\u001b[0;32m----> 1\u001b[0m \u001b[38;5;28mprint\u001b[39m(\u001b[38;5;28;43mhash\u001b[39;49m\u001b[43m(\u001b[49m\u001b[43ml1\u001b[49m\u001b[43m)\u001b[49m)\n",
      "\u001b[0;31mTypeError\u001b[0m: unhashable type: 'list'"
     ]
    }
   ],
   "source": [
    "print(hash(l1))"
   ]
  },
  {
   "cell_type": "markdown",
   "id": "5f6e13bf-9f21-4ab2-a8db-7347868eb5a3",
   "metadata": {},
   "source": [
    "|Operation|Meaning|\n",
    "|:-:|:-:|\n",
    "| **<** |less than|\n",
    "| **<=** |less than or equal to|\n",
    "| **>** |greater than|\n",
    "| **>=** |greater than or equal to|"
   ]
  },
  {
   "cell_type": "code",
   "execution_count": 1,
   "id": "167ca3e3-b664-45a2-b151-c4fe7d381ff7",
   "metadata": {},
   "outputs": [
    {
     "name": "stdout",
     "output_type": "stream",
     "text": [
      "Speed of Honda is greater than Cycle: True\n"
     ]
    }
   ],
   "source": [
    "s_cycle=170\n",
    "s_honda=220\n",
    "\n",
    "print(\"Speed of Honda is greater than Cycle:\",s_cycle<s_honda)"
   ]
  },
  {
   "cell_type": "code",
   "execution_count": 2,
   "id": "c868edec-9d6b-423d-8b09-2fc099297620",
   "metadata": {},
   "outputs": [
    {
     "name": "stdout",
     "output_type": "stream",
     "text": [
      "35 is greater than 20\n"
     ]
    }
   ],
   "source": [
    "a=20\n",
    "b=35\n",
    "if a>b:\n",
    "    print(f'{a} is greater than {b}')\n",
    "else:\n",
    "    print(f'{b} is greater than {a}')"
   ]
  },
  {
   "cell_type": "markdown",
   "id": "f2aa136b-282b-4a40-9fca-1da1bbcb954e",
   "metadata": {},
   "source": [
    "## Arithmethic Operations\n",
    "|Operation|Meaning|\n",
    "|:-:|:-:|\n",
    "| **+** |addition|\n",
    "| **-** |subtraction|\n",
    "| **\\*** |multiplication|\n",
    "| **/** |true division|\n",
    "| **//** |integer division|\n",
    "| **%** |the modulo operator|"
   ]
  },
  {
   "cell_type": "code",
   "execution_count": 3,
   "id": "1b330054-19f8-465a-bb70-8d24170c4722",
   "metadata": {},
   "outputs": [
    {
     "data": {
      "text/plain": [
       "5"
      ]
     },
     "execution_count": 3,
     "metadata": {},
     "output_type": "execute_result"
    }
   ],
   "source": [
    "1+4"
   ]
  },
  {
   "cell_type": "code",
   "execution_count": 4,
   "id": "c3c6c180-81ad-48a0-869e-f0a694905c39",
   "metadata": {},
   "outputs": [
    {
     "data": {
      "text/plain": [
       "3"
      ]
     },
     "execution_count": 4,
     "metadata": {},
     "output_type": "execute_result"
    }
   ],
   "source": [
    "a=5\n",
    "b=8\n",
    "b-a"
   ]
  },
  {
   "cell_type": "code",
   "execution_count": 5,
   "id": "d0192d4f-3797-4aa8-935e-3789acca2df5",
   "metadata": {},
   "outputs": [
    {
     "data": {
      "text/plain": [
       "40"
      ]
     },
     "execution_count": 5,
     "metadata": {},
     "output_type": "execute_result"
    }
   ],
   "source": [
    "b*a"
   ]
  },
  {
   "cell_type": "code",
   "execution_count": 6,
   "id": "cea6aec0-7510-4f66-a084-ed793841986a",
   "metadata": {},
   "outputs": [
    {
     "data": {
      "text/plain": [
       "1.6"
      ]
     },
     "execution_count": 6,
     "metadata": {},
     "output_type": "execute_result"
    }
   ],
   "source": [
    "b/a"
   ]
  },
  {
   "cell_type": "code",
   "execution_count": 8,
   "id": "2007e9c8-4a0d-45d3-a0a8-d752953908cc",
   "metadata": {},
   "outputs": [
    {
     "data": {
      "text/plain": [
       "1"
      ]
     },
     "execution_count": 8,
     "metadata": {},
     "output_type": "execute_result"
    }
   ],
   "source": [
    "b//a"
   ]
  },
  {
   "cell_type": "code",
   "execution_count": 9,
   "id": "98508841-4114-4f76-99bf-1210444786e1",
   "metadata": {},
   "outputs": [
    {
     "data": {
      "text/plain": [
       "3"
      ]
     },
     "execution_count": 9,
     "metadata": {},
     "output_type": "execute_result"
    }
   ],
   "source": [
    "b%a"
   ]
  },
  {
   "cell_type": "markdown",
   "id": "582e9d69-5c6d-4ab9-8b7e-0a4e0f4cc39d",
   "metadata": {},
   "source": [
    "### Bitwise Operators\n",
    "|Operation|Meaning|\n",
    "|:-:|:-:|\n",
    "| **∼** |bitwise complement (prefix unary operator)|\n",
    "| **&** |bitwise and|\n",
    "| **\\|** |bitwise or|\n",
    "| **^** |bitwise exclusive-or|\n",
    "| **<<** |shift bits left, filling in with zeros|\n",
    "| **>>** |shift bits right, filling in with sign bit|\n"
   ]
  },
  {
   "cell_type": "code",
   "execution_count": 10,
   "id": "a7f96114-bb60-4ab7-a88c-83ddaa3872ee",
   "metadata": {},
   "outputs": [
    {
     "data": {
      "text/plain": [
       "'0b101'"
      ]
     },
     "execution_count": 10,
     "metadata": {},
     "output_type": "execute_result"
    }
   ],
   "source": [
    "val=5\n",
    "bin(val)"
   ]
  },
  {
   "cell_type": "code",
   "execution_count": 11,
   "id": "16a407dc-a57e-4c1e-940d-e1c972fb405c",
   "metadata": {},
   "outputs": [
    {
     "data": {
      "text/plain": [
       "-6"
      ]
     },
     "execution_count": 11,
     "metadata": {},
     "output_type": "execute_result"
    }
   ],
   "source": [
    "~val"
   ]
  },
  {
   "cell_type": "code",
   "execution_count": 12,
   "id": "6dbf9894-93ed-4fc4-a15f-f529b4011c9d",
   "metadata": {},
   "outputs": [
    {
     "data": {
      "text/plain": [
       "False"
      ]
     },
     "execution_count": 12,
     "metadata": {},
     "output_type": "execute_result"
    }
   ],
   "source": [
    "True & False"
   ]
  },
  {
   "cell_type": "code",
   "execution_count": 14,
   "id": "147c6b7c-ebe7-466b-b9ba-378d4d033c25",
   "metadata": {},
   "outputs": [
    {
     "data": {
      "text/plain": [
       "True"
      ]
     },
     "execution_count": 14,
     "metadata": {},
     "output_type": "execute_result"
    }
   ],
   "source": [
    "False | True"
   ]
  },
  {
   "cell_type": "code",
   "execution_count": 15,
   "id": "60b52e8f-4bc6-46b5-a66c-226582258b1c",
   "metadata": {},
   "outputs": [
    {
     "data": {
      "text/plain": [
       "7"
      ]
     },
     "execution_count": 15,
     "metadata": {},
     "output_type": "execute_result"
    }
   ],
   "source": [
    "val^2"
   ]
  },
  {
   "cell_type": "code",
   "execution_count": 16,
   "id": "cfb9f791-0a15-4faf-be50-0a54c8f3f2c0",
   "metadata": {},
   "outputs": [
    {
     "data": {
      "text/plain": [
       "10"
      ]
     },
     "execution_count": 16,
     "metadata": {},
     "output_type": "execute_result"
    }
   ],
   "source": [
    "val<<1"
   ]
  },
  {
   "cell_type": "code",
   "execution_count": 17,
   "id": "cfa57a8f-b2a8-4983-b7b0-348fbec642d5",
   "metadata": {},
   "outputs": [
    {
     "data": {
      "text/plain": [
       "2"
      ]
     },
     "execution_count": 17,
     "metadata": {},
     "output_type": "execute_result"
    }
   ],
   "source": [
    "val>>1"
   ]
  },
  {
   "cell_type": "markdown",
   "id": "38c52561-0da9-4bbb-8f61-701c05e054e6",
   "metadata": {},
   "source": [
    "# Strings"
   ]
  },
  {
   "cell_type": "code",
   "execution_count": 18,
   "id": "92b82765-d8a2-4de0-8187-f557511e295d",
   "metadata": {},
   "outputs": [],
   "source": [
    "str1=\"welcome\""
   ]
  },
  {
   "cell_type": "code",
   "execution_count": 19,
   "id": "99452c78-d3e2-44d2-b4fb-c0f9579b8c2f",
   "metadata": {},
   "outputs": [
    {
     "data": {
      "text/plain": [
       "['__add__',\n",
       " '__class__',\n",
       " '__contains__',\n",
       " '__delattr__',\n",
       " '__dir__',\n",
       " '__doc__',\n",
       " '__eq__',\n",
       " '__format__',\n",
       " '__ge__',\n",
       " '__getattribute__',\n",
       " '__getitem__',\n",
       " '__getnewargs__',\n",
       " '__gt__',\n",
       " '__hash__',\n",
       " '__init__',\n",
       " '__init_subclass__',\n",
       " '__iter__',\n",
       " '__le__',\n",
       " '__len__',\n",
       " '__lt__',\n",
       " '__mod__',\n",
       " '__mul__',\n",
       " '__ne__',\n",
       " '__new__',\n",
       " '__reduce__',\n",
       " '__reduce_ex__',\n",
       " '__repr__',\n",
       " '__rmod__',\n",
       " '__rmul__',\n",
       " '__setattr__',\n",
       " '__sizeof__',\n",
       " '__str__',\n",
       " '__subclasshook__',\n",
       " 'capitalize',\n",
       " 'casefold',\n",
       " 'center',\n",
       " 'count',\n",
       " 'encode',\n",
       " 'endswith',\n",
       " 'expandtabs',\n",
       " 'find',\n",
       " 'format',\n",
       " 'format_map',\n",
       " 'index',\n",
       " 'isalnum',\n",
       " 'isalpha',\n",
       " 'isascii',\n",
       " 'isdecimal',\n",
       " 'isdigit',\n",
       " 'isidentifier',\n",
       " 'islower',\n",
       " 'isnumeric',\n",
       " 'isprintable',\n",
       " 'isspace',\n",
       " 'istitle',\n",
       " 'isupper',\n",
       " 'join',\n",
       " 'ljust',\n",
       " 'lower',\n",
       " 'lstrip',\n",
       " 'maketrans',\n",
       " 'partition',\n",
       " 'removeprefix',\n",
       " 'removesuffix',\n",
       " 'replace',\n",
       " 'rfind',\n",
       " 'rindex',\n",
       " 'rjust',\n",
       " 'rpartition',\n",
       " 'rsplit',\n",
       " 'rstrip',\n",
       " 'split',\n",
       " 'splitlines',\n",
       " 'startswith',\n",
       " 'strip',\n",
       " 'swapcase',\n",
       " 'title',\n",
       " 'translate',\n",
       " 'upper',\n",
       " 'zfill']"
      ]
     },
     "execution_count": 19,
     "metadata": {},
     "output_type": "execute_result"
    }
   ],
   "source": [
    "dir(str1)"
   ]
  },
  {
   "cell_type": "code",
   "execution_count": 20,
   "id": "4982a8b0-1695-4b49-8919-81666731f023",
   "metadata": {},
   "outputs": [],
   "source": [
    "s='Data Science masters class'"
   ]
  },
  {
   "cell_type": "code",
   "execution_count": 21,
   "id": "357fee61-1adb-4bca-8544-3d65e144f67e",
   "metadata": {},
   "outputs": [
    {
     "data": {
      "text/plain": [
       "'a'"
      ]
     },
     "execution_count": 21,
     "metadata": {},
     "output_type": "execute_result"
    }
   ],
   "source": [
    "s[1]"
   ]
  },
  {
   "cell_type": "code",
   "execution_count": 22,
   "id": "5b7afc02-3517-4697-8ef7-5b54e45de0e5",
   "metadata": {},
   "outputs": [
    {
     "data": {
      "text/plain": [
       "'ta Scie'"
      ]
     },
     "execution_count": 22,
     "metadata": {},
     "output_type": "execute_result"
    }
   ],
   "source": [
    "s[2:9]"
   ]
  },
  {
   "cell_type": "code",
   "execution_count": 23,
   "id": "7117af64-9d1d-4912-a986-6f12fa5f796b",
   "metadata": {},
   "outputs": [
    {
     "data": {
      "text/plain": [
       "'Data Science masters clas'"
      ]
     },
     "execution_count": 23,
     "metadata": {},
     "output_type": "execute_result"
    }
   ],
   "source": [
    "s[:-1]"
   ]
  },
  {
   "cell_type": "code",
   "execution_count": 25,
   "id": "f5c1535c-1940-4aa0-8853-56cb5ded4a33",
   "metadata": {},
   "outputs": [
    {
     "data": {
      "text/plain": [
       "'ta Sc'"
      ]
     },
     "execution_count": 25,
     "metadata": {},
     "output_type": "execute_result"
    }
   ],
   "source": [
    "s[2:7]"
   ]
  },
  {
   "cell_type": "code",
   "execution_count": 30,
   "id": "4f9cf8fb-b5af-455c-80e7-c85db512f129",
   "metadata": {},
   "outputs": [
    {
     "data": {
      "text/plain": [
       "'ssan '"
      ]
     },
     "execution_count": 30,
     "metadata": {},
     "output_type": "execute_result"
    }
   ],
   "source": [
    "s[-2::-5]"
   ]
  },
  {
   "cell_type": "code",
   "execution_count": 31,
   "id": "5df777fd-97c5-42e0-9219-1305f514b207",
   "metadata": {},
   "outputs": [
    {
     "data": {
      "text/plain": [
       "'ssalc sretsam ecneicS ataD'"
      ]
     },
     "execution_count": 31,
     "metadata": {},
     "output_type": "execute_result"
    }
   ],
   "source": [
    "s[::-1]"
   ]
  },
  {
   "cell_type": "code",
   "execution_count": 32,
   "id": "41c71e2b-86cf-428f-b66e-39ad6fe0a941",
   "metadata": {},
   "outputs": [
    {
     "data": {
      "text/plain": [
       "'slstmci a'"
      ]
     },
     "execution_count": 32,
     "metadata": {},
     "output_type": "execute_result"
    }
   ],
   "source": [
    "s[::-3]"
   ]
  },
  {
   "cell_type": "code",
   "execution_count": 3,
   "id": "d8a1c7a8-6ffa-4433-bdcb-9529dd940591",
   "metadata": {},
   "outputs": [
    {
     "data": {
      "text/plain": [
       "'Science'"
      ]
     },
     "execution_count": 3,
     "metadata": {},
     "output_type": "execute_result"
    }
   ],
   "source": [
    "course='Data Science Masters'\n",
    "course[5:12]"
   ]
  },
  {
   "cell_type": "code",
   "execution_count": 24,
   "id": "6f3f2eab-e8e6-4ebc-9aa0-a069ac0667fa",
   "metadata": {},
   "outputs": [
    {
     "data": {
      "text/plain": [
       "'ecneicS'"
      ]
     },
     "execution_count": 24,
     "metadata": {},
     "output_type": "execute_result"
    }
   ],
   "source": [
    "course[-9:4:-1]"
   ]
  },
  {
   "cell_type": "code",
   "execution_count": 28,
   "id": "7824c7fc-39da-4785-be35-d71ddb817362",
   "metadata": {},
   "outputs": [
    {
     "data": {
      "text/plain": [
       "'ecneicS'"
      ]
     },
     "execution_count": 28,
     "metadata": {},
     "output_type": "execute_result"
    }
   ],
   "source": [
    "course[11:4:-1]"
   ]
  },
  {
   "cell_type": "code",
   "execution_count": 8,
   "id": "e7ac789f-9e85-4462-ac4b-dec6ecabcbf9",
   "metadata": {},
   "outputs": [
    {
     "data": {
      "text/plain": [
       "'Data Science Masters Course.'"
      ]
     },
     "execution_count": 8,
     "metadata": {},
     "output_type": "execute_result"
    }
   ],
   "source": [
    "a=course + ' Course.'\n",
    "a"
   ]
  },
  {
   "cell_type": "code",
   "execution_count": 36,
   "id": "c4a77610-a0f7-476b-b099-a75b8137be04",
   "metadata": {},
   "outputs": [
    {
     "name": "stdout",
     "output_type": "stream",
     "text": [
      "Data Science Masters Course.Data Science Masters Course.Data Science Masters Course.Data Science Masters Course.Data Science Masters Course.\n"
     ]
    }
   ],
   "source": [
    "print(a*5)"
   ]
  },
  {
   "cell_type": "code",
   "execution_count": 37,
   "id": "0f9653ea-4a2a-456d-9900-c9a6ac13c431",
   "metadata": {},
   "outputs": [
    {
     "data": {
      "text/plain": [
       "28"
      ]
     },
     "execution_count": 37,
     "metadata": {},
     "output_type": "execute_result"
    }
   ],
   "source": [
    "len(a)"
   ]
  },
  {
   "cell_type": "code",
   "execution_count": 40,
   "id": "5c4de1c8-a98c-47aa-a0a3-8ab3843cb924",
   "metadata": {},
   "outputs": [
    {
     "data": {
      "text/plain": [
       "1"
      ]
     },
     "execution_count": 40,
     "metadata": {},
     "output_type": "execute_result"
    }
   ],
   "source": [
    "# find function retruns index on which sub str is present\n",
    "\n",
    "course.find('a')"
   ]
  },
  {
   "cell_type": "code",
   "execution_count": 38,
   "id": "0a3bf17c-bb78-49eb-960f-2bee1bbb0517",
   "metadata": {},
   "outputs": [
    {
     "data": {
      "text/plain": [
       "20"
      ]
     },
     "execution_count": 38,
     "metadata": {},
     "output_type": "execute_result"
    }
   ],
   "source": [
    "len(course)"
   ]
  },
  {
   "cell_type": "code",
   "execution_count": 4,
   "id": "a44ec529-c9e9-45b7-911a-d900f0262b34",
   "metadata": {},
   "outputs": [
    {
     "data": {
      "text/plain": [
       "'Data Science Masters'"
      ]
     },
     "execution_count": 4,
     "metadata": {},
     "output_type": "execute_result"
    }
   ],
   "source": [
    "course"
   ]
  },
  {
   "cell_type": "code",
   "execution_count": 41,
   "id": "00fc125a-448f-4813-bc74-81f9ed2226d4",
   "metadata": {},
   "outputs": [
    {
     "data": {
      "text/plain": [
       "9"
      ]
     },
     "execution_count": 41,
     "metadata": {},
     "output_type": "execute_result"
    }
   ],
   "source": [
    "course.find('n')"
   ]
  },
  {
   "cell_type": "code",
   "execution_count": 46,
   "id": "20064eb5-1665-4a2b-9b84-305f873b69e2",
   "metadata": {},
   "outputs": [
    {
     "data": {
      "text/plain": [
       "14"
      ]
     },
     "execution_count": 46,
     "metadata": {},
     "output_type": "execute_result"
    }
   ],
   "source": [
    "course.find('a',5,20)"
   ]
  },
  {
   "cell_type": "code",
   "execution_count": 42,
   "id": "a6e4e93b-ab80-49da-9f01-4c88d2f62910",
   "metadata": {},
   "outputs": [
    {
     "data": {
      "text/plain": [
       "3"
      ]
     },
     "execution_count": 42,
     "metadata": {},
     "output_type": "execute_result"
    }
   ],
   "source": [
    "# count function counts how many time sub str is present.\n",
    "course.count('e')"
   ]
  },
  {
   "cell_type": "code",
   "execution_count": 43,
   "id": "7771d418-9330-43db-8679-a3b41fce1a4e",
   "metadata": {},
   "outputs": [
    {
     "data": {
      "text/plain": [
       "2"
      ]
     },
     "execution_count": 43,
     "metadata": {},
     "output_type": "execute_result"
    }
   ],
   "source": [
    "course.count('s')"
   ]
  },
  {
   "cell_type": "code",
   "execution_count": 45,
   "id": "ab95a9a4-ec4d-4b12-966e-3bad5deb014b",
   "metadata": {},
   "outputs": [
    {
     "data": {
      "text/plain": [
       "2"
      ]
     },
     "execution_count": 45,
     "metadata": {},
     "output_type": "execute_result"
    }
   ],
   "source": [
    "course.count(' ')"
   ]
  },
  {
   "cell_type": "code",
   "execution_count": 47,
   "id": "73a23ca0-8138-4140-b646-d9878c9b9e1d",
   "metadata": {},
   "outputs": [
    {
     "data": {
      "text/plain": [
       "['Data', 'Science', 'Masters']"
      ]
     },
     "execution_count": 47,
     "metadata": {},
     "output_type": "execute_result"
    }
   ],
   "source": [
    "# Split function\n",
    "course.split(\" \")"
   ]
  },
  {
   "cell_type": "code",
   "execution_count": 9,
   "id": "b9b9811d-cb89-468b-9935-daf098c9be50",
   "metadata": {},
   "outputs": [
    {
     "data": {
      "text/plain": [
       "['Data Science Ma', 'ter', ' Cour', 'e.']"
      ]
     },
     "execution_count": 9,
     "metadata": {},
     "output_type": "execute_result"
    }
   ],
   "source": [
    "a.split(\"s\")"
   ]
  },
  {
   "cell_type": "code",
   "execution_count": 5,
   "id": "92e31de3-6091-4e08-b761-b14054ecd01b",
   "metadata": {},
   "outputs": [
    {
     "data": {
      "text/plain": [
       "['Data ', 'cience Masters']"
      ]
     },
     "execution_count": 5,
     "metadata": {},
     "output_type": "execute_result"
    }
   ],
   "source": [
    "course.split('S')"
   ]
  },
  {
   "cell_type": "code",
   "execution_count": 6,
   "id": "4a1a2df6-c0c8-44df-becd-a585f7770111",
   "metadata": {},
   "outputs": [
    {
     "data": {
      "text/plain": [
       "('Data ', 'S', 'cience Masters')"
      ]
     },
     "execution_count": 6,
     "metadata": {},
     "output_type": "execute_result"
    }
   ],
   "source": [
    "course.partition('S')"
   ]
  },
  {
   "cell_type": "code",
   "execution_count": 2,
   "id": "48918562-2136-41a6-bf0a-ccec0d81a67d",
   "metadata": {},
   "outputs": [],
   "source": [
    "skills='Data Sceintist Engineer'"
   ]
  },
  {
   "cell_type": "code",
   "execution_count": 3,
   "id": "ec342f2f-272f-4201-8df7-3bb78d2c78b7",
   "metadata": {},
   "outputs": [
    {
     "data": {
      "text/plain": [
       "'DATA SCEINTIST ENGINEER'"
      ]
     },
     "execution_count": 3,
     "metadata": {},
     "output_type": "execute_result"
    }
   ],
   "source": [
    "skills.upper()"
   ]
  },
  {
   "cell_type": "code",
   "execution_count": 4,
   "id": "db0ffed0-bd42-412c-a318-494b433fbdbc",
   "metadata": {},
   "outputs": [
    {
     "data": {
      "text/plain": [
       "'data sceintist engineer'"
      ]
     },
     "execution_count": 4,
     "metadata": {},
     "output_type": "execute_result"
    }
   ],
   "source": [
    "skills.lower()"
   ]
  },
  {
   "cell_type": "code",
   "execution_count": 5,
   "id": "8025ea55-53c0-4188-9bba-b4097d0666d3",
   "metadata": {},
   "outputs": [
    {
     "data": {
      "text/plain": [
       "'dATA sCEINTIST eNGINEER'"
      ]
     },
     "execution_count": 5,
     "metadata": {},
     "output_type": "execute_result"
    }
   ],
   "source": [
    "skills.swapcase()"
   ]
  },
  {
   "cell_type": "code",
   "execution_count": 6,
   "id": "f7c82077-cd08-447c-aead-d0ce6594e562",
   "metadata": {},
   "outputs": [
    {
     "data": {
      "text/plain": [
       "'Data Sceintist Engineer'"
      ]
     },
     "execution_count": 6,
     "metadata": {},
     "output_type": "execute_result"
    }
   ],
   "source": [
    "skills.title()"
   ]
  },
  {
   "cell_type": "code",
   "execution_count": 7,
   "id": "c9e45167-bab9-4082-a5bd-d193c3f0d294",
   "metadata": {},
   "outputs": [],
   "source": [
    "a='Myskills'"
   ]
  },
  {
   "cell_type": "code",
   "execution_count": 9,
   "id": "230d3cc8-a380-424c-b173-b035e99b08f2",
   "metadata": {},
   "outputs": [
    {
     "data": {
      "text/plain": [
       "'slliksyM'"
      ]
     },
     "execution_count": 9,
     "metadata": {},
     "output_type": "execute_result"
    }
   ],
   "source": [
    "a[::-1]"
   ]
  },
  {
   "cell_type": "code",
   "execution_count": 10,
   "id": "80ae3caf-5c25-4827-987d-ef271132aac5",
   "metadata": {},
   "outputs": [
    {
     "data": {
      "text/plain": [
       "'l'"
      ]
     },
     "execution_count": 10,
     "metadata": {},
     "output_type": "execute_result"
    }
   ],
   "source": [
    "a[-2]"
   ]
  },
  {
   "cell_type": "code",
   "execution_count": 12,
   "id": "e3f1477c-5b33-4617-bf4d-f42b1655c396",
   "metadata": {},
   "outputs": [
    {
     "data": {
      "text/plain": [
       "'sk'"
      ]
     },
     "execution_count": 12,
     "metadata": {},
     "output_type": "execute_result"
    }
   ],
   "source": [
    "a[-6:4]"
   ]
  },
  {
   "cell_type": "code",
   "execution_count": 17,
   "id": "cfc2a1cf-99d5-44a2-9748-75d95f58e52d",
   "metadata": {},
   "outputs": [
    {
     "data": {
      "text/plain": [
       "2"
      ]
     },
     "execution_count": 17,
     "metadata": {},
     "output_type": "execute_result"
    }
   ],
   "source": [
    "a.index('s')"
   ]
  },
  {
   "cell_type": "code",
   "execution_count": null,
   "id": "d8c199df-dd55-4745-89e6-4a75cdfa6e4c",
   "metadata": {},
   "outputs": [],
   "source": []
  }
 ],
 "metadata": {
  "kernelspec": {
   "display_name": "Python 3 (ipykernel)",
   "language": "python",
   "name": "python3"
  },
  "language_info": {
   "codemirror_mode": {
    "name": "ipython",
    "version": 3
   },
   "file_extension": ".py",
   "mimetype": "text/x-python",
   "name": "python",
   "nbconvert_exporter": "python",
   "pygments_lexer": "ipython3",
   "version": "3.10.8"
  }
 },
 "nbformat": 4,
 "nbformat_minor": 5
}
