{
 "cells": [
  {
   "cell_type": "markdown",
   "id": "f664dd7f-2467-4936-96fc-e3ece3d3779b",
   "metadata": {},
   "source": [
    "OOPS :- Object Oriented Programming Systems"
   ]
  },
  {
   "cell_type": "code",
   "execution_count": 1,
   "id": "042ec751-b6b6-4ca0-8e0a-cc457004f830",
   "metadata": {},
   "outputs": [],
   "source": [
    "a=1"
   ]
  },
  {
   "cell_type": "code",
   "execution_count": 2,
   "id": "324727aa-d8b3-406c-8f56-eb9b5832337c",
   "metadata": {},
   "outputs": [
    {
     "name": "stdout",
     "output_type": "stream",
     "text": [
      "<class 'int'>\n"
     ]
    }
   ],
   "source": [
    "print(type(a))"
   ]
  },
  {
   "cell_type": "code",
   "execution_count": 3,
   "id": "47632056-51dd-4265-a946-172faefc0cdb",
   "metadata": {},
   "outputs": [
    {
     "name": "stdout",
     "output_type": "stream",
     "text": [
      "<class 'str'>\n"
     ]
    }
   ],
   "source": [
    "print(type(\"Hello\"))"
   ]
  },
  {
   "cell_type": "markdown",
   "id": "abf0b781-618d-48a2-a218-1f5d3cdb8044",
   "metadata": {},
   "source": [
    "Class is a blueprint which defines some properties and behaviors. An object is an instance of a class which has those properties and behaviours attached.\n",
    "\n",
    "A class is not allocated memory when it is defined. An object is allocated memory when it is created."
   ]
  },
  {
   "cell_type": "code",
   "execution_count": 3,
   "id": "00828fae-e347-45da-971c-4de7627ae097",
   "metadata": {},
   "outputs": [],
   "source": [
    "class test:\n",
    "    pass"
   ]
  },
  {
   "cell_type": "code",
   "execution_count": 4,
   "id": "966e0253-034a-45d4-b1e7-f8f54f85f6ef",
   "metadata": {},
   "outputs": [],
   "source": [
    "a=test()"
   ]
  },
  {
   "cell_type": "code",
   "execution_count": 5,
   "id": "9f3480c6-c650-4a39-a03f-efeb606e3957",
   "metadata": {},
   "outputs": [
    {
     "data": {
      "text/plain": [
       "__main__.test"
      ]
     },
     "execution_count": 5,
     "metadata": {},
     "output_type": "execute_result"
    }
   ],
   "source": [
    "type(a)"
   ]
  },
  {
   "cell_type": "code",
   "execution_count": 6,
   "id": "a9c9fe97-9997-4139-8086-5ba772211e4c",
   "metadata": {},
   "outputs": [
    {
     "name": "stdout",
     "output_type": "stream",
     "text": [
      "<class '__main__.test'>\n"
     ]
    }
   ],
   "source": [
    "print(type(a))"
   ]
  },
  {
   "cell_type": "code",
   "execution_count": 7,
   "id": "33d51f2c-276b-4edd-af00-df0c20df30b9",
   "metadata": {},
   "outputs": [],
   "source": [
    "class DataScience:\n",
    "    \n",
    "    def wel_msg(self):\n",
    "        print(\"Welcome to Data Science!!\")"
   ]
  },
  {
   "cell_type": "markdown",
   "id": "8ee3f77b-0044-4628-b5e3-bae786be3c37",
   "metadata": {},
   "source": [
    "Here self is nothing but a refrence (pointer) to the resp class. you can use other keyword also instead of self."
   ]
  },
  {
   "cell_type": "code",
   "execution_count": 20,
   "id": "88079559-b92b-4be1-bbd6-9470bdb65ec3",
   "metadata": {},
   "outputs": [],
   "source": [
    "Yash = DataScience() # Here 'Yash' is a object of class DataScience."
   ]
  },
  {
   "cell_type": "code",
   "execution_count": 21,
   "id": "15375ea1-17b6-4322-9c06-8bcbfe6bf872",
   "metadata": {},
   "outputs": [
    {
     "name": "stdout",
     "output_type": "stream",
     "text": [
      "Welcome to Data Science!!\n"
     ]
    }
   ],
   "source": [
    "Yash.wel_msg() # Here wel_msg() is a method/function of DataScience class."
   ]
  },
  {
   "cell_type": "markdown",
   "id": "6c132a34-8939-4558-a9fb-33ea65b7a470",
   "metadata": {},
   "source": [
    "We can define a constructor for a class by using def __init__(self,args) as shown in below.\n",
    "\n",
    "( __init__ ) Constructor is always try to take a data while creating an object. It will pass this data to the respective class.\n",
    "\n",
    "class is always consider or call a vaiable which is assosiated with refernce/pointer. In the below ex it is self.name, self.color, self.price"
   ]
  },
  {
   "cell_type": "code",
   "execution_count": 10,
   "id": "48c5ce00-7f9a-4bf2-9237-3d02d6aa43b4",
   "metadata": {},
   "outputs": [],
   "source": [
    "class Car:\n",
    "    \n",
    "    def __init__(self, name, color, price):\n",
    "        self.name = name\n",
    "        self.color = color\n",
    "        self.price = price\n",
    "        \n",
    "    def  spec_car(self):\n",
    "        return self.name, self.color, self.price"
   ]
  },
  {
   "cell_type": "code",
   "execution_count": 11,
   "id": "6779251f-2fd3-4c82-b2cc-41b80fec6ec0",
   "metadata": {},
   "outputs": [
    {
     "ename": "TypeError",
     "evalue": "Car.__init__() missing 3 required positional arguments: 'name', 'color', and 'price'",
     "output_type": "error",
     "traceback": [
      "\u001b[0;31m---------------------------------------------------------------------------\u001b[0m",
      "\u001b[0;31mTypeError\u001b[0m                                 Traceback (most recent call last)",
      "Cell \u001b[0;32mIn[11], line 1\u001b[0m\n\u001b[0;32m----> 1\u001b[0m SUV \u001b[38;5;241m=\u001b[39m \u001b[43mCar\u001b[49m\u001b[43m(\u001b[49m\u001b[43m)\u001b[49m\n",
      "\u001b[0;31mTypeError\u001b[0m: Car.__init__() missing 3 required positional arguments: 'name', 'color', and 'price'"
     ]
    }
   ],
   "source": [
    "SUV = Car()"
   ]
  },
  {
   "cell_type": "code",
   "execution_count": 14,
   "id": "767f3f93-2141-47fe-b325-cfc970ec6863",
   "metadata": {},
   "outputs": [],
   "source": [
    "SUV = Car ('Mehendra','Whitish-Grey',1000000)"
   ]
  },
  {
   "cell_type": "code",
   "execution_count": 15,
   "id": "afe8a963-af15-4976-9b15-92f7cf42eb34",
   "metadata": {},
   "outputs": [
    {
     "data": {
      "text/plain": [
       "('Mehendra', 'Whitish-Grey', 1000000)"
      ]
     },
     "execution_count": 15,
     "metadata": {},
     "output_type": "execute_result"
    }
   ],
   "source": [
    "SUV.spec_car()"
   ]
  },
  {
   "cell_type": "code",
   "execution_count": 16,
   "id": "0ed8f576-9078-4e7b-b819-06d01a9515e3",
   "metadata": {},
   "outputs": [],
   "source": [
    "TATA = Car ('Punch','Sky-Blue',1500000)"
   ]
  },
  {
   "cell_type": "code",
   "execution_count": 17,
   "id": "fefea948-c779-4b46-b964-1532d834b35e",
   "metadata": {},
   "outputs": [
    {
     "data": {
      "text/plain": [
       "'Punch'"
      ]
     },
     "execution_count": 17,
     "metadata": {},
     "output_type": "execute_result"
    }
   ],
   "source": [
    "TATA.name"
   ]
  },
  {
   "cell_type": "code",
   "execution_count": 18,
   "id": "a7ac1e17-42f8-4924-b896-99adaf1e5095",
   "metadata": {},
   "outputs": [
    {
     "data": {
      "text/plain": [
       "'Sky-Blue'"
      ]
     },
     "execution_count": 18,
     "metadata": {},
     "output_type": "execute_result"
    }
   ],
   "source": [
    "TATA.color"
   ]
  },
  {
   "cell_type": "code",
   "execution_count": 19,
   "id": "2d3ca1fa-a287-4510-a21a-593e2c828c2b",
   "metadata": {},
   "outputs": [
    {
     "data": {
      "text/plain": [
       "1500000"
      ]
     },
     "execution_count": 19,
     "metadata": {},
     "output_type": "execute_result"
    }
   ],
   "source": [
    "TATA.price"
   ]
  },
  {
   "cell_type": "code",
   "execution_count": 22,
   "id": "a0f83ea2-fd26-4436-a8c2-20d6c3bcf431",
   "metadata": {},
   "outputs": [
    {
     "data": {
      "text/plain": [
       "('Punch', 'Sky-Blue', 1500000)"
      ]
     },
     "execution_count": 22,
     "metadata": {},
     "output_type": "execute_result"
    }
   ],
   "source": [
    "TATA.spec_car()"
   ]
  },
  {
   "cell_type": "code",
   "execution_count": null,
   "id": "8aac47ae-19f3-40b9-a12f-2817b321f161",
   "metadata": {},
   "outputs": [],
   "source": []
  },
  {
   "cell_type": "markdown",
   "id": "e973babb-4b79-4293-b577-53f6f34f0e5f",
   "metadata": {},
   "source": [
    "### Polymorphism"
   ]
  },
  {
   "cell_type": "markdown",
   "id": "30f00e2d-1101-40da-bc66-b64cfe98a41d",
   "metadata": {},
   "source": [
    "polymorphism is one of the property of OOP's. Polymorphism means many forms (multiple states). If same function performs differnt tasks means changing its behaviour according to different enviornment or conditions. The key difference is the data types and number of arguments used in function."
   ]
  },
  {
   "cell_type": "code",
   "execution_count": 4,
   "id": "952772fa-0b91-412c-b81e-6b2f86f5b410",
   "metadata": {},
   "outputs": [],
   "source": [
    "def func1(x,y):\n",
    "    return x+y"
   ]
  },
  {
   "cell_type": "code",
   "execution_count": 5,
   "id": "3496cf17-47dd-484f-8537-8af5bb2e6c04",
   "metadata": {},
   "outputs": [
    {
     "data": {
      "text/plain": [
       "25"
      ]
     },
     "execution_count": 5,
     "metadata": {},
     "output_type": "execute_result"
    }
   ],
   "source": [
    "func1(16,9)"
   ]
  },
  {
   "cell_type": "code",
   "execution_count": 6,
   "id": "83971e6e-cb5c-4d5b-a571-b203d5b6cffc",
   "metadata": {},
   "outputs": [
    {
     "data": {
      "text/plain": [
       "'HelloHi'"
      ]
     },
     "execution_count": 6,
     "metadata": {},
     "output_type": "execute_result"
    }
   ],
   "source": [
    "func1('Hello','Hi')"
   ]
  },
  {
   "cell_type": "code",
   "execution_count": 7,
   "id": "2852592a-7e9c-4a6b-a005-0d033b0a98cf",
   "metadata": {},
   "outputs": [
    {
     "data": {
      "text/plain": [
       "[1, 3, 5, 6, 2, 4, 8, 0]"
      ]
     },
     "execution_count": 7,
     "metadata": {},
     "output_type": "execute_result"
    }
   ],
   "source": [
    "func1( [1,3,5,6], [2,4,8,0] )"
   ]
  },
  {
   "cell_type": "code",
   "execution_count": 8,
   "id": "659a4627-75b5-453c-98c8-18248320cd66",
   "metadata": {},
   "outputs": [],
   "source": [
    "class Car:\n",
    "    def spec(self):\n",
    "        print(\"This is method of Car spec.\")"
   ]
  },
  {
   "cell_type": "code",
   "execution_count": 9,
   "id": "715bc65b-2a05-4bf4-8f7a-d9913c23283c",
   "metadata": {},
   "outputs": [],
   "source": [
    "class Bike:\n",
    "    def spec(self):\n",
    "        print(\"This is method of Bike spec.\")"
   ]
  },
  {
   "cell_type": "code",
   "execution_count": 11,
   "id": "b5455e08-8fa9-4d81-85ae-81089ad59392",
   "metadata": {},
   "outputs": [],
   "source": [
    "def vehicle_prop(obj_v):\n",
    "    for i in obj_v:\n",
    "        i.spec()"
   ]
  },
  {
   "cell_type": "code",
   "execution_count": 12,
   "id": "c0e24cca-d0a4-4385-abe9-718c6c2f778b",
   "metadata": {},
   "outputs": [],
   "source": [
    "obj_car = Car()"
   ]
  },
  {
   "cell_type": "code",
   "execution_count": 13,
   "id": "c910c2d8-ac15-4953-a445-eefb90a848ca",
   "metadata": {},
   "outputs": [],
   "source": [
    "obj_bike = Bike()"
   ]
  },
  {
   "cell_type": "code",
   "execution_count": 14,
   "id": "817d8a19-5ed1-498f-8e62-4128a6cec4b8",
   "metadata": {},
   "outputs": [],
   "source": [
    "obj_v = [obj_car, obj_bike]"
   ]
  },
  {
   "cell_type": "code",
   "execution_count": 15,
   "id": "fd8e8617-5620-4468-990c-41e4aff05d26",
   "metadata": {},
   "outputs": [
    {
     "name": "stdout",
     "output_type": "stream",
     "text": [
      "This is method of Car spec.\n",
      "This is method of Bike spec.\n"
     ]
    }
   ],
   "source": [
    "vehicle_prop(obj_v)"
   ]
  },
  {
   "cell_type": "code",
   "execution_count": null,
   "id": "0c7800ff-946c-4016-943b-ff4de26f2a1b",
   "metadata": {},
   "outputs": [],
   "source": []
  },
  {
   "cell_type": "markdown",
   "id": "6996d71a-9b8c-4c52-9e31-103d85880cde",
   "metadata": {},
   "source": [
    "### Encapsulation"
   ]
  },
  {
   "cell_type": "markdown",
   "id": "469e5c78-087f-44df-b90f-fd952a61d1d3",
   "metadata": {},
   "source": [
    "Encapsulation is one of the fundamental concepts in object-oriented programming (OOP).\n",
    "It describes the idea of wrapping data and the methods that work on data within one unit. This puts restrictions on accessing variables and methods directly and can prevent the accidental modification of data. To prevent accidental change, an object’s variable can only be changed by an object’s method. Those types of variables are known as private variables.\n",
    "It means someone should not directly modify or assign a value to any varible inside that function."
   ]
  },
  {
   "cell_type": "code",
   "execution_count": 1,
   "id": "198dcc03-096c-4b82-8446-345d70f5d325",
   "metadata": {},
   "outputs": [],
   "source": [
    "class test1:\n",
    "    def __init__(self, a,b):\n",
    "        self.a=a\n",
    "        self.b=b"
   ]
  },
  {
   "cell_type": "code",
   "execution_count": 3,
   "id": "39976a3e-09a7-435b-bfc4-5dbab2ed754e",
   "metadata": {},
   "outputs": [],
   "source": [
    "t = test1(22,58)"
   ]
  },
  {
   "cell_type": "code",
   "execution_count": 4,
   "id": "89dd9abf-92c9-41dd-a9f0-72f7b9437bc2",
   "metadata": {},
   "outputs": [
    {
     "data": {
      "text/plain": [
       "22"
      ]
     },
     "execution_count": 4,
     "metadata": {},
     "output_type": "execute_result"
    }
   ],
   "source": [
    "t.a"
   ]
  },
  {
   "cell_type": "code",
   "execution_count": 5,
   "id": "dd006239-f764-41f3-833f-e4bac5c98750",
   "metadata": {},
   "outputs": [
    {
     "data": {
      "text/plain": [
       "58"
      ]
     },
     "execution_count": 5,
     "metadata": {},
     "output_type": "execute_result"
    }
   ],
   "source": [
    "t.b"
   ]
  },
  {
   "cell_type": "code",
   "execution_count": 6,
   "id": "7bdc9495-6768-4e73-939c-1f5c54e09a5e",
   "metadata": {},
   "outputs": [],
   "source": [
    "t.a=45"
   ]
  },
  {
   "cell_type": "code",
   "execution_count": 7,
   "id": "9fec4451-115a-4314-ab4e-9c38e603998f",
   "metadata": {},
   "outputs": [
    {
     "data": {
      "text/plain": [
       "45"
      ]
     },
     "execution_count": 7,
     "metadata": {},
     "output_type": "execute_result"
    }
   ],
   "source": [
    "t.a"
   ]
  },
  {
   "cell_type": "code",
   "execution_count": 18,
   "id": "fd440abc-0c59-47fb-a048-6d609ce6731e",
   "metadata": {},
   "outputs": [],
   "source": [
    "class Mobile :\n",
    "    def __init__(self, name, size, ram, price):\n",
    "        self.__name = name\n",
    "        self.__size = size\n",
    "        self.__ram = ram\n",
    "        self.__price = price\n",
    "        \n",
    "    def set_size(self, s):\n",
    "        self.__size = 6.67 if s<0 else s\n",
    "        \n",
    "    def get_size(self):\n",
    "        return self.__size\n",
    "        "
   ]
  },
  {
   "cell_type": "code",
   "execution_count": 19,
   "id": "20bc751a-e83d-4bcb-978a-52d8da9c500e",
   "metadata": {},
   "outputs": [],
   "source": [
    "m = Mobile(\"iPhone\", 6.7, \"6 GB\", 150000)"
   ]
  },
  {
   "cell_type": "code",
   "execution_count": 11,
   "id": "e27cd086-d512-489b-a2cc-82fe8c7441fe",
   "metadata": {},
   "outputs": [
    {
     "data": {
      "text/plain": [
       "'iPhone'"
      ]
     },
     "execution_count": 11,
     "metadata": {},
     "output_type": "execute_result"
    }
   ],
   "source": [
    "m._Mobile__name"
   ]
  },
  {
   "cell_type": "code",
   "execution_count": 12,
   "id": "addbf111-af99-40a3-903f-fe75ea4a8edf",
   "metadata": {},
   "outputs": [],
   "source": [
    "m._Mobile__ram = \"8 GB\""
   ]
  },
  {
   "cell_type": "code",
   "execution_count": 13,
   "id": "be29c4df-1cfd-41d0-91e5-31f7a6b74855",
   "metadata": {},
   "outputs": [
    {
     "data": {
      "text/plain": [
       "'8 GB'"
      ]
     },
     "execution_count": 13,
     "metadata": {},
     "output_type": "execute_result"
    }
   ],
   "source": [
    "m._Mobile__ram"
   ]
  },
  {
   "cell_type": "code",
   "execution_count": 20,
   "id": "6b4e0738-cd1b-49bb-b090-18200bac261e",
   "metadata": {},
   "outputs": [
    {
     "data": {
      "text/plain": [
       "6.7"
      ]
     },
     "execution_count": 20,
     "metadata": {},
     "output_type": "execute_result"
    }
   ],
   "source": [
    "m._Mobile__size"
   ]
  },
  {
   "cell_type": "code",
   "execution_count": 21,
   "id": "a43e8ac0-e408-43a7-8d0f-1a0b3cbe44c6",
   "metadata": {},
   "outputs": [],
   "source": [
    "m.set_size(6.71)"
   ]
  },
  {
   "cell_type": "code",
   "execution_count": 26,
   "id": "5ec40b5b-6bbc-4e66-8b6a-76530df59c3a",
   "metadata": {},
   "outputs": [
    {
     "data": {
      "text/plain": [
       "6.71"
      ]
     },
     "execution_count": 26,
     "metadata": {},
     "output_type": "execute_result"
    }
   ],
   "source": [
    "m._Mobile__size # Here only owner can see."
   ]
  },
  {
   "cell_type": "code",
   "execution_count": 25,
   "id": "368f6bab-6d1d-44db-8bdc-7ce43cf582bd",
   "metadata": {},
   "outputs": [
    {
     "data": {
      "text/plain": [
       "6.71"
      ]
     },
     "execution_count": 25,
     "metadata": {},
     "output_type": "execute_result"
    }
   ],
   "source": [
    "m.get_size() # Here owner create afunction for others to acess that why other are also able to see."
   ]
  },
  {
   "cell_type": "code",
   "execution_count": 49,
   "id": "e9ec29a7-6922-441a-8675-38bb7d755f6a",
   "metadata": {},
   "outputs": [],
   "source": [
    "class bank_acc :\n",
    "    \n",
    "    def __init__(self, balance):\n",
    "        self.__balance = balance\n",
    "        \n",
    "    def deposit(self, amount):\n",
    "        self.__balance = self.__balance + amount\n",
    "        \n",
    "    def withdraw(self, amount):\n",
    "        if self.__balance > amount:\n",
    "            self.__balance = self.__balance - amount\n",
    "        else:\n",
    "            return \"Entered amount will not withdrawable.\"\n",
    "        \n",
    "    def get_balance(self):\n",
    "        return self.__balance"
   ]
  },
  {
   "cell_type": "code",
   "execution_count": 50,
   "id": "9a8ba491-b75c-4f0e-9cf3-1c01faa26eca",
   "metadata": {},
   "outputs": [],
   "source": [
    "b = bank_acc(100000)"
   ]
  },
  {
   "cell_type": "code",
   "execution_count": 51,
   "id": "14b35a03-f164-4481-8c0d-e2654b75906d",
   "metadata": {},
   "outputs": [
    {
     "data": {
      "text/plain": [
       "100000"
      ]
     },
     "execution_count": 51,
     "metadata": {},
     "output_type": "execute_result"
    }
   ],
   "source": [
    "b._bank_acc__balance"
   ]
  },
  {
   "cell_type": "code",
   "execution_count": 52,
   "id": "7bd9e714-7abc-4638-a1d3-8e53ad012b8c",
   "metadata": {},
   "outputs": [],
   "source": [
    "b.deposit(25000)"
   ]
  },
  {
   "cell_type": "code",
   "execution_count": 53,
   "id": "86e21a25-d45a-40c0-b07f-f455847d5890",
   "metadata": {},
   "outputs": [
    {
     "data": {
      "text/plain": [
       "125000"
      ]
     },
     "execution_count": 53,
     "metadata": {},
     "output_type": "execute_result"
    }
   ],
   "source": [
    "b.get_balance()"
   ]
  },
  {
   "cell_type": "code",
   "execution_count": 54,
   "id": "ec7caae8-a995-4b76-b332-34fb60fe61e4",
   "metadata": {},
   "outputs": [],
   "source": [
    "b.withdraw(7500)"
   ]
  },
  {
   "cell_type": "code",
   "execution_count": 55,
   "id": "bf063078-38d7-4464-a2ce-84a744b42a69",
   "metadata": {},
   "outputs": [
    {
     "data": {
      "text/plain": [
       "117500"
      ]
     },
     "execution_count": 55,
     "metadata": {},
     "output_type": "execute_result"
    }
   ],
   "source": [
    "b.get_balance()"
   ]
  },
  {
   "cell_type": "code",
   "execution_count": 56,
   "id": "041348cd-9610-454b-8fad-85870c3b6458",
   "metadata": {},
   "outputs": [
    {
     "data": {
      "text/plain": [
       "'Entered amount will not withdrawable.'"
      ]
     },
     "execution_count": 56,
     "metadata": {},
     "output_type": "execute_result"
    }
   ],
   "source": [
    "b.withdraw(207500)"
   ]
  },
  {
   "cell_type": "code",
   "execution_count": 57,
   "id": "70a3f1a5-6f54-422e-84f6-5dd9fc3dace6",
   "metadata": {},
   "outputs": [
    {
     "data": {
      "text/plain": [
       "117500"
      ]
     },
     "execution_count": 57,
     "metadata": {},
     "output_type": "execute_result"
    }
   ],
   "source": [
    "b.get_balance()"
   ]
  },
  {
   "cell_type": "code",
   "execution_count": null,
   "id": "c2f01a95-03d1-4fd5-9d2c-c7e542e5f492",
   "metadata": {},
   "outputs": [],
   "source": []
  },
  {
   "cell_type": "markdown",
   "id": "7546bc67-436e-4934-9dcf-bffb42496c19",
   "metadata": {},
   "source": [
    "### Inheritance"
   ]
  },
  {
   "cell_type": "markdown",
   "id": "ea5242c8-dbe5-40a9-98c0-61320de94efc",
   "metadata": {},
   "source": [
    "Inheritance is one of the pillars of OOP's. It is a mechanism that allows you to create a hierarchy of classes that share a set of properties and methods by deriving a class from another class.It means it inherits the property of one class into other class."
   ]
  },
  {
   "cell_type": "code",
   "execution_count": 7,
   "id": "ccc2bc8e-7843-4329-81c5-1e822d7c6a76",
   "metadata": {},
   "outputs": [],
   "source": [
    "class Parent:\n",
    "    \n",
    "    def p_func(self):\n",
    "        print(\"This is method of Parent class.\")\n",
    "        \n",
    "\n",
    "class Son(Parent):\n",
    "    pass"
   ]
  },
  {
   "cell_type": "code",
   "execution_count": 8,
   "id": "96bd0cd8-e4fb-4c55-b98a-e7f9f4518dbc",
   "metadata": {},
   "outputs": [],
   "source": [
    "obj = Son()"
   ]
  },
  {
   "cell_type": "code",
   "execution_count": 9,
   "id": "c7aa9a32-6a8e-4fd1-9ad9-ecdedb045c6d",
   "metadata": {},
   "outputs": [
    {
     "name": "stdout",
     "output_type": "stream",
     "text": [
      "This is method of Parent class.\n"
     ]
    }
   ],
   "source": [
    "obj.p_func()"
   ]
  },
  {
   "cell_type": "code",
   "execution_count": 10,
   "id": "10a3f30e-a78b-4a5e-a0bd-5620776e9c3d",
   "metadata": {},
   "outputs": [],
   "source": [
    "class c1:\n",
    "    \n",
    "    def c1_fun(self):\n",
    "        print(\"This is c1\")\n",
    "        \n",
    "class c2(c1):\n",
    "    \n",
    "    def c2_fun(self):\n",
    "        print(\"This is c2\")\n",
    "        \n",
    "        \n",
    "class c3(c2):\n",
    "    \n",
    "    def c3_fun(self):\n",
    "        print(\"This is c3\")\n",
    "        \n"
   ]
  },
  {
   "cell_type": "code",
   "execution_count": 11,
   "id": "747ce8e4-68d7-49a9-ab8f-512f050dc3a4",
   "metadata": {},
   "outputs": [],
   "source": [
    "c_obj = c3()"
   ]
  },
  {
   "cell_type": "code",
   "execution_count": 13,
   "id": "b737f4f4-5dff-4a8c-9cd0-19925670b521",
   "metadata": {},
   "outputs": [
    {
     "name": "stdout",
     "output_type": "stream",
     "text": [
      "This is c1\n"
     ]
    }
   ],
   "source": [
    "c_obj.c1_fun()"
   ]
  },
  {
   "cell_type": "code",
   "execution_count": 14,
   "id": "d86351fb-6fb7-408c-b555-926407be3390",
   "metadata": {},
   "outputs": [
    {
     "name": "stdout",
     "output_type": "stream",
     "text": [
      "This is c2\n"
     ]
    }
   ],
   "source": [
    "c_obj.c2_fun()"
   ]
  },
  {
   "cell_type": "code",
   "execution_count": 15,
   "id": "b697d57d-5c7b-4e5d-a539-96583c20e8a6",
   "metadata": {},
   "outputs": [
    {
     "name": "stdout",
     "output_type": "stream",
     "text": [
      "This is c3\n"
     ]
    }
   ],
   "source": [
    "c_obj.c3_fun()"
   ]
  },
  {
   "cell_type": "code",
   "execution_count": 1,
   "id": "c0d419f0-cb07-4e6e-af57-300f71670e3f",
   "metadata": {},
   "outputs": [],
   "source": [
    "# Multiple Inheritance :-\n",
    "\n",
    "class Father:\n",
    "    def f_prop(self):\n",
    "        print(\"This is method of Father.\")\n",
    "        \n",
    "class Mother:\n",
    "    def m_prop(self):\n",
    "        print(\"This is mehod of Mother.\")\n",
    "        \n",
    "        \n",
    "class Child(Father,Mother):\n",
    "    def c_prop(self):\n",
    "        print(\"This is method of Children.\")\n",
    "        \n",
    "        "
   ]
  },
  {
   "cell_type": "code",
   "execution_count": 2,
   "id": "c6fa1bb6-5313-41aa-92aa-10636439619a",
   "metadata": {},
   "outputs": [],
   "source": [
    "c = Child()"
   ]
  },
  {
   "cell_type": "code",
   "execution_count": 3,
   "id": "3b92f050-227a-4a04-907c-de46c016172d",
   "metadata": {},
   "outputs": [
    {
     "name": "stdout",
     "output_type": "stream",
     "text": [
      "This is method of Father.\n"
     ]
    }
   ],
   "source": [
    "c.f_prop()"
   ]
  },
  {
   "cell_type": "code",
   "execution_count": 4,
   "id": "bb7fed8b-6dba-4c2d-a681-abf1617f2ba9",
   "metadata": {},
   "outputs": [
    {
     "name": "stdout",
     "output_type": "stream",
     "text": [
      "This is mehod of Mother.\n"
     ]
    }
   ],
   "source": [
    "c.m_prop()"
   ]
  },
  {
   "cell_type": "code",
   "execution_count": 5,
   "id": "ba954497-4e6d-4a7c-9bfe-3c9b6e6c8deb",
   "metadata": {},
   "outputs": [
    {
     "name": "stdout",
     "output_type": "stream",
     "text": [
      "This is method of Children.\n"
     ]
    }
   ],
   "source": [
    "c.c_prop()"
   ]
  },
  {
   "cell_type": "code",
   "execution_count": 6,
   "id": "05142136-8951-42b9-8dae-daf69e5b5e36",
   "metadata": {},
   "outputs": [],
   "source": [
    "c1 = Child()"
   ]
  },
  {
   "cell_type": "code",
   "execution_count": 7,
   "id": "8ed0d2c1-f2a3-4468-aa71-c35da8ee6816",
   "metadata": {},
   "outputs": [],
   "source": [
    "c2 = Child()"
   ]
  },
  {
   "cell_type": "code",
   "execution_count": null,
   "id": "4d61f672-f45a-45bc-a7ee-017bbbdbea71",
   "metadata": {},
   "outputs": [],
   "source": []
  }
 ],
 "metadata": {
  "kernelspec": {
   "display_name": "Python 3 (ipykernel)",
   "language": "python",
   "name": "python3"
  },
  "language_info": {
   "codemirror_mode": {
    "name": "ipython",
    "version": 3
   },
   "file_extension": ".py",
   "mimetype": "text/x-python",
   "name": "python",
   "nbconvert_exporter": "python",
   "pygments_lexer": "ipython3",
   "version": "3.10.8"
  }
 },
 "nbformat": 4,
 "nbformat_minor": 5
}
