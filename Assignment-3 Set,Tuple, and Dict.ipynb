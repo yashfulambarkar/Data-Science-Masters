{
 "cells": [
  {
   "cell_type": "raw",
   "id": "6aa8a640-103e-4231-97c4-30c1ef35a638",
   "metadata": {},
   "source": [
    "1)  What are the characteristics of the tuples? Is tuple immutable?\n",
    "\n",
    ":- Tuples are ordered, unchangeable, and allow duplicate values. Tuple items are indexed, the first item has index 0, the     second item has index 1 etc. yes, tuples are immutable."
   ]
  },
  {
   "cell_type": "raw",
   "id": "66eb5b3d-8cdb-46da-8fb5-6cb2317046f2",
   "metadata": {},
   "source": [
    "2)  What are the two tuple methods in python? Give an example of each method. Give a reason why \n",
    "    tuples have only two in-built methods as compared to Lists.\n",
    "    \n",
    ":- Tuples are the inmutable type. Tuples are ordered, unchangeable, and allow duplicate values.\n",
    "   Tuple contains two method. i)count()  ii)index() below are the examples."
   ]
  },
  {
   "cell_type": "code",
   "execution_count": 4,
   "id": "7b757ce5-c41b-4152-8968-b81128865c3c",
   "metadata": {},
   "outputs": [],
   "source": [
    "t1=(1,2,4,6,8,2,5,1)"
   ]
  },
  {
   "cell_type": "code",
   "execution_count": 5,
   "id": "13e527fa-1b62-42c0-b6da-2b06d8f46e2b",
   "metadata": {},
   "outputs": [
    {
     "data": {
      "text/plain": [
       "(1, 2, 4, 6, 8, 2, 5, 1)"
      ]
     },
     "execution_count": 5,
     "metadata": {},
     "output_type": "execute_result"
    }
   ],
   "source": [
    "t1"
   ]
  },
  {
   "cell_type": "code",
   "execution_count": 6,
   "id": "1d3d19cc-1ab8-4a73-ae83-1f0d455c245b",
   "metadata": {},
   "outputs": [
    {
     "data": {
      "text/plain": [
       "2"
      ]
     },
     "execution_count": 6,
     "metadata": {},
     "output_type": "execute_result"
    }
   ],
   "source": [
    "# count() - Return number of occurrences of value.\n",
    "t1.count(2)"
   ]
  },
  {
   "cell_type": "code",
   "execution_count": 7,
   "id": "67230283-8c10-4db9-b499-02215bec2f91",
   "metadata": {},
   "outputs": [
    {
     "data": {
      "text/plain": [
       "1"
      ]
     },
     "execution_count": 7,
     "metadata": {},
     "output_type": "execute_result"
    }
   ],
   "source": [
    "# index() - Return first index of value.\n",
    "t1.index(2)"
   ]
  },
  {
   "cell_type": "raw",
   "id": "97bcd795-a610-4871-8a57-a7bf4dca1b08",
   "metadata": {},
   "source": [
    "3) Which collection datatypes in python do not allow duplicate items? Write a code using a set to remove \n",
    "   duplicates from the given list.\n",
    "   \n",
    ":- Set is collection datatype which do not allow duplicate items to store in it."
   ]
  },
  {
   "cell_type": "code",
   "execution_count": 8,
   "id": "03d86f7b-59e4-42fe-8bf8-adc29d8a49ac",
   "metadata": {},
   "outputs": [],
   "source": [
    "List = [1, 1, 1, 2, 1, 3, 1, 4, 2, 1, 2, 2, 2, 3, 2, 4, 3, 1, 3, 2, 3, 3, 3, 4, 4, 1, 4, 2, 4, 3, 4, 4]"
   ]
  },
  {
   "cell_type": "code",
   "execution_count": 9,
   "id": "aad0cf8a-1d10-4146-92b3-39b3166ff566",
   "metadata": {},
   "outputs": [],
   "source": [
    "s=set(List)"
   ]
  },
  {
   "cell_type": "code",
   "execution_count": 10,
   "id": "0d08ebff-b224-4218-a67b-ce25332c345b",
   "metadata": {},
   "outputs": [
    {
     "data": {
      "text/plain": [
       "{1, 2, 3, 4}"
      ]
     },
     "execution_count": 10,
     "metadata": {},
     "output_type": "execute_result"
    }
   ],
   "source": [
    "s"
   ]
  },
  {
   "cell_type": "raw",
   "id": "c8101872-7a3d-4209-b78f-3b53cf6e4a4a",
   "metadata": {},
   "source": [
    "4) Explain the difference between the union() and update() methods for a set. Give an example of \n",
    "   each method.\n",
    "   \n",
    ":- The union() method that returns a new set containing all items from both sets, and the update() method that inserts      all the items from one set into another."
   ]
  },
  {
   "cell_type": "code",
   "execution_count": 17,
   "id": "40bb85e9-5315-45a2-89f3-3b1be173790f",
   "metadata": {},
   "outputs": [],
   "source": [
    "s1={1,2,3,5}\n",
    "s2={1,2,4,8}"
   ]
  },
  {
   "cell_type": "code",
   "execution_count": 18,
   "id": "0323a834-773e-4b53-a1eb-0051ed32b8a1",
   "metadata": {},
   "outputs": [
    {
     "data": {
      "text/plain": [
       "{1, 2, 3, 4, 5, 8}"
      ]
     },
     "execution_count": 18,
     "metadata": {},
     "output_type": "execute_result"
    }
   ],
   "source": [
    "s1.union(s2)"
   ]
  },
  {
   "cell_type": "code",
   "execution_count": 19,
   "id": "bf94faa7-6e2c-428c-93c2-6cae14224edb",
   "metadata": {},
   "outputs": [
    {
     "data": {
      "text/plain": [
       "{1, 2, 3, 5}"
      ]
     },
     "execution_count": 19,
     "metadata": {},
     "output_type": "execute_result"
    }
   ],
   "source": [
    "s1"
   ]
  },
  {
   "cell_type": "code",
   "execution_count": 20,
   "id": "b96d3834-77b0-4043-a4dd-33b7adcbc79b",
   "metadata": {},
   "outputs": [],
   "source": [
    "s1.update(s2)"
   ]
  },
  {
   "cell_type": "code",
   "execution_count": 21,
   "id": "6e2247a5-a258-495f-92d5-d88ac29b0bde",
   "metadata": {},
   "outputs": [
    {
     "data": {
      "text/plain": [
       "{1, 2, 3, 4, 5, 8}"
      ]
     },
     "execution_count": 21,
     "metadata": {},
     "output_type": "execute_result"
    }
   ],
   "source": [
    "s1"
   ]
  },
  {
   "cell_type": "raw",
   "id": "07c55fa7-fe00-4802-9de0-62df2f2ce88a",
   "metadata": {},
   "source": [
    "5) What is a dictionary? Give an example. Also, state whether a dictionary is ordered or unordered.\n",
    "\n",
    ":- Dictionary is collection which is ordered, changeable and do not allow duplicates. Dictionary are used to store data      values in key:value pairs."
   ]
  },
  {
   "cell_type": "code",
   "execution_count": 28,
   "id": "b0e4c6af-a7c4-46a5-ab1f-13d188e0a8f8",
   "metadata": {},
   "outputs": [],
   "source": [
    "d = {'abc' : 1, 'pqr' : 2, 'xyz' :3}\n"
   ]
  },
  {
   "cell_type": "code",
   "execution_count": 29,
   "id": "b377febf-9744-477b-829a-4eaeea34101c",
   "metadata": {},
   "outputs": [
    {
     "data": {
      "text/plain": [
       "{'abc': 1, 'pqr': 2, 'xyz': 3}"
      ]
     },
     "execution_count": 29,
     "metadata": {},
     "output_type": "execute_result"
    }
   ],
   "source": [
    "d"
   ]
  },
  {
   "cell_type": "code",
   "execution_count": 30,
   "id": "7f1198fa-1d51-4539-b37a-cb415e918505",
   "metadata": {},
   "outputs": [
    {
     "data": {
      "text/plain": [
       "dict_keys(['abc', 'pqr', 'xyz'])"
      ]
     },
     "execution_count": 30,
     "metadata": {},
     "output_type": "execute_result"
    }
   ],
   "source": [
    "d.keys()"
   ]
  },
  {
   "cell_type": "code",
   "execution_count": 31,
   "id": "76a5d9fc-d24b-46f6-8f92-eb240125fdbf",
   "metadata": {},
   "outputs": [
    {
     "data": {
      "text/plain": [
       "dict_values([1, 2, 3])"
      ]
     },
     "execution_count": 31,
     "metadata": {},
     "output_type": "execute_result"
    }
   ],
   "source": [
    "d.values()"
   ]
  },
  {
   "cell_type": "code",
   "execution_count": 32,
   "id": "77461e10-fdce-4626-a764-1e90540dd092",
   "metadata": {},
   "outputs": [
    {
     "data": {
      "text/plain": [
       "dict_items([('abc', 1), ('pqr', 2), ('xyz', 3)])"
      ]
     },
     "execution_count": 32,
     "metadata": {},
     "output_type": "execute_result"
    }
   ],
   "source": [
    "d.items()"
   ]
  },
  {
   "cell_type": "raw",
   "id": "010eb8ad-d001-4d39-867b-910c5222d611",
   "metadata": {},
   "source": [
    "6)  Can we create a nested dictionary? If so, please give an example by creating a simple one-level \n",
    "    nested dictionary.\n",
    "    \n",
    ":- Yes, we can create nested dictionary. Below are the example."
   ]
  },
  {
   "cell_type": "code",
   "execution_count": 33,
   "id": "d0fb88fc-5c13-465d-9122-e0d1e69a406b",
   "metadata": {},
   "outputs": [],
   "source": [
    "d1={1 : {'Aeroplane' : 2468, 'Boat' : 4695} }"
   ]
  },
  {
   "cell_type": "code",
   "execution_count": 34,
   "id": "1ae25107-dbf7-44c1-bc78-583ac84930bc",
   "metadata": {},
   "outputs": [
    {
     "data": {
      "text/plain": [
       "{1: {'Aeroplane': 2468, 'Boat': 4695}}"
      ]
     },
     "execution_count": 34,
     "metadata": {},
     "output_type": "execute_result"
    }
   ],
   "source": [
    "d1"
   ]
  },
  {
   "cell_type": "raw",
   "id": "259cc0ae-6ffc-4933-aba5-f58d8b982bb6",
   "metadata": {},
   "source": [
    "7)  Using setdefault() method, create key named topics in the given dictionary and also add the value of \n",
    "    the key as this list ['Python', 'Machine Learning’, 'Deep Learning']\n",
    "    \n",
    ":- "
   ]
  },
  {
   "cell_type": "code",
   "execution_count": 35,
   "id": "ea09deaf-0a92-4407-807e-1f8ce44feba8",
   "metadata": {},
   "outputs": [],
   "source": [
    "dict1 = {'language' : 'Python', 'course': 'Data Science Masters'}"
   ]
  },
  {
   "cell_type": "code",
   "execution_count": 36,
   "id": "c9452ae1-16cb-4648-b4c7-0cf2ee21da8a",
   "metadata": {},
   "outputs": [
    {
     "data": {
      "text/plain": [
       "{'language': 'Python', 'course': 'Data Science Masters'}"
      ]
     },
     "execution_count": 36,
     "metadata": {},
     "output_type": "execute_result"
    }
   ],
   "source": [
    "dict1"
   ]
  },
  {
   "cell_type": "code",
   "execution_count": 43,
   "id": "1bb4fe81-5c43-4a38-8f94-78bbfd8c2792",
   "metadata": {},
   "outputs": [],
   "source": [
    "dict1.setdefault('topics')"
   ]
  },
  {
   "cell_type": "code",
   "execution_count": 44,
   "id": "b843f932-b3c4-4580-8067-952b2d13a927",
   "metadata": {},
   "outputs": [
    {
     "data": {
      "text/plain": [
       "{'language': 'Python', 'course': 'Data Science Masters', 'topics': None}"
      ]
     },
     "execution_count": 44,
     "metadata": {},
     "output_type": "execute_result"
    }
   ],
   "source": [
    "dict1"
   ]
  },
  {
   "cell_type": "code",
   "execution_count": 45,
   "id": "ab0dec3e-5b8b-43b4-a10e-c2695887501f",
   "metadata": {},
   "outputs": [],
   "source": [
    "dict1['topics']=['Python', 'Machine Learning', 'Deep Learning']"
   ]
  },
  {
   "cell_type": "code",
   "execution_count": 46,
   "id": "96ec318b-7e06-48d3-80e4-8feb1dbdcf27",
   "metadata": {},
   "outputs": [
    {
     "data": {
      "text/plain": [
       "{'language': 'Python',\n",
       " 'course': 'Data Science Masters',\n",
       " 'topics': ['Python', 'Machine Learning', 'Deep Learning']}"
      ]
     },
     "execution_count": 46,
     "metadata": {},
     "output_type": "execute_result"
    }
   ],
   "source": [
    "dict1"
   ]
  },
  {
   "cell_type": "raw",
   "id": "406582f3-45a3-43f1-ac67-a25face99c16",
   "metadata": {},
   "source": [
    "8)  What are the three view objects in dictionaries? Use the three in-built methods in python to display \n",
    "    these three view objects for the given dictionary.\n",
    "    \n",
    ":- dict1 = {'Sport': 'Cricket' , 'Teams': ['India', 'Australia', 'England', 'South Africa', 'Sri Lanka', 'New Zealand']}\n",
    "\n",
    "  The main view objects of dictionary in python are keys, values and items."
   ]
  },
  {
   "cell_type": "code",
   "execution_count": 47,
   "id": "25feae36-7c28-444a-9c16-392923b2d44b",
   "metadata": {},
   "outputs": [],
   "source": [
    "dict1 = {'Sport': 'Cricket' , 'Teams': ['India', 'Australia', 'England', 'South Africa', 'Sri Lanka', 'New Zealand']}"
   ]
  },
  {
   "cell_type": "code",
   "execution_count": 48,
   "id": "7f1f2c49-5bf3-45c4-81fb-aa520093c340",
   "metadata": {},
   "outputs": [
    {
     "data": {
      "text/plain": [
       "dict_keys(['Sport', 'Teams'])"
      ]
     },
     "execution_count": 48,
     "metadata": {},
     "output_type": "execute_result"
    }
   ],
   "source": [
    "dict1.keys()"
   ]
  },
  {
   "cell_type": "code",
   "execution_count": 49,
   "id": "6e395c36-fe35-4c0c-8e7d-4a377fdbfd5d",
   "metadata": {},
   "outputs": [
    {
     "data": {
      "text/plain": [
       "dict_values(['Cricket', ['India', 'Australia', 'England', 'South Africa', 'Sri Lanka', 'New Zealand']])"
      ]
     },
     "execution_count": 49,
     "metadata": {},
     "output_type": "execute_result"
    }
   ],
   "source": [
    "dict1.values()"
   ]
  },
  {
   "cell_type": "code",
   "execution_count": 50,
   "id": "0afcc6d6-7d10-49d6-9668-68c6ac374862",
   "metadata": {},
   "outputs": [
    {
     "data": {
      "text/plain": [
       "dict_items([('Sport', 'Cricket'), ('Teams', ['India', 'Australia', 'England', 'South Africa', 'Sri Lanka', 'New Zealand'])])"
      ]
     },
     "execution_count": 50,
     "metadata": {},
     "output_type": "execute_result"
    }
   ],
   "source": [
    "dict1.items()"
   ]
  },
  {
   "cell_type": "code",
   "execution_count": 51,
   "id": "d7469ec4-7e8f-462f-bdc4-8674e11d7837",
   "metadata": {},
   "outputs": [
    {
     "name": "stdout",
     "output_type": "stream",
     "text": [
      "('Sport', 'Cricket')\n",
      "('Teams', ['India', 'Australia', 'England', 'South Africa', 'Sri Lanka', 'New Zealand'])\n"
     ]
    }
   ],
   "source": [
    "for i in dict1.items():\n",
    "    print(i)"
   ]
  },
  {
   "cell_type": "code",
   "execution_count": null,
   "id": "1310f548-c9ac-4f21-81e9-e0c0eee05d44",
   "metadata": {},
   "outputs": [],
   "source": []
  }
 ],
 "metadata": {
  "kernelspec": {
   "display_name": "Python 3 (ipykernel)",
   "language": "python",
   "name": "python3"
  },
  "language_info": {
   "codemirror_mode": {
    "name": "ipython",
    "version": 3
   },
   "file_extension": ".py",
   "mimetype": "text/x-python",
   "name": "python",
   "nbconvert_exporter": "python",
   "pygments_lexer": "ipython3",
   "version": "3.10.8"
  }
 },
 "nbformat": 4,
 "nbformat_minor": 5
}
