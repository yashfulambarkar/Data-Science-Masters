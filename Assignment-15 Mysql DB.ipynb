{
 "cells": [
  {
   "cell_type": "markdown",
   "id": "db3c4481-aeb9-49f8-a8c6-bc5fd94db161",
   "metadata": {},
   "source": [
    "Q1. What is a database? Differentiate between SQL and NoSQL databases."
   ]
  },
  {
   "cell_type": "markdown",
   "id": "4892ca4e-e907-409e-aadb-e4a6306f8548",
   "metadata": {},
   "source": [
    ":- Structured query language (SQL) is a programming language for storing and processing information in a relational database. A relational database stores information in tabular form, with rows and columns representing different data attributes and the various relationships between the data values.\n",
    "\n",
    "|SQL|NoSQL|\n",
    "|:-:|:-:|\n",
    "|RELATIONAL DATABASE MANAGEMENT SYSTEM (RDBMS)|Non-relational or distributed database system.|\n",
    "|These databases have fixed or static or predefined schema|They have dynamic schema.|\n",
    "|These databases are not suited for hierarchical data storage.|These databases are best suited for hierarchical data storage.|\n",
    "|These databases are best suited for complex queries|These databases are not so good for complex queries|\n",
    "|Vertically Scalable|Horizontally scalable|\n",
    "|Follows ACID property|Follows CAP(consistency, availability, partition tolerance)|\n",
    "|Examples: MySQL, PostgreSQL, Oracle, MS-SQL Server, etc|Examples: MongoDB, GraphQL, HBase, Neo4j, Cassandra, etc|"
   ]
  },
  {
   "cell_type": "raw",
   "id": "47aaf44c-fd8e-467e-a59d-c3919d123d73",
   "metadata": {},
   "source": []
  },
  {
   "cell_type": "markdown",
   "id": "b17e5e86-9f66-4303-978d-6ab46b224133",
   "metadata": {},
   "source": [
    "Q2. What is DDL? Explain why CREATE, DROP, ALTER, and TRUNCATE are used with an example."
   ]
  },
  {
   "cell_type": "markdown",
   "id": "70fa7d62-49bc-4129-8e2d-46dd9de47360",
   "metadata": {},
   "source": [
    ":- DDL means Data Defination Langauge. \n",
    "* Create - It is used to create database and its object. Eg :- Create Database db_name;\n",
    "* Drop - It is used to delete database objects. Eg :- Drop Table Tab_name;\n",
    "* Alter - It is used to alter the structure of database. Eg :- Alter Table Tab_name add col_name='xyz';\n",
    "* Truncate - It is used to remove all records from a table, including all spaces allocated for the records are removed.\n",
    "              Eg:- Truncate Table tab_name;"
   ]
  },
  {
   "cell_type": "code",
   "execution_count": null,
   "id": "c47fb92b-21b5-47f7-98e6-ca5f28328aec",
   "metadata": {},
   "outputs": [],
   "source": []
  },
  {
   "cell_type": "markdown",
   "id": "4fb50850-a0dc-4960-a453-b10f5671652a",
   "metadata": {},
   "source": [
    "Q3. What is DML? Explain INSERT, UPDATE, and DELETE with an example."
   ]
  },
  {
   "cell_type": "markdown",
   "id": "74e55911-dd0f-4c31-b343-331eb9c8f328",
   "metadata": {},
   "source": [
    ":- DML - Data Manupulation Langauge.\n",
    "\n",
    "* Insert - It is used to insert a data into a table. Eg :- insert into tab_name values (1, \"abc\", 10/02/2023);\n",
    "* Update - It is used to modify the existing records in a table. Eg :- Update tab_name set col_name='pqr' where col1=2;\n",
    "* Delete - It is used to delete a record in a table. Eg :- Delete from tab_name where col_v=3;"
   ]
  },
  {
   "cell_type": "code",
   "execution_count": null,
   "id": "2729992b-bc9c-41c1-93b1-2434250b9c50",
   "metadata": {},
   "outputs": [],
   "source": []
  },
  {
   "cell_type": "markdown",
   "id": "a26df173-8c35-4ca9-8647-d30c0991bbce",
   "metadata": {},
   "source": [
    "Q4. What is DQL? Explain SELECT with an example."
   ]
  },
  {
   "cell_type": "markdown",
   "id": "58c316e6-7f43-40a2-a641-aed70a7566b1",
   "metadata": {},
   "source": [
    ":- DQL - Data Query Langauge.\n",
    "\n",
    "* The SELECT statement is used to select data from a database.The data returned is stored in a result table, called the result-set.\n",
    "\n",
    "* Eg :- Select * from Tab_name; --> This will gives us all records present in that Table."
   ]
  },
  {
   "cell_type": "code",
   "execution_count": null,
   "id": "e47627ff-be22-46f6-af58-8a84e317d8ff",
   "metadata": {},
   "outputs": [],
   "source": []
  },
  {
   "cell_type": "markdown",
   "id": "86f9bdbb-1966-42e4-8ad8-00f8485e5e76",
   "metadata": {},
   "source": [
    "Q5. Explain Primary Key and Foreign Key."
   ]
  },
  {
   "cell_type": "markdown",
   "id": "7e48d92d-08bc-435d-beb2-0782ec2c53eb",
   "metadata": {},
   "source": [
    "* The PRIMARY KEY constraint uniquely identifies each record in a table. Primary keys must contain UNIQUE values, and cannot contain NULL values.A table can have only ONE primary key; and in the table, this primary key can consist of single or multiple columns (fields).\n",
    "\n",
    "* The FOREIGN KEY constraint is used to prevent actions that would destroy links between tables.A FOREIGN KEY is a field (or collection of fields) in one table, that refers to the PRIMARY KEY in another table.The table with the foreign key is called the child table, and the table with the primary key is called the referenced or parent table."
   ]
  },
  {
   "cell_type": "code",
   "execution_count": null,
   "id": "c13e98fa-3587-4d5e-91ba-533c4f5a1319",
   "metadata": {},
   "outputs": [],
   "source": []
  },
  {
   "cell_type": "markdown",
   "id": "5b9f1d9b-13ec-4e85-8035-555ee93ac2c0",
   "metadata": {},
   "source": [
    "Q6. Write a python code to connect MySQL to python. Explain the cursor() and execute() method."
   ]
  },
  {
   "cell_type": "markdown",
   "id": "c3ee2046-9b4c-41f4-8b67-45bd6b71daa9",
   "metadata": {},
   "source": [
    "import mysql.connector\n",
    "\n",
    "mydb = mysql.connector.connect(\n",
    "        host=\"localhost\",\n",
    "        user=\"abc\",\n",
    "        password=\"password\"\n",
    ")\n",
    "\n",
    "mycursor = mydb.cursor()\n",
    "\n",
    "mycursor.execute({\"Show Database\"})\n",
    "\n",
    "mydb.close()\n",
    "\n",
    "\n",
    "* cursor() --> It is an object that is used to make the connection for executing SQL queries.\n",
    "\n",
    "* exceute() --> It is basically used to run the query and show us result which is stored in variable."
   ]
  },
  {
   "cell_type": "code",
   "execution_count": null,
   "id": "2a39f347-c24d-4d88-9488-58dde8f32630",
   "metadata": {},
   "outputs": [],
   "source": []
  },
  {
   "cell_type": "markdown",
   "id": "376d4afb-98a2-47ac-9293-25e36ce856a2",
   "metadata": {},
   "source": [
    "Q7. Give the order of execution of SQL clauses in an SQL query."
   ]
  },
  {
   "cell_type": "markdown",
   "id": "b6c60891-784e-4643-984b-a1b2f7b75344",
   "metadata": {},
   "source": [
    "* The order in which the clauses in queries are executed is as follows:\n",
    "\n",
    "1. FROM/JOIN: The FROM and/or JOIN clauses are executed first to determine the data of interest.\n",
    "\n",
    "2. WHERE: The WHERE clause is executed to filter out records that do not meet the constraints.\n",
    "\n",
    "3. GROUP BY: The GROUP BY clause is executed to group the data based on the values in one or more columns.\n",
    "\n",
    "4. HAVING: The HAVING clause is executed to remove the created grouped records that don’t meet the constraints.\n",
    "\n",
    "5. SELECT: The SELECT clause is executed to derive all desired columns and expressions.\n",
    "\n",
    "6. ORDER BY: The ORDER BY clause is executed to sort the derived values in ascending or descending order.\n",
    "\n",
    "7. LIMIT/OFFSET: Finally, the LIMIT and/or OFFSET clauses are executed to keep or skip a specified number of rows."
   ]
  },
  {
   "cell_type": "code",
   "execution_count": null,
   "id": "1d5459cd-3175-4c4c-b0b8-a2953717299b",
   "metadata": {},
   "outputs": [],
   "source": []
  }
 ],
 "metadata": {
  "kernelspec": {
   "display_name": "Python 3 (ipykernel)",
   "language": "python",
   "name": "python3"
  },
  "language_info": {
   "codemirror_mode": {
    "name": "ipython",
    "version": 3
   },
   "file_extension": ".py",
   "mimetype": "text/x-python",
   "name": "python",
   "nbconvert_exporter": "python",
   "pygments_lexer": "ipython3",
   "version": "3.10.8"
  }
 },
 "nbformat": 4,
 "nbformat_minor": 5
}
