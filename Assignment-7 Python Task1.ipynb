{
 "cells": [
  {
   "cell_type": "markdown",
   "id": "9ef73327-bc2f-4412-88b8-432a253f44a5",
   "metadata": {},
   "source": [
    "Q1. Create a function which will take a list as an argument and return the product of all the numbers\n",
    "after creating a flat list.\n",
    "\n",
    "Use the below-given list as an argument for your function."
   ]
  },
  {
   "cell_type": "code",
   "execution_count": 1,
   "id": "bf659b1c-ae25-43bc-8b67-f6fdb1b53cdf",
   "metadata": {},
   "outputs": [],
   "source": [
    "list1 = [1,2,3,4, [44,55,66, True], False, (34,56,78,89,34), {1,2,3,3,2,1}, {1:34, \"key2\": [55, 67, 78, 89], 4: (45,\n",
    "22, 61, 34)}, [56, 'data science'], 'Machine Learning']"
   ]
  },
  {
   "cell_type": "code",
   "execution_count": 2,
   "id": "19cc8e28-52e7-408f-bdcc-a9b94cb3132a",
   "metadata": {},
   "outputs": [
    {
     "data": {
      "text/plain": [
       "[1,\n",
       " 2,\n",
       " 3,\n",
       " 4,\n",
       " [44, 55, 66, True],\n",
       " False,\n",
       " (34, 56, 78, 89, 34),\n",
       " {1, 2, 3},\n",
       " {1: 34, 'key2': [55, 67, 78, 89], 4: (45, 22, 61, 34)},\n",
       " [56, 'data science'],\n",
       " 'Machine Learning']"
      ]
     },
     "execution_count": 2,
     "metadata": {},
     "output_type": "execute_result"
    }
   ],
   "source": [
    "list1"
   ]
  },
  {
   "cell_type": "code",
   "execution_count": 3,
   "id": "56a90d2e-e11e-4618-908c-b27eec06744b",
   "metadata": {},
   "outputs": [],
   "source": [
    "from functools import reduce\n",
    "\n",
    "def prod_no(a):\n",
    "    l=[]\n",
    "    for i in a:\n",
    "        if type(i)==int:\n",
    "            l.append(i)\n",
    "        elif type(i)==list or type(i)==tuple or type(i)==set:\n",
    "            for j in i:\n",
    "                if type(j)==int:\n",
    "                    l.append(j)\n",
    "        elif type(i)==dict:\n",
    "            for n in i.items():\n",
    "                if type(n)==tuple:\n",
    "                    for m in n:\n",
    "                        if type(m)==int:\n",
    "                            l.append(m)\n",
    "                        else:\n",
    "                            for p in m:\n",
    "                                if type(p)==int:\n",
    "                                    l.append(p)\n",
    "    print(l)\n",
    "    return reduce(lambda x,y : x*y, l)"
   ]
  },
  {
   "cell_type": "code",
   "execution_count": 4,
   "id": "765dbdb7-9a2b-4891-813a-598e91c1e6dc",
   "metadata": {},
   "outputs": [
    {
     "name": "stdout",
     "output_type": "stream",
     "text": [
      "[1, 2, 3, 4, 44, 55, 66, 34, 56, 78, 89, 34, 1, 2, 3, 1, 34, 55, 67, 78, 89, 4, 45, 22, 61, 34, 56]\n"
     ]
    },
    {
     "data": {
      "text/plain": [
       "4134711838987085478833841242112000"
      ]
     },
     "execution_count": 4,
     "metadata": {},
     "output_type": "execute_result"
    }
   ],
   "source": [
    "prod_no(list1)"
   ]
  },
  {
   "cell_type": "markdown",
   "id": "6b0c784e-75b8-42b3-b2e4-184d19f443cf",
   "metadata": {},
   "source": []
  },
  {
   "cell_type": "markdown",
   "id": "e27da4bf-11ce-4e18-9321-1474ea916eb5",
   "metadata": {},
   "source": [
    "Q2. Write a python program for encrypting a message sent to you by your friend. The logic of encryption\n",
    "should be such that, for a the output should be z. For b, the output should be y. For c, the output should\n",
    "be x respectively. Also, the whitespace should be replaced with a dollar sign. Keep the punctuation\n",
    "marks unchanged.\n",
    "\n",
    "Input Sentence: I want to become a Data Scientist.\n",
    "\n",
    "Encrypt the above input sentence using the program you just created.\n",
    "\n",
    "Note: Convert the given input sentence into lowercase before encrypting. The final output should be\n",
    "lowercase."
   ]
  },
  {
   "cell_type": "code",
   "execution_count": 5,
   "id": "b8a558b8-73a8-4138-a251-c03ef02b6e50",
   "metadata": {},
   "outputs": [],
   "source": [
    "inp_sen='I want to become a Data Scientist.'"
   ]
  },
  {
   "cell_type": "code",
   "execution_count": 6,
   "id": "f04cae7d-b674-4a65-a717-3207b949f4f0",
   "metadata": {},
   "outputs": [],
   "source": [
    "input1='abcdefghijklmnopqrstuvwxyz'"
   ]
  },
  {
   "cell_type": "code",
   "execution_count": 7,
   "id": "80fce58a-2e59-47d8-9068-664fcfb741ed",
   "metadata": {},
   "outputs": [
    {
     "name": "stdout",
     "output_type": "stream",
     "text": [
      "{'a': 0, 'b': 1, 'c': 2, 'd': 3, 'e': 4, 'f': 5, 'g': 6, 'h': 7, 'i': 8, 'j': 9, 'k': 10, 'l': 11, 'm': 12, 'n': 13, 'o': 14, 'p': 15, 'q': 16, 'r': 17, 's': 18, 't': 19, 'u': 20, 'v': 21, 'w': 22, 'x': 23, 'y': 24, 'z': 25}\n"
     ]
    }
   ],
   "source": [
    "d2={}\n",
    "j=0\n",
    "for i in input1:\n",
    "    d2[i]=j\n",
    "    j=j+1\n",
    "print(d2)"
   ]
  },
  {
   "cell_type": "code",
   "execution_count": 8,
   "id": "ae5633ea-8ec6-4ee6-8318-c6f18b7da62c",
   "metadata": {},
   "outputs": [
    {
     "data": {
      "text/plain": [
       "'i want to become a data scientist.'"
      ]
     },
     "execution_count": 8,
     "metadata": {},
     "output_type": "execute_result"
    }
   ],
   "source": [
    "inp_sen.lower()"
   ]
  },
  {
   "cell_type": "code",
   "execution_count": 9,
   "id": "dbe0d535-d27c-4238-9e64-623e3f9e3be4",
   "metadata": {},
   "outputs": [
    {
     "name": "stdout",
     "output_type": "stream",
     "text": [
      "r$dzmg$gl$yvxlnv$z$wzgz$hxrvmgrhg."
     ]
    }
   ],
   "source": [
    "for i in inp_sen.lower():\n",
    "    if i in d2.keys():\n",
    "        print(input1[::-1][d2[i]],end=\"\")\n",
    "    elif i==\" \":\n",
    "        print('$',end=\"\")\n",
    "    elif i=='.':\n",
    "        print('.',end=\"\")"
   ]
  },
  {
   "cell_type": "code",
   "execution_count": null,
   "id": "fcfcc800-3ba4-412a-9bfd-ed036e21a401",
   "metadata": {},
   "outputs": [],
   "source": []
  }
 ],
 "metadata": {
  "kernelspec": {
   "display_name": "Python 3 (ipykernel)",
   "language": "python",
   "name": "python3"
  },
  "language_info": {
   "codemirror_mode": {
    "name": "ipython",
    "version": 3
   },
   "file_extension": ".py",
   "mimetype": "text/x-python",
   "name": "python",
   "nbconvert_exporter": "python",
   "pygments_lexer": "ipython3",
   "version": "3.10.8"
  }
 },
 "nbformat": 4,
 "nbformat_minor": 5
}
