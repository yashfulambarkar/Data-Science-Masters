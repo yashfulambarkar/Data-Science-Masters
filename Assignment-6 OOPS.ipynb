{
 "cells": [
  {
   "cell_type": "markdown",
   "id": "9146e15e-04ba-4206-8cac-4bd238427149",
   "metadata": {},
   "source": [
    "Q1. Explain Class and Object with respect to Object-Oriented Programming. Give a suitable example."
   ]
  },
  {
   "cell_type": "markdown",
   "id": "bdf6f2ad-9aa3-45fa-97a2-bd59f51003ac",
   "metadata": {},
   "source": [
    ":- Class is a blueprint which defines some properties and behaviors. An object is an instance of a class which has those properties and behaviours attached.\n",
    "\n",
    "   A class is not allocated memory when it is defined. An object is allocated memory when it is created."
   ]
  },
  {
   "cell_type": "code",
   "execution_count": 4,
   "id": "80ea926a-71cd-46d8-8c75-12dada82e659",
   "metadata": {},
   "outputs": [],
   "source": [
    "class Mobile:\n",
    "    \n",
    "    def __init__(self, brand, color, price):\n",
    "        self.brand = brand\n",
    "        self.color = color\n",
    "        self.price = price\n",
    "        \n",
    "    def get_mob_spec(self):\n",
    "        return self.brand, self.color, self.price"
   ]
  },
  {
   "cell_type": "code",
   "execution_count": 5,
   "id": "b88f7259-ffe5-4c46-b64a-2ee7c825dc4b",
   "metadata": {},
   "outputs": [],
   "source": [
    "iPhone = Mobile('Apple', 'Starlight', 120000) "
   ]
  },
  {
   "cell_type": "code",
   "execution_count": 7,
   "id": "873815aa-c829-41ed-b131-56b9f5549fbc",
   "metadata": {},
   "outputs": [
    {
     "data": {
      "text/plain": [
       "'Apple'"
      ]
     },
     "execution_count": 7,
     "metadata": {},
     "output_type": "execute_result"
    }
   ],
   "source": [
    "iPhone.brand"
   ]
  },
  {
   "cell_type": "code",
   "execution_count": 8,
   "id": "982e8170-2a05-40f5-a387-2568aa541647",
   "metadata": {},
   "outputs": [
    {
     "data": {
      "text/plain": [
       "'Starlight'"
      ]
     },
     "execution_count": 8,
     "metadata": {},
     "output_type": "execute_result"
    }
   ],
   "source": [
    "iPhone.color"
   ]
  },
  {
   "cell_type": "code",
   "execution_count": 9,
   "id": "42781d2d-e470-49da-8c42-bb5ce1f7f3ce",
   "metadata": {},
   "outputs": [
    {
     "data": {
      "text/plain": [
       "120000"
      ]
     },
     "execution_count": 9,
     "metadata": {},
     "output_type": "execute_result"
    }
   ],
   "source": [
    "iPhone.price"
   ]
  },
  {
   "cell_type": "code",
   "execution_count": 10,
   "id": "e8f311e7-3d28-4fae-a342-a28fa30efe7c",
   "metadata": {},
   "outputs": [
    {
     "data": {
      "text/plain": [
       "('Apple', 'Starlight', 120000)"
      ]
     },
     "execution_count": 10,
     "metadata": {},
     "output_type": "execute_result"
    }
   ],
   "source": [
    "iPhone.get_mob_spec()"
   ]
  },
  {
   "cell_type": "markdown",
   "id": "9c999521-eea6-4abf-9a48-c98ab9bf9fde",
   "metadata": {},
   "source": [
    "Q2. Name the four pillars of OOPs."
   ]
  },
  {
   "cell_type": "markdown",
   "id": "7bf93940-93f7-4480-9fc0-4872de0c0792",
   "metadata": {},
   "source": [
    ":- \"Abstraction\" , \"Encapsulation\", \"Inheritance\", and \"Polymorphism\" this are the 4 pillars of OOPs."
   ]
  },
  {
   "cell_type": "markdown",
   "id": "d377ef2a-eb76-4977-8b69-921c6e3cf9be",
   "metadata": {},
   "source": [
    "Q3. Explain why the __init__() function is used. Give a suitable example."
   ]
  },
  {
   "cell_type": "markdown",
   "id": "7b13cf9d-f05c-4107-9587-b52112b7ce3d",
   "metadata": {},
   "source": [
    ":- __init__() function is basically a constructor, which takes a data while creating an object it will pass to the respective class."
   ]
  },
  {
   "cell_type": "code",
   "execution_count": 11,
   "id": "c4222bdb-5003-4399-a708-50dcb1a1b4c0",
   "metadata": {},
   "outputs": [],
   "source": [
    "class Course:\n",
    "    \n",
    "    def __init__(s, name, programming_lang, tools):\n",
    "        s.name = name\n",
    "        s.programming_lang = programming_lang\n",
    "        s.tools = tools\n",
    "        \n",
    "    def details(s):\n",
    "        return s.name, s.programming_lang, s.tools"
   ]
  },
  {
   "cell_type": "code",
   "execution_count": 13,
   "id": "137cbbcc-3968-4b2b-809e-2bc9737e3a25",
   "metadata": {},
   "outputs": [],
   "source": [
    "Yash = Course('DataScience',['Python','SQL','R','ML','DP'],'Jupyter Notebook')"
   ]
  },
  {
   "cell_type": "code",
   "execution_count": 14,
   "id": "c4692efc-3ee0-4547-94c9-255fb557b4f6",
   "metadata": {},
   "outputs": [
    {
     "data": {
      "text/plain": [
       "('DataScience', ['Python', 'SQL', 'R', 'ML', 'DP'], 'Jupyter Notebook')"
      ]
     },
     "execution_count": 14,
     "metadata": {},
     "output_type": "execute_result"
    }
   ],
   "source": [
    "Yash.details()"
   ]
  },
  {
   "cell_type": "markdown",
   "id": "c147e6d0-e07e-4727-92ee-c7bb6ce75cd3",
   "metadata": {},
   "source": [
    "Q4. Why self is used in OOPs?"
   ]
  },
  {
   "cell_type": "markdown",
   "id": "9a1c484a-0fca-4d5d-86fc-217895d581ea",
   "metadata": {},
   "source": [
    ":- Self is not a keyword it is basically used as a pointer or a reference to the current instance of the class, and is used to access variables that belongs to      the class."
   ]
  },
  {
   "cell_type": "markdown",
   "id": "9386ef44-79f5-4d81-96a2-82a821cefc43",
   "metadata": {},
   "source": [
    "Q5. What is inheritance? Give an example for each type of inheritance."
   ]
  },
  {
   "cell_type": "markdown",
   "id": "05e8430a-ce2b-417b-abf5-fd4e44de4406",
   "metadata": {},
   "source": [
    ":- \"Inheritance\" is defined as the mechanism of inheriting the properties of the base class to the child class."
   ]
  },
  {
   "cell_type": "markdown",
   "id": "99fe2b8b-59c6-4b77-aef2-44ea5eff8ce9",
   "metadata": {},
   "source": [
    "1. Single Inheritance :-"
   ]
  },
  {
   "cell_type": "code",
   "execution_count": 17,
   "id": "20cc50b7-f1ef-46c4-a4ef-3c1bae2dbe0b",
   "metadata": {},
   "outputs": [
    {
     "name": "stdout",
     "output_type": "stream",
     "text": [
      "This is Parent Class.\n",
      "This is Child Class.\n"
     ]
    }
   ],
   "source": [
    "class Parent:\n",
    "    \n",
    "    def fun1(self):\n",
    "        print(\"This is Parent Class.\")\n",
    "        \n",
    "class Child(Parent):\n",
    "    \n",
    "    def fun2(self):\n",
    "        print(\"This is Child Class.\")\n",
    "        \n",
    "o=Child()\n",
    "o.fun1()\n",
    "o.fun2()"
   ]
  },
  {
   "cell_type": "markdown",
   "id": "83bd679e-4d53-4f3f-a601-d0c7e5bc819a",
   "metadata": {},
   "source": [
    "2. Multiple Inheritance :-"
   ]
  },
  {
   "cell_type": "code",
   "execution_count": 21,
   "id": "d5a34713-9857-4496-9b76-c5dfc6538f0c",
   "metadata": {},
   "outputs": [
    {
     "name": "stdout",
     "output_type": "stream",
     "text": [
      "Father name:  Ram\n",
      "Mother name:  Sita\n"
     ]
    }
   ],
   "source": [
    "class Father:\n",
    "    f_name=\"\"\n",
    "    \n",
    "    def father(self):\n",
    "        print(self.f_name)\n",
    "        \n",
    "\n",
    "class Mother:\n",
    "    m_name=\"\"\n",
    "    \n",
    "    def mother(self):\n",
    "        print(self.m_name)\n",
    "        \n",
    "        \n",
    "class Child(Father, Mother):\n",
    "    def Parents(self):\n",
    "        print(\"Father name: \",self.f_name)\n",
    "        print(\"Mother name: \",self.m_name)\n",
    "        \n",
    "obj=Child()\n",
    "obj.f_name=\"Ram\"\n",
    "obj.m_name=\"Sita\"\n",
    "obj.Parents()\n",
    "    "
   ]
  },
  {
   "cell_type": "markdown",
   "id": "b9e8e30a-0a25-411d-9ab9-d65a2fb68243",
   "metadata": {},
   "source": [
    "3. Multilevel Inheritance :-"
   ]
  },
  {
   "cell_type": "code",
   "execution_count": 25,
   "id": "c595becd-6d9a-4ef6-aad1-2ebd846cbb2f",
   "metadata": {},
   "outputs": [
    {
     "name": "stdout",
     "output_type": "stream",
     "text": [
      "Grandfather name : Manohar\n",
      "Father name : Rajesh\n",
      "Son name : Yash\n"
     ]
    }
   ],
   "source": [
    "class Grand_f:\n",
    "    \n",
    "    def __init__(self,g_name):\n",
    "        self.g_name=g_name\n",
    "        \n",
    "class Father_s(Grand_f):\n",
    "    \n",
    "    def __init__(self,f_name,g_name):\n",
    "        self.f_name=f_name\n",
    "        \n",
    "        Grand_f.__init__(self,g_name)\n",
    "    \n",
    "class Son(Father_s):\n",
    "    \n",
    "    def __init__(self,s_name,f_name,g_name):\n",
    "        self.s_name=s_name\n",
    "        \n",
    "        Father_s.__init__(self,f_name,g_name)\n",
    "        \n",
    "    def print_name(self):\n",
    "        print('Grandfather name :', self.g_name)\n",
    "        print(\"Father name :\", self.f_name)\n",
    "        print(\"Son name :\", self.s_name)\n",
    "        \n",
    "        \n",
    "s1=Son(\"Yash\",\"Rajesh\",\"Manohar\")\n",
    "s1.print_name()\n",
    "    \n",
    "    \n",
    "\n",
    "\n",
    "    \n",
    "\n",
    "   "
   ]
  },
  {
   "cell_type": "markdown",
   "id": "32a572f8-4ded-4c09-8f73-218ee6488910",
   "metadata": {},
   "source": [
    "4. Hierarchical Inheritance :-"
   ]
  },
  {
   "cell_type": "code",
   "execution_count": 2,
   "id": "0e724b64-50d5-4592-8775-08c6cee4c76c",
   "metadata": {},
   "outputs": [
    {
     "name": "stdout",
     "output_type": "stream",
     "text": [
      "This is Parent class.\n",
      "This is Child1.\n",
      "This is Parent class.\n",
      "This is Child2.\n"
     ]
    }
   ],
   "source": [
    "class Parent:\n",
    "    def f1(self):\n",
    "        print(\"This is Parent class.\")\n",
    "        \n",
    "class Child1(Parent):\n",
    "    def f2(self):\n",
    "        print(\"This is Child1.\")\n",
    "        \n",
    "class Child2(Parent):\n",
    "    def f3(self):\n",
    "        print(\"This is Child2.\")\n",
    "        \n",
    "        \n",
    "o=Child1()\n",
    "o.f1()\n",
    "o.f2()\n",
    "\n",
    "t=Child2()\n",
    "t.f1()\n",
    "t.f3()"
   ]
  },
  {
   "cell_type": "code",
   "execution_count": null,
   "id": "d3b1742a-db19-4c7f-a6e7-18f683d6cdeb",
   "metadata": {},
   "outputs": [],
   "source": []
  }
 ],
 "metadata": {
  "kernelspec": {
   "display_name": "Python 3 (ipykernel)",
   "language": "python",
   "name": "python3"
  },
  "language_info": {
   "codemirror_mode": {
    "name": "ipython",
    "version": 3
   },
   "file_extension": ".py",
   "mimetype": "text/x-python",
   "name": "python",
   "nbconvert_exporter": "python",
   "pygments_lexer": "ipython3",
   "version": "3.10.8"
  }
 },
 "nbformat": 4,
 "nbformat_minor": 5
}
