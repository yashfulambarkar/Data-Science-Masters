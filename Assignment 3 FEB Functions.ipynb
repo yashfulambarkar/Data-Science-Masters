{
 "cells": [
  {
   "cell_type": "markdown",
   "id": "9a52c059-b7ac-4073-a05e-9a323b8c77da",
   "metadata": {},
   "source": [
    "Q1. Which keyword is used to create a function? Create a function to return a list of odd numbers in the\n",
    "range of 1 to 25.\n",
    "\n",
    ":- def keyword is used to create a function. ex:- def function_name()"
   ]
  },
  {
   "cell_type": "code",
   "execution_count": 13,
   "id": "8959ffbe-260c-4d18-a589-0ec758af9336",
   "metadata": {},
   "outputs": [],
   "source": [
    "def f_odd():\n",
    "    l=[]\n",
    "    for i in range(1,26):\n",
    "        if i%2!=0:\n",
    "            l.append(i)\n",
    "    return l\n",
    "    "
   ]
  },
  {
   "cell_type": "code",
   "execution_count": 14,
   "id": "230bbda3-170d-4478-aa3a-b53a1ec2b2c9",
   "metadata": {},
   "outputs": [
    {
     "data": {
      "text/plain": [
       "[1, 3, 5, 7, 9, 11, 13, 15, 17, 19, 21, 23, 25]"
      ]
     },
     "execution_count": 14,
     "metadata": {},
     "output_type": "execute_result"
    }
   ],
   "source": [
    "f_odd()"
   ]
  },
  {
   "cell_type": "markdown",
   "id": "8104dd08-6151-46f4-922f-aeef74c3fa18",
   "metadata": {},
   "source": [
    "Q2. Why *args and **kwargs is used in some functions? Create a function each for *args and **kwargs to\n",
    "demonstrate their use.\n",
    "\n",
    ":- With *args we can pass any no of arguments to a function. And with **kwargs (keyword arguments) we can pass any no of arguments as key-value pair to any fuction. "
   ]
  },
  {
   "cell_type": "code",
   "execution_count": 8,
   "id": "ec0e0fc4-a988-42e5-bda6-aef6647bcd66",
   "metadata": {},
   "outputs": [],
   "source": [
    "def f1(*args):\n",
    "    return args"
   ]
  },
  {
   "cell_type": "code",
   "execution_count": 9,
   "id": "3deaa279-a7c0-475f-a3ea-d9e7c2115b35",
   "metadata": {},
   "outputs": [
    {
     "data": {
      "text/plain": [
       "(1, 3, 5, 'Ram', 22.6, True, (22, 33, 44, 55), ['a', 'b', 'c'], {1, 5, 9})"
      ]
     },
     "execution_count": 9,
     "metadata": {},
     "output_type": "execute_result"
    }
   ],
   "source": [
    "f1(1, 3, 5, \"Ram\", 22.6, True, (22,33,44,55), ['a','b','c'], {9,5,1} )"
   ]
  },
  {
   "cell_type": "code",
   "execution_count": 11,
   "id": "4868a8c3-2b0b-4c93-ad2a-22622adf5fe1",
   "metadata": {},
   "outputs": [],
   "source": [
    "def f2(**kwargs):\n",
    "    return kwargs"
   ]
  },
  {
   "cell_type": "code",
   "execution_count": 12,
   "id": "ee85bd0e-eee5-45f1-9e11-4fb4847dac53",
   "metadata": {},
   "outputs": [
    {
     "data": {
      "text/plain": [
       "{'a': 2,\n",
       " 'b': 4.5,\n",
       " 'c': 'sh1',\n",
       " 'd': [2, 4, 6, 8],\n",
       " 'e': (1, 3, 5, 7),\n",
       " 'f': False}"
      ]
     },
     "execution_count": 12,
     "metadata": {},
     "output_type": "execute_result"
    }
   ],
   "source": [
    "f2(a=2, b=4.5, c='sh1', d=[2,4,6,8], e=(1,3,5,7), f=False)"
   ]
  },
  {
   "cell_type": "markdown",
   "id": "a03ee2f7-c3ad-4726-b638-90a3814ce3c0",
   "metadata": {},
   "source": [
    "Q3. What is an iterator in python? Name the method used to initialise the iterator object and the method\n",
    "used for iteration. Use these methods to print the first five elements of the given list [2, 4, 6, 8, 10, 12, 14, 16,\n",
    "18, 20]."
   ]
  },
  {
   "cell_type": "markdown",
   "id": "e890b748-0703-45e7-b013-5fcf2b309bdc",
   "metadata": {},
   "source": [
    ":- iterator is an object that contains the countable no of values. An iterator is an object that can be iterated upon, meaning that you can traverse through all the values. Technically, in Python, an iterator is an object which implements the iterator protocol, which consist of the methods __iter__() and __next__() .\n"
   ]
  },
  {
   "cell_type": "code",
   "execution_count": 14,
   "id": "3809f858-b358-4a6b-9b90-11b5d34f56db",
   "metadata": {},
   "outputs": [],
   "source": [
    "list1=[2, 4, 6, 8, 10, 12, 14, 16, 18, 20]"
   ]
  },
  {
   "cell_type": "code",
   "execution_count": 15,
   "id": "33695c0a-1bee-490a-9b20-eb6abf4b7e70",
   "metadata": {},
   "outputs": [],
   "source": [
    "var1=iter(list1)"
   ]
  },
  {
   "cell_type": "code",
   "execution_count": 16,
   "id": "c45f1634-cb6f-416c-b478-832b6d4cf34e",
   "metadata": {},
   "outputs": [
    {
     "name": "stdout",
     "output_type": "stream",
     "text": [
      "2\n",
      "4\n",
      "6\n",
      "8\n",
      "10\n"
     ]
    }
   ],
   "source": [
    "for i in range(5):\n",
    "    print(next(var1))"
   ]
  },
  {
   "cell_type": "markdown",
   "id": "68020145-8b22-4adc-a403-dd5487087706",
   "metadata": {},
   "source": [
    "Q4. What is a generator function in python? Why yield keyword is used? Give an example of a generator\n",
    "function."
   ]
  },
  {
   "cell_type": "markdown",
   "id": "7087a4dc-e37c-4e80-bc0b-9fccc35cd081",
   "metadata": {},
   "source": [
    ":- Generator function allows you to declare a function which behaves like an iterator, allows programmer to make an iterator in a fast, easy and clean way. An iterator is an object that can be iterated or looped upon. It is used to abstract a container of data to make it behave like an iterable object. \"yield\" keyword is used to create a generator function. A type of function that is memory efficient and can be used like an iterator object."
   ]
  },
  {
   "cell_type": "code",
   "execution_count": 9,
   "id": "5995f34d-530c-4833-9a59-28434143df1f",
   "metadata": {},
   "outputs": [],
   "source": [
    "# Fibonacci Series\n",
    "\n",
    "def fun_fib(n):\n",
    "    a,b=0,1\n",
    "    for i in range(n):\n",
    "        yield a\n",
    "        a,b=b,a+b"
   ]
  },
  {
   "cell_type": "code",
   "execution_count": 10,
   "id": "b727ada6-bb09-4f41-b7ea-a4b42de2e5e0",
   "metadata": {},
   "outputs": [
    {
     "data": {
      "text/plain": [
       "<generator object fun_fib at 0x7fe7804d7300>"
      ]
     },
     "execution_count": 10,
     "metadata": {},
     "output_type": "execute_result"
    }
   ],
   "source": [
    "fun_fib(5)"
   ]
  },
  {
   "cell_type": "code",
   "execution_count": 12,
   "id": "d2a6d0aa-1218-44c5-868d-4415f61caf6b",
   "metadata": {},
   "outputs": [
    {
     "name": "stdout",
     "output_type": "stream",
     "text": [
      "0 1 1 2 3 "
     ]
    }
   ],
   "source": [
    "for i in fun_fib(5):\n",
    "    print(i,end=\" \")"
   ]
  },
  {
   "cell_type": "markdown",
   "id": "c66c7e0a-4df1-4f61-b1c3-4de40ef747e4",
   "metadata": {},
   "source": [
    "Q5. Create a generator function for prime numbers less than 1000. Use the next() method to print the\n",
    "first 20 prime numbers."
   ]
  },
  {
   "cell_type": "code",
   "execution_count": 2,
   "id": "01272466-6b30-412d-a4ce-ca83f1345ae3",
   "metadata": {},
   "outputs": [],
   "source": [
    "def fun_pri(n):\n",
    "    if n==0 or n==1:\n",
    "        return False\n",
    "    for i in range(2,n):\n",
    "        if n%i==0:\n",
    "            return False\n",
    "    else:\n",
    "        yield n\n",
    "    "
   ]
  },
  {
   "cell_type": "code",
   "execution_count": 3,
   "id": "a6c2cc29-a5ab-45b6-a61b-fa50022ef85e",
   "metadata": {},
   "outputs": [
    {
     "name": "stdout",
     "output_type": "stream",
     "text": [
      "2 3 5 7 11 13 17 19 23 29 31 37 41 43 47 53 59 61 67 71 73 79 83 89 97 101 103 107 109 113 127 131 137 139 149 151 157 163 167 173 179 181 191 193 197 199 211 223 227 229 233 239 241 251 257 263 269 271 277 281 283 293 307 311 313 317 331 337 347 349 353 359 367 373 379 383 389 397 401 409 419 421 431 433 439 443 449 457 461 463 467 479 487 491 499 503 509 521 523 541 547 557 563 569 571 577 587 593 599 601 607 613 617 619 631 641 643 647 653 659 661 673 677 683 691 701 709 719 727 733 739 743 751 757 761 769 773 787 797 809 811 821 823 827 829 839 853 857 859 863 877 881 883 887 907 911 919 929 937 941 947 953 967 971 977 983 991 997 "
     ]
    }
   ],
   "source": [
    "for i in range(1000):\n",
    "    for j in fun_pri(i):\n",
    "        print(j,end=\" \")"
   ]
  },
  {
   "cell_type": "code",
   "execution_count": 6,
   "id": "c44b936b-b53a-410c-b3e6-ed14944ac1cd",
   "metadata": {},
   "outputs": [
    {
     "name": "stdout",
     "output_type": "stream",
     "text": [
      "[2, 3, 5, 7, 11, 13, 17, 19, 23, 29, 31, 37, 41, 43, 47, 53, 59, 61, 67, 71, 73, 79, 83, 89, 97, 101, 103, 107, 109, 113, 127, 131, 137, 139, 149, 151, 157, 163, 167, 173, 179, 181, 191, 193, 197, 199, 211, 223, 227, 229, 233, 239, 241, 251, 257, 263, 269, 271, 277, 281, 283, 293, 307, 311, 313, 317, 331, 337, 347, 349, 353, 359, 367, 373, 379, 383, 389, 397, 401, 409, 419, 421, 431, 433, 439, 443, 449, 457, 461, 463, 467, 479, 487, 491, 499, 503, 509, 521, 523, 541, 547, 557, 563, 569, 571, 577, 587, 593, 599, 601, 607, 613, 617, 619, 631, 641, 643, 647, 653, 659, 661, 673, 677, 683, 691, 701, 709, 719, 727, 733, 739, 743, 751, 757, 761, 769, 773, 787, 797, 809, 811, 821, 823, 827, 829, 839, 853, 857, 859, 863, 877, 881, 883, 887, 907, 911, 919, 929, 937, 941, 947, 953, 967, 971, 977, 983, 991, 997]\n"
     ]
    }
   ],
   "source": [
    "l3=[]\n",
    "for i in range(1000):\n",
    "    for j in fun_pri(i):\n",
    "        l3.append(j)\n",
    "print(l3)\n",
    "    "
   ]
  },
  {
   "cell_type": "code",
   "execution_count": 10,
   "id": "ffc2da3c-5bf2-401e-a347-e6fd7ad87843",
   "metadata": {},
   "outputs": [],
   "source": [
    "var2=iter(l3)"
   ]
  },
  {
   "cell_type": "code",
   "execution_count": 11,
   "id": "70a59bc1-d2a7-4a8e-8016-46eb83601190",
   "metadata": {},
   "outputs": [
    {
     "name": "stdout",
     "output_type": "stream",
     "text": [
      "2 3 5 7 11 13 17 19 23 29 31 37 41 43 47 53 59 61 67 71 "
     ]
    }
   ],
   "source": [
    "for i in range(20):\n",
    "    print(next(var2),end=\" \")"
   ]
  },
  {
   "cell_type": "code",
   "execution_count": null,
   "id": "d289af03-11c2-4c2c-9793-9fd238941459",
   "metadata": {},
   "outputs": [],
   "source": []
  }
 ],
 "metadata": {
  "kernelspec": {
   "display_name": "Python 3 (ipykernel)",
   "language": "python",
   "name": "python3"
  },
  "language_info": {
   "codemirror_mode": {
    "name": "ipython",
    "version": 3
   },
   "file_extension": ".py",
   "mimetype": "text/x-python",
   "name": "python",
   "nbconvert_exporter": "python",
   "pygments_lexer": "ipython3",
   "version": "3.10.8"
  }
 },
 "nbformat": 4,
 "nbformat_minor": 5
}
