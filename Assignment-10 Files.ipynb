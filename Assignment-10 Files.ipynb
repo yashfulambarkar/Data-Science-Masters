{
 "cells": [
  {
   "cell_type": "markdown",
   "id": "ae0d467c-5460-4206-896d-a3319bfde0fa",
   "metadata": {},
   "source": [
    "Q1. Which function is used to open a file? What are the different modes of opening a file? Explain each mode\n",
    "of file opening."
   ]
  },
  {
   "cell_type": "markdown",
   "id": "65ca16d8-d32e-4182-bd52-0c2f1eeb94f2",
   "metadata": {},
   "source": [
    ":- In Python we use open() method to open a file.\n",
    "\n",
    "syntax:- open(file, mode='r', buffering=-1, encoding=None, errors=None, newline=None, closefd=True, opener=None, )\n",
    "\n",
    "Open file and return a stream. Raise OSError upon failure.\n",
    "\n",
    "Different modes (Character) Meaning :-\n",
    "\n",
    "* 'r' open for reading (default)\n",
    "* 'w' open for writing, truncating the file first\n",
    "* 'x' create a new file and open it for writing\n",
    "* 'a' open for writing, appending to the end of the file if it exists\n",
    "* 'b' binary mode\n",
    "* 't' text mode (default)\n",
    "* '+' open a disk file for updating (reading and writing)\n",
    "* 'U' universal newline mode (deprecated)\n"
   ]
  },
  {
   "cell_type": "code",
   "execution_count": 1,
   "id": "8fa95976-347f-4427-b5cc-27954d4ac917",
   "metadata": {},
   "outputs": [],
   "source": [
    "file = open(\"Test1.txt\",\"w\")"
   ]
  },
  {
   "cell_type": "code",
   "execution_count": 2,
   "id": "9b989ff0-e617-4d9b-b3c4-e11c4c6c4cd1",
   "metadata": {},
   "outputs": [
    {
     "data": {
      "text/plain": [
       "35"
      ]
     },
     "execution_count": 2,
     "metadata": {},
     "output_type": "execute_result"
    }
   ],
   "source": [
    "file.write(\"This is text present inside a file.\")"
   ]
  },
  {
   "cell_type": "code",
   "execution_count": 3,
   "id": "cefe1067-2785-471f-9470-a361d036baa6",
   "metadata": {},
   "outputs": [],
   "source": [
    "file.close()"
   ]
  },
  {
   "cell_type": "code",
   "execution_count": 4,
   "id": "42c63ace-233c-4c1b-ab7e-947b5e82cf8c",
   "metadata": {},
   "outputs": [],
   "source": [
    "f = open(\"Test1.txt\",\"r\")"
   ]
  },
  {
   "cell_type": "code",
   "execution_count": 12,
   "id": "a41c0d0d-9162-4e91-b82f-cf1d98bef873",
   "metadata": {},
   "outputs": [],
   "source": [
    "f1 = f.read()"
   ]
  },
  {
   "cell_type": "code",
   "execution_count": 11,
   "id": "7c35dd60-a65b-4e38-9412-e3245c629a31",
   "metadata": {},
   "outputs": [
    {
     "data": {
      "text/plain": [
       "'This is text present inside a file.'"
      ]
     },
     "execution_count": 11,
     "metadata": {},
     "output_type": "execute_result"
    }
   ],
   "source": [
    "f1"
   ]
  },
  {
   "cell_type": "code",
   "execution_count": null,
   "id": "001c0508-fb99-4852-8cf6-09bc93a8772e",
   "metadata": {},
   "outputs": [],
   "source": []
  },
  {
   "cell_type": "markdown",
   "id": "e7eef991-8afa-40e9-ba2c-9e253a0722ea",
   "metadata": {},
   "source": [
    "Q2. Why close() function is used? Why is it important to close a file?"
   ]
  },
  {
   "cell_type": "markdown",
   "id": "0f88631e-b2d7-44ee-a86e-71b743c86039",
   "metadata": {},
   "source": [
    ":- For ex When we open a file in write (\"w\") mode, after performing operation on file we need to close the file.\n",
    "   Closing the file will free up the resources that were tied to the file. so thats why we use close() function."
   ]
  },
  {
   "cell_type": "code",
   "execution_count": 13,
   "id": "e0cf72b2-414d-4a92-98d1-5ce48fd6f64d",
   "metadata": {},
   "outputs": [],
   "source": [
    "file2 = open(\"Test2.txt\",\"w\")"
   ]
  },
  {
   "cell_type": "code",
   "execution_count": 14,
   "id": "43b017e4-2218-4e11-ac64-69bdfdbac85b",
   "metadata": {},
   "outputs": [
    {
     "data": {
      "text/plain": [
       "30"
      ]
     },
     "execution_count": 14,
     "metadata": {},
     "output_type": "execute_result"
    }
   ],
   "source": [
    "file2.write(\"Hello, You have message here!!\") "
   ]
  },
  {
   "cell_type": "code",
   "execution_count": 15,
   "id": "1bdf83a3-6335-4ce1-987e-32ea40244f34",
   "metadata": {},
   "outputs": [],
   "source": [
    "file2.close()"
   ]
  },
  {
   "cell_type": "code",
   "execution_count": 16,
   "id": "de8acff8-5091-41f9-b6cd-6f8a54bbe2e4",
   "metadata": {},
   "outputs": [],
   "source": [
    "file2 = open(\"Test2.txt\",\"r\")"
   ]
  },
  {
   "cell_type": "code",
   "execution_count": 17,
   "id": "4c286a34-42a1-45f7-9799-7a7cb0e7874a",
   "metadata": {},
   "outputs": [
    {
     "data": {
      "text/plain": [
       "'Hello, You have message here!!'"
      ]
     },
     "execution_count": 17,
     "metadata": {},
     "output_type": "execute_result"
    }
   ],
   "source": [
    "file2.readline()"
   ]
  },
  {
   "cell_type": "code",
   "execution_count": null,
   "id": "4c2b06f9-b9c3-4ef0-b856-9173993e0cd1",
   "metadata": {},
   "outputs": [],
   "source": []
  },
  {
   "cell_type": "markdown",
   "id": "de20ad46-908e-45c0-863d-73517de9cbb8",
   "metadata": {},
   "source": [
    "Q3. Write a python program to create a text file. Write ‘I want to become a Data Scientist’ in that file. Then\n",
    "close the file. Open this file and read the content of the file."
   ]
  },
  {
   "cell_type": "code",
   "execution_count": 18,
   "id": "fe0372c5-d96c-4c83-bf2d-3b19060c508b",
   "metadata": {},
   "outputs": [],
   "source": [
    "f = open(\"File.txt\",\"w\")"
   ]
  },
  {
   "cell_type": "code",
   "execution_count": 19,
   "id": "d9031888-37fa-4bb2-b04a-3925e3859ee7",
   "metadata": {},
   "outputs": [
    {
     "data": {
      "text/plain": [
       "33"
      ]
     },
     "execution_count": 19,
     "metadata": {},
     "output_type": "execute_result"
    }
   ],
   "source": [
    "f.write(\"I want to become a Data Scientist\")"
   ]
  },
  {
   "cell_type": "code",
   "execution_count": 21,
   "id": "eb2e3ab6-49d4-4244-845e-8a7de6c86c95",
   "metadata": {},
   "outputs": [],
   "source": [
    "f.close()"
   ]
  },
  {
   "cell_type": "code",
   "execution_count": 23,
   "id": "7f617592-6af0-4727-8a9b-be6eb8a8b951",
   "metadata": {},
   "outputs": [],
   "source": [
    "f = open(\"File.txt\",\"r\")"
   ]
  },
  {
   "cell_type": "code",
   "execution_count": 24,
   "id": "3bccc951-9062-4296-bf73-cbc6f1028693",
   "metadata": {},
   "outputs": [
    {
     "data": {
      "text/plain": [
       "'I want to become a Data Scientist'"
      ]
     },
     "execution_count": 24,
     "metadata": {},
     "output_type": "execute_result"
    }
   ],
   "source": [
    "f.read()"
   ]
  },
  {
   "cell_type": "code",
   "execution_count": null,
   "id": "3dd6d32b-7829-4b30-af75-f358863b6973",
   "metadata": {},
   "outputs": [],
   "source": []
  },
  {
   "cell_type": "markdown",
   "id": "f19e36ab-7169-436a-ae56-2266e193c397",
   "metadata": {},
   "source": [
    "Q4. Explain the following with python code: read(), readline() and readlines()."
   ]
  },
  {
   "cell_type": "code",
   "execution_count": 1,
   "id": "008e6029-7cf7-47b7-8900-afa852a62d50",
   "metadata": {},
   "outputs": [],
   "source": [
    "f = open(\"Test3.txt\",'w')"
   ]
  },
  {
   "cell_type": "code",
   "execution_count": 2,
   "id": "a566a9d9-8767-4c09-9590-0ddfd98794b5",
   "metadata": {},
   "outputs": [
    {
     "data": {
      "text/plain": [
       "719"
      ]
     },
     "execution_count": 2,
     "metadata": {},
     "output_type": "execute_result"
    }
   ],
   "source": [
    "f.write(\"Data Science Masters course is highly curated and uniquely designed according to the latest industry standards. This program instills students the skills essential to knowledge discovery efforts to identify standard, novel, and truly differentiated solutions and decision-making, including skills in managing, querying, analyzing, visualizing, and extracting meaning from extremely large data sets. This trending program provides students with the statistical, mathematical and computational skills needed to meet the large-scale data science challenges of today's professional world. You will learn all the stack required to work in data science industry including cloud infrastructure and real-time industry projects.\")"
   ]
  },
  {
   "cell_type": "code",
   "execution_count": 3,
   "id": "cafb6108-805d-46bf-bd65-53f971b805ad",
   "metadata": {},
   "outputs": [],
   "source": [
    "f.close()"
   ]
  },
  {
   "cell_type": "code",
   "execution_count": 4,
   "id": "c0d7938c-118d-453f-b51e-884e0db1906a",
   "metadata": {},
   "outputs": [],
   "source": [
    "f = open(\"Test3.txt\",'r')"
   ]
  },
  {
   "cell_type": "code",
   "execution_count": 5,
   "id": "62227080-79d2-40f4-b2ab-055ded023a0e",
   "metadata": {},
   "outputs": [
    {
     "data": {
      "text/plain": [
       "'Data Science Masters course is highly curated and uniquely designed according to the latest industry'"
      ]
     },
     "execution_count": 5,
     "metadata": {},
     "output_type": "execute_result"
    }
   ],
   "source": [
    "# read(n) --> Reads at most n characters from the file. Reads till end of file if it is negative or None.\n",
    "f.read(100)"
   ]
  },
  {
   "cell_type": "code",
   "execution_count": 6,
   "id": "1f167209-ad88-468c-81bc-450e3b439d77",
   "metadata": {},
   "outputs": [
    {
     "data": {
      "text/plain": [
       "' standards. This program instills students the skills essential to knowledge discovery efforts to identify standard, novel, and truly differentiated s'"
      ]
     },
     "execution_count": 6,
     "metadata": {},
     "output_type": "execute_result"
    }
   ],
   "source": [
    "# readline(n=-1) --> Reads and returns one line from the file. Reads in at most n bytes if specified.\n",
    "\n",
    "f.readline(150)"
   ]
  },
  {
   "cell_type": "code",
   "execution_count": 7,
   "id": "7555d63b-4dea-42e7-adcb-80853a002531",
   "metadata": {},
   "outputs": [
    {
     "data": {
      "text/plain": [
       "[\"olutions and decision-making, including skills in managing, querying, analyzing, visualizing, and extracting meaning from extremely large data sets. This trending program provides students with the statistical, mathematical and computational skills needed to meet the large-scale data science challenges of today's professional world. You will learn all the stack required to work in data science industry including cloud infrastructure and real-time industry projects.\"]"
      ]
     },
     "execution_count": 7,
     "metadata": {},
     "output_type": "execute_result"
    }
   ],
   "source": [
    "# readlines(n=-1)\tReads and returns a list of lines from the file. Reads in at most n bytes/characters if specified.\n",
    "f.readlines()"
   ]
  },
  {
   "cell_type": "code",
   "execution_count": null,
   "id": "689ef571-e0e9-425d-a0ac-0cee2c93d9e4",
   "metadata": {},
   "outputs": [],
   "source": []
  },
  {
   "cell_type": "markdown",
   "id": "bc607ac6-2636-4910-83b2-bdc7d0b3f59b",
   "metadata": {},
   "source": [
    "Q5. Explain why with statement is used with open(). What is the advantage of using with statement and\n",
    "open() together?"
   ]
  },
  {
   "cell_type": "markdown",
   "id": "710889b5-4ff9-4731-a880-7ffd9c982b01",
   "metadata": {},
   "source": [
    ":- If we use with statement and open() togeteher then we don't need to call close() method. with statement closes the file for you without you telling to it. Because with statement basically calls two in-build methods behind the scene \"__enter()__\"  and \"__exit()__\"."
   ]
  },
  {
   "cell_type": "code",
   "execution_count": 9,
   "id": "ebd89960-480d-4509-b5ee-4412fd787135",
   "metadata": {},
   "outputs": [],
   "source": [
    "with open(\"Test4.txt\",\"w\") as f:\n",
    "    f.write(\"Hey, This is test file.\")\n"
   ]
  },
  {
   "cell_type": "code",
   "execution_count": 12,
   "id": "587e8aac-2915-4dc5-9791-04b92860067c",
   "metadata": {},
   "outputs": [
    {
     "name": "stdout",
     "output_type": "stream",
     "text": [
      "Hey, This is test file.\n"
     ]
    }
   ],
   "source": [
    "with open(\"Test4.txt\",\"r\") as f:\n",
    "    print(f.read())"
   ]
  },
  {
   "cell_type": "code",
   "execution_count": null,
   "id": "e64ef2dd-b967-4d9c-8931-8d90122a9d78",
   "metadata": {},
   "outputs": [],
   "source": []
  },
  {
   "cell_type": "markdown",
   "id": "925490d4-2202-430c-a498-8b75be6820c9",
   "metadata": {},
   "source": [
    "Q6. Explain the write() and writelines() functions. Give a suitable example."
   ]
  },
  {
   "cell_type": "markdown",
   "id": "8a963cc9-4df2-49c5-b9f9-a3b9dc56e018",
   "metadata": {},
   "source": [
    "write(s) --> Writes the string s to the file and returns the number of characters written.\n",
    "\n",
    "writelines(lines) --> writes the list of lines to the file. "
   ]
  },
  {
   "cell_type": "code",
   "execution_count": 13,
   "id": "a93bccb0-9067-4500-8120-82c1936fc703",
   "metadata": {},
   "outputs": [],
   "source": [
    "fd = open(\"Test5.txt\",'w')"
   ]
  },
  {
   "cell_type": "code",
   "execution_count": 14,
   "id": "37e58502-48e1-4285-9489-19ec9c57a2a7",
   "metadata": {},
   "outputs": [
    {
     "data": {
      "text/plain": [
       "32"
      ]
     },
     "execution_count": 14,
     "metadata": {},
     "output_type": "execute_result"
    }
   ],
   "source": [
    "fd.write(\"Hello, This is a write function.\")"
   ]
  },
  {
   "cell_type": "code",
   "execution_count": 15,
   "id": "9591689d-0526-4947-b935-b5ace7ec4257",
   "metadata": {},
   "outputs": [],
   "source": [
    "fd.writelines(\"This is list of input lines to the file.\")"
   ]
  },
  {
   "cell_type": "code",
   "execution_count": 16,
   "id": "75eaf127-7cbe-4e11-a2e0-c048ae6b55e5",
   "metadata": {},
   "outputs": [],
   "source": [
    "fd.close()"
   ]
  },
  {
   "cell_type": "code",
   "execution_count": 23,
   "id": "7d3d5587-8159-433f-9c1b-cf750b6324f9",
   "metadata": {},
   "outputs": [],
   "source": [
    "fd = open(\"Test5.txt\",'r')"
   ]
  },
  {
   "cell_type": "code",
   "execution_count": 24,
   "id": "c8d616ba-02f5-4770-97a2-e5aedae4f5d7",
   "metadata": {},
   "outputs": [
    {
     "name": "stdout",
     "output_type": "stream",
     "text": [
      "Hello, This is a write function.This is list of input lines to the file.\n"
     ]
    }
   ],
   "source": [
    "print(fd.read())"
   ]
  },
  {
   "cell_type": "code",
   "execution_count": null,
   "id": "e51bbc4f-971b-47e3-8e15-7737a095e86a",
   "metadata": {},
   "outputs": [],
   "source": []
  }
 ],
 "metadata": {
  "kernelspec": {
   "display_name": "Python 3 (ipykernel)",
   "language": "python",
   "name": "python3"
  },
  "language_info": {
   "codemirror_mode": {
    "name": "ipython",
    "version": 3
   },
   "file_extension": ".py",
   "mimetype": "text/x-python",
   "name": "python",
   "nbconvert_exporter": "python",
   "pygments_lexer": "ipython3",
   "version": "3.10.8"
  }
 },
 "nbformat": 4,
 "nbformat_minor": 5
}
