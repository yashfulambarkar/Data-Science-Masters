{
 "cells": [
  {
   "cell_type": "code",
   "execution_count": 1,
   "id": "20e50120-b498-4529-8576-ff0bc439254c",
   "metadata": {},
   "outputs": [],
   "source": [
    "n=3\n",
    "p=2"
   ]
  },
  {
   "cell_type": "code",
   "execution_count": 2,
   "id": "0bcc420b-9ce6-4209-9f67-46a9f4415435",
   "metadata": {},
   "outputs": [],
   "source": [
    "def fun_pow(n,p):\n",
    "    res=n**p\n",
    "    return res"
   ]
  },
  {
   "cell_type": "code",
   "execution_count": 3,
   "id": "6da262d1-c3a6-4400-9b75-9bd632eb7304",
   "metadata": {},
   "outputs": [
    {
     "data": {
      "text/plain": [
       "9"
      ]
     },
     "execution_count": 3,
     "metadata": {},
     "output_type": "execute_result"
    }
   ],
   "source": [
    "fun_pow(3,2)"
   ]
  },
  {
   "cell_type": "markdown",
   "id": "43b0af14-c04f-43cd-9312-7119e6dbaf55",
   "metadata": {},
   "source": [
    "lambda function:- function without a name called as lambda function. It is anonomys function."
   ]
  },
  {
   "cell_type": "code",
   "execution_count": 4,
   "id": "5291c90a-a629-4293-bd93-49ec31f547db",
   "metadata": {},
   "outputs": [
    {
     "data": {
      "text/plain": [
       "<function __main__.<lambda>(x, y)>"
      ]
     },
     "execution_count": 4,
     "metadata": {},
     "output_type": "execute_result"
    }
   ],
   "source": [
    "lambda x,y : x*y"
   ]
  },
  {
   "cell_type": "code",
   "execution_count": 5,
   "id": "93ffe2b1-02ea-489b-adac-0a7e0f9aa8aa",
   "metadata": {},
   "outputs": [],
   "source": [
    "r = lambda x, y : x*y"
   ]
  },
  {
   "cell_type": "code",
   "execution_count": 6,
   "id": "5b76f252-63e3-4c70-8f06-3f43846ad8de",
   "metadata": {},
   "outputs": [
    {
     "data": {
      "text/plain": [
       "24"
      ]
     },
     "execution_count": 6,
     "metadata": {},
     "output_type": "execute_result"
    }
   ],
   "source": [
    "r(6,4)"
   ]
  },
  {
   "cell_type": "code",
   "execution_count": 7,
   "id": "93f7b587-99bf-4211-a7d6-682f5c3440c4",
   "metadata": {},
   "outputs": [],
   "source": [
    "power1 = lambda a, b : a**b"
   ]
  },
  {
   "cell_type": "code",
   "execution_count": 8,
   "id": "2a68346c-0532-487f-afb9-6914c82b91ee",
   "metadata": {},
   "outputs": [
    {
     "data": {
      "text/plain": [
       "256"
      ]
     },
     "execution_count": 8,
     "metadata": {},
     "output_type": "execute_result"
    }
   ],
   "source": [
    "power1(16,2)"
   ]
  },
  {
   "cell_type": "markdown",
   "id": "0486a483-a4e2-4f1a-b24d-89d0b0c50e99",
   "metadata": {},
   "source": [
    "Why Use Lambda Functions?\n",
    "\n",
    ":- The power of lambda is better shown when you use them as an anonymous function inside another function.\n",
    "Say you have a function definition that takes one argument, and that argument will be multiplied with an unknown number:"
   ]
  },
  {
   "cell_type": "code",
   "execution_count": 9,
   "id": "98b29bab-5eb3-4b37-a485-8c0ff7d54a01",
   "metadata": {},
   "outputs": [],
   "source": [
    "def myfun(n):\n",
    "    res1 = lambda a : a*n\n",
    "    return res1"
   ]
  },
  {
   "cell_type": "code",
   "execution_count": 10,
   "id": "bd9fc3e6-e13c-424f-920c-45b882dab800",
   "metadata": {},
   "outputs": [],
   "source": [
    "ans = myfun(3)"
   ]
  },
  {
   "cell_type": "code",
   "execution_count": 11,
   "id": "6ff4dbca-3b5c-4900-8594-fcc3eb73833c",
   "metadata": {},
   "outputs": [
    {
     "data": {
      "text/plain": [
       "33"
      ]
     },
     "execution_count": 11,
     "metadata": {},
     "output_type": "execute_result"
    }
   ],
   "source": [
    "ans(11)"
   ]
  },
  {
   "cell_type": "code",
   "execution_count": 12,
   "id": "676eb154-291c-44cc-8349-5c449a7dfb0d",
   "metadata": {},
   "outputs": [],
   "source": [
    "# division by using lambda:-\n",
    "\n",
    "div = lambda a, b : a/b"
   ]
  },
  {
   "cell_type": "code",
   "execution_count": 13,
   "id": "9c388c78-9ef7-4d01-b884-317133335d4f",
   "metadata": {},
   "outputs": [
    {
     "data": {
      "text/plain": [
       "9.0"
      ]
     },
     "execution_count": 13,
     "metadata": {},
     "output_type": "execute_result"
    }
   ],
   "source": [
    "div(144,16)"
   ]
  },
  {
   "cell_type": "code",
   "execution_count": 18,
   "id": "d431f6b5-67b6-491c-b929-267f8937157b",
   "metadata": {},
   "outputs": [],
   "source": [
    "# degree celcius to degree farhenite.\n",
    "f = lambda c : (c*(9/5))+32"
   ]
  },
  {
   "cell_type": "code",
   "execution_count": 19,
   "id": "43e2e3fa-d62b-45d1-9191-a692d2abb01f",
   "metadata": {},
   "outputs": [
    {
     "data": {
      "text/plain": [
       "105.8"
      ]
     },
     "execution_count": 19,
     "metadata": {},
     "output_type": "execute_result"
    }
   ],
   "source": [
    "f(41)"
   ]
  },
  {
   "cell_type": "code",
   "execution_count": 21,
   "id": "16d59079-8c1f-45c3-b5d5-e4914fa77f9d",
   "metadata": {},
   "outputs": [],
   "source": [
    "# write a fun which gives max from two nos.\n",
    "\n",
    "max_no = lambda a,b : max(a,b)"
   ]
  },
  {
   "cell_type": "code",
   "execution_count": 22,
   "id": "6a2fe168-7b04-46b9-a860-36523c9d2ea4",
   "metadata": {},
   "outputs": [
    {
     "data": {
      "text/plain": [
       "12"
      ]
     },
     "execution_count": 22,
     "metadata": {},
     "output_type": "execute_result"
    }
   ],
   "source": [
    "max_no(12,5)"
   ]
  },
  {
   "cell_type": "code",
   "execution_count": 27,
   "id": "11738e87-295c-48dd-bafc-7e862a06c61e",
   "metadata": {},
   "outputs": [],
   "source": [
    "max_n = lambda p,q : p if p>q else q"
   ]
  },
  {
   "cell_type": "code",
   "execution_count": 28,
   "id": "c4e2d4f6-a69e-490c-91da-c416b457c0d8",
   "metadata": {},
   "outputs": [
    {
     "data": {
      "text/plain": [
       "105"
      ]
     },
     "execution_count": 28,
     "metadata": {},
     "output_type": "execute_result"
    }
   ],
   "source": [
    "max_n(105,102)"
   ]
  },
  {
   "cell_type": "code",
   "execution_count": 23,
   "id": "812c39fa-8b10-4c04-a19c-e82c667defb0",
   "metadata": {},
   "outputs": [],
   "source": [
    "min_no = lambda a,b : min(a,b)"
   ]
  },
  {
   "cell_type": "code",
   "execution_count": 24,
   "id": "3814d3c0-6ef8-4e4c-a52e-f2edefca6b22",
   "metadata": {},
   "outputs": [
    {
     "data": {
      "text/plain": [
       "22"
      ]
     },
     "execution_count": 24,
     "metadata": {},
     "output_type": "execute_result"
    }
   ],
   "source": [
    "min_no(22,44)"
   ]
  },
  {
   "cell_type": "code",
   "execution_count": 25,
   "id": "af3c5a8f-7d13-4688-bc63-6abd1eb73200",
   "metadata": {},
   "outputs": [],
   "source": [
    "avg_n = lambda x,y : (x+y)/2"
   ]
  },
  {
   "cell_type": "code",
   "execution_count": 26,
   "id": "e66dd373-9132-47df-854d-c5b203fe2420",
   "metadata": {},
   "outputs": [
    {
     "data": {
      "text/plain": [
       "17.5"
      ]
     },
     "execution_count": 26,
     "metadata": {},
     "output_type": "execute_result"
    }
   ],
   "source": [
    "avg_n(12,23)"
   ]
  },
  {
   "cell_type": "code",
   "execution_count": 29,
   "id": "8cd868a8-a9ad-415c-9c56-24781518482c",
   "metadata": {},
   "outputs": [],
   "source": [
    "len_s = lambda s : len(s)"
   ]
  },
  {
   "cell_type": "code",
   "execution_count": 31,
   "id": "b1879d39-4e7c-44a4-99ae-fee67c4aa1f1",
   "metadata": {},
   "outputs": [
    {
     "data": {
      "text/plain": [
       "20"
      ]
     },
     "execution_count": 31,
     "metadata": {},
     "output_type": "execute_result"
    }
   ],
   "source": [
    "len_s(\"ouewfhouebbeubeobejf\")"
   ]
  },
  {
   "cell_type": "code",
   "execution_count": 32,
   "id": "acb27fb6-295a-4f56-88c0-0636faa3b8d7",
   "metadata": {},
   "outputs": [
    {
     "data": {
      "text/plain": [
       "13"
      ]
     },
     "execution_count": 32,
     "metadata": {},
     "output_type": "execute_result"
    }
   ],
   "source": [
    "len_s(\"Hello world!!\")"
   ]
  },
  {
   "cell_type": "markdown",
   "id": "2cdf4260-4253-4562-a698-84546ef7f66a",
   "metadata": {},
   "source": [
    "### Map function"
   ]
  },
  {
   "cell_type": "code",
   "execution_count": 1,
   "id": "037affd5-d41b-4051-8a25-c15ef5aebaf9",
   "metadata": {},
   "outputs": [],
   "source": [
    "l=[1,2,3,4,5]"
   ]
  },
  {
   "cell_type": "code",
   "execution_count": 2,
   "id": "2bb9b9e4-ccfb-4083-b7c2-651eda6ea396",
   "metadata": {},
   "outputs": [],
   "source": [
    "def fun_cu(l):\n",
    "    l2=[]\n",
    "    for i in l:\n",
    "        l2.append(i**3)\n",
    "    return l2"
   ]
  },
  {
   "cell_type": "code",
   "execution_count": 3,
   "id": "42bd71ac-70b9-4f2a-899b-db2d2435c377",
   "metadata": {},
   "outputs": [
    {
     "data": {
      "text/plain": [
       "[1, 8, 27, 64, 125]"
      ]
     },
     "execution_count": 3,
     "metadata": {},
     "output_type": "execute_result"
    }
   ],
   "source": [
    "fun_cu(l)"
   ]
  },
  {
   "cell_type": "markdown",
   "id": "43ce9a91-7e76-469a-81a5-c34c1273e90a",
   "metadata": {},
   "source": [
    "Map function :- Make an iterator that computes the function using arguments from each of the iterables. Stops when \n",
    "the shortest iterable is exhausted.\n",
    "\n",
    "Syntax :- map(func, *iterables) --> map object"
   ]
  },
  {
   "cell_type": "code",
   "execution_count": 4,
   "id": "30f2c64c-ecd3-4d49-b4c5-3993877cf88d",
   "metadata": {},
   "outputs": [],
   "source": [
    "def cube_f(i):\n",
    "    return i**3"
   ]
  },
  {
   "cell_type": "code",
   "execution_count": 5,
   "id": "354a1d58-bad3-48f4-99ce-38ad5eddc7c4",
   "metadata": {},
   "outputs": [
    {
     "data": {
      "text/plain": [
       "[1, 2, 3, 4, 5]"
      ]
     },
     "execution_count": 5,
     "metadata": {},
     "output_type": "execute_result"
    }
   ],
   "source": [
    "l"
   ]
  },
  {
   "cell_type": "code",
   "execution_count": 7,
   "id": "31e98c6b-383d-4941-8996-c53cbbdeb2c3",
   "metadata": {},
   "outputs": [
    {
     "data": {
      "text/plain": [
       "<map at 0x7f7084886cb0>"
      ]
     },
     "execution_count": 7,
     "metadata": {},
     "output_type": "execute_result"
    }
   ],
   "source": [
    "map(cube_f, l) # this gives us a map object."
   ]
  },
  {
   "cell_type": "code",
   "execution_count": 8,
   "id": "d60f3d2b-c2bc-4ada-ba95-195a6fc35b1b",
   "metadata": {},
   "outputs": [
    {
     "data": {
      "text/plain": [
       "[1, 8, 27, 64, 125]"
      ]
     },
     "execution_count": 8,
     "metadata": {},
     "output_type": "execute_result"
    }
   ],
   "source": [
    "list(map(cube_f, l))"
   ]
  },
  {
   "cell_type": "code",
   "execution_count": 9,
   "id": "b04067be-8994-4398-92b2-c66d134f1cf7",
   "metadata": {},
   "outputs": [
    {
     "data": {
      "text/plain": [
       "[1, 8, 27, 64, 125]"
      ]
     },
     "execution_count": 9,
     "metadata": {},
     "output_type": "execute_result"
    }
   ],
   "source": [
    "list(map( lambda i : i**3, l))"
   ]
  },
  {
   "cell_type": "code",
   "execution_count": 10,
   "id": "b3335acf-ba27-4ade-8db6-fd951f46aa5e",
   "metadata": {},
   "outputs": [
    {
     "data": {
      "text/plain": [
       "(1, 4, 9, 16, 25)"
      ]
     },
     "execution_count": 10,
     "metadata": {},
     "output_type": "execute_result"
    }
   ],
   "source": [
    "tuple(map(lambda i : i**2, l))"
   ]
  },
  {
   "cell_type": "code",
   "execution_count": 11,
   "id": "42397b77-72b5-42f1-acab-73d7183ee2a2",
   "metadata": {},
   "outputs": [
    {
     "data": {
      "text/plain": [
       "('1', '2', '3', '4', '5')"
      ]
     },
     "execution_count": 11,
     "metadata": {},
     "output_type": "execute_result"
    }
   ],
   "source": [
    "tuple(map(lambda j : str(j), l))"
   ]
  },
  {
   "cell_type": "code",
   "execution_count": 28,
   "id": "d946102b-3f41-45e6-90ea-13138aa21520",
   "metadata": {},
   "outputs": [],
   "source": [
    "l5=[1,2,3,4,5]\n",
    "l6=[0,9,8,7,6]"
   ]
  },
  {
   "cell_type": "code",
   "execution_count": 29,
   "id": "6a1689ba-b292-4455-827f-e5083fbf1848",
   "metadata": {},
   "outputs": [],
   "source": [
    "def add_l(l5,l6):\n",
    "    lf=[]\n",
    "    for i in range(5):\n",
    "        lr=l5[i]+l6[i]\n",
    "        lf.append(lr)\n",
    "    return lf\n",
    "        "
   ]
  },
  {
   "cell_type": "code",
   "execution_count": 22,
   "id": "3bd486b8-4535-41e2-b7c6-414374b5575b",
   "metadata": {},
   "outputs": [
    {
     "data": {
      "text/plain": [
       "[1, 11, 11, 11, 11]"
      ]
     },
     "execution_count": 22,
     "metadata": {},
     "output_type": "execute_result"
    }
   ],
   "source": [
    "add_l(l5,l6)"
   ]
  },
  {
   "cell_type": "code",
   "execution_count": 31,
   "id": "c209cccf-0dc1-4536-b7d1-49f0b08cd6fd",
   "metadata": {},
   "outputs": [
    {
     "data": {
      "text/plain": [
       "[1, 11, 11, 11, 11]"
      ]
     },
     "execution_count": 31,
     "metadata": {},
     "output_type": "execute_result"
    }
   ],
   "source": [
    "list(map(lambda a,b : a+b , l5,l6))"
   ]
  },
  {
   "cell_type": "code",
   "execution_count": 32,
   "id": "91d403af-b914-4e4d-8011-8e35f4e92662",
   "metadata": {},
   "outputs": [],
   "source": [
    "l7=[99,77,55,33]\n",
    "l8=[11,22,44,10]"
   ]
  },
  {
   "cell_type": "code",
   "execution_count": 33,
   "id": "40a83dda-1395-4a78-8813-ac71564ea63d",
   "metadata": {},
   "outputs": [
    {
     "data": {
      "text/plain": [
       "[88, 55, 11, 23]"
      ]
     },
     "execution_count": 33,
     "metadata": {},
     "output_type": "execute_result"
    }
   ],
   "source": [
    "list(map(lambda x,y: x-y ,l7,l8))"
   ]
  },
  {
   "cell_type": "code",
   "execution_count": 34,
   "id": "09cb774a-c745-43da-8367-d5290556e4cf",
   "metadata": {},
   "outputs": [],
   "source": [
    "m = lambda x,y : x*y"
   ]
  },
  {
   "cell_type": "code",
   "execution_count": 37,
   "id": "69bdc40c-d88b-4625-92e4-d78eb501c638",
   "metadata": {},
   "outputs": [
    {
     "name": "stdout",
     "output_type": "stream",
     "text": [
      "[1, 2, 3, 4, 5]\n",
      "[0, 9, 8, 7, 6]\n"
     ]
    }
   ],
   "source": [
    "print(l5)\n",
    "print(l6)"
   ]
  },
  {
   "cell_type": "code",
   "execution_count": 35,
   "id": "b7eb8e60-5c5d-4120-9764-599283feffac",
   "metadata": {},
   "outputs": [
    {
     "data": {
      "text/plain": [
       "(0, 18, 24, 28, 30)"
      ]
     },
     "execution_count": 35,
     "metadata": {},
     "output_type": "execute_result"
    }
   ],
   "source": [
    "tuple(map(m, l5,l6))"
   ]
  },
  {
   "cell_type": "code",
   "execution_count": 38,
   "id": "f06cc813-72a4-427f-8dcb-54589b45bc9a",
   "metadata": {},
   "outputs": [],
   "source": [
    "st1='pwskills'"
   ]
  },
  {
   "cell_type": "code",
   "execution_count": 39,
   "id": "83b56265-06dd-43c1-b01d-5e41644df100",
   "metadata": {},
   "outputs": [],
   "source": [
    "r=lambda i: i.upper()"
   ]
  },
  {
   "cell_type": "code",
   "execution_count": 40,
   "id": "e0aa8fe9-0720-46a6-b788-9ccc357163aa",
   "metadata": {},
   "outputs": [
    {
     "data": {
      "text/plain": [
       "['P', 'W', 'S', 'K', 'I', 'L', 'L', 'S']"
      ]
     },
     "execution_count": 40,
     "metadata": {},
     "output_type": "execute_result"
    }
   ],
   "source": [
    "list(map(r, st1))"
   ]
  },
  {
   "cell_type": "markdown",
   "id": "f586e552-19f7-4e86-80c8-c56287fbfc67",
   "metadata": {},
   "source": [
    "### Reduce Function"
   ]
  },
  {
   "cell_type": "markdown",
   "id": "813190d5-e91e-44c0-8856-8087ed574b32",
   "metadata": {},
   "source": [
    "Docstring:\n",
    "reduce(function, iterable[, initial]) -> value\n",
    "\n",
    "Apply a function of two arguments cumulatively to the items of a sequence\n",
    "or iterable, from left to right, so as to reduce the iterable to a single\n",
    "value.  For example, reduce(lambda x, y: x+y, [1, 2, 3, 4, 5]) calculates\n",
    "((((1+2)+3)+4)+5).  If initial is present, it is placed before the items\n",
    "of the iterable in the calculation, and serves as a default when the\n",
    "iterable is empty.\n",
    "Type:      builtin_function_or_method"
   ]
  },
  {
   "cell_type": "code",
   "execution_count": 42,
   "id": "32be0283-d63a-4084-9a55-3d9e3285be61",
   "metadata": {},
   "outputs": [],
   "source": [
    "from functools import reduce"
   ]
  },
  {
   "cell_type": "code",
   "execution_count": 45,
   "id": "d0355fb9-9d73-4d04-b7ee-b8d5b5d6b1cf",
   "metadata": {},
   "outputs": [
    {
     "data": {
      "text/plain": [
       "15"
      ]
     },
     "execution_count": 45,
     "metadata": {},
     "output_type": "execute_result"
    }
   ],
   "source": [
    "reduce(lambda x,y : x+y, [1,2,3,4,5])"
   ]
  },
  {
   "cell_type": "code",
   "execution_count": 49,
   "id": "4ad9c46d-903a-4963-bba8-8d20c64779b0",
   "metadata": {},
   "outputs": [],
   "source": [
    "l10=[1,2,3,4,5,6,7,8,9,10]"
   ]
  },
  {
   "cell_type": "code",
   "execution_count": 50,
   "id": "c1f5cc0d-0a66-42ef-8be5-47223598059a",
   "metadata": {},
   "outputs": [
    {
     "data": {
      "text/plain": [
       "3628800"
      ]
     },
     "execution_count": 50,
     "metadata": {},
     "output_type": "execute_result"
    }
   ],
   "source": [
    "reduce(lambda a,b : a*b, l10)"
   ]
  },
  {
   "cell_type": "code",
   "execution_count": 51,
   "id": "c9b2f336-bd27-434e-97c4-6816fabe0de1",
   "metadata": {},
   "outputs": [
    {
     "ename": "TypeError",
     "evalue": "reduce() of empty iterable with no initial value",
     "output_type": "error",
     "traceback": [
      "\u001b[0;31m---------------------------------------------------------------------------\u001b[0m",
      "\u001b[0;31mTypeError\u001b[0m                                 Traceback (most recent call last)",
      "Cell \u001b[0;32mIn[51], line 1\u001b[0m\n\u001b[0;32m----> 1\u001b[0m \u001b[43mreduce\u001b[49m\u001b[43m(\u001b[49m\u001b[38;5;28;43;01mlambda\u001b[39;49;00m\u001b[43m \u001b[49m\u001b[43ma\u001b[49m\u001b[43m,\u001b[49m\u001b[43mb\u001b[49m\u001b[43m \u001b[49m\u001b[43m:\u001b[49m\u001b[43ma\u001b[49m\u001b[38;5;241;43m+\u001b[39;49m\u001b[43mb\u001b[49m\u001b[43m,\u001b[49m\u001b[43m \u001b[49m\u001b[43m[\u001b[49m\u001b[43m]\u001b[49m\u001b[43m)\u001b[49m\n",
      "\u001b[0;31mTypeError\u001b[0m: reduce() of empty iterable with no initial value"
     ]
    }
   ],
   "source": [
    "reduce(lambda a,b :a+b, [])"
   ]
  },
  {
   "cell_type": "code",
   "execution_count": 53,
   "id": "6b74fc3f-d07c-4452-aea8-faf352cbd8f9",
   "metadata": {},
   "outputs": [
    {
     "data": {
      "text/plain": [
       "1"
      ]
     },
     "execution_count": 53,
     "metadata": {},
     "output_type": "execute_result"
    }
   ],
   "source": [
    "reduce(lambda i,j : i+j , [1]) # exceptional condition."
   ]
  },
  {
   "cell_type": "code",
   "execution_count": 54,
   "id": "b50253de-a04f-4e2b-9466-9d3e7032629a",
   "metadata": {},
   "outputs": [],
   "source": [
    "lll=[2,23,55,77,33,44,99,26,87]"
   ]
  },
  {
   "cell_type": "code",
   "execution_count": 57,
   "id": "ce28225a-db71-4bdc-a05c-9e541d5305fe",
   "metadata": {},
   "outputs": [
    {
     "data": {
      "text/plain": [
       "99"
      ]
     },
     "execution_count": 57,
     "metadata": {},
     "output_type": "execute_result"
    }
   ],
   "source": [
    "# Max element from list.\n",
    "reduce(lambda x,y : x if x>y else y,lll)"
   ]
  },
  {
   "cell_type": "code",
   "execution_count": 58,
   "id": "bf2e5a3e-e524-492f-886d-fa3926e54dee",
   "metadata": {},
   "outputs": [
    {
     "data": {
      "text/plain": [
       "2"
      ]
     },
     "execution_count": 58,
     "metadata": {},
     "output_type": "execute_result"
    }
   ],
   "source": [
    "# Min element from list.\n",
    "reduce(lambda a,b : a if a<b else b,lll)"
   ]
  },
  {
   "cell_type": "markdown",
   "id": "114f1114-c1c7-4e5d-81b7-a88ece9df14f",
   "metadata": {},
   "source": [
    "### Filter Function"
   ]
  },
  {
   "cell_type": "markdown",
   "id": "7af2d95d-b8a7-42d0-a3e3-27f7f674663e",
   "metadata": {},
   "source": [
    "Init signature: filter(self, /, *args, **kwargs)\n",
    "\n",
    "Docstring: filter(function or None, iterable) --> filter object\n",
    "\n",
    "Return an iterator yielding those items of iterable for which function(item)\n",
    "is true. If function is None, return the items that are true.\n",
    "Type:           type\n",
    "Subclasses:     "
   ]
  },
  {
   "cell_type": "code",
   "execution_count": 62,
   "id": "13f41534-d2c1-4ce1-a55d-2fbc6a11cbde",
   "metadata": {},
   "outputs": [
    {
     "data": {
      "text/plain": [
       "[2, 23, 55, 77, 33, 44, 99, 26, 87]"
      ]
     },
     "execution_count": 62,
     "metadata": {},
     "output_type": "execute_result"
    }
   ],
   "source": [
    "lll"
   ]
  },
  {
   "cell_type": "code",
   "execution_count": 63,
   "id": "11543faf-edfc-44ed-b4f2-d89030db928d",
   "metadata": {},
   "outputs": [
    {
     "data": {
      "text/plain": [
       "<filter at 0x7f70805db9a0>"
      ]
     },
     "execution_count": 63,
     "metadata": {},
     "output_type": "execute_result"
    }
   ],
   "source": [
    "filter(lambda x : x%2==0, lll)"
   ]
  },
  {
   "cell_type": "code",
   "execution_count": 65,
   "id": "ac9375c5-16b4-4dfb-856f-ed7d690a20d8",
   "metadata": {},
   "outputs": [
    {
     "data": {
      "text/plain": [
       "[2, 44, 26]"
      ]
     },
     "execution_count": 65,
     "metadata": {},
     "output_type": "execute_result"
    }
   ],
   "source": [
    "# Filter only even no's\n",
    "list(filter(lambda x : x%2==0, lll))"
   ]
  },
  {
   "cell_type": "code",
   "execution_count": 67,
   "id": "16fc480b-ff5a-4b0b-bab8-291e37f9c64e",
   "metadata": {},
   "outputs": [
    {
     "data": {
      "text/plain": [
       "[23, 55, 77, 33, 99, 87]"
      ]
     },
     "execution_count": 67,
     "metadata": {},
     "output_type": "execute_result"
    }
   ],
   "source": [
    "# filter only odd no's\n",
    "list(filter(lambda j : j%2!=0, lll))"
   ]
  },
  {
   "cell_type": "code",
   "execution_count": 68,
   "id": "556163eb-aadd-4fba-86b7-d70bcc1e9152",
   "metadata": {},
   "outputs": [],
   "source": [
    "l9=['Mom','Child','Dad','Grandpa','Gradma']"
   ]
  },
  {
   "cell_type": "code",
   "execution_count": 69,
   "id": "3b3212bd-0860-40a9-9847-f51db4b9a2f6",
   "metadata": {},
   "outputs": [
    {
     "data": {
      "text/plain": [
       "['Mom', 'Dad']"
      ]
     },
     "execution_count": 69,
     "metadata": {},
     "output_type": "execute_result"
    }
   ],
   "source": [
    "list(filter(lambda i : len(i)==3, l9))"
   ]
  },
  {
   "cell_type": "code",
   "execution_count": 70,
   "id": "a247b87f-96ff-4d99-a71e-a92d4394639d",
   "metadata": {},
   "outputs": [],
   "source": [
    "lo=[1,-4,6,-3,0,-2,-5]"
   ]
  },
  {
   "cell_type": "code",
   "execution_count": 75,
   "id": "340a191e-3fa7-40cb-aa2f-6e13aec2f50e",
   "metadata": {},
   "outputs": [
    {
     "data": {
      "text/plain": [
       "[1, 6, 0]"
      ]
     },
     "execution_count": 75,
     "metadata": {},
     "output_type": "execute_result"
    }
   ],
   "source": [
    "# filter only positive no from a given list .\n",
    "list(filter(lambda i : i>=0, lo))"
   ]
  },
  {
   "cell_type": "code",
   "execution_count": 76,
   "id": "2bb4fbbe-2394-49e1-bf4c-05d36deb646d",
   "metadata": {},
   "outputs": [
    {
     "data": {
      "text/plain": [
       "(-4, -3, -2, -5)"
      ]
     },
     "execution_count": 76,
     "metadata": {},
     "output_type": "execute_result"
    }
   ],
   "source": [
    "# filter only negative no from a given list and convert it in tuple.\n",
    "tuple(filter(lambda i : i<0, lo))"
   ]
  },
  {
   "cell_type": "code",
   "execution_count": 77,
   "id": "25c15876-771c-4d3d-a46f-17a755c86c47",
   "metadata": {},
   "outputs": [
    {
     "data": {
      "text/plain": [
       "['Mom', 'Child', 'Dad', 'Grandpa', 'Gradma']"
      ]
     },
     "execution_count": 77,
     "metadata": {},
     "output_type": "execute_result"
    }
   ],
   "source": [
    "l9"
   ]
  },
  {
   "cell_type": "code",
   "execution_count": 80,
   "id": "950170db-47b4-4d66-9562-f2af54709710",
   "metadata": {},
   "outputs": [
    {
     "data": {
      "text/plain": [
       "['Mom', 'Child', 'Dad']"
      ]
     },
     "execution_count": 80,
     "metadata": {},
     "output_type": "execute_result"
    }
   ],
   "source": [
    "list(filter(lambda i : len(i)<=5, l9))"
   ]
  },
  {
   "cell_type": "code",
   "execution_count": null,
   "id": "64a720de-4c00-4ad5-b3b2-a107d86b8e3d",
   "metadata": {},
   "outputs": [],
   "source": []
  }
 ],
 "metadata": {
  "kernelspec": {
   "display_name": "Python 3 (ipykernel)",
   "language": "python",
   "name": "python3"
  },
  "language_info": {
   "codemirror_mode": {
    "name": "ipython",
    "version": 3
   },
   "file_extension": ".py",
   "mimetype": "text/x-python",
   "name": "python",
   "nbconvert_exporter": "python",
   "pygments_lexer": "ipython3",
   "version": "3.10.8"
  }
 },
 "nbformat": 4,
 "nbformat_minor": 5
}
