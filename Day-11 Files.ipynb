{
 "cells": [
  {
   "cell_type": "markdown",
   "id": "5feae8e0-4e15-4aa4-8beb-f2a0ad34aa5e",
   "metadata": {},
   "source": [
    "Working with files:-\n",
    "\n",
    "syntax:- open(file, mode='r', buffering=-1, encoding=None,\n",
    "    errors=None,\n",
    "    newline=None,\n",
    "    closefd=True,\n",
    "    opener=None, )\n",
    "\n",
    "Open file and return a stream.  Raise OSError upon failure.\n",
    "\n",
    "Character      Meaning\n",
    "\n",
    "* 'r'       open for reading (default)\n",
    "* 'w'       open for writing, truncating the file first\n",
    "* 'x'       create a new file and open it for writing\n",
    "* 'a'       open for writing, appending to the end of the file if it exists\n",
    "* 'b'       binary mode\n",
    "* 't'       text mode (default)\n",
    "* '+'       open a disk file for updating (reading and writing)\n",
    "* 'U'       universal newline mode (deprecated)\n"
   ]
  },
  {
   "cell_type": "code",
   "execution_count": 2,
   "id": "71d5d42a-de1b-4299-916a-0e1c607fcb50",
   "metadata": {},
   "outputs": [],
   "source": [
    "f = open('test.txt', 'w')"
   ]
  },
  {
   "cell_type": "code",
   "execution_count": 3,
   "id": "390aad93-6694-4ec8-baf8-1de3f4311dd5",
   "metadata": {},
   "outputs": [
    {
     "data": {
      "text/plain": [
       "'/home/jovyan/work'"
      ]
     },
     "execution_count": 3,
     "metadata": {},
     "output_type": "execute_result"
    }
   ],
   "source": [
    "pwd"
   ]
  },
  {
   "cell_type": "code",
   "execution_count": 4,
   "id": "6edeffa5-909a-4478-ab98-9a9b11285a7d",
   "metadata": {},
   "outputs": [
    {
     "name": "stdout",
     "output_type": "stream",
     "text": [
      " 1_Python_Programming_Language_Overview.ipynb\n",
      " \u001b[0m\u001b[01;34mAssignments\u001b[0m/\n",
      "'Day-10 Decorator, Static Class.ipynb'\n",
      "'Day-11 Files.ipynb'\n",
      "'Day1 -Data Science MAsters.ipynb'\n",
      " Day-1.ipynb\n",
      " Day-2.ipynb\n",
      " Day-3.ipynb\n",
      "'Day 3- Python Operators and Lists (1).ipynb'\n",
      "'Day - 4.ipynb'\n",
      "'Day-4 Strings List.ipynb'\n",
      " Day-5.ipynb\n",
      "'Day-6 Functions.ipynb'\n",
      "'Day-7 Lambda & Map Function.ipynb'\n",
      "'Day-8, 9 OOPs.ipynb'\n",
      " README.md\n",
      " sample-code.ipynb\n",
      " test.txt\n",
      " Untitled1.ipynb\n",
      " Untitled.ipynb\n"
     ]
    }
   ],
   "source": [
    "ls"
   ]
  },
  {
   "cell_type": "code",
   "execution_count": 5,
   "id": "518bbc4d-b06b-4bc7-9b65-9984da5bfaa2",
   "metadata": {},
   "outputs": [],
   "source": [
    "mkdir TestFiles"
   ]
  },
  {
   "cell_type": "code",
   "execution_count": 6,
   "id": "01ff8037-fc7f-42a3-a3a4-06221eb6cf40",
   "metadata": {},
   "outputs": [
    {
     "name": "stdout",
     "output_type": "stream",
     "text": [
      "/home/jovyan/work/TestFiles\n"
     ]
    }
   ],
   "source": [
    "cd TestFiles/"
   ]
  },
  {
   "cell_type": "code",
   "execution_count": 7,
   "id": "8506f796-f51e-4adb-9851-97de635d929f",
   "metadata": {},
   "outputs": [],
   "source": [
    "ls"
   ]
  },
  {
   "cell_type": "code",
   "execution_count": 8,
   "id": "497a16e7-7f6c-4df9-93df-dfef38b59eb8",
   "metadata": {},
   "outputs": [],
   "source": [
    "f = open('test.txt','w')"
   ]
  },
  {
   "cell_type": "code",
   "execution_count": 9,
   "id": "70499359-32d6-4c3e-a610-4226592a890f",
   "metadata": {},
   "outputs": [
    {
     "data": {
      "text/plain": [
       "32"
      ]
     },
     "execution_count": 9,
     "metadata": {},
     "output_type": "execute_result"
    }
   ],
   "source": [
    "f.write(\"This is my first write on files.\")"
   ]
  },
  {
   "cell_type": "code",
   "execution_count": 10,
   "id": "77ca9f7a-88a7-40df-96c1-0e054c424326",
   "metadata": {},
   "outputs": [],
   "source": [
    "f.close()"
   ]
  },
  {
   "cell_type": "code",
   "execution_count": 33,
   "id": "96adf8ca-80b3-4e72-9706-aba0ad001136",
   "metadata": {},
   "outputs": [],
   "source": [
    "f1 = open('test1.txt','a')"
   ]
  },
  {
   "cell_type": "code",
   "execution_count": 18,
   "id": "d6b844b4-55fb-41e8-af26-82886fd9f14f",
   "metadata": {},
   "outputs": [
    {
     "name": "stdout",
     "output_type": "stream",
     "text": [
      "test1.txt  test.txt  test.txt1\n"
     ]
    }
   ],
   "source": [
    "ls"
   ]
  },
  {
   "cell_type": "code",
   "execution_count": 19,
   "id": "cef58e18-c9a6-4ec9-a8e8-09d7d077e7c9",
   "metadata": {},
   "outputs": [],
   "source": [
    "rm test.txt1"
   ]
  },
  {
   "cell_type": "code",
   "execution_count": 31,
   "id": "43f9c001-1407-4c7c-8e4b-c1662475497a",
   "metadata": {},
   "outputs": [
    {
     "data": {
      "text/plain": [
       "71"
      ]
     },
     "execution_count": 31,
     "metadata": {},
     "output_type": "execute_result"
    }
   ],
   "source": [
    "f1.write(\" This is new test file. Here you can see the test materials available. \")"
   ]
  },
  {
   "cell_type": "code",
   "execution_count": 32,
   "id": "4692d052-bc01-4d07-9582-9b240d622c0b",
   "metadata": {},
   "outputs": [],
   "source": [
    "f1.close()"
   ]
  },
  {
   "cell_type": "code",
   "execution_count": 34,
   "id": "96ee561b-3fa0-4d33-a0eb-c69be62e0362",
   "metadata": {},
   "outputs": [
    {
     "data": {
      "text/plain": [
       "32"
      ]
     },
     "execution_count": 34,
     "metadata": {},
     "output_type": "execute_result"
    }
   ],
   "source": [
    "f1.write(\" Hello There !!. We meet again. \")"
   ]
  },
  {
   "cell_type": "code",
   "execution_count": 35,
   "id": "b7ba6919-1b8b-4765-ab90-2a8cf9fd92af",
   "metadata": {},
   "outputs": [],
   "source": [
    "f1.close()"
   ]
  },
  {
   "cell_type": "code",
   "execution_count": 36,
   "id": "f84f2c0a-f42f-40f6-a5f1-5aeb7d547cb6",
   "metadata": {},
   "outputs": [],
   "source": [
    "d = open(\"DataScienceMasters.txt\",'a')"
   ]
  },
  {
   "cell_type": "code",
   "execution_count": 37,
   "id": "24827ab5-f3c8-40f6-9eb4-d409725955ba",
   "metadata": {},
   "outputs": [
    {
     "data": {
      "text/plain": [
       "721"
      ]
     },
     "execution_count": 37,
     "metadata": {},
     "output_type": "execute_result"
    }
   ],
   "source": [
    "d.write(\" Data Science Masters course is highly curated and uniquely designed according to the latest industry standards. This program instills students the skills essential to knowledge discovery efforts to identify standard, novel, and truly differentiated solutions and decision-making, including skills in managing, querying, analyzing, visualizing, and extracting meaning from extremely large data sets. This trending program provides students with the statistical, mathematical and computational skills needed to meet the large-scale data science challenges of today's professional world. You will learn all the stack required to work in data science industry including cloud infrastructure and real-time industry projects. \")"
   ]
  },
  {
   "cell_type": "code",
   "execution_count": 38,
   "id": "ba29312b-fe2b-442d-b9e4-ef276224db37",
   "metadata": {},
   "outputs": [],
   "source": [
    "d.close()"
   ]
  },
  {
   "cell_type": "code",
   "execution_count": 40,
   "id": "5f30ea1a-7dc0-48e3-87d3-eaa96d47a80c",
   "metadata": {},
   "outputs": [],
   "source": [
    "d=open(\"DataScienceMasters.txt\",'r')"
   ]
  },
  {
   "cell_type": "code",
   "execution_count": 41,
   "id": "fcc3df90-527e-471e-8a0d-48786ba5d154",
   "metadata": {},
   "outputs": [
    {
     "data": {
      "text/plain": [
       "\" Data Science Masters course is highly curated and uniquely designed according to the latest industry standards. This program instills students the skills essential to knowledge discovery efforts to identify standard, novel, and truly differentiated solutions and decision-making, including skills in managing, querying, analyzing, visualizing, and extracting meaning from extremely large data sets. This trending program provides students with the statistical, mathematical and computational skills needed to meet the large-scale data science challenges of today's professional world. You will learn all the stack required to work in data science industry including cloud infrastructure and real-time industry projects. \""
      ]
     },
     "execution_count": 41,
     "metadata": {},
     "output_type": "execute_result"
    }
   ],
   "source": [
    "d.read()"
   ]
  },
  {
   "cell_type": "code",
   "execution_count": 42,
   "id": "1f5d8285-3fa8-4f54-9cd4-d2d84ea74694",
   "metadata": {},
   "outputs": [
    {
     "data": {
      "text/plain": [
       "''"
      ]
     },
     "execution_count": 42,
     "metadata": {},
     "output_type": "execute_result"
    }
   ],
   "source": [
    "d.read()"
   ]
  },
  {
   "cell_type": "code",
   "execution_count": 43,
   "id": "3ebb8607-d3c6-4d57-8d63-5d8ca9c4a4fe",
   "metadata": {},
   "outputs": [
    {
     "data": {
      "text/plain": [
       "0"
      ]
     },
     "execution_count": 43,
     "metadata": {},
     "output_type": "execute_result"
    }
   ],
   "source": [
    "d.seek(0)"
   ]
  },
  {
   "cell_type": "code",
   "execution_count": 44,
   "id": "9f3b8ca6-f6bb-42fc-b320-8007b80fe33e",
   "metadata": {},
   "outputs": [
    {
     "data": {
      "text/plain": [
       "\" Data Science Masters course is highly curated and uniquely designed according to the latest industry standards. This program instills students the skills essential to knowledge discovery efforts to identify standard, novel, and truly differentiated solutions and decision-making, including skills in managing, querying, analyzing, visualizing, and extracting meaning from extremely large data sets. This trending program provides students with the statistical, mathematical and computational skills needed to meet the large-scale data science challenges of today's professional world. You will learn all the stack required to work in data science industry including cloud infrastructure and real-time industry projects. \""
      ]
     },
     "execution_count": 44,
     "metadata": {},
     "output_type": "execute_result"
    }
   ],
   "source": [
    "d.read()"
   ]
  },
  {
   "cell_type": "code",
   "execution_count": 45,
   "id": "35f16041-e11a-4929-96ad-3f6958801299",
   "metadata": {},
   "outputs": [
    {
     "data": {
      "text/plain": [
       "150"
      ]
     },
     "execution_count": 45,
     "metadata": {},
     "output_type": "execute_result"
    }
   ],
   "source": [
    "d.seek(150)"
   ]
  },
  {
   "cell_type": "code",
   "execution_count": 46,
   "id": "58be9613-6ae5-44ef-813e-b48ddace5b60",
   "metadata": {},
   "outputs": [
    {
     "data": {
      "text/plain": [
       "\"ills essential to knowledge discovery efforts to identify standard, novel, and truly differentiated solutions and decision-making, including skills in managing, querying, analyzing, visualizing, and extracting meaning from extremely large data sets. This trending program provides students with the statistical, mathematical and computational skills needed to meet the large-scale data science challenges of today's professional world. You will learn all the stack required to work in data science industry including cloud infrastructure and real-time industry projects. \""
      ]
     },
     "execution_count": 46,
     "metadata": {},
     "output_type": "execute_result"
    }
   ],
   "source": [
    "d.read()"
   ]
  },
  {
   "cell_type": "code",
   "execution_count": 47,
   "id": "0abf5b57-33fc-4aec-b248-1f187ba5df95",
   "metadata": {},
   "outputs": [],
   "source": [
    "d1 = open(\"DataScienceMasters.txt\",'r')"
   ]
  },
  {
   "cell_type": "code",
   "execution_count": 48,
   "id": "6067a27d-e02b-467e-b04f-28e26e89a0d9",
   "metadata": {},
   "outputs": [
    {
     "name": "stdout",
     "output_type": "stream",
     "text": [
      " Data Science Masters course is highly curated and uniquely designed according to the latest industry standards. This program instills students the skills essential to knowledge discovery efforts to identify standard, novel, and truly differentiated solutions and decision-making, including skills in managing, querying, analyzing, visualizing, and extracting meaning from extremely large data sets. This trending program provides students with the statistical, mathematical and computational skills needed to meet the large-scale data science challenges of today's professional world. You will learn all the stack required to work in data science industry including cloud infrastructure and real-time industry projects. \n"
     ]
    }
   ],
   "source": [
    "for i in d1:\n",
    "    print(i)"
   ]
  },
  {
   "cell_type": "code",
   "execution_count": 49,
   "id": "3e62ac09-06aa-4603-88a7-31c7af00e918",
   "metadata": {},
   "outputs": [],
   "source": [
    "import os"
   ]
  },
  {
   "cell_type": "code",
   "execution_count": 51,
   "id": "1704aaef-6229-4bb0-8781-711b1b8ea95a",
   "metadata": {},
   "outputs": [
    {
     "data": {
      "text/plain": [
       "721"
      ]
     },
     "execution_count": 51,
     "metadata": {},
     "output_type": "execute_result"
    }
   ],
   "source": [
    "os.path.getsize(\"DataScienceMasters.txt\")"
   ]
  },
  {
   "cell_type": "code",
   "execution_count": 53,
   "id": "72d27e4e-6173-420b-8532-f822e54ad84d",
   "metadata": {},
   "outputs": [],
   "source": [
    "import shutil"
   ]
  },
  {
   "cell_type": "code",
   "execution_count": 54,
   "id": "0d7615f2-cef1-4adf-9676-7db97799e61a",
   "metadata": {},
   "outputs": [
    {
     "data": {
      "text/plain": [
       "'new_test.txt'"
      ]
     },
     "execution_count": 54,
     "metadata": {},
     "output_type": "execute_result"
    }
   ],
   "source": [
    "shutil.copy(\"test1.txt\",\"new_test.txt\")"
   ]
  },
  {
   "cell_type": "code",
   "execution_count": 55,
   "id": "36797d68-200a-44a7-8e6f-f14ba868f1b6",
   "metadata": {},
   "outputs": [],
   "source": [
    "os.remove(\"test1.txt\")"
   ]
  },
  {
   "cell_type": "code",
   "execution_count": 57,
   "id": "58fd88c2-196c-4897-adbf-9fe33f98300e",
   "metadata": {},
   "outputs": [
    {
     "name": "stdout",
     "output_type": "stream",
     "text": [
      " Data Science Masters course is highly curated and uniquely designed according to the latest industry standards. This program instills students the skills essential to knowledge discovery efforts to identify standard, novel, and truly differentiated solutions and decision-making, including skills in managing, querying, analyzing, visualizing, and extracting meaning from extremely large data sets. This trending program provides students with the statistical, mathematical and computational skills needed to meet the large-scale data science challenges of today's professional world. You will learn all the stack required to work in data science industry including cloud infrastructure and real-time industry projects. \n"
     ]
    }
   ],
   "source": [
    "with open(\"DataScienceMasters.txt\",\"r\") as AL :\n",
    "    print(AL.read())"
   ]
  },
  {
   "cell_type": "code",
   "execution_count": 58,
   "id": "2ba6b3cc-c4a8-4391-ac61-6fa0902493cf",
   "metadata": {},
   "outputs": [],
   "source": [
    "os.rename(\"new_test.txt\",\"test1.txt\")"
   ]
  },
  {
   "cell_type": "code",
   "execution_count": 1,
   "id": "6a46afbf-ccaa-47aa-aacb-730171a1c6a1",
   "metadata": {},
   "outputs": [],
   "source": [
    "f2 = open(\"test2.txt\",\"x\")"
   ]
  },
  {
   "cell_type": "code",
   "execution_count": 2,
   "id": "b65725ec-f5c2-4cdf-bcc8-478eb85da617",
   "metadata": {},
   "outputs": [
    {
     "data": {
      "text/plain": [
       "'/home/jovyan/work'"
      ]
     },
     "execution_count": 2,
     "metadata": {},
     "output_type": "execute_result"
    }
   ],
   "source": [
    "pwd"
   ]
  },
  {
   "cell_type": "code",
   "execution_count": 3,
   "id": "8f5a275f-08b6-4089-9db5-4ab528d1dcb1",
   "metadata": {},
   "outputs": [],
   "source": [
    "import os"
   ]
  },
  {
   "cell_type": "code",
   "execution_count": 4,
   "id": "b703b81a-6edb-4d2e-958c-0e3f71136c50",
   "metadata": {},
   "outputs": [],
   "source": [
    "os.remove(\"test2.txt\")"
   ]
  },
  {
   "cell_type": "code",
   "execution_count": 5,
   "id": "7b344ad6-3b4d-47f4-85fc-9422c9cc9390",
   "metadata": {},
   "outputs": [
    {
     "name": "stdout",
     "output_type": "stream",
     "text": [
      "/home/jovyan/work/TestFiles\n"
     ]
    }
   ],
   "source": [
    "cd TestFiles/"
   ]
  },
  {
   "cell_type": "code",
   "execution_count": 6,
   "id": "2da46431-f95e-4ad6-a489-241b3b072894",
   "metadata": {},
   "outputs": [],
   "source": [
    "f2 = open(\"test2.txt\",\"x\")"
   ]
  },
  {
   "cell_type": "code",
   "execution_count": 7,
   "id": "a26d2d30-59ac-40df-8d7f-db3a4fb8ae12",
   "metadata": {},
   "outputs": [
    {
     "data": {
      "text/plain": [
       "26"
      ]
     },
     "execution_count": 7,
     "metadata": {},
     "output_type": "execute_result"
    }
   ],
   "source": [
    "f2.write(\"Hello there Good Morning!!\")"
   ]
  },
  {
   "cell_type": "code",
   "execution_count": 8,
   "id": "2d49cd96-7b7e-4fbd-b17f-62d0a909c6f2",
   "metadata": {},
   "outputs": [],
   "source": [
    "f2.close()"
   ]
  },
  {
   "cell_type": "code",
   "execution_count": 12,
   "id": "4d44c94d-2423-48cf-ae33-44dd994bf64f",
   "metadata": {},
   "outputs": [],
   "source": [
    "raw_data = {\n",
    "        \"Name\" : \"Yash\",\n",
    "        \"Email\" : \"yash@gmail.com\",\n",
    "        \"Phone_num\" : 9658741123,\n",
    "        \"Subject\" : [\"Data Science\", \"Python\", \"ML\", \"DP\"]\n",
    "}"
   ]
  },
  {
   "cell_type": "code",
   "execution_count": 15,
   "id": "d5ae1e4f-68af-4fd9-b718-2450060378b9",
   "metadata": {},
   "outputs": [],
   "source": [
    "import json #  json :- Java Script Object Notation."
   ]
  },
  {
   "cell_type": "code",
   "execution_count": 14,
   "id": "75043eaa-2f8d-4d40-8ad3-1ee14d5569cd",
   "metadata": {},
   "outputs": [],
   "source": [
    "with open(\"test3.json\",\"w\") as f:\n",
    "    json.dump(raw_data,f)\n",
    "    "
   ]
  },
  {
   "cell_type": "code",
   "execution_count": 21,
   "id": "47a18dcf-8ddc-4d0e-90bb-c01030450f6d",
   "metadata": {},
   "outputs": [],
   "source": [
    "with open(\"test3.json\",\"r\") as f1:\n",
    "    d1 = json.load(f1)"
   ]
  },
  {
   "cell_type": "code",
   "execution_count": 22,
   "id": "9a5ea589-e329-4108-babc-4dfc5bbc07b4",
   "metadata": {},
   "outputs": [
    {
     "data": {
      "text/plain": [
       "{'Name': 'Yash',\n",
       " 'Email': 'yash@gmail.com',\n",
       " 'Phone_num': 9658741123,\n",
       " 'Subject': ['Data Science', 'Python', 'ML', 'DP']}"
      ]
     },
     "execution_count": 22,
     "metadata": {},
     "output_type": "execute_result"
    }
   ],
   "source": [
    "d1"
   ]
  },
  {
   "cell_type": "code",
   "execution_count": 23,
   "id": "8754f277-2b87-492b-a906-873673ed3ca0",
   "metadata": {},
   "outputs": [
    {
     "data": {
      "text/plain": [
       "['Data Science', 'Python', 'ML', 'DP']"
      ]
     },
     "execution_count": 23,
     "metadata": {},
     "output_type": "execute_result"
    }
   ],
   "source": [
    "d1[\"Subject\"]"
   ]
  },
  {
   "cell_type": "code",
   "execution_count": 5,
   "id": "b81ef566-14c4-4b38-a750-027b81fa5698",
   "metadata": {},
   "outputs": [],
   "source": [
    "ls = [[\"name\",\"age\",\"interest\"],\n",
    "      [\"Ram\",32,\"Reading\"],\n",
    "      [\"Sham\",28,\"Playing\"]]"
   ]
  },
  {
   "cell_type": "code",
   "execution_count": 2,
   "id": "cfc2a3f4-c6c0-4229-8b6c-61336c4594d6",
   "metadata": {},
   "outputs": [],
   "source": [
    "import csv"
   ]
  },
  {
   "cell_type": "code",
   "execution_count": 6,
   "id": "5bae8655-5a4d-4cca-9006-93da936fd562",
   "metadata": {},
   "outputs": [],
   "source": [
    "with open(\"test4.csv\",\"w\") as f2:\n",
    "    w = csv.writer(f2)\n",
    "    for i in ls:\n",
    "        w.writerow(i)"
   ]
  },
  {
   "cell_type": "code",
   "execution_count": 7,
   "id": "f1eaea30-665d-42fe-b77b-d7c0bbcdf9f2",
   "metadata": {},
   "outputs": [],
   "source": [
    "csv1 = ((\"c_name\",\"c_color\",\"c_model\"),\n",
    "        (\"TATA Punch\",\"Starlight\",2023),\n",
    "        (\"Mahendra\",\"Black\",2021),\n",
    "        (\"KIA\",\"Blue\",2022))"
   ]
  },
  {
   "cell_type": "code",
   "execution_count": 8,
   "id": "55442248-13f2-42fc-a639-3ef48871ef76",
   "metadata": {},
   "outputs": [],
   "source": [
    "with open(\"test5.csv\",\"w\") as f3:\n",
    "    w4 = csv.writer(f3)\n",
    "    for i in csv1:\n",
    "        w4.writerow(i)"
   ]
  },
  {
   "cell_type": "code",
   "execution_count": 12,
   "id": "139be99f-6a67-4010-8d68-d3220b7f3f9c",
   "metadata": {},
   "outputs": [
    {
     "name": "stdout",
     "output_type": "stream",
     "text": [
      "['c_name', 'c_color', 'c_model']\n",
      "['TATA Punch', 'Starlight', '2023']\n",
      "['Mahendra', 'Black', '2021']\n",
      "['KIA', 'Blue', '2022']\n"
     ]
    }
   ],
   "source": [
    "with open(\"test5.csv\",\"r\") as f:\n",
    "    read=csv.reader(f)\n",
    "    for i in read:\n",
    "        print(i)"
   ]
  },
  {
   "cell_type": "code",
   "execution_count": 13,
   "id": "4ddebbe2-1f98-49dc-a81a-0ba78f1a2dd9",
   "metadata": {},
   "outputs": [
    {
     "name": "stdout",
     "output_type": "stream",
     "text": [
      "('c_name', 'c_color', 'c_model')\n",
      "('TATA Punch', 'Starlight', 2023)\n",
      "('Mahendra', 'Black', 2021)\n",
      "('KIA', 'Blue', 2022)\n"
     ]
    }
   ],
   "source": [
    "import csv\n",
    "\n",
    "csv1 = ((\"c_name\",\"c_color\",\"c_model\"),\n",
    "        (\"TATA Punch\",\"Starlight\",2023),\n",
    "        (\"Mahendra\",\"Black\",2021),\n",
    "        (\"KIA\",\"Blue\",2022))\n",
    "\n",
    "for row in csv1:\n",
    "    print(row)"
   ]
  },
  {
   "cell_type": "code",
   "execution_count": 1,
   "id": "c98840a2-0d3b-44a5-8254-cd39d6724830",
   "metadata": {},
   "outputs": [
    {
     "data": {
      "text/plain": [
       "'/home/jovyan/work'"
      ]
     },
     "execution_count": 1,
     "metadata": {},
     "output_type": "execute_result"
    }
   ],
   "source": [
    "pwd"
   ]
  },
  {
   "cell_type": "code",
   "execution_count": 2,
   "id": "ed13a0c8-f92c-4635-b825-73c2c36698b5",
   "metadata": {},
   "outputs": [
    {
     "name": "stdout",
     "output_type": "stream",
     "text": [
      "/home/jovyan/work/TestFiles\n"
     ]
    }
   ],
   "source": [
    "cd TestFiles/"
   ]
  },
  {
   "cell_type": "code",
   "execution_count": 3,
   "id": "f0ceeb16-eca5-4163-bdae-d0eee7f7b879",
   "metadata": {},
   "outputs": [
    {
     "name": "stdout",
     "output_type": "stream",
     "text": [
      "DataScienceMasters.txt  test2.txt   test4.csv  test.txt\n",
      "test1.txt               test3.json  test5.csv\n"
     ]
    }
   ],
   "source": [
    "ls"
   ]
  },
  {
   "cell_type": "code",
   "execution_count": 5,
   "id": "537be87d-1ac2-4625-a293-3244b99da48f",
   "metadata": {},
   "outputs": [],
   "source": [
    "with open(\"test6.bin\",\"bw\") as f:\n",
    "    f.write(b\"\\x01\\x02\\x03\\x10\")"
   ]
  },
  {
   "cell_type": "code",
   "execution_count": 6,
   "id": "b701e638-1f74-4ae2-a7f0-01f519a87a68",
   "metadata": {},
   "outputs": [
    {
     "name": "stdout",
     "output_type": "stream",
     "text": [
      "b'\\x01\\x02\\x03\\x10'\n"
     ]
    }
   ],
   "source": [
    "with open(\"test6.bin\",\"br\") as f:\n",
    "    print(f.read())"
   ]
  },
  {
   "cell_type": "code",
   "execution_count": null,
   "id": "2e0f364c-523a-4f9f-90c7-d81830a2eae0",
   "metadata": {},
   "outputs": [],
   "source": []
  },
  {
   "cell_type": "markdown",
   "id": "33518d58-99e3-40ad-b08e-f6e4dd7fe34c",
   "metadata": {},
   "source": [
    "#### Buffered Read and Write Operations."
   ]
  },
  {
   "cell_type": "markdown",
   "id": "0a006d98-ee8f-4e82-9ba8-a2baf72bd87a",
   "metadata": {},
   "source": [
    "Buffered Read and Write Operations means you can read or write the data in small chunks format."
   ]
  },
  {
   "cell_type": "code",
   "execution_count": 7,
   "id": "a832c755-45d3-4ac3-87c0-4a35a849c824",
   "metadata": {},
   "outputs": [],
   "source": [
    "import io"
   ]
  },
  {
   "cell_type": "code",
   "execution_count": 11,
   "id": "5e34ea61-2016-4724-8d52-38ddda114943",
   "metadata": {},
   "outputs": [],
   "source": [
    "with open(\"test7.txt\",\"wb\") as f:\n",
    "    file = io.BufferedWriter(f)\n",
    "    file.write(b\"This is my first Buffered line.\\n\")\n",
    "    file.write(b\"A paragraph is a collection of words strung together to make a longer unit than a sentence. Several sentences often make a paragraph. There are normally three to eight sentences in a paragraph. Paragraphs can start with a five-space indentation or by skipping a line and then starting over. This makes it simpler to tell when one paragraph ends and the next starts simply it has 3-9 lines. A topic phrase appears in most ordered types of writing, such as essays. This paragraph topic sentence informs the reader about the topic of the paragraph. In most essays, numerous paragraphs make statements to support a thesis statement, which is the essay's fundamental point.Paragraphs may signal when the writer changes topics. Each paragraph may have a number of sentences, depending on the topic.\")\n",
    "    file.flush()"
   ]
  },
  {
   "cell_type": "code",
   "execution_count": 12,
   "id": "7eeba4f5-44a4-4848-b3b5-f48c49a6d99c",
   "metadata": {},
   "outputs": [
    {
     "name": "stdout",
     "output_type": "stream",
     "text": [
      "b\"This is my first Buffered line.\\nA paragraph is a collection of words strung together to make a longer unit than a sentence. Several sentences often make a paragraph. There are normally three to eight sentences in a paragraph. Paragraphs can start with a five-space indentation or by skipping a line and then starting over. This makes it simpler to tell when one paragraph ends and the next starts simply it has 3-9 lines. A topic phrase appears in most ordered types of writing, such as essays. This paragraph topic sentence informs the reader about the topic of the paragraph. In most essays, numerous paragraphs make statements to support a thesis statement, which is the essay's fundamental point.Paragraphs may signal when the writer changes topics. Each paragraph may have a number of sentences, depending on the topic.\"\n"
     ]
    }
   ],
   "source": [
    "with open(\"test7.txt\",'rb') as f :\n",
    "    file = io.BufferedReader(f)\n",
    "    data = file.read()\n",
    "    print(data)"
   ]
  },
  {
   "cell_type": "code",
   "execution_count": 13,
   "id": "1e192a5b-f683-4faf-9800-a094e3e2032a",
   "metadata": {},
   "outputs": [
    {
     "name": "stdout",
     "output_type": "stream",
     "text": [
      "b'This is my first Buffered line.\\nA paragraph is a collection of words strung together to make a longe'\n"
     ]
    }
   ],
   "source": [
    "with open(\"test7.txt\",'rb') as f :\n",
    "    file = io.BufferedReader(f)\n",
    "    data = file.read(100)\n",
    "    print(data)"
   ]
  },
  {
   "cell_type": "code",
   "execution_count": null,
   "id": "f462c1ba-32df-4356-b0ef-401f9b10c631",
   "metadata": {},
   "outputs": [],
   "source": []
  },
  {
   "cell_type": "markdown",
   "id": "7b8c862f-7950-4b5a-b46f-fce5b38c810d",
   "metadata": {},
   "source": [
    "#### Logging and Debugging."
   ]
  },
  {
   "cell_type": "code",
   "execution_count": 1,
   "id": "566b7c51-c150-43e7-9b16-42fe4ae4767a",
   "metadata": {},
   "outputs": [
    {
     "name": "stdout",
     "output_type": "stream",
     "text": [
      "This is a print statement.\n"
     ]
    }
   ],
   "source": [
    "print(\"This is a print statement.\")"
   ]
  },
  {
   "cell_type": "code",
   "execution_count": 4,
   "id": "a4844fdc-b373-45a1-ac75-6c0ef79e088f",
   "metadata": {},
   "outputs": [
    {
     "name": "stdout",
     "output_type": "stream",
     "text": [
      "/home/jovyan/work/TestFiles\n"
     ]
    }
   ],
   "source": [
    "cd TestFiles/"
   ]
  },
  {
   "cell_type": "code",
   "execution_count": 11,
   "id": "cf2b2b35-23e4-4099-8077-bfb5119bc5dc",
   "metadata": {},
   "outputs": [
    {
     "data": {
      "text/plain": [
       "'/home/jovyan/work/TestFiles'"
      ]
     },
     "execution_count": 11,
     "metadata": {},
     "output_type": "execute_result"
    }
   ],
   "source": [
    "pwd"
   ]
  },
  {
   "cell_type": "code",
   "execution_count": 12,
   "id": "27287fef-d196-4d2d-b45f-d8c1b34244a4",
   "metadata": {},
   "outputs": [],
   "source": [
    "import logging"
   ]
  },
  {
   "cell_type": "code",
   "execution_count": 18,
   "id": "01c2b3c8-5e54-4b1b-a8ab-75f75cd86d31",
   "metadata": {},
   "outputs": [],
   "source": [
    "logging.basicConfig(filename = \"test.log\", level=logging.INFO )"
   ]
  },
  {
   "cell_type": "code",
   "execution_count": 19,
   "id": "1954a8fd-9795-4932-b940-bdbc2b984e0f",
   "metadata": {},
   "outputs": [],
   "source": [
    "logging.info(\"This is my first logging statment.\")"
   ]
  },
  {
   "cell_type": "code",
   "execution_count": 1,
   "id": "b84e5ef7-cbfd-4b5c-a007-f1bc6093f68f",
   "metadata": {},
   "outputs": [],
   "source": [
    "import logging"
   ]
  },
  {
   "cell_type": "code",
   "execution_count": 29,
   "id": "c778e7f8-a12d-4304-a114-1781a319255c",
   "metadata": {},
   "outputs": [],
   "source": [
    "logging.basicConfig(filename=\"test.log\", level=logging.INFO)"
   ]
  },
  {
   "cell_type": "code",
   "execution_count": 25,
   "id": "63dc1e82-864c-478f-a0f4-1a7faeadeaaf",
   "metadata": {},
   "outputs": [],
   "source": [
    "logging.info(\"This is my first logging statment.\")"
   ]
  },
  {
   "cell_type": "code",
   "execution_count": 26,
   "id": "422db0a8-1217-4a43-b1ad-3e3c0bf865f3",
   "metadata": {},
   "outputs": [],
   "source": [
    "logging.error(\"This is the error message.\")"
   ]
  },
  {
   "cell_type": "code",
   "execution_count": 27,
   "id": "1c203f80-a7a7-48e9-ac5f-3241213d44a1",
   "metadata": {},
   "outputs": [],
   "source": [
    "logging.critical(\"This is critical message.\")"
   ]
  },
  {
   "cell_type": "code",
   "execution_count": 28,
   "id": "300b1afb-3b7b-4f23-9e04-5129b0d7793d",
   "metadata": {},
   "outputs": [],
   "source": [
    "logging.warning(\"This is my warning.\")"
   ]
  },
  {
   "cell_type": "code",
   "execution_count": 30,
   "id": "03683672-265c-41aa-b575-12277b604c57",
   "metadata": {},
   "outputs": [],
   "source": [
    "logging.debug(\"This is debug messs.\")"
   ]
  },
  {
   "cell_type": "code",
   "execution_count": 31,
   "id": "b2bf37a6-b503-465d-aba9-e5f9138b1ead",
   "metadata": {},
   "outputs": [
    {
     "ename": "AttributeError",
     "evalue": "module 'logging' has no attribute 'noset'",
     "output_type": "error",
     "traceback": [
      "\u001b[0;31m---------------------------------------------------------------------------\u001b[0m",
      "\u001b[0;31mAttributeError\u001b[0m                            Traceback (most recent call last)",
      "Cell \u001b[0;32mIn[31], line 1\u001b[0m\n\u001b[0;32m----> 1\u001b[0m \u001b[43mlogging\u001b[49m\u001b[38;5;241;43m.\u001b[39;49m\u001b[43mnoset\u001b[49m(\u001b[38;5;124m\"\u001b[39m\u001b[38;5;124mThis is my noset message.\u001b[39m\u001b[38;5;124m\"\u001b[39m)\n",
      "\u001b[0;31mAttributeError\u001b[0m: module 'logging' has no attribute 'noset'"
     ]
    }
   ],
   "source": [
    "logging.noset(\"This is my noset message.\")"
   ]
  },
  {
   "cell_type": "markdown",
   "id": "e721d1de-bf4e-40d0-aa55-3dfd67a8c02f",
   "metadata": {},
   "source": [
    "1. NOSET\n",
    "2. DEBUG\n",
    "3. INFO\n",
    "4. WARNING\n",
    "5. ERROR\n",
    "6. CRITICAL"
   ]
  },
  {
   "cell_type": "code",
   "execution_count": 32,
   "id": "253a4d28-e1a0-4260-8407-70e5a214e9a5",
   "metadata": {},
   "outputs": [],
   "source": [
    "# If you want to stop the log you can use below method.\n",
    "logging.shutdown()"
   ]
  },
  {
   "cell_type": "code",
   "execution_count": 2,
   "id": "7060c4d8-54ca-40f1-9024-8ec6f75bbc92",
   "metadata": {},
   "outputs": [],
   "source": [
    "logging.basicConfig(filename=\"file.log\", level=logging.DEBUG, format='%(asctime)s %(message)s')"
   ]
  },
  {
   "cell_type": "code",
   "execution_count": 3,
   "id": "242d4a55-8b8b-4960-8a53-24098c5b28c6",
   "metadata": {},
   "outputs": [],
   "source": [
    "logging.debug(\"This is my debug message.\")"
   ]
  },
  {
   "cell_type": "code",
   "execution_count": 4,
   "id": "bb25792f-3620-4c48-bca4-404ff5ef2949",
   "metadata": {},
   "outputs": [],
   "source": [
    "logging.info(\"This is 2nd info mess.\")"
   ]
  },
  {
   "cell_type": "code",
   "execution_count": 5,
   "id": "8dad4613-2255-425f-9efa-5f49382e4a93",
   "metadata": {},
   "outputs": [],
   "source": [
    "logging.warning(\"This is the warning.\")"
   ]
  },
  {
   "cell_type": "code",
   "execution_count": 6,
   "id": "51780abd-63fc-4a25-9380-d3ea2a032947",
   "metadata": {},
   "outputs": [],
   "source": [
    "logging.error(\"This is the error.\")"
   ]
  },
  {
   "cell_type": "code",
   "execution_count": 7,
   "id": "88e1985c-85e5-4382-9a67-ea3174767676",
   "metadata": {},
   "outputs": [],
   "source": [
    "logging.critical(\"This is critical message 2.\")"
   ]
  },
  {
   "cell_type": "code",
   "execution_count": 8,
   "id": "bc175c44-4836-49dd-93c6-068d0d86acad",
   "metadata": {},
   "outputs": [],
   "source": [
    "logging.shutdown()"
   ]
  },
  {
   "cell_type": "code",
   "execution_count": 9,
   "id": "913eefc0-b306-4296-beb7-a16593ebae77",
   "metadata": {},
   "outputs": [
    {
     "name": "stdout",
     "output_type": "stream",
     "text": [
      "/home/jovyan/work/TestFiles\n"
     ]
    }
   ],
   "source": [
    "cd TestFiles/"
   ]
  },
  {
   "cell_type": "code",
   "execution_count": 2,
   "id": "1a629220-6eb9-499d-a3a1-1d3bdeac25cb",
   "metadata": {},
   "outputs": [],
   "source": [
    "logging.basicConfig(filename=\"file1.log\", level=logging.DEBUG, format='%(asctime)s %(name)s %(levelname)s %(message)s')"
   ]
  },
  {
   "cell_type": "code",
   "execution_count": 3,
   "id": "9333e2b2-ced0-4d0d-b5e2-e5c230ddafd6",
   "metadata": {},
   "outputs": [],
   "source": [
    "logging.warning(\"Please see the warning mess.\")"
   ]
  },
  {
   "cell_type": "code",
   "execution_count": 4,
   "id": "ffe8baef-ca4d-4ad5-b53e-683a9dafe7f4",
   "metadata": {},
   "outputs": [],
   "source": [
    "logging.debug(\"This is 3rd debug.\")"
   ]
  },
  {
   "cell_type": "code",
   "execution_count": 5,
   "id": "b4df96b9-7cf0-419d-b915-489d25d22912",
   "metadata": {},
   "outputs": [],
   "source": [
    "logging.info(\"This is IMP info mess.\")"
   ]
  },
  {
   "cell_type": "code",
   "execution_count": 6,
   "id": "4fd8c4b5-ab26-4aa4-b321-c7712bb9fc17",
   "metadata": {},
   "outputs": [],
   "source": [
    "logging.error(\"This is Syntax error.\")"
   ]
  },
  {
   "cell_type": "code",
   "execution_count": 7,
   "id": "9296a4b6-956e-43b9-8aef-cc7fd9b333fd",
   "metadata": {},
   "outputs": [],
   "source": [
    "logging.critical(\"Critical mess occurs.\")"
   ]
  },
  {
   "cell_type": "code",
   "execution_count": 9,
   "id": "ab68b535-512d-4a0f-8776-74f1affd9701",
   "metadata": {},
   "outputs": [],
   "source": [
    "l = [1,2,3,4,[6,7,8,\"pickme\",9],\"hello\",\"World\"]"
   ]
  },
  {
   "cell_type": "code",
   "execution_count": 15,
   "id": "7f28df93-b64c-4270-b963-4f4a6a7dc75c",
   "metadata": {},
   "outputs": [
    {
     "name": "stdout",
     "output_type": "stream",
     "text": [
      "[1, 2, 3, 4, 6, 7, 8, 9]\n",
      "['pickme', 'hello', 'World']\n"
     ]
    }
   ],
   "source": [
    "l1=[]\n",
    "l2=[]\n",
    "for i in l:\n",
    "    logging.info(\"This is first log of my for loop {}\".format(l))\n",
    "    logging.info(\"This is the value of i: {}\".format(i))\n",
    "    if type(i)==int:\n",
    "        l1.append(i)\n",
    "    elif type(i)==list:\n",
    "        for j in i:\n",
    "            logging.info(\"This is value of j: {}\".format(j))\n",
    "            if type(j)==int:\n",
    "                l1.append(j)\n",
    "            else:\n",
    "                l2.append(j)\n",
    "    else:\n",
    "        l2.append(i)\n",
    "logging.info(\"The final list for all int: {}\".format(l1))\n",
    "logging.info(\"The final list for all str: {}\".format(l2))\n",
    "print(l1)\n",
    "print(l2)"
   ]
  },
  {
   "cell_type": "code",
   "execution_count": 1,
   "id": "4d0e2947-2c1f-4c0c-9033-6ac5202efed2",
   "metadata": {},
   "outputs": [
    {
     "ename": "FileNotFoundError",
     "evalue": "[Errno 2] No such file or directory: 'abc.txt'",
     "output_type": "error",
     "traceback": [
      "\u001b[0;31m---------------------------------------------------------------------------\u001b[0m",
      "\u001b[0;31mFileNotFoundError\u001b[0m                         Traceback (most recent call last)",
      "Cell \u001b[0;32mIn[1], line 1\u001b[0m\n\u001b[0;32m----> 1\u001b[0m fz \u001b[38;5;241m=\u001b[39m \u001b[38;5;28;43mopen\u001b[39;49m\u001b[43m(\u001b[49m\u001b[38;5;124;43m\"\u001b[39;49m\u001b[38;5;124;43mabc.txt\u001b[39;49m\u001b[38;5;124;43m\"\u001b[39;49m\u001b[43m,\u001b[49m\u001b[38;5;124;43m'\u001b[39;49m\u001b[38;5;124;43mr\u001b[39;49m\u001b[38;5;124;43m'\u001b[39;49m\u001b[43m)\u001b[49m\n",
      "File \u001b[0;32m/opt/conda/lib/python3.10/site-packages/IPython/core/interactiveshell.py:282\u001b[0m, in \u001b[0;36m_modified_open\u001b[0;34m(file, *args, **kwargs)\u001b[0m\n\u001b[1;32m    275\u001b[0m \u001b[38;5;28;01mif\u001b[39;00m file \u001b[38;5;129;01min\u001b[39;00m {\u001b[38;5;241m0\u001b[39m, \u001b[38;5;241m1\u001b[39m, \u001b[38;5;241m2\u001b[39m}:\n\u001b[1;32m    276\u001b[0m     \u001b[38;5;28;01mraise\u001b[39;00m \u001b[38;5;167;01mValueError\u001b[39;00m(\n\u001b[1;32m    277\u001b[0m         \u001b[38;5;124mf\u001b[39m\u001b[38;5;124m\"\u001b[39m\u001b[38;5;124mIPython won\u001b[39m\u001b[38;5;124m'\u001b[39m\u001b[38;5;124mt let you open fd=\u001b[39m\u001b[38;5;132;01m{\u001b[39;00mfile\u001b[38;5;132;01m}\u001b[39;00m\u001b[38;5;124m by default \u001b[39m\u001b[38;5;124m\"\u001b[39m\n\u001b[1;32m    278\u001b[0m         \u001b[38;5;124m\"\u001b[39m\u001b[38;5;124mas it is likely to crash IPython. If you know what you are doing, \u001b[39m\u001b[38;5;124m\"\u001b[39m\n\u001b[1;32m    279\u001b[0m         \u001b[38;5;124m\"\u001b[39m\u001b[38;5;124myou can use builtins\u001b[39m\u001b[38;5;124m'\u001b[39m\u001b[38;5;124m open.\u001b[39m\u001b[38;5;124m\"\u001b[39m\n\u001b[1;32m    280\u001b[0m     )\n\u001b[0;32m--> 282\u001b[0m \u001b[38;5;28;01mreturn\u001b[39;00m \u001b[43mio_open\u001b[49m\u001b[43m(\u001b[49m\u001b[43mfile\u001b[49m\u001b[43m,\u001b[49m\u001b[43m \u001b[49m\u001b[38;5;241;43m*\u001b[39;49m\u001b[43margs\u001b[49m\u001b[43m,\u001b[49m\u001b[43m \u001b[49m\u001b[38;5;241;43m*\u001b[39;49m\u001b[38;5;241;43m*\u001b[39;49m\u001b[43mkwargs\u001b[49m\u001b[43m)\u001b[49m\n",
      "\u001b[0;31mFileNotFoundError\u001b[0m: [Errno 2] No such file or directory: 'abc.txt'"
     ]
    }
   ],
   "source": [
    "fz = open(\"abc.txt\",'r')"
   ]
  },
  {
   "cell_type": "code",
   "execution_count": 2,
   "id": "200364d6-e841-4331-9443-3f9993797089",
   "metadata": {},
   "outputs": [],
   "source": [
    "fz = open(\"abc.txt\",'w')"
   ]
  },
  {
   "cell_type": "code",
   "execution_count": 3,
   "id": "c442229e-9334-40f8-a00a-050c5fee6823",
   "metadata": {},
   "outputs": [
    {
     "data": {
      "text/plain": [
       "25"
      ]
     },
     "execution_count": 3,
     "metadata": {},
     "output_type": "execute_result"
    }
   ],
   "source": [
    "fz.write(\"Hello, This is text file.\")"
   ]
  },
  {
   "cell_type": "code",
   "execution_count": 4,
   "id": "369676ec-7e7a-48d5-9c1b-382adc43057c",
   "metadata": {},
   "outputs": [],
   "source": [
    "fz.close()"
   ]
  },
  {
   "cell_type": "code",
   "execution_count": null,
   "id": "434894c1-e297-423f-98a6-f7274b5e0053",
   "metadata": {},
   "outputs": [],
   "source": []
  }
 ],
 "metadata": {
  "kernelspec": {
   "display_name": "Python 3 (ipykernel)",
   "language": "python",
   "name": "python3"
  },
  "language_info": {
   "codemirror_mode": {
    "name": "ipython",
    "version": 3
   },
   "file_extension": ".py",
   "mimetype": "text/x-python",
   "name": "python",
   "nbconvert_exporter": "python",
   "pygments_lexer": "ipython3",
   "version": "3.10.8"
  }
 },
 "nbformat": 4,
 "nbformat_minor": 5
}
