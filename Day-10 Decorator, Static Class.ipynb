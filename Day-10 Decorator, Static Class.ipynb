{
 "cells": [
  {
   "cell_type": "code",
   "execution_count": 1,
   "id": "cdb0f474-1169-4e91-8960-45bab4a86f23",
   "metadata": {},
   "outputs": [],
   "source": [
    "def test():\n",
    "    print(10+5)"
   ]
  },
  {
   "cell_type": "code",
   "execution_count": 2,
   "id": "4d87187b-136f-412f-bbd0-146ba9f0ce8a",
   "metadata": {},
   "outputs": [
    {
     "name": "stdout",
     "output_type": "stream",
     "text": [
      "15\n"
     ]
    }
   ],
   "source": [
    "test()"
   ]
  },
  {
   "cell_type": "markdown",
   "id": "2a64df0f-6b35-4d2c-951a-512bdaecc3ff",
   "metadata": {},
   "source": [
    "#### Decorators"
   ]
  },
  {
   "cell_type": "code",
   "execution_count": 7,
   "id": "2ac645ff-df7d-4584-be99-3c5eb6abf96a",
   "metadata": {},
   "outputs": [],
   "source": [
    "def deco(fn):\n",
    "    def inner_deco():\n",
    "        print(\"This is function starts.\")\n",
    "        fn()\n",
    "        print(\"This is function ends.\")\n",
    "    return inner_deco"
   ]
  },
  {
   "cell_type": "code",
   "execution_count": 8,
   "id": "8749e60d-ee42-4619-8199-c038e11ef109",
   "metadata": {},
   "outputs": [],
   "source": [
    "@deco\n",
    "def test2():\n",
    "    print(16*9)"
   ]
  },
  {
   "cell_type": "code",
   "execution_count": 9,
   "id": "291bcd39-e206-40eb-98b0-1ee306c0bac7",
   "metadata": {},
   "outputs": [
    {
     "name": "stdout",
     "output_type": "stream",
     "text": [
      "This is function starts.\n",
      "144\n",
      "This is function ends.\n"
     ]
    }
   ],
   "source": [
    "test2()"
   ]
  },
  {
   "cell_type": "code",
   "execution_count": 10,
   "id": "af435db2-5f53-4953-b8df-130aa3739e71",
   "metadata": {},
   "outputs": [],
   "source": [
    "@deco\n",
    "def test3():\n",
    "    print(\"Hello World!!\")"
   ]
  },
  {
   "cell_type": "code",
   "execution_count": 11,
   "id": "fa8fd7f6-14a3-47a5-a266-d45ca58ad5da",
   "metadata": {},
   "outputs": [
    {
     "name": "stdout",
     "output_type": "stream",
     "text": [
      "This is function starts.\n",
      "Hello World!!\n",
      "This is function ends.\n"
     ]
    }
   ],
   "source": [
    "test3()"
   ]
  },
  {
   "cell_type": "code",
   "execution_count": 1,
   "id": "7b14c3e0-04de-4b31-b128-a9573ceac768",
   "metadata": {},
   "outputs": [],
   "source": [
    "def mydeco(arg1):\n",
    "    def display_msg():\n",
    "        print(\"This is Data Science Masters Class\")\n",
    "        print(\"You are currently learning Python\")\n",
    "        arg1()\n",
    "    return display_msg"
   ]
  },
  {
   "cell_type": "code",
   "execution_count": 2,
   "id": "11023a19-1242-4c70-a469-d7d6a67372d2",
   "metadata": {},
   "outputs": [],
   "source": [
    "@mydeco\n",
    "def test4():\n",
    "    print(\"In Python you are learning Decorator concepts\")"
   ]
  },
  {
   "cell_type": "code",
   "execution_count": 3,
   "id": "30e14dfa-cea8-4e34-aead-c13f8c37c5d4",
   "metadata": {},
   "outputs": [
    {
     "name": "stdout",
     "output_type": "stream",
     "text": [
      "This is Data Science Masters Class\n",
      "You are currently learning Python\n",
      "In Python you are learning Decorator concepts\n"
     ]
    }
   ],
   "source": [
    "test4()"
   ]
  },
  {
   "cell_type": "code",
   "execution_count": 4,
   "id": "daeb0343-afba-403a-a28f-f6a220a00991",
   "metadata": {},
   "outputs": [],
   "source": [
    "import time\n",
    "\n",
    "def display_time(funt1):\n",
    "    def dis_time_inner():\n",
    "        start = time.time()\n",
    "        funt1()\n",
    "        end = time.time()\n",
    "        print(end-start)\n",
    "    return dis_time_inner"
   ]
  },
  {
   "cell_type": "code",
   "execution_count": 6,
   "id": "16e0c3f8-754a-40eb-a6de-467455b25772",
   "metadata": {},
   "outputs": [],
   "source": [
    "@display_time\n",
    "def test5():\n",
    "    print(\"ABC\"*2)"
   ]
  },
  {
   "cell_type": "code",
   "execution_count": 7,
   "id": "406c9a9b-e496-4b6f-8940-23844fa67dad",
   "metadata": {},
   "outputs": [
    {
     "name": "stdout",
     "output_type": "stream",
     "text": [
      "ABCABC\n",
      "4.839897155761719e-05\n"
     ]
    }
   ],
   "source": [
    "test5()"
   ]
  },
  {
   "cell_type": "code",
   "execution_count": 12,
   "id": "5a7a70c4-81d0-4147-b5c1-9d5abe8d4ce5",
   "metadata": {},
   "outputs": [],
   "source": [
    "@display_time\n",
    "def test6():\n",
    "    for i in range(1,1000000):\n",
    "        pass"
   ]
  },
  {
   "cell_type": "code",
   "execution_count": 13,
   "id": "74cb7637-e20b-4460-b5f2-29755b7f1848",
   "metadata": {},
   "outputs": [
    {
     "name": "stdout",
     "output_type": "stream",
     "text": [
      "0.020392894744873047\n"
     ]
    }
   ],
   "source": [
    "test6()"
   ]
  },
  {
   "cell_type": "code",
   "execution_count": 1,
   "id": "e57ba545-ac83-46e5-aac7-cdc7464057e7",
   "metadata": {},
   "outputs": [],
   "source": [
    "class DataScience:\n",
    "    \n",
    "    def __init__(self, name, topics):\n",
    "        self.name = name\n",
    "        self.topics = topics\n",
    "        \n",
    "    def dis_course(self):\n",
    "        print(self.name, self.topics)"
   ]
  },
  {
   "cell_type": "code",
   "execution_count": 2,
   "id": "931bab84-a9cd-4d4f-a934-43c246b6fbd5",
   "metadata": {},
   "outputs": [],
   "source": [
    "d = DataScience(\"Python\",\"Class\")"
   ]
  },
  {
   "cell_type": "code",
   "execution_count": 3,
   "id": "91a90b01-03e3-4cbd-8a0c-72dae00c3d22",
   "metadata": {},
   "outputs": [
    {
     "data": {
      "text/plain": [
       "'Python'"
      ]
     },
     "execution_count": 3,
     "metadata": {},
     "output_type": "execute_result"
    }
   ],
   "source": [
    "d.name"
   ]
  },
  {
   "cell_type": "code",
   "execution_count": 4,
   "id": "5016acd5-aea1-4c65-a9bd-fbde0b1b4970",
   "metadata": {},
   "outputs": [
    {
     "data": {
      "text/plain": [
       "'Class'"
      ]
     },
     "execution_count": 4,
     "metadata": {},
     "output_type": "execute_result"
    }
   ],
   "source": [
    "d.topics"
   ]
  },
  {
   "cell_type": "code",
   "execution_count": 5,
   "id": "3913bb60-b358-4106-b9aa-c505003ceb66",
   "metadata": {},
   "outputs": [
    {
     "name": "stdout",
     "output_type": "stream",
     "text": [
      "Python Class\n"
     ]
    }
   ],
   "source": [
    "d.dis_course()"
   ]
  },
  {
   "cell_type": "markdown",
   "id": "b08eee66-7538-4144-9cba-503b3c5bb23f",
   "metadata": {},
   "source": [
    "### Classmethod"
   ]
  },
  {
   "cell_type": "code",
   "execution_count": 6,
   "id": "52826104-64a0-43ea-b871-a01090b84440",
   "metadata": {},
   "outputs": [],
   "source": [
    "class DataScience1:\n",
    "    \n",
    "    def __init__(self, name, topics):\n",
    "        self.name = name\n",
    "        self.topics = topics\n",
    "        \n",
    "    @classmethod\n",
    "    def course(cls, name, topics):\n",
    "        return cls(name,topics)\n",
    "        \n",
    "    def dis_course(self):\n",
    "        print(self.name, self.topics)"
   ]
  },
  {
   "cell_type": "code",
   "execution_count": 8,
   "id": "4e1d57f1-19f9-4c1b-88ba-e6093ae82794",
   "metadata": {},
   "outputs": [],
   "source": [
    "d1 = DataScience1.course(\"Python\",\"Functions\")"
   ]
  },
  {
   "cell_type": "code",
   "execution_count": 9,
   "id": "2a506a7b-3b85-4f7c-b102-7da69d144af1",
   "metadata": {},
   "outputs": [
    {
     "data": {
      "text/plain": [
       "'Python'"
      ]
     },
     "execution_count": 9,
     "metadata": {},
     "output_type": "execute_result"
    }
   ],
   "source": [
    "d1.name"
   ]
  },
  {
   "cell_type": "code",
   "execution_count": 10,
   "id": "15771889-2544-452e-a61e-66623b075079",
   "metadata": {},
   "outputs": [
    {
     "data": {
      "text/plain": [
       "'Functions'"
      ]
     },
     "execution_count": 10,
     "metadata": {},
     "output_type": "execute_result"
    }
   ],
   "source": [
    "d1.topics"
   ]
  },
  {
   "cell_type": "code",
   "execution_count": 12,
   "id": "dac0e407-17b9-4cee-bdab-01fe2af6220f",
   "metadata": {},
   "outputs": [
    {
     "name": "stdout",
     "output_type": "stream",
     "text": [
      "Python Functions\n"
     ]
    }
   ],
   "source": [
    "d1.dis_course()"
   ]
  },
  {
   "cell_type": "code",
   "execution_count": 27,
   "id": "4035bf47-5776-48a8-b41e-82d4bbe55875",
   "metadata": {},
   "outputs": [],
   "source": [
    "class DataScience2:\n",
    "    \n",
    "    tools = \"Jupyter Notebook\"\n",
    "    \n",
    "    def __init__(self, name, topics):\n",
    "        self.name = name\n",
    "        self.topics = topics\n",
    "        \n",
    "    @classmethod\n",
    "    def change_tools(cls, tool):\n",
    "        DataScience2.tools = tool\n",
    "        \n",
    "        \n",
    "    @classmethod\n",
    "    def course(cls, name, topics):\n",
    "        return cls(name,topics)\n",
    "        \n",
    "    def dis_course(self):\n",
    "        print(self.name, self.topics, DataScience2.tools)"
   ]
  },
  {
   "cell_type": "code",
   "execution_count": 28,
   "id": "0c76ef4b-70eb-4f40-b5cd-e63a4657449a",
   "metadata": {},
   "outputs": [],
   "source": [
    "c2 = DataScience2.course(\"Python\",\"Decorators\")  # Here c2 is method/function variable."
   ]
  },
  {
   "cell_type": "code",
   "execution_count": 29,
   "id": "9edaf8af-ed79-4ede-b3ea-5233e2c0472b",
   "metadata": {},
   "outputs": [
    {
     "data": {
      "text/plain": [
       "'Python'"
      ]
     },
     "execution_count": 29,
     "metadata": {},
     "output_type": "execute_result"
    }
   ],
   "source": [
    "c2.name"
   ]
  },
  {
   "cell_type": "code",
   "execution_count": 30,
   "id": "9c3ec514-0a36-4c55-beb7-6f024baf1e1d",
   "metadata": {},
   "outputs": [
    {
     "data": {
      "text/plain": [
       "'Decorators'"
      ]
     },
     "execution_count": 30,
     "metadata": {},
     "output_type": "execute_result"
    }
   ],
   "source": [
    "c2.topics"
   ]
  },
  {
   "cell_type": "code",
   "execution_count": 31,
   "id": "77694dc9-3cfb-4348-aa8e-5f65332e2d41",
   "metadata": {},
   "outputs": [
    {
     "name": "stdout",
     "output_type": "stream",
     "text": [
      "Python Decorators Jupyter Notebook\n"
     ]
    }
   ],
   "source": [
    "c2.dis_course()"
   ]
  },
  {
   "cell_type": "code",
   "execution_count": 32,
   "id": "42bf871b-eaf3-4ab0-8eb5-56a41db6df56",
   "metadata": {},
   "outputs": [],
   "source": [
    "c2_obj = DataScience2(\"Python\",\"OOPS\") # Here c2_obj is object of class."
   ]
  },
  {
   "cell_type": "code",
   "execution_count": 33,
   "id": "62505e21-b33e-409b-b5b8-491964b1cb60",
   "metadata": {},
   "outputs": [
    {
     "data": {
      "text/plain": [
       "'Python'"
      ]
     },
     "execution_count": 33,
     "metadata": {},
     "output_type": "execute_result"
    }
   ],
   "source": [
    "c2_obj.name"
   ]
  },
  {
   "cell_type": "code",
   "execution_count": 34,
   "id": "cb330962-368d-4a7c-a7c5-f00bb0ba02ec",
   "metadata": {},
   "outputs": [
    {
     "data": {
      "text/plain": [
       "'OOPS'"
      ]
     },
     "execution_count": 34,
     "metadata": {},
     "output_type": "execute_result"
    }
   ],
   "source": [
    "c2_obj.topics"
   ]
  },
  {
   "cell_type": "code",
   "execution_count": 35,
   "id": "40b8294d-6f26-4ca9-9597-254026e861df",
   "metadata": {},
   "outputs": [
    {
     "name": "stdout",
     "output_type": "stream",
     "text": [
      "Python OOPS Jupyter Notebook\n"
     ]
    }
   ],
   "source": [
    "c2_obj.dis_course()"
   ]
  },
  {
   "cell_type": "code",
   "execution_count": 36,
   "id": "02536a36-fa94-47e3-95fc-dd7acc03f8cc",
   "metadata": {},
   "outputs": [],
   "source": [
    "c2.change_tools(\"Anaconda\")"
   ]
  },
  {
   "cell_type": "code",
   "execution_count": 37,
   "id": "c5eb9832-540f-4eaf-b8c4-caeb9fb23ebb",
   "metadata": {},
   "outputs": [
    {
     "name": "stdout",
     "output_type": "stream",
     "text": [
      "Python Decorators Anaconda\n"
     ]
    }
   ],
   "source": [
    "c2.dis_course()"
   ]
  },
  {
   "cell_type": "code",
   "execution_count": 38,
   "id": "dabb537f-e384-4ddb-8b57-b35ccf603dec",
   "metadata": {},
   "outputs": [],
   "source": [
    "class DataScience3:\n",
    "    \n",
    "    tools = \"Jupyter Notebook\"\n",
    "    \n",
    "    def __init__(self, name, topics):\n",
    "        self.name = name\n",
    "        self.topics = topics\n",
    "        \n",
    "    @classmethod\n",
    "    def change_tools(cls, tool):\n",
    "        DataScience3.tools = tool\n",
    "        \n",
    "        \n",
    "    @classmethod\n",
    "    def course(cls, name, topics):\n",
    "        return cls(name,topics)\n",
    "        \n",
    "    def dis_course(self):\n",
    "        print(self.name, self.topics, DataScience3.tools)"
   ]
  },
  {
   "cell_type": "code",
   "execution_count": 39,
   "id": "56583b36-665e-4db0-94d1-7466d60e3f62",
   "metadata": {},
   "outputs": [],
   "source": [
    "def dis_topics(cls, topic):\n",
    "    print(\"Topics are: \",topic)"
   ]
  },
  {
   "cell_type": "code",
   "execution_count": 40,
   "id": "a5deaa67-0f4e-47d2-bb9c-776f4a8db308",
   "metadata": {},
   "outputs": [],
   "source": [
    "DataScience3.dis_topics = classmethod(dis_topics)"
   ]
  },
  {
   "cell_type": "code",
   "execution_count": 42,
   "id": "c8c5209f-18bf-421f-b8b3-4c9b5a26f265",
   "metadata": {},
   "outputs": [
    {
     "name": "stdout",
     "output_type": "stream",
     "text": [
      "Topics are:  Class Methods\n"
     ]
    }
   ],
   "source": [
    "DataScience3.dis_topics(\"Class Methods\")"
   ]
  },
  {
   "cell_type": "code",
   "execution_count": 5,
   "id": "b56a49f9-0f62-4da6-b50b-34ca0b156f61",
   "metadata": {},
   "outputs": [],
   "source": [
    "class DataScience4:\n",
    "    \n",
    "    tools = \"Jupyter Notebook\"\n",
    "    \n",
    "    def __init__(self, name, topics):\n",
    "        self.name = name\n",
    "        self.topics = topics\n",
    "        \n",
    "    @classmethod\n",
    "    def change_tools(cls, tool):\n",
    "        DataScience4.tools = tool\n",
    "        \n",
    "        \n",
    "    @classmethod\n",
    "    def course(cls, name, topics):\n",
    "        return cls(name,topics)\n",
    "        \n",
    "    def dis_course(self):\n",
    "        print(self.name, self.topics, DataScience4.tools)"
   ]
  },
  {
   "cell_type": "code",
   "execution_count": 6,
   "id": "b39da422-a368-4b34-9333-b01a4a97bac1",
   "metadata": {},
   "outputs": [],
   "source": [
    "# You can delete the method/function of a class using del keyword.\n",
    "del DataScience4.change_tools"
   ]
  },
  {
   "cell_type": "code",
   "execution_count": 7,
   "id": "8b783b57-abe6-4586-a6e3-718a10e26b93",
   "metadata": {},
   "outputs": [
    {
     "ename": "AttributeError",
     "evalue": "type object 'DataScience4' has no attribute 'change_tools'",
     "output_type": "error",
     "traceback": [
      "\u001b[0;31m---------------------------------------------------------------------------\u001b[0m",
      "\u001b[0;31mAttributeError\u001b[0m                            Traceback (most recent call last)",
      "Cell \u001b[0;32mIn[7], line 1\u001b[0m\n\u001b[0;32m----> 1\u001b[0m \u001b[43mDataScience4\u001b[49m\u001b[38;5;241;43m.\u001b[39;49m\u001b[43mchange_tools\u001b[49m()\n",
      "\u001b[0;31mAttributeError\u001b[0m: type object 'DataScience4' has no attribute 'change_tools'"
     ]
    }
   ],
   "source": [
    "DataScience4.change_tools()"
   ]
  },
  {
   "cell_type": "code",
   "execution_count": 8,
   "id": "654a87aa-c9f7-4b7d-959e-adf9eeda4b59",
   "metadata": {},
   "outputs": [],
   "source": [
    "# you can also delete the mehod/function by using delattr(classname, methodname).\n",
    "delattr(DataScience4, \"course\")"
   ]
  },
  {
   "cell_type": "code",
   "execution_count": 9,
   "id": "bb5d1b75-d635-4b46-b62f-1dc74f0d32a1",
   "metadata": {},
   "outputs": [
    {
     "ename": "AttributeError",
     "evalue": "type object 'DataScience4' has no attribute 'course'",
     "output_type": "error",
     "traceback": [
      "\u001b[0;31m---------------------------------------------------------------------------\u001b[0m",
      "\u001b[0;31mAttributeError\u001b[0m                            Traceback (most recent call last)",
      "Cell \u001b[0;32mIn[9], line 1\u001b[0m\n\u001b[0;32m----> 1\u001b[0m \u001b[43mDataScience4\u001b[49m\u001b[38;5;241;43m.\u001b[39;49m\u001b[43mcourse\u001b[49m()\n",
      "\u001b[0;31mAttributeError\u001b[0m: type object 'DataScience4' has no attribute 'course'"
     ]
    }
   ],
   "source": [
    "DataScience4.course()"
   ]
  },
  {
   "cell_type": "code",
   "execution_count": 11,
   "id": "da4a359e-ff0f-4ede-bdb6-abf6d73feb2a",
   "metadata": {},
   "outputs": [
    {
     "data": {
      "text/plain": [
       "'Jupyter Notebook'"
      ]
     },
     "execution_count": 11,
     "metadata": {},
     "output_type": "execute_result"
    }
   ],
   "source": [
    "DataScience4.tools"
   ]
  },
  {
   "cell_type": "code",
   "execution_count": 12,
   "id": "1ee60b94-fcf2-41f5-9eb9-73915e5b23c9",
   "metadata": {},
   "outputs": [],
   "source": [
    "delattr(DataScience4, \"tools\")"
   ]
  },
  {
   "cell_type": "code",
   "execution_count": 13,
   "id": "0b7555f7-7d5f-4566-9974-ea48454125d4",
   "metadata": {},
   "outputs": [
    {
     "ename": "AttributeError",
     "evalue": "type object 'DataScience4' has no attribute 'tools'",
     "output_type": "error",
     "traceback": [
      "\u001b[0;31m---------------------------------------------------------------------------\u001b[0m",
      "\u001b[0;31mAttributeError\u001b[0m                            Traceback (most recent call last)",
      "Cell \u001b[0;32mIn[13], line 1\u001b[0m\n\u001b[0;32m----> 1\u001b[0m \u001b[43mDataScience4\u001b[49m\u001b[38;5;241;43m.\u001b[39;49m\u001b[43mtools\u001b[49m\n",
      "\u001b[0;31mAttributeError\u001b[0m: type object 'DataScience4' has no attribute 'tools'"
     ]
    }
   ],
   "source": [
    "DataScience4.tools"
   ]
  },
  {
   "cell_type": "markdown",
   "id": "fcd93701-c003-491c-8d60-4bb211e4c9f3",
   "metadata": {},
   "source": [
    "### Staticmethod"
   ]
  },
  {
   "cell_type": "code",
   "execution_count": 1,
   "id": "eb0b1a6a-1a5d-4fdd-ad71-730e2dce710a",
   "metadata": {},
   "outputs": [],
   "source": [
    "class Vehicle:\n",
    "    \n",
    "    def car(self, name, model):\n",
    "        print(name, model)\n",
    "        \n",
    "    @staticmethod\n",
    "    def tyres(list1):\n",
    "        print(list1)\n",
    "        \n",
    "        \n",
    "    def type_tyre(self,l2):\n",
    "        print(l2)\n",
    "        "
   ]
  },
  {
   "cell_type": "code",
   "execution_count": 2,
   "id": "958b7f15-74c0-4e3d-bd35-a8905c2fe01e",
   "metadata": {},
   "outputs": [
    {
     "name": "stdout",
     "output_type": "stream",
     "text": [
      "['Big', 'Small']\n"
     ]
    }
   ],
   "source": [
    "Vehicle.tyres([\"Big\",\"Small\"])"
   ]
  },
  {
   "cell_type": "code",
   "execution_count": 3,
   "id": "d2bd91ea-3335-4edc-a8c3-3dc5298db29b",
   "metadata": {},
   "outputs": [],
   "source": [
    "v1 = Vehicle()"
   ]
  },
  {
   "cell_type": "code",
   "execution_count": 4,
   "id": "e8b3f3c7-dfce-4a74-b1cb-cc1a7be040ba",
   "metadata": {},
   "outputs": [
    {
     "name": "stdout",
     "output_type": "stream",
     "text": [
      "TATA-Punch EV\n"
     ]
    }
   ],
   "source": [
    "v1.car(\"TATA-Punch\",\"EV\")"
   ]
  },
  {
   "cell_type": "code",
   "execution_count": 5,
   "id": "7074e7ab-becd-49fa-8f5b-7c8743829b61",
   "metadata": {},
   "outputs": [
    {
     "name": "stdout",
     "output_type": "stream",
     "text": [
      "['Large', 'Tiny']\n"
     ]
    }
   ],
   "source": [
    "v1.type_tyre([\"Large\",\"Tiny\"])"
   ]
  },
  {
   "cell_type": "code",
   "execution_count": 11,
   "id": "06c75646-95ff-43a5-8aa8-d0feea679849",
   "metadata": {},
   "outputs": [],
   "source": [
    "class Vehicle1:\n",
    "    \n",
    "    def car(self, name, model):\n",
    "        print(name, model)\n",
    "        \n",
    "    @staticmethod\n",
    "    def tyres(list1):\n",
    "        print(list1)\n",
    "        \n",
    "    @staticmethod\n",
    "    def model_det(l3):\n",
    "        print(l3)\n",
    "        Vehicle1.tyres([\"Big1\"])\n",
    "        \n",
    "        \n",
    "    @classmethod\n",
    "    def veh_class_m(cls,type2):\n",
    "        print(\"Type: \",type2)\n",
    "        cls.model_det([\"SUV\",\"EV\"])\n",
    "        \n",
    "        \n",
    "    def type_tyre(self,l2):\n",
    "        print(l2)\n",
    "        self.tyres([\"Tubless\",\"Tube\"])"
   ]
  },
  {
   "cell_type": "code",
   "execution_count": 12,
   "id": "18997f4b-c68a-4684-9d44-d34b71ac724b",
   "metadata": {},
   "outputs": [],
   "source": [
    "v3 = Vehicle1()"
   ]
  },
  {
   "cell_type": "code",
   "execution_count": 13,
   "id": "dfcba0c8-7229-41e9-a80e-c8d4ffdd00f4",
   "metadata": {},
   "outputs": [
    {
     "name": "stdout",
     "output_type": "stream",
     "text": [
      "Mahendra 2021\n"
     ]
    }
   ],
   "source": [
    "v3.car(\"Mahendra\",2021)"
   ]
  },
  {
   "cell_type": "code",
   "execution_count": 14,
   "id": "696481b6-f4bf-407f-9c0a-a5b3bb7c302a",
   "metadata": {},
   "outputs": [
    {
     "name": "stdout",
     "output_type": "stream",
     "text": [
      "['SUV', 'Disel']\n",
      "['Big1']\n"
     ]
    }
   ],
   "source": [
    "v3.model_det([\"SUV\",\"Disel\"])"
   ]
  },
  {
   "cell_type": "code",
   "execution_count": 15,
   "id": "82c4b165-900f-4d24-8a09-207c5a3eddc2",
   "metadata": {},
   "outputs": [
    {
     "name": "stdout",
     "output_type": "stream",
     "text": [
      "Type:  Petrol\n",
      "['SUV', 'EV']\n",
      "['Big1']\n"
     ]
    }
   ],
   "source": [
    "v3.veh_class_m(\"Petrol\")"
   ]
  },
  {
   "cell_type": "code",
   "execution_count": 16,
   "id": "c5ceb3f6-41e5-484b-9459-2620f466643c",
   "metadata": {},
   "outputs": [
    {
     "name": "stdout",
     "output_type": "stream",
     "text": [
      "['With-Line', 'Without-Line']\n",
      "['Tubless', 'Tube']\n"
     ]
    }
   ],
   "source": [
    "v3.type_tyre([\"With-Line\",\"Without-Line\"])"
   ]
  },
  {
   "cell_type": "code",
   "execution_count": 17,
   "id": "6d7dac6f-b235-49f2-88bb-6227aeca8e24",
   "metadata": {},
   "outputs": [
    {
     "name": "stdout",
     "output_type": "stream",
     "text": [
      "['Large', 'Tiny']\n"
     ]
    }
   ],
   "source": [
    "Vehicle1.tyres([\"Large\",\"Tiny\"])"
   ]
  },
  {
   "cell_type": "markdown",
   "id": "4efb22d5-f856-46cc-a39a-b079065357a9",
   "metadata": {},
   "source": [
    "classmethod() - It is a method which is overloading __init__() method. It gives you access of variable to pass to the                     respective class.\n",
    "\n",
    "staticmethod() - It is a method which is reducing the memory utiliztion at every point of time."
   ]
  },
  {
   "cell_type": "code",
   "execution_count": null,
   "id": "80404a13-c4eb-49f6-b0b0-7ee1361c0ecd",
   "metadata": {},
   "outputs": [],
   "source": []
  },
  {
   "cell_type": "markdown",
   "id": "b2cd65a4-8e3a-4d91-8dc9-30d506570612",
   "metadata": {},
   "source": [
    "### Special (Magic / Dunder) Method."
   ]
  },
  {
   "cell_type": "code",
   "execution_count": 2,
   "id": "e476165e-5189-40ac-a0c1-ae0ad4fac001",
   "metadata": {},
   "outputs": [
    {
     "data": {
      "text/plain": [
       "['__abs__',\n",
       " '__add__',\n",
       " '__and__',\n",
       " '__bool__',\n",
       " '__ceil__',\n",
       " '__class__',\n",
       " '__delattr__',\n",
       " '__dir__',\n",
       " '__divmod__',\n",
       " '__doc__',\n",
       " '__eq__',\n",
       " '__float__',\n",
       " '__floor__',\n",
       " '__floordiv__',\n",
       " '__format__',\n",
       " '__ge__',\n",
       " '__getattribute__',\n",
       " '__getnewargs__',\n",
       " '__gt__',\n",
       " '__hash__',\n",
       " '__index__',\n",
       " '__init__',\n",
       " '__init_subclass__',\n",
       " '__int__',\n",
       " '__invert__',\n",
       " '__le__',\n",
       " '__lshift__',\n",
       " '__lt__',\n",
       " '__mod__',\n",
       " '__mul__',\n",
       " '__ne__',\n",
       " '__neg__',\n",
       " '__new__',\n",
       " '__or__',\n",
       " '__pos__',\n",
       " '__pow__',\n",
       " '__radd__',\n",
       " '__rand__',\n",
       " '__rdivmod__',\n",
       " '__reduce__',\n",
       " '__reduce_ex__',\n",
       " '__repr__',\n",
       " '__rfloordiv__',\n",
       " '__rlshift__',\n",
       " '__rmod__',\n",
       " '__rmul__',\n",
       " '__ror__',\n",
       " '__round__',\n",
       " '__rpow__',\n",
       " '__rrshift__',\n",
       " '__rshift__',\n",
       " '__rsub__',\n",
       " '__rtruediv__',\n",
       " '__rxor__',\n",
       " '__setattr__',\n",
       " '__sizeof__',\n",
       " '__str__',\n",
       " '__sub__',\n",
       " '__subclasshook__',\n",
       " '__truediv__',\n",
       " '__trunc__',\n",
       " '__xor__',\n",
       " 'as_integer_ratio',\n",
       " 'bit_count',\n",
       " 'bit_length',\n",
       " 'conjugate',\n",
       " 'denominator',\n",
       " 'from_bytes',\n",
       " 'imag',\n",
       " 'numerator',\n",
       " 'real',\n",
       " 'to_bytes']"
      ]
     },
     "execution_count": 2,
     "metadata": {},
     "output_type": "execute_result"
    }
   ],
   "source": [
    "dir(int)"
   ]
  },
  {
   "cell_type": "code",
   "execution_count": 9,
   "id": "d8a92847-9fd4-4dc8-b652-150a84b84f72",
   "metadata": {},
   "outputs": [],
   "source": [
    "x = 12"
   ]
  },
  {
   "cell_type": "code",
   "execution_count": 10,
   "id": "fab76860-cc6f-4372-889c-5a0b84e7c66d",
   "metadata": {},
   "outputs": [
    {
     "data": {
      "text/plain": [
       "16"
      ]
     },
     "execution_count": 10,
     "metadata": {},
     "output_type": "execute_result"
    }
   ],
   "source": [
    "x + 4"
   ]
  },
  {
   "cell_type": "code",
   "execution_count": 11,
   "id": "c0efcfbd-0f7c-4267-9bfb-52ed1567f47c",
   "metadata": {},
   "outputs": [
    {
     "data": {
      "text/plain": [
       "16"
      ]
     },
     "execution_count": 11,
     "metadata": {},
     "output_type": "execute_result"
    }
   ],
   "source": [
    "x.__add__(4)"
   ]
  },
  {
   "cell_type": "code",
   "execution_count": 12,
   "id": "06e1af87-10ea-469e-b066-7ed0924b6ed0",
   "metadata": {},
   "outputs": [
    {
     "data": {
      "text/plain": [
       "6"
      ]
     },
     "execution_count": 12,
     "metadata": {},
     "output_type": "execute_result"
    }
   ],
   "source": [
    "x.__sub__(6)"
   ]
  },
  {
   "cell_type": "code",
   "execution_count": 13,
   "id": "6f2a85c8-4d4d-49a1-9bed-d0f0996634c8",
   "metadata": {},
   "outputs": [
    {
     "data": {
      "text/plain": [
       "['__add__',\n",
       " '__class__',\n",
       " '__contains__',\n",
       " '__delattr__',\n",
       " '__dir__',\n",
       " '__doc__',\n",
       " '__eq__',\n",
       " '__format__',\n",
       " '__ge__',\n",
       " '__getattribute__',\n",
       " '__getitem__',\n",
       " '__getnewargs__',\n",
       " '__gt__',\n",
       " '__hash__',\n",
       " '__init__',\n",
       " '__init_subclass__',\n",
       " '__iter__',\n",
       " '__le__',\n",
       " '__len__',\n",
       " '__lt__',\n",
       " '__mod__',\n",
       " '__mul__',\n",
       " '__ne__',\n",
       " '__new__',\n",
       " '__reduce__',\n",
       " '__reduce_ex__',\n",
       " '__repr__',\n",
       " '__rmod__',\n",
       " '__rmul__',\n",
       " '__setattr__',\n",
       " '__sizeof__',\n",
       " '__str__',\n",
       " '__subclasshook__',\n",
       " 'capitalize',\n",
       " 'casefold',\n",
       " 'center',\n",
       " 'count',\n",
       " 'encode',\n",
       " 'endswith',\n",
       " 'expandtabs',\n",
       " 'find',\n",
       " 'format',\n",
       " 'format_map',\n",
       " 'index',\n",
       " 'isalnum',\n",
       " 'isalpha',\n",
       " 'isascii',\n",
       " 'isdecimal',\n",
       " 'isdigit',\n",
       " 'isidentifier',\n",
       " 'islower',\n",
       " 'isnumeric',\n",
       " 'isprintable',\n",
       " 'isspace',\n",
       " 'istitle',\n",
       " 'isupper',\n",
       " 'join',\n",
       " 'ljust',\n",
       " 'lower',\n",
       " 'lstrip',\n",
       " 'maketrans',\n",
       " 'partition',\n",
       " 'removeprefix',\n",
       " 'removesuffix',\n",
       " 'replace',\n",
       " 'rfind',\n",
       " 'rindex',\n",
       " 'rjust',\n",
       " 'rpartition',\n",
       " 'rsplit',\n",
       " 'rstrip',\n",
       " 'split',\n",
       " 'splitlines',\n",
       " 'startswith',\n",
       " 'strip',\n",
       " 'swapcase',\n",
       " 'title',\n",
       " 'translate',\n",
       " 'upper',\n",
       " 'zfill']"
      ]
     },
     "execution_count": 13,
     "metadata": {},
     "output_type": "execute_result"
    }
   ],
   "source": [
    "dir(str)"
   ]
  },
  {
   "cell_type": "code",
   "execution_count": 14,
   "id": "719eb121-e025-4568-ae6d-65b4253f476d",
   "metadata": {},
   "outputs": [],
   "source": [
    "class game:\n",
    "    \n",
    "    def __init__(self):\n",
    "        print(\"This is init.\")"
   ]
  },
  {
   "cell_type": "code",
   "execution_count": 15,
   "id": "47e4c304-2aa6-41f9-9470-29189e4ef63b",
   "metadata": {},
   "outputs": [
    {
     "name": "stdout",
     "output_type": "stream",
     "text": [
      "This is init.\n"
     ]
    }
   ],
   "source": [
    "g = game()"
   ]
  },
  {
   "cell_type": "code",
   "execution_count": 3,
   "id": "073be1e5-f28e-45b6-99e7-1a722f5fb103",
   "metadata": {},
   "outputs": [],
   "source": [
    "class game1:\n",
    "    \n",
    "    def __new__(cls):\n",
    "        print(\"This is new.\")\n",
    "    \n",
    "    def __init__(self):\n",
    "        print(\"This is init.\")"
   ]
  },
  {
   "cell_type": "code",
   "execution_count": 4,
   "id": "e7a04104-8eec-4b55-980f-8f1d45dece5f",
   "metadata": {},
   "outputs": [
    {
     "name": "stdout",
     "output_type": "stream",
     "text": [
      "This is new.\n"
     ]
    }
   ],
   "source": [
    "g1 = game1()"
   ]
  },
  {
   "cell_type": "code",
   "execution_count": 5,
   "id": "6b008b63-32a1-4124-94d0-9da0ca8a7648",
   "metadata": {},
   "outputs": [],
   "source": [
    "class funt1:\n",
    "    \n",
    "    def __init__(self):\n",
    "        self.name = \"DataScience\"\n",
    "        \n",
    "    def __str__(self):\n",
    "        return \"This is a stat which display at object place.\""
   ]
  },
  {
   "cell_type": "code",
   "execution_count": 6,
   "id": "e7c9642f-3cb2-45b6-8314-e0ef9c28d46d",
   "metadata": {},
   "outputs": [],
   "source": [
    "f = funt1()"
   ]
  },
  {
   "cell_type": "code",
   "execution_count": 7,
   "id": "7ac22698-3666-4b12-a8eb-8ad4007892ba",
   "metadata": {},
   "outputs": [
    {
     "data": {
      "text/plain": [
       "<__main__.funt1 at 0x7f1bd9f05180>"
      ]
     },
     "execution_count": 7,
     "metadata": {},
     "output_type": "execute_result"
    }
   ],
   "source": [
    "f"
   ]
  },
  {
   "cell_type": "code",
   "execution_count": 8,
   "id": "572f36d2-e8ed-4c77-af0d-6756120a185e",
   "metadata": {},
   "outputs": [
    {
     "name": "stdout",
     "output_type": "stream",
     "text": [
      "This is a stat which display at object place.\n"
     ]
    }
   ],
   "source": [
    "print(f)"
   ]
  },
  {
   "cell_type": "code",
   "execution_count": 9,
   "id": "3c7b2ded-7fb7-445c-b6dd-0bc5191d7ed4",
   "metadata": {},
   "outputs": [
    {
     "data": {
      "text/plain": [
       "['__class__',\n",
       " '__class_getitem__',\n",
       " '__contains__',\n",
       " '__delattr__',\n",
       " '__delitem__',\n",
       " '__dir__',\n",
       " '__doc__',\n",
       " '__eq__',\n",
       " '__format__',\n",
       " '__ge__',\n",
       " '__getattribute__',\n",
       " '__getitem__',\n",
       " '__gt__',\n",
       " '__hash__',\n",
       " '__init__',\n",
       " '__init_subclass__',\n",
       " '__ior__',\n",
       " '__iter__',\n",
       " '__le__',\n",
       " '__len__',\n",
       " '__lt__',\n",
       " '__ne__',\n",
       " '__new__',\n",
       " '__or__',\n",
       " '__reduce__',\n",
       " '__reduce_ex__',\n",
       " '__repr__',\n",
       " '__reversed__',\n",
       " '__ror__',\n",
       " '__setattr__',\n",
       " '__setitem__',\n",
       " '__sizeof__',\n",
       " '__str__',\n",
       " '__subclasshook__',\n",
       " 'clear',\n",
       " 'copy',\n",
       " 'fromkeys',\n",
       " 'get',\n",
       " 'items',\n",
       " 'keys',\n",
       " 'pop',\n",
       " 'popitem',\n",
       " 'setdefault',\n",
       " 'update',\n",
       " 'values']"
      ]
     },
     "execution_count": 9,
     "metadata": {},
     "output_type": "execute_result"
    }
   ],
   "source": [
    "dir(dict)"
   ]
  },
  {
   "cell_type": "code",
   "execution_count": 10,
   "id": "bb4fc01d-b91d-4fd6-a368-0a5e4b3e9e74",
   "metadata": {},
   "outputs": [
    {
     "data": {
      "text/plain": [
       "['__add__',\n",
       " '__class__',\n",
       " '__class_getitem__',\n",
       " '__contains__',\n",
       " '__delattr__',\n",
       " '__delitem__',\n",
       " '__dir__',\n",
       " '__doc__',\n",
       " '__eq__',\n",
       " '__format__',\n",
       " '__ge__',\n",
       " '__getattribute__',\n",
       " '__getitem__',\n",
       " '__gt__',\n",
       " '__hash__',\n",
       " '__iadd__',\n",
       " '__imul__',\n",
       " '__init__',\n",
       " '__init_subclass__',\n",
       " '__iter__',\n",
       " '__le__',\n",
       " '__len__',\n",
       " '__lt__',\n",
       " '__mul__',\n",
       " '__ne__',\n",
       " '__new__',\n",
       " '__reduce__',\n",
       " '__reduce_ex__',\n",
       " '__repr__',\n",
       " '__reversed__',\n",
       " '__rmul__',\n",
       " '__setattr__',\n",
       " '__setitem__',\n",
       " '__sizeof__',\n",
       " '__str__',\n",
       " '__subclasshook__',\n",
       " 'append',\n",
       " 'clear',\n",
       " 'copy',\n",
       " 'count',\n",
       " 'extend',\n",
       " 'index',\n",
       " 'insert',\n",
       " 'pop',\n",
       " 'remove',\n",
       " 'reverse',\n",
       " 'sort']"
      ]
     },
     "execution_count": 10,
     "metadata": {},
     "output_type": "execute_result"
    }
   ],
   "source": [
    "dir(list)"
   ]
  },
  {
   "cell_type": "code",
   "execution_count": 11,
   "id": "5e3b9915-52f9-4320-b25b-703eac477f12",
   "metadata": {},
   "outputs": [
    {
     "data": {
      "text/plain": [
       "['__add__',\n",
       " '__class__',\n",
       " '__class_getitem__',\n",
       " '__contains__',\n",
       " '__delattr__',\n",
       " '__dir__',\n",
       " '__doc__',\n",
       " '__eq__',\n",
       " '__format__',\n",
       " '__ge__',\n",
       " '__getattribute__',\n",
       " '__getitem__',\n",
       " '__getnewargs__',\n",
       " '__gt__',\n",
       " '__hash__',\n",
       " '__init__',\n",
       " '__init_subclass__',\n",
       " '__iter__',\n",
       " '__le__',\n",
       " '__len__',\n",
       " '__lt__',\n",
       " '__mul__',\n",
       " '__ne__',\n",
       " '__new__',\n",
       " '__reduce__',\n",
       " '__reduce_ex__',\n",
       " '__repr__',\n",
       " '__rmul__',\n",
       " '__setattr__',\n",
       " '__sizeof__',\n",
       " '__str__',\n",
       " '__subclasshook__',\n",
       " 'count',\n",
       " 'index']"
      ]
     },
     "execution_count": 11,
     "metadata": {},
     "output_type": "execute_result"
    }
   ],
   "source": [
    "dir(tuple)"
   ]
  },
  {
   "cell_type": "markdown",
   "id": "4f8829b2-0fd2-4ab7-98b1-02d0540d9ea5",
   "metadata": {},
   "source": [
    "### Decorator Property."
   ]
  },
  {
   "cell_type": "markdown",
   "id": "148261c2-6c5e-4a2d-9324-c14d2690db44",
   "metadata": {
    "tags": []
   },
   "source": [
    "* #### setter(), getter(), deleter()"
   ]
  },
  {
   "cell_type": "code",
   "execution_count": 12,
   "id": "6e4bd288-4bec-4c8a-838f-214a08df5de7",
   "metadata": {},
   "outputs": [],
   "source": [
    "class pwskills:\n",
    "    def __init__(self, course_fee, name):\n",
    "        self.__course_fee = course_fee\n",
    "        self.name = name\n",
    "        \n",
    "    "
   ]
  },
  {
   "cell_type": "code",
   "execution_count": 13,
   "id": "231687ea-0ae0-4794-9cd2-cb1007683124",
   "metadata": {},
   "outputs": [],
   "source": [
    "pw = pwskills(3500, \"Data Science Masters\")"
   ]
  },
  {
   "cell_type": "code",
   "execution_count": 14,
   "id": "e020b85d-1073-40bc-835a-406876c2bbac",
   "metadata": {},
   "outputs": [
    {
     "data": {
      "text/plain": [
       "'Data Science Masters'"
      ]
     },
     "execution_count": 14,
     "metadata": {},
     "output_type": "execute_result"
    }
   ],
   "source": [
    "pw.name"
   ]
  },
  {
   "cell_type": "code",
   "execution_count": 15,
   "id": "a768bd6a-201c-4a50-b14d-76f6b8381d15",
   "metadata": {},
   "outputs": [
    {
     "data": {
      "text/plain": [
       "3500"
      ]
     },
     "execution_count": 15,
     "metadata": {},
     "output_type": "execute_result"
    }
   ],
   "source": [
    "pw._pwskills__course_fee"
   ]
  },
  {
   "cell_type": "markdown",
   "id": "9e05de09-7bc9-40bf-a9e9-dfca2b1958c7",
   "metadata": {},
   "source": [
    "* no underscore - public\n",
    "* '_'   -   protected\n",
    "* '__'  -   private"
   ]
  },
  {
   "cell_type": "code",
   "execution_count": 31,
   "id": "984d44ad-3cd5-48eb-9d49-f38bb561e4d1",
   "metadata": {},
   "outputs": [],
   "source": [
    "class pwskills1:\n",
    "    def __init__(self, course_fee, name):\n",
    "        self.__course_fee = course_fee\n",
    "        self.name = name\n",
    "        \n",
    "        \n",
    "    @property\n",
    "    def course_fee_access(self):\n",
    "        return self.__course_fee\n",
    "    \n",
    "    @course_fee_access.setter\n",
    "    def course_fee_set(self, price):\n",
    "        if price>=3500:\n",
    "            self.__course_fee = price\n",
    "        else:\n",
    "            pass\n",
    "        \n",
    "    \n",
    "    @course_fee_access.deleter\n",
    "    def course_fee_del(self):\n",
    "        del self.__course_fee\n"
   ]
  },
  {
   "cell_type": "code",
   "execution_count": 32,
   "id": "0421d297-2b7c-409d-b516-12c2dfa7fdda",
   "metadata": {},
   "outputs": [],
   "source": [
    "pw1 = pwskills1(3500, \"DataScience\")"
   ]
  },
  {
   "cell_type": "code",
   "execution_count": 33,
   "id": "9626232b-99ad-45a6-a6f7-d40b35e0daf6",
   "metadata": {},
   "outputs": [
    {
     "data": {
      "text/plain": [
       "'DataScience'"
      ]
     },
     "execution_count": 33,
     "metadata": {},
     "output_type": "execute_result"
    }
   ],
   "source": [
    "pw1.name"
   ]
  },
  {
   "cell_type": "code",
   "execution_count": 34,
   "id": "e9c05a46-3ead-4ad0-9ca2-f6c4efd1a9e6",
   "metadata": {},
   "outputs": [
    {
     "data": {
      "text/plain": [
       "3500"
      ]
     },
     "execution_count": 34,
     "metadata": {},
     "output_type": "execute_result"
    }
   ],
   "source": [
    "pw1.course_fee_access"
   ]
  },
  {
   "cell_type": "code",
   "execution_count": 35,
   "id": "45af7e5f-4303-4593-8394-f273aedca981",
   "metadata": {},
   "outputs": [],
   "source": [
    "pw1.course_fee_set = 3200"
   ]
  },
  {
   "cell_type": "code",
   "execution_count": 36,
   "id": "72bdba6b-ef95-449b-8241-8233a33b5aaf",
   "metadata": {},
   "outputs": [
    {
     "data": {
      "text/plain": [
       "3500"
      ]
     },
     "execution_count": 36,
     "metadata": {},
     "output_type": "execute_result"
    }
   ],
   "source": [
    "pw1.course_fee_access"
   ]
  },
  {
   "cell_type": "code",
   "execution_count": 37,
   "id": "ec2964dc-edad-4612-9fc4-97e55da192e5",
   "metadata": {},
   "outputs": [],
   "source": [
    "pw1.course_fee_set = 3900"
   ]
  },
  {
   "cell_type": "code",
   "execution_count": 38,
   "id": "93159aab-6dc4-4931-bf41-558758c4b5ca",
   "metadata": {},
   "outputs": [
    {
     "data": {
      "text/plain": [
       "3900"
      ]
     },
     "execution_count": 38,
     "metadata": {},
     "output_type": "execute_result"
    }
   ],
   "source": [
    "pw1.course_fee_access"
   ]
  },
  {
   "cell_type": "code",
   "execution_count": 41,
   "id": "cb47e35d-77bf-418d-a105-af274198ee1f",
   "metadata": {},
   "outputs": [],
   "source": [
    "del pw1.course_fee_del"
   ]
  },
  {
   "cell_type": "code",
   "execution_count": 42,
   "id": "fb1b25d5-7a5c-467b-a5c6-2f9d26376736",
   "metadata": {},
   "outputs": [
    {
     "ename": "AttributeError",
     "evalue": "'pwskills1' object has no attribute '_pwskills1__course_fee'",
     "output_type": "error",
     "traceback": [
      "\u001b[0;31m---------------------------------------------------------------------------\u001b[0m",
      "\u001b[0;31mAttributeError\u001b[0m                            Traceback (most recent call last)",
      "Cell \u001b[0;32mIn[42], line 1\u001b[0m\n\u001b[0;32m----> 1\u001b[0m \u001b[43mpw1\u001b[49m\u001b[38;5;241;43m.\u001b[39;49m\u001b[43mcourse_fee_access\u001b[49m\n",
      "Cell \u001b[0;32mIn[31], line 9\u001b[0m, in \u001b[0;36mpwskills1.course_fee_access\u001b[0;34m(self)\u001b[0m\n\u001b[1;32m      7\u001b[0m \u001b[38;5;129m@property\u001b[39m\n\u001b[1;32m      8\u001b[0m \u001b[38;5;28;01mdef\u001b[39;00m \u001b[38;5;21mcourse_fee_access\u001b[39m(\u001b[38;5;28mself\u001b[39m):\n\u001b[0;32m----> 9\u001b[0m     \u001b[38;5;28;01mreturn\u001b[39;00m \u001b[38;5;28;43mself\u001b[39;49m\u001b[38;5;241;43m.\u001b[39;49m\u001b[43m__course_fee\u001b[49m\n",
      "\u001b[0;31mAttributeError\u001b[0m: 'pwskills1' object has no attribute '_pwskills1__course_fee'"
     ]
    }
   ],
   "source": [
    "pw1.course_fee_access"
   ]
  },
  {
   "cell_type": "code",
   "execution_count": null,
   "id": "e3124d54-312f-4128-9316-cc4afc07aa5b",
   "metadata": {},
   "outputs": [],
   "source": []
  }
 ],
 "metadata": {
  "kernelspec": {
   "display_name": "Python 3 (ipykernel)",
   "language": "python",
   "name": "python3"
  },
  "language_info": {
   "codemirror_mode": {
    "name": "ipython",
    "version": 3
   },
   "file_extension": ".py",
   "mimetype": "text/x-python",
   "name": "python",
   "nbconvert_exporter": "python",
   "pygments_lexer": "ipython3",
   "version": "3.10.8"
  }
 },
 "nbformat": 4,
 "nbformat_minor": 5
}
