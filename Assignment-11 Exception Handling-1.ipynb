{
 "cells": [
  {
   "cell_type": "markdown",
   "id": "20d16702-5c52-4942-ba71-6653564a98ed",
   "metadata": {},
   "source": [
    "Q1. What is an Exception in Python? Write the difference between Exceptions and syntax error?"
   ]
  },
  {
   "cell_type": "markdown",
   "id": "58393526-1832-4f8e-85c0-bdc1ab1fab8e",
   "metadata": {},
   "source": [
    ":- Exception is unexpected event that occurs during the program execution. Error that occur at runtime (after passing the syntax test) are called exceptions or logical error. They occur when we \n",
    "\n",
    "* try to open a file that not exist in read('r') mode - (FileNotFoundError)\n",
    "* try to divide a no by zero - (ZeroDivisionError)\n",
    "* try to import a module that does not exist - (ImportError)\n",
    "\n",
    "An error is an issue in a program that prevents the program from completing its task. In comparison, an exception is a condition that interrupts the normal flow of the program. Both errors and exceptions are a type of runtime error, which means they occur during the execution of a program."
   ]
  },
  {
   "cell_type": "code",
   "execution_count": null,
   "id": "9cf9821a-17f0-4f44-9c7c-fa31a1ec7bf2",
   "metadata": {},
   "outputs": [],
   "source": []
  },
  {
   "cell_type": "markdown",
   "id": "751f4c32-d543-4693-ac47-45d62ea012cb",
   "metadata": {},
   "source": [
    "Q2. What happens when Exception is not handled? Explain with an example?"
   ]
  },
  {
   "cell_type": "code",
   "execution_count": 1,
   "id": "b4a0ed97-99bf-4abb-bb25-7485cd88989c",
   "metadata": {},
   "outputs": [],
   "source": [
    "a = 10"
   ]
  },
  {
   "cell_type": "code",
   "execution_count": 2,
   "id": "ae40b5db-4601-44a5-849a-9f436fccf197",
   "metadata": {},
   "outputs": [
    {
     "ename": "ZeroDivisionError",
     "evalue": "division by zero",
     "output_type": "error",
     "traceback": [
      "\u001b[0;31m---------------------------------------------------------------------------\u001b[0m",
      "\u001b[0;31mZeroDivisionError\u001b[0m                         Traceback (most recent call last)",
      "Cell \u001b[0;32mIn[2], line 1\u001b[0m\n\u001b[0;32m----> 1\u001b[0m \u001b[43ma\u001b[49m\u001b[38;5;241;43m/\u001b[39;49m\u001b[38;5;241;43m0\u001b[39;49m\n",
      "\u001b[0;31mZeroDivisionError\u001b[0m: division by zero"
     ]
    }
   ],
   "source": [
    "a/0"
   ]
  },
  {
   "cell_type": "code",
   "execution_count": 3,
   "id": "6301f991-fd27-4633-bd7e-4208f6908024",
   "metadata": {},
   "outputs": [
    {
     "name": "stdout",
     "output_type": "stream",
     "text": [
      "There is some issue in program:  division by zero\n"
     ]
    }
   ],
   "source": [
    "try:\n",
    "    a/0\n",
    "\n",
    "except Exception as e:\n",
    "    print(\"There is some issue in program: \",e)"
   ]
  },
  {
   "cell_type": "markdown",
   "id": "7e32c861-0518-4bae-aae7-429d97747431",
   "metadata": {},
   "source": [
    ":- In the above program we can see when exception occur the program stops executing and throwing an error to handle this error we need to use Exception (except) block."
   ]
  },
  {
   "cell_type": "code",
   "execution_count": null,
   "id": "137e1e40-159d-4590-8750-37ddb09b2ccd",
   "metadata": {},
   "outputs": [],
   "source": []
  },
  {
   "cell_type": "markdown",
   "id": "a7657890-2730-4d89-b735-ac11ad28e29c",
   "metadata": {},
   "source": [
    "Q3. Which python statement is use to catch and handle the exceptions? Explain with an example?"
   ]
  },
  {
   "cell_type": "markdown",
   "id": "cb90fbcd-8cb3-49e4-bb56-111c2e4a2f73",
   "metadata": {},
   "source": [
    ":- In Python we have very important facility to handle the exception. try and except block, Basically except block can handle the Exception that are occur in program at runtime."
   ]
  },
  {
   "cell_type": "code",
   "execution_count": 5,
   "id": "e792bf5a-75f1-402d-a389-da06695bb7e0",
   "metadata": {},
   "outputs": [
    {
     "name": "stdout",
     "output_type": "stream",
     "text": [
      "There is some issue in the program  [Errno 2] No such file or directory: 'testfile.txt'\n",
      "Program Ends!!\n"
     ]
    }
   ],
   "source": [
    "try:\n",
    "    f = open(\"testfile.txt\",'r')\n",
    "    \n",
    "except Exception as e:\n",
    "    print(\"There is some issue in the program \",e)\n",
    "    \n",
    "finally:\n",
    "    print(\"Program Ends!!\")\n",
    "    "
   ]
  },
  {
   "cell_type": "code",
   "execution_count": null,
   "id": "bd35536e-c4e7-4200-bc79-e98b0ccd9d14",
   "metadata": {},
   "outputs": [],
   "source": []
  },
  {
   "cell_type": "markdown",
   "id": "ed0c36b5-9655-4361-b8e3-5fa8a2d4cfc6",
   "metadata": {},
   "source": [
    "Q4. Explain with example?\n",
    "\n",
    "* try and else\n",
    "* finally\n",
    "* raise"
   ]
  },
  {
   "cell_type": "code",
   "execution_count": 6,
   "id": "701869ca-0566-4fc7-aad1-02e1619243d0",
   "metadata": {},
   "outputs": [
    {
     "name": "stdout",
     "output_type": "stream",
     "text": [
      "This block is runs only if try block is executes completing without except block\n",
      "This block will always runs no matter if exception is raised or not\n"
     ]
    }
   ],
   "source": [
    "# try execpt else finally\n",
    "try:\n",
    "    f = open(\"file.txt\",\"w\")\n",
    "    f.write(\"Hello There!!\")\n",
    "\n",
    "except Exception as e:\n",
    "    print(e)\n",
    "    \n",
    "else:\n",
    "    f.close()\n",
    "    print(\"This block is runs only if try block is executes completing without except block\")\n",
    "    \n",
    "finally:\n",
    "    print(\"This block will always runs no matter if exception is raised or not\")\n"
   ]
  },
  {
   "cell_type": "code",
   "execution_count": 12,
   "id": "8d36a9fd-f756-4358-8a6f-d1dffff01cb1",
   "metadata": {},
   "outputs": [],
   "source": [
    "# raise\n",
    "\n",
    "class validatenum(Exception):\n",
    "    def __init__(self,msg):\n",
    "        self.msg = msg\n",
    "        \n",
    "def val_no(a):\n",
    "    if a < 0:\n",
    "        raise validatenum(\"The no should be positive.\")\n",
    "    elif a >=150:\n",
    "        raise validatenum (\"The no is too high!!\")\n",
    "    else:\n",
    "        print(\"The no is valid\")\n",
    "\n"
   ]
  },
  {
   "cell_type": "code",
   "execution_count": 13,
   "id": "831593c6-3468-45f2-9219-82c5cf85b5b6",
   "metadata": {},
   "outputs": [
    {
     "name": "stdin",
     "output_type": "stream",
     "text": [
      "Enter the number:  -25\n"
     ]
    },
    {
     "name": "stdout",
     "output_type": "stream",
     "text": [
      "The no should be positive.\n",
      "This block will always runs\n"
     ]
    }
   ],
   "source": [
    "try:\n",
    "    a = int(input(\"Enter the number: \"))\n",
    "    val_no(a)\n",
    "    \n",
    "except validatenum as e:\n",
    "    print(e)\n",
    "    \n",
    "finally:\n",
    "    print(\"This block will always runs\")"
   ]
  },
  {
   "cell_type": "code",
   "execution_count": null,
   "id": "7e474299-c3de-43d3-a1e2-902dfcb5f9ce",
   "metadata": {},
   "outputs": [],
   "source": []
  },
  {
   "cell_type": "markdown",
   "id": "032506e7-7a8d-46aa-b16f-7f086305297e",
   "metadata": {},
   "source": [
    "Q5. What are custom exception in Python? why do we need custom exception?\n",
    "\n",
    "Q6. creates custom exception class use this class to handle the exception."
   ]
  },
  {
   "cell_type": "markdown",
   "id": "09357c3a-e831-4be9-9976-91c5b7cb4233",
   "metadata": {},
   "source": [
    ":- Custom exception means user defined exceptions, If we want to create our own exceptions then we need to define that using the class and methods to handle the exception."
   ]
  },
  {
   "cell_type": "code",
   "execution_count": 14,
   "id": "ebe8dbc2-2289-46cb-981e-c30c313a6845",
   "metadata": {},
   "outputs": [],
   "source": [
    "class validatepassword(Exception):\n",
    "    def __init__(self, msg):\n",
    "        self.msg = msg\n",
    "        \n",
    "def val_pass(input1):\n",
    "    if len(input1)!=9:\n",
    "        raise validatepassword(\"The length of password should be 9 chars.\")\n",
    "    elif len(input1)==9:\n",
    "        print(\"Valid password!!\")\n"
   ]
  },
  {
   "cell_type": "code",
   "execution_count": 15,
   "id": "d7d61060-9b56-4ed0-bec3-96094d51b635",
   "metadata": {},
   "outputs": [
    {
     "name": "stdin",
     "output_type": "stream",
     "text": [
      "Enter pass  Asdrf1224\n"
     ]
    },
    {
     "name": "stdout",
     "output_type": "stream",
     "text": [
      "Valid password!!\n",
      "This will always exceutes\n"
     ]
    }
   ],
   "source": [
    "try:\n",
    "    password = input(\"Enter pass \")\n",
    "    val_pass(password)\n",
    "\n",
    "except validatepassword as e:\n",
    "    print(e)\n",
    "    \n",
    "finally:\n",
    "    print(\"This will always exceutes\")\n",
    "     "
   ]
  },
  {
   "cell_type": "code",
   "execution_count": null,
   "id": "30369b40-1ca2-4771-a874-0af5242d92e1",
   "metadata": {},
   "outputs": [],
   "source": []
  }
 ],
 "metadata": {
  "kernelspec": {
   "display_name": "Python 3 (ipykernel)",
   "language": "python",
   "name": "python3"
  },
  "language_info": {
   "codemirror_mode": {
    "name": "ipython",
    "version": 3
   },
   "file_extension": ".py",
   "mimetype": "text/x-python",
   "name": "python",
   "nbconvert_exporter": "python",
   "pygments_lexer": "ipython3",
   "version": "3.10.8"
  }
 },
 "nbformat": 4,
 "nbformat_minor": 5
}
