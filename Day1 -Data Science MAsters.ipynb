{
 "cells": [
  {
   "cell_type": "markdown",
   "id": "1b5d9afc-134e-4587-85ae-675fe016a4b3",
   "metadata": {},
   "source": [
    "# Welcome to Python"
   ]
  },
  {
   "cell_type": "markdown",
   "id": "9d7c3836-3e25-4363-8e78-752c51aa8ca5",
   "metadata": {},
   "source": [
    "#### Python was created by Guido Van Rossum and first released in 1991."
   ]
  },
  {
   "cell_type": "code",
   "execution_count": 5,
   "id": "ca34c111-16a2-472c-8f3e-c094582acabb",
   "metadata": {},
   "outputs": [
    {
     "data": {
      "text/plain": [
       "'3.10.8 | packaged by conda-forge | (main, Nov 22 2022, 08:26:04) [GCC 10.4.0]'"
      ]
     },
     "execution_count": 5,
     "metadata": {},
     "output_type": "execute_result"
    }
   ],
   "source": [
    "import sys\n",
    "sys.version"
   ]
  },
  {
   "cell_type": "code",
   "execution_count": 16,
   "id": "f1a32916-0b22-4891-9618-8c987c4a57f3",
   "metadata": {},
   "outputs": [],
   "source": [
    "a=10"
   ]
  },
  {
   "cell_type": "code",
   "execution_count": 17,
   "id": "3cc780eb-77d9-49ff-8f2c-952f6d6762cd",
   "metadata": {},
   "outputs": [
    {
     "data": {
      "text/plain": [
       "10"
      ]
     },
     "execution_count": 17,
     "metadata": {},
     "output_type": "execute_result"
    }
   ],
   "source": [
    "a"
   ]
  },
  {
   "cell_type": "code",
   "execution_count": 20,
   "id": "3eb5e2df-507e-4fcc-970e-51fd94d17523",
   "metadata": {},
   "outputs": [
    {
     "data": {
      "text/plain": [
       "20"
      ]
     },
     "execution_count": 20,
     "metadata": {},
     "output_type": "execute_result"
    }
   ],
   "source": [
    "## Single line Comments.\n",
    "## for single we use ##\n",
    "## this is a function\n",
    "# this is a comment\n",
    "a=20\n",
    "a"
   ]
  },
  {
   "cell_type": "code",
   "execution_count": 23,
   "id": "2389175a-cca1-4a66-acb8-84b6dd4b2801",
   "metadata": {},
   "outputs": [
    {
     "data": {
      "text/plain": [
       "20"
      ]
     },
     "execution_count": 23,
     "metadata": {},
     "output_type": "execute_result"
    }
   ],
   "source": [
    "\"\"\"\n",
    "Example of multiline comments\n",
    "hello this is a example of python\n",
    "dsfsdfdfdsf\n",
    "dfsdfsdfsdfdsf\n",
    "dfdsfdsfsdf\n",
    "\"\"\"\n",
    "a=20\n",
    "a"
   ]
  },
  {
   "cell_type": "markdown",
   "id": "71fbfe47-4824-42a6-87a9-7e0c2f71adb3",
   "metadata": {},
   "source": [
    "# hello\n",
    "## hello1\n",
    "### hello2\n",
    "\n",
    "1. hello guys how are you"
   ]
  },
  {
   "cell_type": "markdown",
   "id": "e473a53e-c6a6-4b07-9f6b-98ef306e47b1",
   "metadata": {},
   "source": [
    "### Numbers"
   ]
  },
  {
   "cell_type": "code",
   "execution_count": 26,
   "id": "e3d3ec40-acb1-4ff6-a8a9-c0d27c8ffe00",
   "metadata": {},
   "outputs": [
    {
     "data": {
      "text/plain": [
       "4"
      ]
     },
     "execution_count": 26,
     "metadata": {},
     "output_type": "execute_result"
    }
   ],
   "source": [
    "1+3"
   ]
  },
  {
   "cell_type": "code",
   "execution_count": 27,
   "id": "78a10e2f-7636-45e4-8ea2-1eabce896551",
   "metadata": {},
   "outputs": [
    {
     "name": "stdout",
     "output_type": "stream",
     "text": [
      "4\n"
     ]
    }
   ],
   "source": [
    "print(1+3)"
   ]
  },
  {
   "cell_type": "code",
   "execution_count": 29,
   "id": "beb5cced-2e48-49a7-a6d3-8b8f35670b73",
   "metadata": {},
   "outputs": [
    {
     "name": "stdout",
     "output_type": "stream",
     "text": [
      "5\n"
     ]
    }
   ],
   "source": [
    "a=5\n",
    "print(a)"
   ]
  },
  {
   "cell_type": "code",
   "execution_count": 3,
   "id": "caca7433-147f-48fa-ae22-6d3af37ca424",
   "metadata": {},
   "outputs": [
    {
     "name": "stdout",
     "output_type": "stream",
     "text": [
      "hello world my name is Yash\n"
     ]
    }
   ],
   "source": [
    "print(\"hello world my name is Yash\")"
   ]
  },
  {
   "cell_type": "markdown",
   "id": "f4d82d79-aed7-49b4-90f8-e08a332d381a",
   "metadata": {},
   "source": [
    "## Variables Assignment"
   ]
  },
  {
   "cell_type": "code",
   "execution_count": 1,
   "id": "971ea0ae-5a22-46c6-843c-4352b7d9f36b",
   "metadata": {},
   "outputs": [],
   "source": [
    "name=\"Yash\"\n",
    "company=\"PWskills and ineuron\""
   ]
  },
  {
   "cell_type": "code",
   "execution_count": 45,
   "id": "d3ed327b-2923-488b-8fe8-af3270872b29",
   "metadata": {},
   "outputs": [
    {
     "data": {
      "text/plain": [
       "str"
      ]
     },
     "execution_count": 45,
     "metadata": {},
     "output_type": "execute_result"
    }
   ],
   "source": [
    "type(\"sfdfdfsdf\")"
   ]
  },
  {
   "cell_type": "code",
   "execution_count": 46,
   "id": "e5c73eba-4909-4c22-b901-562e068e4e69",
   "metadata": {},
   "outputs": [
    {
     "data": {
      "text/plain": [
       "str"
      ]
     },
     "execution_count": 46,
     "metadata": {},
     "output_type": "execute_result"
    }
   ],
   "source": [
    "type(name)"
   ]
  },
  {
   "cell_type": "code",
   "execution_count": null,
   "id": "605bb551-5105-42f7-969c-2a4bca0997c2",
   "metadata": {},
   "outputs": [],
   "source": []
  },
  {
   "cell_type": "code",
   "execution_count": 39,
   "id": "ec3b5960-7990-41ae-b562-10cca4727062",
   "metadata": {},
   "outputs": [],
   "source": [
    "name=\"Bala\""
   ]
  },
  {
   "cell_type": "code",
   "execution_count": 40,
   "id": "f3eaf7f2-3cea-488e-a9d8-7dbeb0bce03e",
   "metadata": {},
   "outputs": [
    {
     "data": {
      "text/plain": [
       "'Bala'"
      ]
     },
     "execution_count": 40,
     "metadata": {},
     "output_type": "execute_result"
    }
   ],
   "source": [
    "name"
   ]
  },
  {
   "cell_type": "code",
   "execution_count": 36,
   "id": "e42fc652-5930-4bd5-829f-eea22a553c42",
   "metadata": {},
   "outputs": [
    {
     "data": {
      "text/plain": [
       "'PWskills and ineuron'"
      ]
     },
     "execution_count": 36,
     "metadata": {},
     "output_type": "execute_result"
    }
   ],
   "source": [
    "company"
   ]
  },
  {
   "cell_type": "code",
   "execution_count": 37,
   "id": "127ab07b-7788-44cd-81a4-1dc95890f0b9",
   "metadata": {},
   "outputs": [],
   "source": [
    "number=10"
   ]
  },
  {
   "cell_type": "code",
   "execution_count": 47,
   "id": "55cc9205-c02b-4cd1-8b94-52e8228c3488",
   "metadata": {},
   "outputs": [
    {
     "data": {
      "text/plain": [
       "int"
      ]
     },
     "execution_count": 47,
     "metadata": {},
     "output_type": "execute_result"
    }
   ],
   "source": [
    "type(number)"
   ]
  },
  {
   "cell_type": "code",
   "execution_count": 41,
   "id": "e39cea8f-8787-4204-ba53-49d4c85d553c",
   "metadata": {},
   "outputs": [
    {
     "data": {
      "text/plain": [
       "20"
      ]
     },
     "execution_count": 41,
     "metadata": {},
     "output_type": "execute_result"
    }
   ],
   "source": [
    "number=20\n",
    "number"
   ]
  },
  {
   "cell_type": "code",
   "execution_count": 48,
   "id": "8e39ba66-b14d-48f1-80e9-db85a7c16ad5",
   "metadata": {},
   "outputs": [],
   "source": [
    "decimal_num=2.5"
   ]
  },
  {
   "cell_type": "code",
   "execution_count": 49,
   "id": "296f5308-8cc5-4309-922b-926178aa5380",
   "metadata": {},
   "outputs": [
    {
     "data": {
      "text/plain": [
       "2.5"
      ]
     },
     "execution_count": 49,
     "metadata": {},
     "output_type": "execute_result"
    }
   ],
   "source": [
    "decimal_num"
   ]
  },
  {
   "cell_type": "code",
   "execution_count": 50,
   "id": "1e8f96c4-c830-460e-98f0-384414a277f3",
   "metadata": {},
   "outputs": [
    {
     "data": {
      "text/plain": [
       "float"
      ]
     },
     "execution_count": 50,
     "metadata": {},
     "output_type": "execute_result"
    }
   ],
   "source": [
    "type(decimal_num)"
   ]
  },
  {
   "cell_type": "code",
   "execution_count": 51,
   "id": "eb82eef2-1ab0-4e4d-891c-118db4ab1253",
   "metadata": {},
   "outputs": [
    {
     "data": {
      "text/plain": [
       "str"
      ]
     },
     "execution_count": 51,
     "metadata": {},
     "output_type": "execute_result"
    }
   ],
   "source": [
    "type(\"hello\")"
   ]
  },
  {
   "cell_type": "code",
   "execution_count": 54,
   "id": "83faa0d6-e219-4ec8-a1d8-6f21bc06af38",
   "metadata": {},
   "outputs": [
    {
     "data": {
      "text/plain": [
       "complex"
      ]
     },
     "execution_count": 54,
     "metadata": {},
     "output_type": "execute_result"
    }
   ],
   "source": [
    "type(1+2j)"
   ]
  },
  {
   "cell_type": "code",
   "execution_count": 55,
   "id": "6b3ebbb0-abf7-4a6f-8ef1-7f2c7dd60e2c",
   "metadata": {},
   "outputs": [
    {
     "name": "stdout",
     "output_type": "stream",
     "text": [
      "hello\n",
      "hello\n"
     ]
    }
   ],
   "source": [
    "print('hello')\n",
    "print(\"hello\")"
   ]
  },
  {
   "cell_type": "code",
   "execution_count": null,
   "id": "d1544044-b8db-4445-93ad-15033b400802",
   "metadata": {},
   "outputs": [],
   "source": [
    "##bad way\n",
    "## dont start the variable name with numbers\n",
    "1a\n",
    "3answer"
   ]
  },
  {
   "cell_type": "code",
   "execution_count": 56,
   "id": "9eda26fa-89ad-4245-ae05-4a9c5882ea52",
   "metadata": {},
   "outputs": [],
   "source": [
    "number1=23"
   ]
  },
  {
   "cell_type": "code",
   "execution_count": 59,
   "id": "932358cd-5192-45ef-ab65-377df8349d0c",
   "metadata": {},
   "outputs": [
    {
     "name": "stdout",
     "output_type": "stream",
     "text": [
      "ineuron\n",
      "PWSKILLS\n"
     ]
    }
   ],
   "source": [
    "## Variables are case sensitive\n",
    "company='ineuron'\n",
    "Company='PWSKILLS'\n",
    "print(company)\n",
    "print(Company)"
   ]
  },
  {
   "cell_type": "code",
   "execution_count": null,
   "id": "b6d6fb21-beb8-4cff-9626-a74b9c4c09c9",
   "metadata": {},
   "outputs": [],
   "source": [
    "## Reserved keywords\n",
    "'''\n",
    "int,float,len,complex,bool,str,return,yield\n",
    "'''"
   ]
  },
  {
   "cell_type": "code",
   "execution_count": null,
   "id": "6a734953-17b8-4196-90de-4b7616332766",
   "metadata": {},
   "outputs": [],
   "source": [
    "float=32"
   ]
  },
  {
   "cell_type": "code",
   "execution_count": 61,
   "id": "8a2b871d-6451-4919-9a47-f8c858b35267",
   "metadata": {},
   "outputs": [
    {
     "data": {
      "text/plain": [
       "True"
      ]
     },
     "execution_count": 61,
     "metadata": {},
     "output_type": "execute_result"
    }
   ],
   "source": [
    "##Boolean\n",
    "True"
   ]
  },
  {
   "cell_type": "code",
   "execution_count": 62,
   "id": "13b61e46-94d4-4ca0-bf8d-e37037e4e094",
   "metadata": {},
   "outputs": [
    {
     "data": {
      "text/plain": [
       "False"
      ]
     },
     "execution_count": 62,
     "metadata": {},
     "output_type": "execute_result"
    }
   ],
   "source": [
    "False"
   ]
  },
  {
   "cell_type": "code",
   "execution_count": 63,
   "id": "5dab5101-167b-4581-a849-e0498b5c317c",
   "metadata": {},
   "outputs": [
    {
     "data": {
      "text/plain": [
       "False"
      ]
     },
     "execution_count": 63,
     "metadata": {},
     "output_type": "execute_result"
    }
   ],
   "source": [
    "True and False"
   ]
  },
  {
   "cell_type": "code",
   "execution_count": 64,
   "id": "fe2c1827-bfba-4267-a8e9-900c0387f019",
   "metadata": {},
   "outputs": [
    {
     "data": {
      "text/plain": [
       "True"
      ]
     },
     "execution_count": 64,
     "metadata": {},
     "output_type": "execute_result"
    }
   ],
   "source": [
    "True or False"
   ]
  },
  {
   "cell_type": "code",
   "execution_count": 67,
   "id": "c120399d-d02c-4770-bc6a-384d336daff9",
   "metadata": {},
   "outputs": [
    {
     "data": {
      "text/plain": [
       "False"
      ]
     },
     "execution_count": 67,
     "metadata": {},
     "output_type": "execute_result"
    }
   ],
   "source": [
    "not True"
   ]
  },
  {
   "cell_type": "code",
   "execution_count": 69,
   "id": "1351bec8-2e41-458d-9dae-c0268f28fd40",
   "metadata": {},
   "outputs": [
    {
     "data": {
      "text/plain": [
       "bool"
      ]
     },
     "execution_count": 69,
     "metadata": {},
     "output_type": "execute_result"
    }
   ],
   "source": [
    "type(not False)"
   ]
  },
  {
   "cell_type": "code",
   "execution_count": 77,
   "id": "53534b69-4ce1-4853-9f82-9fed89d189f1",
   "metadata": {},
   "outputs": [
    {
     "data": {
      "text/plain": [
       "False"
      ]
     },
     "execution_count": 77,
     "metadata": {},
     "output_type": "execute_result"
    }
   ],
   "source": [
    "## Typecasting\n",
    "bool(0)"
   ]
  },
  {
   "cell_type": "code",
   "execution_count": 78,
   "id": "80170bec-41e6-47f4-8175-31903d56ab07",
   "metadata": {},
   "outputs": [
    {
     "data": {
      "text/plain": [
       "'23'"
      ]
     },
     "execution_count": 78,
     "metadata": {},
     "output_type": "execute_result"
    }
   ],
   "source": [
    "str(23)"
   ]
  },
  {
   "cell_type": "code",
   "execution_count": 79,
   "id": "2f8b8904-63f7-4f58-9c07-33e3ed046c57",
   "metadata": {},
   "outputs": [
    {
     "data": {
      "text/plain": [
       "23"
      ]
     },
     "execution_count": 79,
     "metadata": {},
     "output_type": "execute_result"
    }
   ],
   "source": [
    "int('23')"
   ]
  },
  {
   "cell_type": "code",
   "execution_count": 80,
   "id": "f1ec5c3f-0c4b-40e1-9386-d06d7c818f36",
   "metadata": {},
   "outputs": [
    {
     "data": {
      "text/plain": [
       "int"
      ]
     },
     "execution_count": 80,
     "metadata": {},
     "output_type": "execute_result"
    }
   ],
   "source": [
    "type(int('23'))"
   ]
  },
  {
   "cell_type": "code",
   "execution_count": 71,
   "id": "ba88b2c8-28ef-4480-a3a5-7a6749983e86",
   "metadata": {},
   "outputs": [
    {
     "data": {
      "text/plain": [
       "True"
      ]
     },
     "execution_count": 71,
     "metadata": {},
     "output_type": "execute_result"
    }
   ],
   "source": [
    "bool(1)"
   ]
  },
  {
   "cell_type": "code",
   "execution_count": 76,
   "id": "d640e261-2add-4bcc-863a-61720fbf9ca6",
   "metadata": {},
   "outputs": [
    {
     "name": "stdout",
     "output_type": "stream",
     "text": [
      "True\n"
     ]
    }
   ],
   "source": [
    "a=1\n",
    "if bool(a)==True:\n",
    "    \n",
    "    print(\"True\")"
   ]
  },
  {
   "cell_type": "code",
   "execution_count": 85,
   "id": "23ad6da2-7e44-4f8a-99f3-0f994aadbffe",
   "metadata": {},
   "outputs": [
    {
     "data": {
      "text/plain": [
       "123"
      ]
     },
     "execution_count": 85,
     "metadata": {},
     "output_type": "execute_result"
    }
   ],
   "source": [
    "int('123')"
   ]
  },
  {
   "cell_type": "markdown",
   "id": "5e3efeb7-a315-46e7-90c3-e1a3276f0767",
   "metadata": {},
   "source": [
    "### Dynamic Typing"
   ]
  },
  {
   "cell_type": "code",
   "execution_count": 82,
   "id": "a2e0d9fb-b759-4f56-aa55-6e381adbc4da",
   "metadata": {},
   "outputs": [],
   "source": [
    "a=12\n",
    "str1=\"Krissh\"\n",
    "a=\"var\""
   ]
  },
  {
   "cell_type": "code",
   "execution_count": 83,
   "id": "a28c8802-996d-44b0-977b-59428c76cb68",
   "metadata": {},
   "outputs": [
    {
     "name": "stdout",
     "output_type": "stream",
     "text": [
      "<class 'str'>\n"
     ]
    }
   ],
   "source": [
    "print(type(a))"
   ]
  },
  {
   "cell_type": "code",
   "execution_count": 86,
   "id": "cf6e3443-acd9-45a5-b020-fd4ce7430d3b",
   "metadata": {},
   "outputs": [
    {
     "data": {
      "text/plain": [
       "1"
      ]
     },
     "execution_count": 86,
     "metadata": {},
     "output_type": "execute_result"
    }
   ],
   "source": [
    "int(1.54)"
   ]
  },
  {
   "cell_type": "code",
   "execution_count": 87,
   "id": "3b9500aa-2400-4bed-bd8b-888771f0682a",
   "metadata": {},
   "outputs": [],
   "source": [
    "## concatenation between different types"
   ]
  },
  {
   "cell_type": "code",
   "execution_count": 2,
   "id": "9194b55a-dacb-4151-ba1a-55752727ed03",
   "metadata": {},
   "outputs": [
    {
     "data": {
      "text/plain": [
       "2"
      ]
     },
     "execution_count": 2,
     "metadata": {},
     "output_type": "execute_result"
    }
   ],
   "source": [
    "int(\"1\") + int(\"1\")"
   ]
  },
  {
   "cell_type": "code",
   "execution_count": 92,
   "id": "2e3cbfe3-9e1a-43f5-8ef4-418e31a90e01",
   "metadata": {},
   "outputs": [
    {
     "data": {
      "text/plain": [
       "'1111111111111111111111111111111111111111111111111111111111111111111111111111111111111111111111111111'"
      ]
     },
     "execution_count": 92,
     "metadata": {},
     "output_type": "execute_result"
    }
   ],
   "source": [
    "\"1\" * 100"
   ]
  },
  {
   "cell_type": "markdown",
   "id": "4a2923b8-998d-4d5f-9745-50dbdf0efd68",
   "metadata": {},
   "source": [
    "## Containers or Collection Types\n",
    "1. List\n",
    "2. Tuple\n",
    "3. Set\n",
    "4. Dictionary"
   ]
  },
  {
   "cell_type": "code",
   "execution_count": 7,
   "id": "aaa90912-fa74-44c5-9c17-9d552c8f8a91",
   "metadata": {},
   "outputs": [
    {
     "data": {
      "text/plain": [
       "[1, 2, 4, 7]"
      ]
     },
     "execution_count": 7,
     "metadata": {},
     "output_type": "execute_result"
    }
   ],
   "source": [
    "# List is Mutable\n",
    "l=[1,2,4,7]\n",
    "l"
   ]
  },
  {
   "cell_type": "code",
   "execution_count": 8,
   "id": "b57c6cf4-667e-463d-a1fb-780f61d15d91",
   "metadata": {},
   "outputs": [
    {
     "data": {
      "text/plain": [
       "1"
      ]
     },
     "execution_count": 8,
     "metadata": {},
     "output_type": "execute_result"
    }
   ],
   "source": [
    "l[0]"
   ]
  },
  {
   "cell_type": "code",
   "execution_count": 10,
   "id": "41453e4f-9a0b-4aa5-815b-8867d33eeab2",
   "metadata": {},
   "outputs": [
    {
     "data": {
      "text/plain": [
       "[7, 4, 2, 1]"
      ]
     },
     "execution_count": 10,
     "metadata": {},
     "output_type": "execute_result"
    }
   ],
   "source": [
    "l[::-1]"
   ]
  },
  {
   "cell_type": "code",
   "execution_count": 11,
   "id": "e2b820bf-b6f9-4e55-9441-f79fcbf3730c",
   "metadata": {},
   "outputs": [
    {
     "data": {
      "text/plain": [
       "[2]"
      ]
     },
     "execution_count": 11,
     "metadata": {},
     "output_type": "execute_result"
    }
   ],
   "source": [
    "l[1::3]"
   ]
  },
  {
   "cell_type": "code",
   "execution_count": 13,
   "id": "e8e9009c-e8cd-421b-807f-4dd923a9f708",
   "metadata": {},
   "outputs": [
    {
     "name": "stdout",
     "output_type": "stream",
     "text": [
      "(2, 5, 8, 0, 4)\n"
     ]
    }
   ],
   "source": [
    "#tuples are immutable\n",
    "t=(2,5,8,0,4)\n",
    "print(t)"
   ]
  },
  {
   "cell_type": "code",
   "execution_count": 21,
   "id": "2621754c-24dd-4de4-82bc-303fe5df8d99",
   "metadata": {},
   "outputs": [
    {
     "data": {
      "text/plain": [
       "(4, 2)"
      ]
     },
     "execution_count": 21,
     "metadata": {},
     "output_type": "execute_result"
    }
   ],
   "source": [
    "t[-1::-4]"
   ]
  },
  {
   "cell_type": "code",
   "execution_count": 22,
   "id": "51f89642-0f2c-4cea-9152-982198339846",
   "metadata": {},
   "outputs": [],
   "source": [
    "#Sets\n",
    "DataScientist={'Python','R','SQL','PowerBI','Tableau','git'}\n",
    "DataEngineer={'Python','git','Hadoop','Java','Scala'}"
   ]
  },
  {
   "cell_type": "code",
   "execution_count": 23,
   "id": "ed1e38b6-e5d8-4c33-8f9d-bd8f5dee4883",
   "metadata": {},
   "outputs": [
    {
     "data": {
      "text/plain": [
       "{'PowerBI', 'Python', 'R', 'SQL', 'Tableau', 'git'}"
      ]
     },
     "execution_count": 23,
     "metadata": {},
     "output_type": "execute_result"
    }
   ],
   "source": [
    "DataScientist"
   ]
  },
  {
   "cell_type": "code",
   "execution_count": 24,
   "id": "c36c11f5-0da5-48eb-ac0b-fd9f805234a2",
   "metadata": {},
   "outputs": [
    {
     "data": {
      "text/plain": [
       "{'Hadoop', 'Java', 'Python', 'Scala', 'git'}"
      ]
     },
     "execution_count": 24,
     "metadata": {},
     "output_type": "execute_result"
    }
   ],
   "source": [
    "DataEngineer"
   ]
  },
  {
   "cell_type": "code",
   "execution_count": 28,
   "id": "9383affd-aee0-44e0-b7bb-50a841c4bd8e",
   "metadata": {},
   "outputs": [
    {
     "name": "stdout",
     "output_type": "stream",
     "text": [
      "140523954412832\n",
      "140523954415296\n"
     ]
    }
   ],
   "source": [
    "print(id(DataScientist))\n",
    "print(id(DataEngineer))"
   ]
  },
  {
   "cell_type": "code",
   "execution_count": 29,
   "id": "6315de7b-ed2a-45f3-949e-cfe4bfe4d055",
   "metadata": {},
   "outputs": [],
   "source": [
    "#Dictionaries are unordered, mutable key-value pairs\n",
    "d={1:'A',3:'T',5:'O'}\n"
   ]
  },
  {
   "cell_type": "code",
   "execution_count": 32,
   "id": "2ec5c551-d613-4c59-addb-4d5972d6367b",
   "metadata": {},
   "outputs": [
    {
     "name": "stdout",
     "output_type": "stream",
     "text": [
      "dict_keys([1, 3, 5])\n"
     ]
    }
   ],
   "source": [
    "print(d.keys())"
   ]
  },
  {
   "cell_type": "code",
   "execution_count": 41,
   "id": "2e59c43f-4b1f-4741-95ee-01d8fc227e87",
   "metadata": {},
   "outputs": [
    {
     "name": "stdout",
     "output_type": "stream",
     "text": [
      "1\n",
      "3\n",
      "5\n"
     ]
    }
   ],
   "source": [
    "for i in d:\n",
    "    print(i)"
   ]
  },
  {
   "cell_type": "code",
   "execution_count": 42,
   "id": "dd52a879-62a9-498d-a1ee-7d15082eeaab",
   "metadata": {},
   "outputs": [
    {
     "name": "stdout",
     "output_type": "stream",
     "text": [
      "A\n",
      "T\n",
      "O\n"
     ]
    }
   ],
   "source": [
    "for i in d:\n",
    "    print(d[i])"
   ]
  },
  {
   "cell_type": "code",
   "execution_count": null,
   "id": "18194f01-d72d-40ff-b662-7ce1bcdf0262",
   "metadata": {},
   "outputs": [],
   "source": []
  }
 ],
 "metadata": {
  "kernelspec": {
   "display_name": "Python 3 (ipykernel)",
   "language": "python",
   "name": "python3"
  },
  "language_info": {
   "codemirror_mode": {
    "name": "ipython",
    "version": 3
   },
   "file_extension": ".py",
   "mimetype": "text/x-python",
   "name": "python",
   "nbconvert_exporter": "python",
   "pygments_lexer": "ipython3",
   "version": "3.10.8"
  }
 },
 "nbformat": 4,
 "nbformat_minor": 5
}
