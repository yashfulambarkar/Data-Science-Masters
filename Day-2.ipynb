{
 "cells": [
  {
   "cell_type": "markdown",
   "id": "8505d50f-8853-40d7-9691-b2864970382a",
   "metadata": {
    "tags": []
   },
   "source": [
    "## TypeCasting"
   ]
  },
  {
   "cell_type": "code",
   "execution_count": 1,
   "id": "e002c884-7853-42d3-8bb3-d86803f6352b",
   "metadata": {},
   "outputs": [
    {
     "data": {
      "text/plain": [
       "int"
      ]
     },
     "execution_count": 1,
     "metadata": {},
     "output_type": "execute_result"
    }
   ],
   "source": [
    "a=10\n",
    "type(a)"
   ]
  },
  {
   "cell_type": "code",
   "execution_count": 2,
   "id": "ea4a63bb-dd6c-4285-8976-a76bb9234fb4",
   "metadata": {},
   "outputs": [
    {
     "data": {
      "text/plain": [
       "12"
      ]
     },
     "execution_count": 2,
     "metadata": {},
     "output_type": "execute_result"
    }
   ],
   "source": [
    "int('12')"
   ]
  },
  {
   "cell_type": "code",
   "execution_count": 3,
   "id": "16c550a8-8bf4-44ff-a8be-f09c1c56e07b",
   "metadata": {},
   "outputs": [
    {
     "data": {
      "text/plain": [
       "'246'"
      ]
     },
     "execution_count": 3,
     "metadata": {},
     "output_type": "execute_result"
    }
   ],
   "source": [
    "str(246)"
   ]
  },
  {
   "cell_type": "code",
   "execution_count": 4,
   "id": "f079a41d-d236-4196-96da-62f308c9cdb3",
   "metadata": {},
   "outputs": [
    {
     "data": {
      "text/plain": [
       "35"
      ]
     },
     "execution_count": 4,
     "metadata": {},
     "output_type": "execute_result"
    }
   ],
   "source": [
    "int(35.2)"
   ]
  },
  {
   "cell_type": "code",
   "execution_count": 7,
   "id": "59c066bc-70f3-4576-ab72-4a11f0d81b17",
   "metadata": {},
   "outputs": [
    {
     "data": {
      "text/plain": [
       "'(1+2j)'"
      ]
     },
     "execution_count": 7,
     "metadata": {},
     "output_type": "execute_result"
    }
   ],
   "source": [
    "str(1+2j)"
   ]
  },
  {
   "cell_type": "markdown",
   "id": "21f4484b-4168-46bf-a6f7-3f39f3b23af5",
   "metadata": {},
   "source": [
    "### Print Formating"
   ]
  },
  {
   "cell_type": "code",
   "execution_count": 8,
   "id": "b7a391ca-c54b-42af-a5a8-a3a647de3b67",
   "metadata": {},
   "outputs": [
    {
     "name": "stdout",
     "output_type": "stream",
     "text": [
      "Hello !!\n"
     ]
    }
   ],
   "source": [
    "print('Hello !!')"
   ]
  },
  {
   "cell_type": "code",
   "execution_count": 19,
   "id": "a46d1389-856a-4569-95be-7f4bc0067dfb",
   "metadata": {},
   "outputs": [
    {
     "name": "stdout",
     "output_type": "stream",
     "text": [
      "My Name is Yash\n"
     ]
    }
   ],
   "source": [
    "Name=\"Yash\"\n",
    "Age=23\n",
    "print(\"My Name is\",Name)"
   ]
  },
  {
   "cell_type": "code",
   "execution_count": 16,
   "id": "b3745e31-3671-49ee-a951-9d996d426ba4",
   "metadata": {},
   "outputs": [
    {
     "name": "stdout",
     "output_type": "stream",
     "text": [
      "My name is Yash\n"
     ]
    }
   ],
   "source": [
    "print(f\"My name is {Name}\")"
   ]
  },
  {
   "cell_type": "code",
   "execution_count": 23,
   "id": "e9b6f704-9947-4832-92d6-d81f5d41305d",
   "metadata": {},
   "outputs": [
    {
     "name": "stdout",
     "output_type": "stream",
     "text": [
      "My Name is Yash and My age is 23 \n"
     ]
    }
   ],
   "source": [
    "# Placeholder\n",
    "\n",
    "print(\"My Name is {n1} and My age is {a1} \".format(n1=Name,a1=Age))"
   ]
  },
  {
   "cell_type": "code",
   "execution_count": 26,
   "id": "8a3627e8-c306-4acd-847c-75f97ec0b606",
   "metadata": {},
   "outputs": [
    {
     "name": "stdout",
     "output_type": "stream",
     "text": [
      "My Name is Ram and My age is 23\n"
     ]
    }
   ],
   "source": [
    "print(\"My Name is {} and My age is {}\".format(Name,Age))"
   ]
  },
  {
   "cell_type": "code",
   "execution_count": 22,
   "id": "47ac5fbf-5510-4c4f-bf7a-17defbe4a046",
   "metadata": {},
   "outputs": [
    {
     "name": "stdout",
     "output_type": "stream",
     "text": [
      "Y a s h "
     ]
    }
   ],
   "source": [
    "for i in Name:\n",
    "    print(i,end=\" \")"
   ]
  },
  {
   "cell_type": "code",
   "execution_count": 24,
   "id": "f63ff6ae-938b-4b34-be72-daaa2e226c8f",
   "metadata": {},
   "outputs": [],
   "source": [
    "Name='Ram'\n",
    "DOB='01/04/1776'\n",
    "Address=\"B2 floor DigitalZone\""
   ]
  },
  {
   "cell_type": "code",
   "execution_count": 25,
   "id": "5b9973f3-e1fb-414d-aec7-4e06fb4ea7b2",
   "metadata": {},
   "outputs": [
    {
     "name": "stdout",
     "output_type": "stream",
     "text": [
      "Ram is born at 01/04/1776 and his Addreess is B2 floor DigitalZone\n"
     ]
    }
   ],
   "source": [
    "print(\"{n} is born at {d} and his Addreess is {a}\".format(a=Address,d=DOB,n=Name))"
   ]
  },
  {
   "cell_type": "markdown",
   "id": "a82706f5-3d21-49e5-a984-3342e9a0da6b",
   "metadata": {},
   "source": [
    "## Control Flow\n",
    "\n",
    "### Decision Making Statements.\n",
    "\n",
    "* if\n",
    "* if-else\n",
    "* if-elif-else\n",
    "* Neisted if\n",
    "* single stat suites"
   ]
  },
  {
   "cell_type": "code",
   "execution_count": null,
   "id": "61f9f52e-6da2-42b7-8965-476e7b755330",
   "metadata": {},
   "outputs": [],
   "source": []
  },
  {
   "cell_type": "code",
   "execution_count": null,
   "id": "03f45b56-c656-4511-ae0d-855e20685ef1",
   "metadata": {},
   "outputs": [],
   "source": []
  },
  {
   "cell_type": "code",
   "execution_count": 27,
   "id": "1519686a-565b-4082-b991-0081c1bb5c92",
   "metadata": {},
   "outputs": [
    {
     "data": {
      "text/plain": [
       "'\\nTask\\nGiven an integer, , perform the following conditional actions:\\n\\nIf  is odd, print Weird\\nIf  is even and in the inclusive range of  to , print Not Weird\\nIf  is even and in the inclusive range of  to , print Weird\\nIf  is even and greater than , print Not Weird\\n\\n'"
      ]
     },
     "execution_count": 27,
     "metadata": {},
     "output_type": "execute_result"
    }
   ],
   "source": [
    "\"\"\"\n",
    "Task\n",
    "Given an integer, n, perform the following conditional actions:\n",
    "\n",
    "If n is odd, print Weird\n",
    "If n is even and in the inclusive range of 2 to 5, print Not Weird\n",
    "If n is even and in the inclusive range of 6 to 20, print Weird\n",
    "If n is even and greater than 20, print Not Weird\n",
    "\n",
    "\"\"\"\n"
   ]
  },
  {
   "cell_type": "code",
   "execution_count": 30,
   "id": "6df23443-c3b5-4c36-94b0-dbb20495636f",
   "metadata": {},
   "outputs": [
    {
     "name": "stdin",
     "output_type": "stream",
     "text": [
      " 5\n"
     ]
    },
    {
     "name": "stdout",
     "output_type": "stream",
     "text": [
      "Weird\n"
     ]
    }
   ],
   "source": [
    "n=int(input().strip())\n",
    "if n%2==0:\n",
    "        if 2<=n<=5:\n",
    "            print(\"Not Weird\")\n",
    "        elif 6<=n<=20:\n",
    "            print(\"Weird\")\n",
    "        else:\n",
    "            print(\"Not Weird\")\n",
    "else:\n",
    "    print(\"Weird\")"
   ]
  },
  {
   "cell_type": "code",
   "execution_count": 33,
   "id": "c94fdc9c-0e8d-4b64-afff-0f141b30dfa0",
   "metadata": {},
   "outputs": [
    {
     "name": "stdin",
     "output_type": "stream",
     "text": [
      " 15\n"
     ]
    },
    {
     "name": "stdout",
     "output_type": "stream",
     "text": [
      "1 2 3 4 5 6 7 8 9 10 11 12 13 14 15 "
     ]
    }
   ],
   "source": [
    "m=int(input())\n",
    "for i in range(1,m+1):\n",
    "    print(i,end=\" \")"
   ]
  },
  {
   "cell_type": "code",
   "execution_count": 4,
   "id": "85117d1b-cc50-4026-a65b-f87d542351ab",
   "metadata": {},
   "outputs": [
    {
     "name": "stdin",
     "output_type": "stream",
     "text": [
      " 23\n"
     ]
    },
    {
     "name": "stdout",
     "output_type": "stream",
     "text": [
      "You are young blood!\n"
     ]
    }
   ],
   "source": [
    "age=int(input())\n",
    "if 18<=age<=45:\n",
    "    print(\"You are young blood!\")\n",
    "else:\n",
    "    print(\"You are old blood!\")"
   ]
  },
  {
   "cell_type": "code",
   "execution_count": 9,
   "id": "e154bb4f-7f83-4194-853d-a8465cee0b2c",
   "metadata": {},
   "outputs": [
    {
     "name": "stdin",
     "output_type": "stream",
     "text": [
      " 1800\n"
     ]
    },
    {
     "name": "stdout",
     "output_type": "stream",
     "text": [
      "1440.0 $\n"
     ]
    }
   ],
   "source": [
    "product=int(input())\n",
    "if product<=1000:\n",
    "    product=product*0.7\n",
    "    print(product,\"$\")\n",
    "else:\n",
    "    product=product*0.8\n",
    "    print(product,\"$\")"
   ]
  },
  {
   "cell_type": "markdown",
   "id": "25245979-a060-475f-b882-12cd6c6438ec",
   "metadata": {},
   "source": [
    "* pro=pro-(pro*30)/100=pro*70/100=pro*0.7"
   ]
  },
  {
   "cell_type": "code",
   "execution_count": 11,
   "id": "906350c3-a3c9-4288-b858-5c2d5eb7427b",
   "metadata": {},
   "outputs": [
    {
     "name": "stdin",
     "output_type": "stream",
     "text": [
      " Sham\n"
     ]
    },
    {
     "name": "stdout",
     "output_type": "stream",
     "text": [
      "Name: Sham\n"
     ]
    }
   ],
   "source": [
    "#Comparision Operator\n",
    "ch1=input()\n",
    "if ch1==\"Sham\":\n",
    "    print(\"Name:\",ch1)\n",
    "elif ch1==\"RAM\":\n",
    "    print(\"Name:\",ch1)\n",
    "else:\n",
    "    print(\"Name:\",ch1)"
   ]
  },
  {
   "cell_type": "code",
   "execution_count": 15,
   "id": "6f633dda-0cc5-43ab-84af-c6f3faf6f9fa",
   "metadata": {},
   "outputs": [
    {
     "name": "stdin",
     "output_type": "stream",
     "text": [
      " 7\n"
     ]
    },
    {
     "name": "stdout",
     "output_type": "stream",
     "text": [
      "The price is less!!\n"
     ]
    }
   ],
   "source": [
    "# Single statments suites:-\n",
    "\n",
    "pen=int(input())\n",
    "if pen<10:print(\"The price is less!!\")\n",
    "else:\n",
    "    print(\"The price is High!!!\")"
   ]
  },
  {
   "cell_type": "code",
   "execution_count": null,
   "id": "75d69402-a45b-4a84-9daa-935c20fd79ed",
   "metadata": {},
   "outputs": [],
   "source": [
    "for i in range(1,5):\n",
    "    print(i)"
   ]
  },
  {
   "cell_type": "markdown",
   "id": "8b1ad748-4518-4171-8fd5-e6f38b0a8995",
   "metadata": {},
   "source": [
    "## Loop Statements\n",
    "1. While\n",
    "2. For\n",
    "3. nested loops\n",
    "4. control loop (continue, break, pass)\n"
   ]
  },
  {
   "cell_type": "code",
   "execution_count": 4,
   "id": "cc1755b1-d5a1-48f8-afb3-0aeab37555d0",
   "metadata": {},
   "outputs": [
    {
     "name": "stdin",
     "output_type": "stream",
     "text": [
      " 10\n"
     ]
    },
    {
     "name": "stdout",
     "output_type": "stream",
     "text": [
      "You are not eligible because your age is: 10\n",
      "You are not eligible because your age is: 11\n",
      "You are not eligible because your age is: 12\n",
      "You are not eligible because your age is: 13\n",
      "You are not eligible because your age is: 14\n",
      "You are not eligible because your age is: 15\n",
      "You are not eligible because your age is: 16\n",
      "You are not eligible because your age is: 17\n",
      "You are eligible now because your age is: 18\n"
     ]
    }
   ],
   "source": [
    "# while loop\n",
    "age=int(input())\n",
    "while age<18:\n",
    "    print(\"You are not eligible because your age is:\",age)\n",
    "    age=age+1\n",
    "    \n",
    "\n",
    "print(\"You are eligible now because your age is:\",age) \n",
    "    "
   ]
  },
  {
   "cell_type": "code",
   "execution_count": 1,
   "id": "a4274801-001c-421b-a035-0118f1f1cc1d",
   "metadata": {},
   "outputs": [
    {
     "name": "stdout",
     "output_type": "stream",
     "text": [
      "Hi\n"
     ]
    }
   ],
   "source": [
    "print(\"Hi\")"
   ]
  },
  {
   "cell_type": "markdown",
   "id": "4a632fb1-df4b-43cc-bea5-509b734378e5",
   "metadata": {},
   "source": [
    "#### Python Keywords: An Introduction\n",
    "* Value Keywords: True, False, None.\n",
    "* Operator Keywords: and, or, not, in, is.\n",
    "* Control Flow Keywords: if, elif, else.\n",
    "* Iteration Keywords: for, while, break, continue, else.\n",
    "* Structure Keywords: def, class, with, as, pass, lambda.\n",
    "* Returning Keywords: return, yield.\n",
    "* Import Keywords: import, from, as."
   ]
  },
  {
   "cell_type": "code",
   "execution_count": 2,
   "id": "07ce4a73-0cd3-45cd-a1cd-74ac4960fb5e",
   "metadata": {},
   "outputs": [
    {
     "name": "stdin",
     "output_type": "stream",
     "text": [
      " 500\n"
     ]
    },
    {
     "name": "stdout",
     "output_type": "stream",
     "text": [
      "You have 500 this amount in your Bank !\n",
      "You have 400 this amount in your Bank !\n",
      "You have 300 this amount in your Bank !\n",
      "You have 200 this amount in your Bank !\n",
      "You have 100 this amount in your Bank !\n",
      "Add more Money in your account\n"
     ]
    }
   ],
   "source": [
    "Cash=int(input())\n",
    "while Cash!=0:\n",
    "    print(\"You have {} this amount in your Bank !\".format(Cash))\n",
    "    Cash=Cash-100\n",
    "print(\"Add more Money in your account\")"
   ]
  },
  {
   "cell_type": "code",
   "execution_count": 7,
   "id": "3ba41e44-f320-4bb9-8acf-390bf95aacc7",
   "metadata": {},
   "outputs": [
    {
     "name": "stdout",
     "output_type": "stream",
     "text": [
      "2 5 8 Ram 4 Sham "
     ]
    }
   ],
   "source": [
    "# For Loop\n",
    "l=[2,5,8,\"Ram\",4,'Sham']\n",
    "\n",
    "for i in l:\n",
    "    print(i,end=\" \")"
   ]
  },
  {
   "cell_type": "code",
   "execution_count": 8,
   "id": "39bb14b8-8b20-4765-a860-4f0b0968ba11",
   "metadata": {},
   "outputs": [
    {
     "data": {
      "text/plain": [
       "'Ram'"
      ]
     },
     "execution_count": 8,
     "metadata": {},
     "output_type": "execute_result"
    }
   ],
   "source": [
    "l[3]"
   ]
  },
  {
   "cell_type": "code",
   "execution_count": 12,
   "id": "ecd0f275-1b78-4409-806b-1cd2da719a77",
   "metadata": {},
   "outputs": [
    {
     "name": "stdin",
     "output_type": "stream",
     "text": [
      "You can see the below table of : 35\n"
     ]
    },
    {
     "name": "stdout",
     "output_type": "stream",
     "text": [
      "35\n",
      "70\n",
      "105\n",
      "140\n",
      "175\n",
      "210\n",
      "245\n",
      "280\n",
      "315\n",
      "350\n"
     ]
    }
   ],
   "source": [
    "Table=int(input(\"You can see the below table of :\"))\n",
    "for i in range(1,11):\n",
    "    val=i*Table\n",
    "    print(val)\n",
    "    "
   ]
  },
  {
   "cell_type": "code",
   "execution_count": 13,
   "id": "9695f9bb-cf1f-4d37-b32e-fe6899e6aa24",
   "metadata": {},
   "outputs": [
    {
     "data": {
      "text/plain": [
       "range(1, 10)"
      ]
     },
     "execution_count": 13,
     "metadata": {},
     "output_type": "execute_result"
    }
   ],
   "source": [
    "# Nested loops\n",
    "\n",
    "range(1,10)"
   ]
  },
  {
   "cell_type": "code",
   "execution_count": 16,
   "id": "b5d0e4b0-df65-48b7-8991-91dd7a02d031",
   "metadata": {},
   "outputs": [
    {
     "name": "stdout",
     "output_type": "stream",
     "text": [
      "1 2 3 4 5 6 7 8 9 10 11 12 13 14 15 16 17 18 19 20 "
     ]
    }
   ],
   "source": [
    "for i in range(1,21):\n",
    "    print(i,end=\" \")"
   ]
  },
  {
   "cell_type": "code",
   "execution_count": 2,
   "id": "b9d61696-baeb-482b-8211-3e7923dfa384",
   "metadata": {},
   "outputs": [
    {
     "name": "stdin",
     "output_type": "stream",
     "text": [
      " 7\n"
     ]
    },
    {
     "name": "stdout",
     "output_type": "stream",
     "text": [
      "*\n",
      "**\n",
      "***\n",
      "****\n",
      "*****\n",
      "******\n",
      "*******\n"
     ]
    }
   ],
   "source": [
    "# Patterns (Right angle triangle)\n",
    "n=int(input())\n",
    "\n",
    "for i in range(0,n):\n",
    "    for j in range(0,i+1):\n",
    "        print('*',end=\"\")\n",
    "    print('\\r')\n",
    "    \n",
    "    "
   ]
  },
  {
   "cell_type": "code",
   "execution_count": 3,
   "id": "4b418937-836d-486e-9c7d-17d34caf777a",
   "metadata": {},
   "outputs": [
    {
     "name": "stdin",
     "output_type": "stream",
     "text": [
      " 5\n"
     ]
    },
    {
     "name": "stdout",
     "output_type": "stream",
     "text": [
      "    * \n",
      "   * * \n",
      "  * * * \n",
      " * * * * \n",
      "* * * * * \n"
     ]
    }
   ],
   "source": [
    "# Equilateral triangle\n",
    "\n",
    "n=int(input())\n",
    "k=n-1\n",
    "\n",
    "for i in range(0,n):\n",
    "    for j in range(0,k):\n",
    "        print(end=\" \")\n",
    "        \n",
    "    k=k-1\n",
    "    \n",
    "    for j in range(0,i+1):\n",
    "        print('* ',end='')\n",
    "    print('\\r')"
   ]
  },
  {
   "cell_type": "code",
   "execution_count": 6,
   "id": "116c331c-7ec6-4b57-99b8-f59d1b478a90",
   "metadata": {},
   "outputs": [
    {
     "name": "stdout",
     "output_type": "stream",
     "text": [
      "Circle\n",
      "Triangle\n",
      "You have Square\n",
      "Rhombus\n",
      "Rectangle\n"
     ]
    }
   ],
   "source": [
    "# Loop Control\n",
    "## Continue\n",
    "\n",
    "l=[\"Circle\",\"Triangle\",\"Square\",\"Rhombus\",\"Rectangle\"]\n",
    "for i in l:\n",
    "    if i==\"Square\":\n",
    "        print(\"You have Square\")\n",
    "        continue\n",
    "    print(i)"
   ]
  },
  {
   "cell_type": "code",
   "execution_count": 7,
   "id": "dea64308-f61f-400d-a2a4-1d52821c629e",
   "metadata": {},
   "outputs": [
    {
     "name": "stdout",
     "output_type": "stream",
     "text": [
      "Circle\n",
      "Triangle\n",
      "You have Square\n"
     ]
    }
   ],
   "source": [
    "## Break\n",
    "\n",
    "l=[\"Circle\",\"Triangle\",\"Square\",\"Rhombus\",\"Rectangle\"]\n",
    "for i in l:\n",
    "    if i==\"Square\":\n",
    "        print(\"You have Square\")\n",
    "        break\n",
    "    print(i)\n"
   ]
  },
  {
   "cell_type": "code",
   "execution_count": 9,
   "id": "0df40d1f-bab6-4bfa-a9e3-f5d45c2ba64d",
   "metadata": {},
   "outputs": [
    {
     "name": "stdout",
     "output_type": "stream",
     "text": [
      "Circle\n",
      "Triangle\n",
      "Square\n",
      "Rhombus\n",
      "Rectangle\n"
     ]
    }
   ],
   "source": [
    "## pass\n",
    "\n",
    "l=[\"Circle\",\"Triangle\",\"Square\",\"Rhombus\",\"Rectangle\"]\n",
    "for i in l:\n",
    "    if i==\"Square\":\n",
    "        pass\n",
    "    print(i)"
   ]
  },
  {
   "cell_type": "code",
   "execution_count": null,
   "id": "6baa0a19-594c-4628-8355-54f5b2b0c48e",
   "metadata": {},
   "outputs": [],
   "source": []
  }
 ],
 "metadata": {
  "kernelspec": {
   "display_name": "Python 3 (ipykernel)",
   "language": "python",
   "name": "python3"
  },
  "language_info": {
   "codemirror_mode": {
    "name": "ipython",
    "version": 3
   },
   "file_extension": ".py",
   "mimetype": "text/x-python",
   "name": "python",
   "nbconvert_exporter": "python",
   "pygments_lexer": "ipython3",
   "version": "3.10.8"
  }
 },
 "nbformat": 4,
 "nbformat_minor": 5
}
