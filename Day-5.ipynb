{
 "cells": [
  {
   "cell_type": "markdown",
   "id": "54cfe488-6067-4804-a62c-cc78636c2583",
   "metadata": {},
   "source": [
    "## Tuple"
   ]
  },
  {
   "cell_type": "code",
   "execution_count": 6,
   "id": "badc9caa-d651-4da4-8071-8986dd3b41ae",
   "metadata": {},
   "outputs": [],
   "source": [
    "# Tuple is Unmutable.\n",
    "t=()"
   ]
  },
  {
   "cell_type": "code",
   "execution_count": 2,
   "id": "c33b6027-eaba-4c4b-b7ce-aedc3fea9a2e",
   "metadata": {},
   "outputs": [
    {
     "data": {
      "text/plain": [
       "tuple"
      ]
     },
     "execution_count": 2,
     "metadata": {},
     "output_type": "execute_result"
    }
   ],
   "source": [
    "type(t)"
   ]
  },
  {
   "cell_type": "code",
   "execution_count": 2,
   "id": "e000cddf-b3e8-490a-b071-783bc45d3a60",
   "metadata": {},
   "outputs": [],
   "source": [
    "t1=(1,3,5,'ABC',4.7,True,\"XYZ\")"
   ]
  },
  {
   "cell_type": "code",
   "execution_count": 4,
   "id": "6a056bd6-50ef-4db7-8e9a-c7e753c5a317",
   "metadata": {},
   "outputs": [
    {
     "data": {
      "text/plain": [
       "(1, 3, 5, 'ABC', 4.7, True, 'XYZ')"
      ]
     },
     "execution_count": 4,
     "metadata": {},
     "output_type": "execute_result"
    }
   ],
   "source": [
    "t1"
   ]
  },
  {
   "cell_type": "code",
   "execution_count": 5,
   "id": "04c14834-0aa9-403d-b7e0-0af8edff50fe",
   "metadata": {},
   "outputs": [
    {
     "data": {
      "text/plain": [
       "'ABC'"
      ]
     },
     "execution_count": 5,
     "metadata": {},
     "output_type": "execute_result"
    }
   ],
   "source": [
    "t1[3]"
   ]
  },
  {
   "cell_type": "code",
   "execution_count": 7,
   "id": "9ff4e048-0c92-4c07-b9b5-85b712ff806a",
   "metadata": {},
   "outputs": [
    {
     "data": {
      "text/plain": [
       "('XYZ', True, 4.7, 'ABC', 5, 3, 1)"
      ]
     },
     "execution_count": 7,
     "metadata": {},
     "output_type": "execute_result"
    }
   ],
   "source": [
    "t1[::-1]"
   ]
  },
  {
   "cell_type": "code",
   "execution_count": 3,
   "id": "39c64545-f50f-430e-a17b-d12886f9819c",
   "metadata": {},
   "outputs": [
    {
     "data": {
      "text/plain": [
       "(1, 3, 5, 'ABC', 4.7, True, 'XYZ')"
      ]
     },
     "execution_count": 3,
     "metadata": {},
     "output_type": "execute_result"
    }
   ],
   "source": [
    "t1"
   ]
  },
  {
   "cell_type": "code",
   "execution_count": 10,
   "id": "76a5fb21-a2e5-4238-aa73-c48cfbe93b49",
   "metadata": {},
   "outputs": [
    {
     "data": {
      "text/plain": [
       "(1, 5, 4.7, 'XYZ')"
      ]
     },
     "execution_count": 10,
     "metadata": {},
     "output_type": "execute_result"
    }
   ],
   "source": [
    "t1[0:7:2]"
   ]
  },
  {
   "cell_type": "code",
   "execution_count": 12,
   "id": "cec8ed54-850e-4f6d-8d7e-1a3e0018d1b8",
   "metadata": {},
   "outputs": [
    {
     "data": {
      "text/plain": [
       "('ABC', 4.7, True)"
      ]
     },
     "execution_count": 12,
     "metadata": {},
     "output_type": "execute_result"
    }
   ],
   "source": [
    "t1[3:6]"
   ]
  },
  {
   "cell_type": "code",
   "execution_count": 4,
   "id": "23d27762-8cda-4e50-a71f-a41a13aeb683",
   "metadata": {},
   "outputs": [
    {
     "data": {
      "text/plain": [
       "(2, 4, 'ABC', 6.8, 2, (3+2j), True, 4, 2)"
      ]
     },
     "execution_count": 4,
     "metadata": {},
     "output_type": "execute_result"
    }
   ],
   "source": [
    "t2=(2,4,'ABC',6.8,2,3+2j,True,4,2)\n",
    "t2"
   ]
  },
  {
   "cell_type": "code",
   "execution_count": 7,
   "id": "a5f623b0-6f2b-473a-886e-81f2e615ad74",
   "metadata": {},
   "outputs": [
    {
     "data": {
      "text/plain": [
       "3"
      ]
     },
     "execution_count": 7,
     "metadata": {},
     "output_type": "execute_result"
    }
   ],
   "source": [
    "# Count function :- Return number of occurrences of value.\n",
    "#Syntax:- t2.count(value, /)\n",
    "\n",
    "t2.count(2)"
   ]
  },
  {
   "cell_type": "code",
   "execution_count": 6,
   "id": "d675cd93-3ee2-42d3-a7a0-ccada5d40076",
   "metadata": {},
   "outputs": [
    {
     "data": {
      "text/plain": [
       "2"
      ]
     },
     "execution_count": 6,
     "metadata": {},
     "output_type": "execute_result"
    }
   ],
   "source": [
    "t2.count(4)"
   ]
  },
  {
   "cell_type": "code",
   "execution_count": 11,
   "id": "c731e0c6-e0a4-436d-a60e-02031eafe167",
   "metadata": {},
   "outputs": [
    {
     "data": {
      "text/plain": [
       "(2, 4, True, (3+2j), 2, 6.8, 'ABC', 4, 2)"
      ]
     },
     "execution_count": 11,
     "metadata": {},
     "output_type": "execute_result"
    }
   ],
   "source": [
    "t3=t2[::-1]\n",
    "t3"
   ]
  },
  {
   "cell_type": "code",
   "execution_count": 12,
   "id": "4b671a85-51ba-43bb-8ac1-f44866f9d864",
   "metadata": {},
   "outputs": [
    {
     "data": {
      "text/plain": [
       "1"
      ]
     },
     "execution_count": 12,
     "metadata": {},
     "output_type": "execute_result"
    }
   ],
   "source": [
    "# index function :- Return first index of value.\n",
    "# Signature: t2.index(value, start=0, stop=9223372036854775807, /)\n",
    "\n",
    "t3.index(4)"
   ]
  },
  {
   "cell_type": "code",
   "execution_count": 13,
   "id": "2b0852ef-f981-4dbd-b078-4e4c5ea992eb",
   "metadata": {},
   "outputs": [
    {
     "data": {
      "text/plain": [
       "4"
      ]
     },
     "execution_count": 13,
     "metadata": {},
     "output_type": "execute_result"
    }
   ],
   "source": [
    "t3.index(2,3,6)"
   ]
  },
  {
   "cell_type": "code",
   "execution_count": 14,
   "id": "6e201f52-486b-4a36-8aee-dd2a3da22a1e",
   "metadata": {},
   "outputs": [
    {
     "data": {
      "text/plain": [
       "2"
      ]
     },
     "execution_count": 14,
     "metadata": {},
     "output_type": "execute_result"
    }
   ],
   "source": [
    "t3.index(1)"
   ]
  },
  {
   "cell_type": "code",
   "execution_count": 15,
   "id": "af26f549-3c8e-4a56-b612-c36a9a1e695d",
   "metadata": {},
   "outputs": [
    {
     "data": {
      "text/plain": [
       "(2, 4, True, (3+2j), 2, 6.8, 'ABC', 4, 2)"
      ]
     },
     "execution_count": 15,
     "metadata": {},
     "output_type": "execute_result"
    }
   ],
   "source": [
    "t3"
   ]
  },
  {
   "cell_type": "code",
   "execution_count": 16,
   "id": "a4ebb6e4-383a-4e3b-8dc1-57331f63a759",
   "metadata": {},
   "outputs": [
    {
     "ename": "TypeError",
     "evalue": "'tuple' object does not support item assignment",
     "output_type": "error",
     "traceback": [
      "\u001b[0;31m---------------------------------------------------------------------------\u001b[0m",
      "\u001b[0;31mTypeError\u001b[0m                                 Traceback (most recent call last)",
      "Cell \u001b[0;32mIn[16], line 1\u001b[0m\n\u001b[0;32m----> 1\u001b[0m \u001b[43mt3\u001b[49m\u001b[43m[\u001b[49m\u001b[38;5;241;43m2\u001b[39;49m\u001b[43m]\u001b[49m\u001b[38;5;241m=\u001b[39m\u001b[38;5;241m1\u001b[39m\n",
      "\u001b[0;31mTypeError\u001b[0m: 'tuple' object does not support item assignment"
     ]
    }
   ],
   "source": [
    "t3[2]=1"
   ]
  },
  {
   "cell_type": "code",
   "execution_count": 17,
   "id": "9b56979b-69fb-4cc4-be38-3877c9012638",
   "metadata": {},
   "outputs": [
    {
     "data": {
      "text/plain": [
       "(2, 4, 'ABC', 6.8, 2, (3+2j), True, 4, 2)"
      ]
     },
     "execution_count": 17,
     "metadata": {},
     "output_type": "execute_result"
    }
   ],
   "source": [
    "t2"
   ]
  },
  {
   "cell_type": "code",
   "execution_count": 20,
   "id": "3d1b92e4-f05a-4f4a-97df-5ba312f423ae",
   "metadata": {},
   "outputs": [
    {
     "name": "stdout",
     "output_type": "stream",
     "text": [
      "2\n",
      "4\n",
      "ABC\n",
      "6.8\n",
      "2\n",
      "(3+2j)\n",
      "True\n",
      "4\n",
      "2\n"
     ]
    }
   ],
   "source": [
    "for i in t2:\n",
    "    print(i)"
   ]
  },
  {
   "cell_type": "code",
   "execution_count": 23,
   "id": "f17a60c2-0bac-4763-9261-8331c646da45",
   "metadata": {},
   "outputs": [
    {
     "name": "stdout",
     "output_type": "stream",
     "text": [
      "2 :- <class 'int'>\n",
      "4 :- <class 'int'>\n",
      "ABC :- <class 'str'>\n",
      "6.8 :- <class 'float'>\n",
      "2 :- <class 'int'>\n",
      "(3+2j) :- <class 'complex'>\n",
      "True :- <class 'bool'>\n",
      "4 :- <class 'int'>\n",
      "2 :- <class 'int'>\n"
     ]
    }
   ],
   "source": [
    "for i in t2:\n",
    "    print(i,':-',type(i))"
   ]
  },
  {
   "cell_type": "code",
   "execution_count": 24,
   "id": "3b4b93eb-96db-439d-aa76-66abfe49ce2b",
   "metadata": {},
   "outputs": [
    {
     "data": {
      "text/plain": [
       "('A', 2, 9, 'Z', 'Car')"
      ]
     },
     "execution_count": 24,
     "metadata": {},
     "output_type": "execute_result"
    }
   ],
   "source": [
    "ts=('A',2,9,'Z','Car')\n",
    "ts"
   ]
  },
  {
   "cell_type": "code",
   "execution_count": 27,
   "id": "4bd801df-06c4-4b22-a952-2065a4f62a29",
   "metadata": {},
   "outputs": [
    {
     "data": {
      "text/plain": [
       "('A', 2, 9, 'Z', 'Car', 'A', 2, 9, 'Z', 'Car', 'A', 2, 9, 'Z', 'Car')"
      ]
     },
     "execution_count": 27,
     "metadata": {},
     "output_type": "execute_result"
    }
   ],
   "source": [
    "ts*3"
   ]
  },
  {
   "cell_type": "code",
   "execution_count": 28,
   "id": "206716cd-3ca5-4c52-a6d7-513ce68b9f3d",
   "metadata": {},
   "outputs": [
    {
     "data": {
      "text/plain": [
       "(2, 4, 'ABC', 6.8, 2, (3+2j), True, 4, 2)"
      ]
     },
     "execution_count": 28,
     "metadata": {},
     "output_type": "execute_result"
    }
   ],
   "source": [
    "t2"
   ]
  },
  {
   "cell_type": "code",
   "execution_count": 31,
   "id": "bff392dc-4c70-4d7f-b5c2-dc857484649c",
   "metadata": {},
   "outputs": [
    {
     "data": {
      "text/plain": [
       "('Monkey', 'Elephant', 'Cat', 'Squirel', 'Zebra', 'Cow')"
      ]
     },
     "execution_count": 31,
     "metadata": {},
     "output_type": "execute_result"
    }
   ],
   "source": [
    "ta=('Monkey','Elephant','Cat','Squirel','Zebra','Cow')\n",
    "ta"
   ]
  },
  {
   "cell_type": "code",
   "execution_count": 32,
   "id": "8667b115-b389-4bec-bab4-9253c0554b4a",
   "metadata": {},
   "outputs": [
    {
     "data": {
      "text/plain": [
       "'Zebra'"
      ]
     },
     "execution_count": 32,
     "metadata": {},
     "output_type": "execute_result"
    }
   ],
   "source": [
    "max(ta)"
   ]
  },
  {
   "cell_type": "code",
   "execution_count": 33,
   "id": "bef367de-72cc-47b4-9c92-b8a31073391c",
   "metadata": {},
   "outputs": [
    {
     "data": {
      "text/plain": [
       "'Cat'"
      ]
     },
     "execution_count": 33,
     "metadata": {},
     "output_type": "execute_result"
    }
   ],
   "source": [
    "min(ta)"
   ]
  },
  {
   "cell_type": "code",
   "execution_count": 34,
   "id": "76e2b4ca-76c5-421b-940e-6cf097c32519",
   "metadata": {},
   "outputs": [
    {
     "data": {
      "text/plain": [
       "(9, 45, 76, 88, 2, 65, 0)"
      ]
     },
     "execution_count": 34,
     "metadata": {},
     "output_type": "execute_result"
    }
   ],
   "source": [
    "tn=(9,45,76,88,2,65,0)\n",
    "tn"
   ]
  },
  {
   "cell_type": "code",
   "execution_count": 35,
   "id": "3ff64d90-3285-49fb-b425-f02606790213",
   "metadata": {},
   "outputs": [
    {
     "data": {
      "text/plain": [
       "0"
      ]
     },
     "execution_count": 35,
     "metadata": {},
     "output_type": "execute_result"
    }
   ],
   "source": [
    "min(tn)"
   ]
  },
  {
   "cell_type": "code",
   "execution_count": 36,
   "id": "52190a37-82d5-4a51-9765-ac19d3947329",
   "metadata": {},
   "outputs": [
    {
     "data": {
      "text/plain": [
       "88"
      ]
     },
     "execution_count": 36,
     "metadata": {},
     "output_type": "execute_result"
    }
   ],
   "source": [
    "max(tn)"
   ]
  },
  {
   "cell_type": "code",
   "execution_count": 37,
   "id": "34e060f5-36ae-4702-8b6c-39e523cd8202",
   "metadata": {},
   "outputs": [],
   "source": [
    "tp=(5,1,7,9)\n",
    "tq=(3,0,6,8)\n"
   ]
  },
  {
   "cell_type": "code",
   "execution_count": 38,
   "id": "519f1dcd-3d4d-415b-8eff-3c467f5e35b3",
   "metadata": {},
   "outputs": [
    {
     "data": {
      "text/plain": [
       "((5, 1, 7, 9), (3, 0, 6, 8))"
      ]
     },
     "execution_count": 38,
     "metadata": {},
     "output_type": "execute_result"
    }
   ],
   "source": [
    "tm=(tp,tq)\n",
    "tm"
   ]
  },
  {
   "cell_type": "code",
   "execution_count": 39,
   "id": "d021fb7f-01f8-4588-ae82-07b615689d1e",
   "metadata": {},
   "outputs": [],
   "source": [
    "# We can delete a tuple.\n",
    "\n",
    "del tm"
   ]
  },
  {
   "cell_type": "code",
   "execution_count": 40,
   "id": "4bbe0e74-6b0e-411a-bfd5-576c3b2c711b",
   "metadata": {},
   "outputs": [
    {
     "ename": "NameError",
     "evalue": "name 'tm' is not defined",
     "output_type": "error",
     "traceback": [
      "\u001b[0;31m---------------------------------------------------------------------------\u001b[0m",
      "\u001b[0;31mNameError\u001b[0m                                 Traceback (most recent call last)",
      "Cell \u001b[0;32mIn[40], line 1\u001b[0m\n\u001b[0;32m----> 1\u001b[0m \u001b[43mtm\u001b[49m\n",
      "\u001b[0;31mNameError\u001b[0m: name 'tm' is not defined"
     ]
    }
   ],
   "source": [
    "tm"
   ]
  },
  {
   "cell_type": "code",
   "execution_count": 41,
   "id": "7144ed35-acf1-4cc6-9043-61ea57f7ac06",
   "metadata": {},
   "outputs": [
    {
     "data": {
      "text/plain": [
       "(2, 4, True, (3+2j), 2, 6.8, 'ABC', 4, 2)"
      ]
     },
     "execution_count": 41,
     "metadata": {},
     "output_type": "execute_result"
    }
   ],
   "source": [
    "t3"
   ]
  },
  {
   "cell_type": "code",
   "execution_count": 42,
   "id": "fafec259-b9e6-4efe-ac0d-7e1c4d3140b5",
   "metadata": {},
   "outputs": [
    {
     "data": {
      "text/plain": [
       "9"
      ]
     },
     "execution_count": 42,
     "metadata": {},
     "output_type": "execute_result"
    }
   ],
   "source": [
    "len(t3)"
   ]
  },
  {
   "cell_type": "code",
   "execution_count": 43,
   "id": "da564b12-c587-4125-968b-50ff6ca7ded6",
   "metadata": {},
   "outputs": [
    {
     "data": {
      "text/plain": [
       "(2, 4, 'ABC', 6.8, 2, (3+2j), True, 4, 2)"
      ]
     },
     "execution_count": 43,
     "metadata": {},
     "output_type": "execute_result"
    }
   ],
   "source": [
    "t2"
   ]
  },
  {
   "cell_type": "code",
   "execution_count": 44,
   "id": "4c836b57-efaa-44d8-ae98-6aee8c66c892",
   "metadata": {},
   "outputs": [
    {
     "data": {
      "text/plain": [
       "True"
      ]
     },
     "execution_count": 44,
     "metadata": {},
     "output_type": "execute_result"
    }
   ],
   "source": [
    "1 in t2"
   ]
  },
  {
   "cell_type": "code",
   "execution_count": 45,
   "id": "3e3f7ee9-865f-49cf-8945-2282881261e5",
   "metadata": {},
   "outputs": [
    {
     "data": {
      "text/plain": [
       "True"
      ]
     },
     "execution_count": 45,
     "metadata": {},
     "output_type": "execute_result"
    }
   ],
   "source": [
    "4 in t2"
   ]
  },
  {
   "cell_type": "code",
   "execution_count": 46,
   "id": "2563864e-16d2-4bab-a0f0-35c69b86265d",
   "metadata": {},
   "outputs": [
    {
     "data": {
      "text/plain": [
       "False"
      ]
     },
     "execution_count": 46,
     "metadata": {},
     "output_type": "execute_result"
    }
   ],
   "source": [
    "6 in t2"
   ]
  },
  {
   "cell_type": "code",
   "execution_count": 47,
   "id": "74f2d0f9-b515-4cad-a7d9-c7dfe5b2d7bb",
   "metadata": {},
   "outputs": [
    {
     "data": {
      "text/plain": [
       "False"
      ]
     },
     "execution_count": 47,
     "metadata": {},
     "output_type": "execute_result"
    }
   ],
   "source": [
    "'XYZ' in t2"
   ]
  },
  {
   "cell_type": "markdown",
   "id": "6056216b-9332-40cf-9511-7917f3d3ac36",
   "metadata": {},
   "source": [
    "## Set "
   ]
  },
  {
   "cell_type": "code",
   "execution_count": 1,
   "id": "2446449e-ba61-410d-a264-d42432120bb8",
   "metadata": {},
   "outputs": [],
   "source": [
    "s={}"
   ]
  },
  {
   "cell_type": "code",
   "execution_count": 2,
   "id": "166b845f-34ff-4606-ac4e-d9a49cb84290",
   "metadata": {},
   "outputs": [
    {
     "data": {
      "text/plain": [
       "dict"
      ]
     },
     "execution_count": 2,
     "metadata": {},
     "output_type": "execute_result"
    }
   ],
   "source": [
    "type(s)"
   ]
  },
  {
   "cell_type": "code",
   "execution_count": 7,
   "id": "e2efb2b8-b1e4-473d-b776-e9577cc0abb6",
   "metadata": {},
   "outputs": [],
   "source": [
    "# Set is used to store the data and only unique values get store in it. It has Unordered and mutable property.\n",
    "s1 = { 1,2,3,4,5}"
   ]
  },
  {
   "cell_type": "code",
   "execution_count": 5,
   "id": "9f974914-a15e-44fc-9ca1-a7f6bd6ce7c5",
   "metadata": {},
   "outputs": [
    {
     "data": {
      "text/plain": [
       "{1, 2, 3, 4, 5}"
      ]
     },
     "execution_count": 5,
     "metadata": {},
     "output_type": "execute_result"
    }
   ],
   "source": [
    "s1"
   ]
  },
  {
   "cell_type": "code",
   "execution_count": 6,
   "id": "89020e59-6595-45fa-bb3f-36f813e32311",
   "metadata": {},
   "outputs": [
    {
     "data": {
      "text/plain": [
       "set"
      ]
     },
     "execution_count": 6,
     "metadata": {},
     "output_type": "execute_result"
    }
   ],
   "source": [
    "type(s1)"
   ]
  },
  {
   "cell_type": "code",
   "execution_count": 9,
   "id": "54bcecc0-67ba-4772-b322-f5be74132533",
   "metadata": {},
   "outputs": [],
   "source": [
    "s2 = {10,2,3,5,3,6,8,6,1,1,1,2,3,5,67,8}\n"
   ]
  },
  {
   "cell_type": "code",
   "execution_count": 10,
   "id": "bfc422e7-fde0-472c-94bc-ed5ffd8f7017",
   "metadata": {},
   "outputs": [
    {
     "data": {
      "text/plain": [
       "{1, 2, 3, 5, 6, 8, 10, 67}"
      ]
     },
     "execution_count": 10,
     "metadata": {},
     "output_type": "execute_result"
    }
   ],
   "source": [
    "s2"
   ]
  },
  {
   "cell_type": "code",
   "execution_count": 13,
   "id": "6ea7265c-cd63-4a35-a856-43476d8bcfbd",
   "metadata": {},
   "outputs": [
    {
     "data": {
      "text/plain": [
       "[1, 2, 67, 3, 5, 6, 8, 10]"
      ]
     },
     "execution_count": 13,
     "metadata": {},
     "output_type": "execute_result"
    }
   ],
   "source": [
    "# Conversion of set into list.\n",
    "list(s2)"
   ]
  },
  {
   "cell_type": "code",
   "execution_count": 14,
   "id": "084e62d1-f102-44e8-a9fd-824a2ddc4be8",
   "metadata": {},
   "outputs": [
    {
     "data": {
      "text/plain": [
       "(1, 2, 67, 3, 5, 6, 8, 10)"
      ]
     },
     "execution_count": 14,
     "metadata": {},
     "output_type": "execute_result"
    }
   ],
   "source": [
    "# Conversion of set into tuple.\n",
    "tuple(s2)"
   ]
  },
  {
   "cell_type": "code",
   "execution_count": 19,
   "id": "05315d15-4746-425b-81be-7eda3ba0465e",
   "metadata": {},
   "outputs": [
    {
     "ename": "TypeError",
     "evalue": "unhashable type: 'list'",
     "output_type": "error",
     "traceback": [
      "\u001b[0;31m---------------------------------------------------------------------------\u001b[0m",
      "\u001b[0;31mTypeError\u001b[0m                                 Traceback (most recent call last)",
      "Cell \u001b[0;32mIn[19], line 2\u001b[0m\n\u001b[1;32m      1\u001b[0m \u001b[38;5;66;03m# we cannot insert list into a set because list is mutable and we can make changes in list.\u001b[39;00m\n\u001b[0;32m----> 2\u001b[0m s3 \u001b[38;5;241m=\u001b[39m {\u001b[38;5;241m1\u001b[39m,\u001b[38;5;241m3\u001b[39m,\u001b[38;5;241m5\u001b[39m,[\u001b[38;5;241m2\u001b[39m,\u001b[38;5;241m4\u001b[39m,\u001b[38;5;241m6\u001b[39m]}\n",
      "\u001b[0;31mTypeError\u001b[0m: unhashable type: 'list'"
     ]
    }
   ],
   "source": [
    "# we cannot insert list into a set because list is mutable and we can make changes in list.\n",
    "s3 = {1,3,5,[2,4,6]}"
   ]
  },
  {
   "cell_type": "code",
   "execution_count": 20,
   "id": "0c25a469-5833-4287-abca-689aa51f5263",
   "metadata": {},
   "outputs": [],
   "source": [
    "# we can store tuples inside a set because tuple are immutable.\n",
    "s4 = {2,4,6,(5,7,9)}"
   ]
  },
  {
   "cell_type": "code",
   "execution_count": 21,
   "id": "2ce0d953-7b08-473f-88df-6d62be551e1d",
   "metadata": {},
   "outputs": [
    {
     "data": {
      "text/plain": [
       "{(5, 7, 9), 2, 4, 6}"
      ]
     },
     "execution_count": 21,
     "metadata": {},
     "output_type": "execute_result"
    }
   ],
   "source": [
    "s4"
   ]
  },
  {
   "cell_type": "code",
   "execution_count": 22,
   "id": "02bfa790-3077-4415-a6d1-4fbdc4a8ce3d",
   "metadata": {},
   "outputs": [],
   "source": [
    "s5 = {'Yash',9,2,5,'yash'}"
   ]
  },
  {
   "cell_type": "code",
   "execution_count": 23,
   "id": "c3138108-70cd-4b94-8f6b-7581e0928df6",
   "metadata": {},
   "outputs": [
    {
     "data": {
      "text/plain": [
       "{2, 5, 9, 'Yash', 'yash'}"
      ]
     },
     "execution_count": 23,
     "metadata": {},
     "output_type": "execute_result"
    }
   ],
   "source": [
    "s5"
   ]
  },
  {
   "cell_type": "code",
   "execution_count": 25,
   "id": "bb915aee-f5a8-4e7f-bf1a-ec8743c1c4e7",
   "metadata": {},
   "outputs": [
    {
     "ename": "TypeError",
     "evalue": "'set' object is not subscriptable",
     "output_type": "error",
     "traceback": [
      "\u001b[0;31m---------------------------------------------------------------------------\u001b[0m",
      "\u001b[0;31mTypeError\u001b[0m                                 Traceback (most recent call last)",
      "Cell \u001b[0;32mIn[25], line 2\u001b[0m\n\u001b[1;32m      1\u001b[0m \u001b[38;5;66;03m# we cannot use indexing or slicing on set because it stores data in unordered hashable memory indexes.\u001b[39;00m\n\u001b[0;32m----> 2\u001b[0m \u001b[43ms5\u001b[49m\u001b[43m[\u001b[49m\u001b[38;5;241;43m0\u001b[39;49m\u001b[43m]\u001b[49m\n",
      "\u001b[0;31mTypeError\u001b[0m: 'set' object is not subscriptable"
     ]
    }
   ],
   "source": [
    "# we cannot use indexing or slicing on set because it stores data in unordered hashable memory indexes.\n",
    "s5[0]"
   ]
  },
  {
   "cell_type": "code",
   "execution_count": 26,
   "id": "e4e4582d-eb9c-41a1-8dd1-e40f2d8d728c",
   "metadata": {},
   "outputs": [
    {
     "ename": "TypeError",
     "evalue": "'set' object is not subscriptable",
     "output_type": "error",
     "traceback": [
      "\u001b[0;31m---------------------------------------------------------------------------\u001b[0m",
      "\u001b[0;31mTypeError\u001b[0m                                 Traceback (most recent call last)",
      "Cell \u001b[0;32mIn[26], line 1\u001b[0m\n\u001b[0;32m----> 1\u001b[0m \u001b[43ms5\u001b[49m\u001b[43m[\u001b[49m\u001b[43m:\u001b[49m\u001b[43m:\u001b[49m\u001b[38;5;241;43m-\u001b[39;49m\u001b[38;5;241;43m1\u001b[39;49m\u001b[43m]\u001b[49m\n",
      "\u001b[0;31mTypeError\u001b[0m: 'set' object is not subscriptable"
     ]
    }
   ],
   "source": [
    "s5[::-1]"
   ]
  },
  {
   "cell_type": "code",
   "execution_count": 29,
   "id": "020b5a2e-8a97-43ef-812b-8fa74b0c012f",
   "metadata": {},
   "outputs": [
    {
     "data": {
      "text/plain": [
       "{2, 5, 9, 'Yash', 'yash'}"
      ]
     },
     "execution_count": 29,
     "metadata": {},
     "output_type": "execute_result"
    }
   ],
   "source": [
    "s5"
   ]
  },
  {
   "cell_type": "code",
   "execution_count": 30,
   "id": "acbe39a2-5a15-4eb8-bcc6-240240605be4",
   "metadata": {},
   "outputs": [
    {
     "name": "stdout",
     "output_type": "stream",
     "text": [
      "2\n",
      "5\n",
      "Yash\n",
      "9\n",
      "yash\n"
     ]
    }
   ],
   "source": [
    "for i in s5:\n",
    "    print(i)"
   ]
  },
  {
   "cell_type": "code",
   "execution_count": 31,
   "id": "449c0a49-fd7e-457e-83b2-a8b3ca56d909",
   "metadata": {},
   "outputs": [
    {
     "data": {
      "text/plain": [
       "{1, 2, 3, 5, 6, 8, 10, 67}"
      ]
     },
     "execution_count": 31,
     "metadata": {},
     "output_type": "execute_result"
    }
   ],
   "source": [
    "s2"
   ]
  },
  {
   "cell_type": "code",
   "execution_count": 43,
   "id": "c17593ff-750e-49c6-ad94-1ef83c262ed9",
   "metadata": {},
   "outputs": [],
   "source": [
    "# Add :- Add an element to a set.\n",
    "#This has no effect if the element is already present.\n",
    "\n",
    "s2.add(97)"
   ]
  },
  {
   "cell_type": "code",
   "execution_count": 33,
   "id": "c08f3597-c8cd-49a1-bcfa-a405cb5a897a",
   "metadata": {},
   "outputs": [
    {
     "data": {
      "text/plain": [
       "{1, 2, 3, 5, 6, 8, 10, 67, 97}"
      ]
     },
     "execution_count": 33,
     "metadata": {},
     "output_type": "execute_result"
    }
   ],
   "source": [
    "s2"
   ]
  },
  {
   "cell_type": "code",
   "execution_count": 34,
   "id": "ed76d348-526f-401e-869f-75483d90b91c",
   "metadata": {},
   "outputs": [],
   "source": [
    "s2.add(3)"
   ]
  },
  {
   "cell_type": "code",
   "execution_count": 35,
   "id": "4c32af4c-fcc5-4814-90b4-0fde55e7282c",
   "metadata": {},
   "outputs": [
    {
     "data": {
      "text/plain": [
       "{1, 2, 3, 5, 6, 8, 10, 67, 97}"
      ]
     },
     "execution_count": 35,
     "metadata": {},
     "output_type": "execute_result"
    }
   ],
   "source": [
    "s2"
   ]
  },
  {
   "cell_type": "code",
   "execution_count": 36,
   "id": "4ecc7cc9-515f-4f43-b840-5b4de1ed25b2",
   "metadata": {},
   "outputs": [
    {
     "data": {
      "text/plain": [
       "9"
      ]
     },
     "execution_count": 36,
     "metadata": {},
     "output_type": "execute_result"
    }
   ],
   "source": [
    "len(s2)"
   ]
  },
  {
   "cell_type": "code",
   "execution_count": 44,
   "id": "453f0388-b360-4366-b2c8-2373a5e20bef",
   "metadata": {},
   "outputs": [
    {
     "data": {
      "text/plain": [
       "3"
      ]
     },
     "execution_count": 44,
     "metadata": {},
     "output_type": "execute_result"
    }
   ],
   "source": [
    "# pop() - Remove and return an arbitrary set element.\n",
    "s2.pop()"
   ]
  },
  {
   "cell_type": "code",
   "execution_count": 38,
   "id": "ec42ecc3-f64c-4e14-bf58-e1ae4b3c0a18",
   "metadata": {},
   "outputs": [
    {
     "data": {
      "text/plain": [
       "{2, 3, 5, 6, 8, 10, 67, 97}"
      ]
     },
     "execution_count": 38,
     "metadata": {},
     "output_type": "execute_result"
    }
   ],
   "source": [
    "s2"
   ]
  },
  {
   "cell_type": "code",
   "execution_count": 39,
   "id": "8b871426-f7e7-4244-9b48-4a2fc81f1586",
   "metadata": {},
   "outputs": [
    {
     "data": {
      "text/plain": [
       "2"
      ]
     },
     "execution_count": 39,
     "metadata": {},
     "output_type": "execute_result"
    }
   ],
   "source": [
    "s2.pop()"
   ]
  },
  {
   "cell_type": "code",
   "execution_count": 40,
   "id": "0b191e70-bd8e-43d2-b800-9a370d958215",
   "metadata": {},
   "outputs": [
    {
     "data": {
      "text/plain": [
       "{3, 5, 6, 8, 10, 67, 97}"
      ]
     },
     "execution_count": 40,
     "metadata": {},
     "output_type": "execute_result"
    }
   ],
   "source": [
    "s2"
   ]
  },
  {
   "cell_type": "code",
   "execution_count": 41,
   "id": "61501111-96fe-47f5-8121-50a3cafc5cac",
   "metadata": {},
   "outputs": [
    {
     "data": {
      "text/plain": [
       "67"
      ]
     },
     "execution_count": 41,
     "metadata": {},
     "output_type": "execute_result"
    }
   ],
   "source": [
    "s2.pop()"
   ]
  },
  {
   "cell_type": "code",
   "execution_count": 42,
   "id": "50999c18-d540-42fe-aa6e-ea8113ec2b86",
   "metadata": {},
   "outputs": [
    {
     "data": {
      "text/plain": [
       "{3, 5, 6, 8, 10, 97}"
      ]
     },
     "execution_count": 42,
     "metadata": {},
     "output_type": "execute_result"
    }
   ],
   "source": [
    "s2"
   ]
  },
  {
   "cell_type": "code",
   "execution_count": 45,
   "id": "ca7ab68e-1099-40bc-b432-463747bfb04c",
   "metadata": {},
   "outputs": [
    {
     "data": {
      "text/plain": [
       "{2, 5, 9, 'Yash', 'yash'}"
      ]
     },
     "execution_count": 45,
     "metadata": {},
     "output_type": "execute_result"
    }
   ],
   "source": [
    "s5"
   ]
  },
  {
   "cell_type": "code",
   "execution_count": 48,
   "id": "ae41f652-41cf-4c9c-9ecf-6de4b7ca71e3",
   "metadata": {},
   "outputs": [],
   "source": [
    "# clear() - Remove all the data/element from this set.\n",
    "s5.clear()"
   ]
  },
  {
   "cell_type": "code",
   "execution_count": 49,
   "id": "4735dcb6-aaf9-46c2-86cf-98df6f4bc004",
   "metadata": {},
   "outputs": [
    {
     "data": {
      "text/plain": [
       "set()"
      ]
     },
     "execution_count": 49,
     "metadata": {},
     "output_type": "execute_result"
    }
   ],
   "source": [
    "s5"
   ]
  },
  {
   "cell_type": "code",
   "execution_count": 1,
   "id": "e1c0c376-07c9-4e81-ad15-92adba942967",
   "metadata": {},
   "outputs": [],
   "source": [
    "s6={2,4,6,7}\n",
    "s7={2,4,6,9}"
   ]
  },
  {
   "cell_type": "code",
   "execution_count": 53,
   "id": "a085e1b8-b5f9-4056-a3f8-0944855d0de9",
   "metadata": {},
   "outputs": [
    {
     "data": {
      "text/plain": [
       "{7}"
      ]
     },
     "execution_count": 53,
     "metadata": {},
     "output_type": "execute_result"
    }
   ],
   "source": [
    "# Return the difference of two or more sets as a new set.\n",
    "# (i.e. all elements that are in this set but not the others.)\n",
    "\n",
    "s6.difference(s7)"
   ]
  },
  {
   "cell_type": "code",
   "execution_count": 54,
   "id": "82fc3cc3-78d4-4468-bc65-7b5d4cb0c43a",
   "metadata": {},
   "outputs": [
    {
     "data": {
      "text/plain": [
       "{9}"
      ]
     },
     "execution_count": 54,
     "metadata": {},
     "output_type": "execute_result"
    }
   ],
   "source": [
    "s7.difference(s6)"
   ]
  },
  {
   "cell_type": "code",
   "execution_count": 56,
   "id": "758f4b63-10a5-4a21-b8ff-dfcc54209930",
   "metadata": {},
   "outputs": [
    {
     "data": {
      "text/plain": [
       "{2, 4, 6, 7, 9}"
      ]
     },
     "execution_count": 56,
     "metadata": {},
     "output_type": "execute_result"
    }
   ],
   "source": [
    "# Union :- Return the union of sets as a new set.\n",
    "# (i.e. all elements that are in either set.)\n",
    "\n",
    "s6.union(s7)"
   ]
  },
  {
   "cell_type": "code",
   "execution_count": 60,
   "id": "66ee5f59-a03c-4503-a3fc-364204afb24e",
   "metadata": {},
   "outputs": [],
   "source": [
    "# update :- Update a set with the union of itself and others.\n",
    "\n",
    "s6.update(s7)"
   ]
  },
  {
   "cell_type": "code",
   "execution_count": 61,
   "id": "2d79a158-ba13-4500-84d2-7db687dddffe",
   "metadata": {},
   "outputs": [
    {
     "data": {
      "text/plain": [
       "{2, 4, 6, 7, 9}"
      ]
     },
     "execution_count": 61,
     "metadata": {},
     "output_type": "execute_result"
    }
   ],
   "source": [
    "s6"
   ]
  },
  {
   "cell_type": "code",
   "execution_count": 2,
   "id": "8b8cf46d-425a-47b4-aa14-567458b09d73",
   "metadata": {},
   "outputs": [
    {
     "data": {
      "text/plain": [
       "{2, 4, 6}"
      ]
     },
     "execution_count": 2,
     "metadata": {},
     "output_type": "execute_result"
    }
   ],
   "source": [
    "s6.intersection(s7)"
   ]
  },
  {
   "cell_type": "markdown",
   "id": "5df594ed-4275-4f6b-a3d5-f8fab8cf2ee8",
   "metadata": {},
   "source": [
    "## Dictionary"
   ]
  },
  {
   "cell_type": "code",
   "execution_count": 3,
   "id": "59c74a6d-71da-457c-a1fc-63d8a1216d33",
   "metadata": {},
   "outputs": [],
   "source": [
    "d={}"
   ]
  },
  {
   "cell_type": "code",
   "execution_count": 4,
   "id": "af8f7118-104a-4efc-b6b9-59e309928d86",
   "metadata": {},
   "outputs": [
    {
     "data": {
      "text/plain": [
       "dict"
      ]
     },
     "execution_count": 4,
     "metadata": {},
     "output_type": "execute_result"
    }
   ],
   "source": [
    "type(d)"
   ]
  },
  {
   "cell_type": "code",
   "execution_count": 5,
   "id": "685b4d46-bfa4-423e-bafa-c7919cac9a70",
   "metadata": {},
   "outputs": [
    {
     "data": {
      "text/plain": [
       "{'Name': 'Yash', 'Email': 'yrf@gmail.com', 'Number': 987654321}"
      ]
     },
     "execution_count": 5,
     "metadata": {},
     "output_type": "execute_result"
    }
   ],
   "source": [
    "# dictionary :- it is also collection where we can store the data in form of 'key:value' pair.\n",
    "d1={'Name':'Yash','Email':'yrf@gmail.com','Number':987654321}\n",
    "d1"
   ]
  },
  {
   "cell_type": "code",
   "execution_count": 7,
   "id": "5ea48847-fde2-40a6-89e7-e23107d85532",
   "metadata": {},
   "outputs": [
    {
     "data": {
      "text/plain": [
       "dict_keys(['Name', 'Email', 'Number'])"
      ]
     },
     "execution_count": 7,
     "metadata": {},
     "output_type": "execute_result"
    }
   ],
   "source": [
    "d1.keys()"
   ]
  },
  {
   "cell_type": "code",
   "execution_count": 8,
   "id": "2553381d-2e7d-464d-8bd7-a805b370cc84",
   "metadata": {},
   "outputs": [
    {
     "data": {
      "text/plain": [
       "dict_values(['Yash', 'yrf@gmail.com', 987654321])"
      ]
     },
     "execution_count": 8,
     "metadata": {},
     "output_type": "execute_result"
    }
   ],
   "source": [
    "d1.values()"
   ]
  },
  {
   "cell_type": "code",
   "execution_count": 9,
   "id": "c59e3dc9-11c9-492e-82f0-4d01a606db09",
   "metadata": {},
   "outputs": [],
   "source": [
    "d2={'name':'Ram','name':'RamRaj'}"
   ]
  },
  {
   "cell_type": "code",
   "execution_count": 12,
   "id": "0274a5d5-66cc-43af-b909-9f34b6a434b2",
   "metadata": {},
   "outputs": [
    {
     "data": {
      "text/plain": [
       "{'name': 'RamRaj'}"
      ]
     },
     "execution_count": 12,
     "metadata": {},
     "output_type": "execute_result"
    }
   ],
   "source": [
    "# key should not be repeated because old key is replaced by new one we gt below result\n",
    "d2"
   ]
  },
  {
   "cell_type": "code",
   "execution_count": 13,
   "id": "522315da-e3ba-4ac9-99f9-6c23eaa98509",
   "metadata": {},
   "outputs": [],
   "source": [
    "d3={1234:'XYZ'}"
   ]
  },
  {
   "cell_type": "code",
   "execution_count": 14,
   "id": "033ee683-ab7c-4f39-ae01-b0ec6d200ce0",
   "metadata": {},
   "outputs": [
    {
     "data": {
      "text/plain": [
       "{1234: 'XYZ'}"
      ]
     },
     "execution_count": 14,
     "metadata": {},
     "output_type": "execute_result"
    }
   ],
   "source": [
    "d3"
   ]
  },
  {
   "cell_type": "code",
   "execution_count": 15,
   "id": "4c2b4068-78b4-4aa5-bc0b-44abcb50036c",
   "metadata": {},
   "outputs": [],
   "source": [
    "d4={2+3j:'abc'}"
   ]
  },
  {
   "cell_type": "code",
   "execution_count": 16,
   "id": "8af5f11b-7c49-451b-874e-fe2788919b72",
   "metadata": {},
   "outputs": [
    {
     "data": {
      "text/plain": [
       "{(2+3j): 'abc'}"
      ]
     },
     "execution_count": 16,
     "metadata": {},
     "output_type": "execute_result"
    }
   ],
   "source": [
    "d4"
   ]
  },
  {
   "cell_type": "code",
   "execution_count": 17,
   "id": "4f643aaa-d235-41be-b9e8-115076289ad3",
   "metadata": {},
   "outputs": [
    {
     "data": {
      "text/plain": [
       "{22.44: 'pqr'}"
      ]
     },
     "execution_count": 17,
     "metadata": {},
     "output_type": "execute_result"
    }
   ],
   "source": [
    "d5={22.44:'pqr'}\n",
    "d5"
   ]
  },
  {
   "cell_type": "code",
   "execution_count": 19,
   "id": "862e28ad-9881-4acf-920c-ecf43adbc564",
   "metadata": {},
   "outputs": [
    {
     "ename": "SyntaxError",
     "evalue": "incomplete input (1730192644.py, line 1)",
     "output_type": "error",
     "traceback": [
      "\u001b[0;36m  Cell \u001b[0;32mIn[19], line 1\u001b[0;36m\u001b[0m\n\u001b[0;31m    d6={#:'van'}\u001b[0m\n\u001b[0m                ^\u001b[0m\n\u001b[0;31mSyntaxError\u001b[0m\u001b[0;31m:\u001b[0m incomplete input\n"
     ]
    }
   ],
   "source": [
    "d6={#:'van'}"
   ]
  },
  {
   "cell_type": "code",
   "execution_count": 20,
   "id": "609e4085-8dcd-4b44-908c-70b546bbfa64",
   "metadata": {},
   "outputs": [
    {
     "ename": "TypeError",
     "evalue": "unhashable type: 'list'",
     "output_type": "error",
     "traceback": [
      "\u001b[0;31m---------------------------------------------------------------------------\u001b[0m",
      "\u001b[0;31mTypeError\u001b[0m                                 Traceback (most recent call last)",
      "Cell \u001b[0;32mIn[20], line 1\u001b[0m\n\u001b[0;32m----> 1\u001b[0m d7\u001b[38;5;241m=\u001b[39m{[\u001b[38;5;241m1\u001b[39m,\u001b[38;5;241m2\u001b[39m,\u001b[38;5;241m4\u001b[39m]:\u001b[38;5;124m'\u001b[39m\u001b[38;5;124mxyz\u001b[39m\u001b[38;5;124m'\u001b[39m}\n",
      "\u001b[0;31mTypeError\u001b[0m: unhashable type: 'list'"
     ]
    }
   ],
   "source": [
    "d7={[1,2,4]:'xyz'}"
   ]
  },
  {
   "cell_type": "code",
   "execution_count": 21,
   "id": "62efb3f1-199e-42a0-a604-dab7642ead71",
   "metadata": {},
   "outputs": [],
   "source": [
    "d8={(4,6,8):'PQR'}"
   ]
  },
  {
   "cell_type": "code",
   "execution_count": 22,
   "id": "11b917d1-0f49-48a2-9b39-6cada1389f5b",
   "metadata": {},
   "outputs": [
    {
     "data": {
      "text/plain": [
       "{(4, 6, 8): 'PQR'}"
      ]
     },
     "execution_count": 22,
     "metadata": {},
     "output_type": "execute_result"
    }
   ],
   "source": [
    "d8"
   ]
  },
  {
   "cell_type": "code",
   "execution_count": 23,
   "id": "804453cd-3ae4-45cc-b7ab-3e6beeaaf9d2",
   "metadata": {},
   "outputs": [
    {
     "ename": "TypeError",
     "evalue": "unhashable type: 'set'",
     "output_type": "error",
     "traceback": [
      "\u001b[0;31m---------------------------------------------------------------------------\u001b[0m",
      "\u001b[0;31mTypeError\u001b[0m                                 Traceback (most recent call last)",
      "Cell \u001b[0;32mIn[23], line 1\u001b[0m\n\u001b[0;32m----> 1\u001b[0m d9\u001b[38;5;241m=\u001b[39m{{\u001b[38;5;241m1\u001b[39m,\u001b[38;5;241m3\u001b[39m,\u001b[38;5;241m5\u001b[39m}:\u001b[38;5;124m'\u001b[39m\u001b[38;5;124myza\u001b[39m\u001b[38;5;124m'\u001b[39m}\n",
      "\u001b[0;31mTypeError\u001b[0m: unhashable type: 'set'"
     ]
    }
   ],
   "source": [
    "d9={{1,3,5}:'yza'}"
   ]
  },
  {
   "cell_type": "code",
   "execution_count": 24,
   "id": "4fae34f0-a1cf-4bce-a6f1-913115e70c19",
   "metadata": {},
   "outputs": [
    {
     "ename": "TypeError",
     "evalue": "unhashable type: 'dict'",
     "output_type": "error",
     "traceback": [
      "\u001b[0;31m---------------------------------------------------------------------------\u001b[0m",
      "\u001b[0;31mTypeError\u001b[0m                                 Traceback (most recent call last)",
      "Cell \u001b[0;32mIn[24], line 1\u001b[0m\n\u001b[0;32m----> 1\u001b[0m d10\u001b[38;5;241m=\u001b[39m{{\u001b[38;5;124m'\u001b[39m\u001b[38;5;124mabc\u001b[39m\u001b[38;5;124m'\u001b[39m:\u001b[38;5;241m123\u001b[39m}:\u001b[38;5;241m456\u001b[39m}\n",
      "\u001b[0;31mTypeError\u001b[0m: unhashable type: 'dict'"
     ]
    }
   ],
   "source": [
    "d10={{'abc':123}:456}"
   ]
  },
  {
   "cell_type": "markdown",
   "id": "eba8e6b0-ed89-4f09-82d8-5f60e351b38b",
   "metadata": {},
   "source": [
    "#### We can use int, float, str, complex, tuple as a key in dict but we cannot use list, set, dict, special char as a key in dict."
   ]
  },
  {
   "cell_type": "code",
   "execution_count": 26,
   "id": "d1b82eb8-3261-4fe7-be87-a45f0ef12a2a",
   "metadata": {},
   "outputs": [
    {
     "data": {
      "text/plain": [
       "{'pqr': [1, 3, 5, 7]}"
      ]
     },
     "execution_count": 26,
     "metadata": {},
     "output_type": "execute_result"
    }
   ],
   "source": [
    "d11 = {'pqr' : [1,3,5,7] }\n",
    "d11"
   ]
  },
  {
   "cell_type": "code",
   "execution_count": 27,
   "id": "205dc2a3-caa7-473c-b5c9-e926a1f90a18",
   "metadata": {},
   "outputs": [
    {
     "data": {
      "text/plain": [
       "{'abc': {2, 4, 6}}"
      ]
     },
     "execution_count": 27,
     "metadata": {},
     "output_type": "execute_result"
    }
   ],
   "source": [
    "d12 = {'abc' : {2,4,6} }\n",
    "d12"
   ]
  },
  {
   "cell_type": "code",
   "execution_count": 28,
   "id": "f4c91f96-6f57-4974-a8f7-d0fb16df7d8e",
   "metadata": {},
   "outputs": [
    {
     "data": {
      "text/plain": [
       "{123: {'xyz': 2244}}"
      ]
     },
     "execution_count": 28,
     "metadata": {},
     "output_type": "execute_result"
    }
   ],
   "source": [
    "d13 = { 123 : {'xyz': 2244 } }\n",
    "d13"
   ]
  },
  {
   "cell_type": "code",
   "execution_count": 30,
   "id": "ecd9fa4e-e51b-4d22-9746-abddad58104e",
   "metadata": {},
   "outputs": [
    {
     "data": {
      "text/plain": [
       "{'wrt': (1, 4, 8)}"
      ]
     },
     "execution_count": 30,
     "metadata": {},
     "output_type": "execute_result"
    }
   ],
   "source": [
    "d14 = {'wrt' : (1,4,8) }\n",
    "d14"
   ]
  },
  {
   "cell_type": "code",
   "execution_count": 31,
   "id": "2d957254-7751-4b55-b4a5-1ab3d360caa9",
   "metadata": {},
   "outputs": [
    {
     "data": {
      "text/plain": [
       "{'Game': ('Cricket', 'Basketball', 'Football', 'Tennis'),\n",
       " 'Date': {10, 25, 31},\n",
       " 'Players': ['MSDhoni', 'Kolhi', 'Messi', 'Rohit']}"
      ]
     },
     "execution_count": 31,
     "metadata": {},
     "output_type": "execute_result"
    }
   ],
   "source": [
    "d15 = { \"Game\" : ('Cricket', 'Basketball', 'Football', 'Tennis'), \"Date\" : {10,25,31} , \"Players\" : ['MSDhoni','Kolhi','Messi','Rohit'] }\n",
    "d15"
   ]
  },
  {
   "cell_type": "code",
   "execution_count": 32,
   "id": "6ff8910e-5ecf-4556-979f-3bc2d3e205fd",
   "metadata": {},
   "outputs": [],
   "source": [
    "d15[\"Sponsors\"]={\"JIO\":\"Ambani\", \"VI\":\"Birla\"}"
   ]
  },
  {
   "cell_type": "code",
   "execution_count": 33,
   "id": "d84dc576-3b0d-4893-a3d0-1ad7c6bc472c",
   "metadata": {},
   "outputs": [
    {
     "data": {
      "text/plain": [
       "{'Game': ('Cricket', 'Basketball', 'Football', 'Tennis'),\n",
       " 'Date': {10, 25, 31},\n",
       " 'Players': ['MSDhoni', 'Kolhi', 'Messi', 'Rohit'],\n",
       " 'Sponsors': {'JIO': 'Ambani', 'VI': 'Birla'}}"
      ]
     },
     "execution_count": 33,
     "metadata": {},
     "output_type": "execute_result"
    }
   ],
   "source": [
    "d15"
   ]
  },
  {
   "cell_type": "code",
   "execution_count": 34,
   "id": "b283f7f9-db3f-4e9f-8de0-253251025e1b",
   "metadata": {},
   "outputs": [
    {
     "data": {
      "text/plain": [
       "('Cricket', 'Basketball', 'Football', 'Tennis')"
      ]
     },
     "execution_count": 34,
     "metadata": {},
     "output_type": "execute_result"
    }
   ],
   "source": [
    "d15['Game']"
   ]
  },
  {
   "cell_type": "code",
   "execution_count": 35,
   "id": "6cf8e7c6-81b0-4ba1-a3dd-6cd23f84e109",
   "metadata": {},
   "outputs": [
    {
     "data": {
      "text/plain": [
       "['MSDhoni', 'Kolhi', 'Messi', 'Rohit']"
      ]
     },
     "execution_count": 35,
     "metadata": {},
     "output_type": "execute_result"
    }
   ],
   "source": [
    "d15['Players']"
   ]
  },
  {
   "cell_type": "code",
   "execution_count": 36,
   "id": "5726897d-1938-43cc-bc43-78283efcc352",
   "metadata": {},
   "outputs": [
    {
     "data": {
      "text/plain": [
       "tuple"
      ]
     },
     "execution_count": 36,
     "metadata": {},
     "output_type": "execute_result"
    }
   ],
   "source": [
    "type(d15['Game'])"
   ]
  },
  {
   "cell_type": "code",
   "execution_count": 39,
   "id": "f86143c5-dfb5-470b-9281-5c51ba3e5539",
   "metadata": {},
   "outputs": [
    {
     "data": {
      "text/plain": [
       "{'abc': 'Ram'}"
      ]
     },
     "execution_count": 39,
     "metadata": {},
     "output_type": "execute_result"
    }
   ],
   "source": [
    "d16 = {'abc':'Ram'}\n",
    "d16"
   ]
  },
  {
   "cell_type": "code",
   "execution_count": 40,
   "id": "cdd9d8ea-284d-4982-bac9-f757a3307e8f",
   "metadata": {},
   "outputs": [
    {
     "data": {
      "text/plain": [
       "'RAM'"
      ]
     },
     "execution_count": 40,
     "metadata": {},
     "output_type": "execute_result"
    }
   ],
   "source": [
    "d16['abc'].upper()"
   ]
  },
  {
   "cell_type": "code",
   "execution_count": 41,
   "id": "55a523e6-0e78-4d38-8f1a-43ae7002a5cf",
   "metadata": {},
   "outputs": [
    {
     "data": {
      "text/plain": [
       "{'Game': ('Cricket', 'Basketball', 'Football', 'Tennis'),\n",
       " 'Date': {10, 25, 31},\n",
       " 'Players': ['MSDhoni', 'Kolhi', 'Messi', 'Rohit'],\n",
       " 'Sponsors': {'JIO': 'Ambani', 'VI': 'Birla'}}"
      ]
     },
     "execution_count": 41,
     "metadata": {},
     "output_type": "execute_result"
    }
   ],
   "source": [
    "d15"
   ]
  },
  {
   "cell_type": "code",
   "execution_count": 43,
   "id": "2c15d423-37be-4c35-ba1c-9b4ff609db81",
   "metadata": {},
   "outputs": [
    {
     "data": {
      "text/plain": [
       "'Ambani'"
      ]
     },
     "execution_count": 43,
     "metadata": {},
     "output_type": "execute_result"
    }
   ],
   "source": [
    "d15['Sponsors']['JIO']"
   ]
  },
  {
   "cell_type": "code",
   "execution_count": 44,
   "id": "4fa6bcd4-823e-4714-9129-357b3498a95a",
   "metadata": {},
   "outputs": [
    {
     "data": {
      "text/plain": [
       "'Birla'"
      ]
     },
     "execution_count": 44,
     "metadata": {},
     "output_type": "execute_result"
    }
   ],
   "source": [
    "d15['Sponsors']['VI']"
   ]
  },
  {
   "cell_type": "code",
   "execution_count": 45,
   "id": "bca655e6-344e-4da5-8e5c-9cddb1f1064a",
   "metadata": {},
   "outputs": [],
   "source": [
    "d15['Class']=\"F-Class\""
   ]
  },
  {
   "cell_type": "code",
   "execution_count": 46,
   "id": "a59f4264-a10a-4950-be31-6502ab7cbfe0",
   "metadata": {},
   "outputs": [
    {
     "data": {
      "text/plain": [
       "{'Game': ('Cricket', 'Basketball', 'Football', 'Tennis'),\n",
       " 'Date': {10, 25, 31},\n",
       " 'Players': ['MSDhoni', 'Kolhi', 'Messi', 'Rohit'],\n",
       " 'Sponsors': {'JIO': 'Ambani', 'VI': 'Birla'},\n",
       " 'Class': 'F-Class'}"
      ]
     },
     "execution_count": 46,
     "metadata": {},
     "output_type": "execute_result"
    }
   ],
   "source": [
    "d15"
   ]
  },
  {
   "cell_type": "code",
   "execution_count": 47,
   "id": "29d5069d-177d-4ffd-b7c3-f71df70a8ef5",
   "metadata": {},
   "outputs": [],
   "source": [
    "del d15['Class']"
   ]
  },
  {
   "cell_type": "code",
   "execution_count": 48,
   "id": "be6b9024-90f5-419e-9516-10ed6380728f",
   "metadata": {},
   "outputs": [
    {
     "data": {
      "text/plain": [
       "{'Game': ('Cricket', 'Basketball', 'Football', 'Tennis'),\n",
       " 'Date': {10, 25, 31},\n",
       " 'Players': ['MSDhoni', 'Kolhi', 'Messi', 'Rohit'],\n",
       " 'Sponsors': {'JIO': 'Ambani', 'VI': 'Birla'}}"
      ]
     },
     "execution_count": 48,
     "metadata": {},
     "output_type": "execute_result"
    }
   ],
   "source": [
    "d15"
   ]
  },
  {
   "cell_type": "code",
   "execution_count": 49,
   "id": "1e11896f-67bd-4fd3-ab7a-9432e8c84500",
   "metadata": {},
   "outputs": [
    {
     "data": {
      "text/plain": [
       "{'wrt': (1, 4, 8)}"
      ]
     },
     "execution_count": 49,
     "metadata": {},
     "output_type": "execute_result"
    }
   ],
   "source": [
    "d14"
   ]
  },
  {
   "cell_type": "code",
   "execution_count": 50,
   "id": "8260267c-9c26-4ae0-9c21-ab2a6c216348",
   "metadata": {},
   "outputs": [],
   "source": [
    "d14.clear()"
   ]
  },
  {
   "cell_type": "code",
   "execution_count": 51,
   "id": "b1e89186-307c-46cd-8f0c-9634b5c8959a",
   "metadata": {},
   "outputs": [
    {
     "data": {
      "text/plain": [
       "{}"
      ]
     },
     "execution_count": 51,
     "metadata": {},
     "output_type": "execute_result"
    }
   ],
   "source": [
    "d14"
   ]
  },
  {
   "cell_type": "code",
   "execution_count": 52,
   "id": "6f72c8e4-2aa6-4b50-8a7e-a368f85e78a8",
   "metadata": {},
   "outputs": [
    {
     "data": {
      "text/plain": [
       "4"
      ]
     },
     "execution_count": 52,
     "metadata": {},
     "output_type": "execute_result"
    }
   ],
   "source": [
    "len(d15)"
   ]
  },
  {
   "cell_type": "code",
   "execution_count": 54,
   "id": "8620e93d-9f17-4fa0-8a2e-707d939744f1",
   "metadata": {},
   "outputs": [
    {
     "data": {
      "text/plain": [
       "dict_keys(['Game', 'Date', 'Players', 'Sponsors'])"
      ]
     },
     "execution_count": 54,
     "metadata": {},
     "output_type": "execute_result"
    }
   ],
   "source": [
    "d15.keys()"
   ]
  },
  {
   "cell_type": "code",
   "execution_count": 55,
   "id": "253028aa-ed85-4d5a-9902-9036da9bfe5f",
   "metadata": {},
   "outputs": [
    {
     "data": {
      "text/plain": [
       "dict_values([('Cricket', 'Basketball', 'Football', 'Tennis'), {25, 10, 31}, ['MSDhoni', 'Kolhi', 'Messi', 'Rohit'], {'JIO': 'Ambani', 'VI': 'Birla'}])"
      ]
     },
     "execution_count": 55,
     "metadata": {},
     "output_type": "execute_result"
    }
   ],
   "source": [
    "d15.values()"
   ]
  },
  {
   "cell_type": "code",
   "execution_count": 56,
   "id": "34a9a4f8-3947-4ddc-b845-19c7249c9c49",
   "metadata": {},
   "outputs": [
    {
     "data": {
      "text/plain": [
       "[('Cricket', 'Basketball', 'Football', 'Tennis'),\n",
       " {10, 25, 31},\n",
       " ['MSDhoni', 'Kolhi', 'Messi', 'Rohit'],\n",
       " {'JIO': 'Ambani', 'VI': 'Birla'}]"
      ]
     },
     "execution_count": 56,
     "metadata": {},
     "output_type": "execute_result"
    }
   ],
   "source": [
    "list(d15.values())"
   ]
  },
  {
   "cell_type": "code",
   "execution_count": 53,
   "id": "b3cceef5-b747-406b-955e-0abd1861b640",
   "metadata": {},
   "outputs": [
    {
     "data": {
      "text/plain": [
       "dict_items([('Game', ('Cricket', 'Basketball', 'Football', 'Tennis')), ('Date', {25, 10, 31}), ('Players', ['MSDhoni', 'Kolhi', 'Messi', 'Rohit']), ('Sponsors', {'JIO': 'Ambani', 'VI': 'Birla'})])"
      ]
     },
     "execution_count": 53,
     "metadata": {},
     "output_type": "execute_result"
    }
   ],
   "source": [
    "d15.items()"
   ]
  },
  {
   "cell_type": "code",
   "execution_count": 57,
   "id": "9121b55b-ae54-4105-a283-32cdf6813998",
   "metadata": {},
   "outputs": [
    {
     "data": {
      "text/plain": [
       "(('Game', ('Cricket', 'Basketball', 'Football', 'Tennis')),\n",
       " ('Date', {10, 25, 31}),\n",
       " ('Players', ['MSDhoni', 'Kolhi', 'Messi', 'Rohit']),\n",
       " ('Sponsors', {'JIO': 'Ambani', 'VI': 'Birla'}))"
      ]
     },
     "execution_count": 57,
     "metadata": {},
     "output_type": "execute_result"
    }
   ],
   "source": [
    "tuple(d15.items())"
   ]
  },
  {
   "cell_type": "code",
   "execution_count": 58,
   "id": "faa8552f-a098-4643-94ad-d092408ab8ad",
   "metadata": {},
   "outputs": [
    {
     "data": {
      "text/plain": [
       "{'Game': ('Cricket', 'Basketball', 'Football', 'Tennis'),\n",
       " 'Date': {10, 25, 31},\n",
       " 'Players': ['MSDhoni', 'Kolhi', 'Messi', 'Rohit'],\n",
       " 'Sponsors': {'JIO': 'Ambani', 'VI': 'Birla'}}"
      ]
     },
     "execution_count": 58,
     "metadata": {},
     "output_type": "execute_result"
    }
   ],
   "source": [
    "d15"
   ]
  },
  {
   "cell_type": "code",
   "execution_count": 61,
   "id": "e0e4d959-a50a-4b9e-9630-26727955138a",
   "metadata": {},
   "outputs": [],
   "source": [
    "# copy function will create a new memory location for that data. if you delete from odd dict the new one created will not affect.\n",
    "d16 = d15.copy()"
   ]
  },
  {
   "cell_type": "code",
   "execution_count": 60,
   "id": "9b689f5d-c210-4417-a860-55064cee8564",
   "metadata": {},
   "outputs": [
    {
     "data": {
      "text/plain": [
       "{'Game': ('Cricket', 'Basketball', 'Football', 'Tennis'),\n",
       " 'Date': {10, 25, 31},\n",
       " 'Players': ['MSDhoni', 'Kolhi', 'Messi', 'Rohit'],\n",
       " 'Sponsors': {'JIO': 'Ambani', 'VI': 'Birla'}}"
      ]
     },
     "execution_count": 60,
     "metadata": {},
     "output_type": "execute_result"
    }
   ],
   "source": [
    "d16"
   ]
  },
  {
   "cell_type": "code",
   "execution_count": 66,
   "id": "32014d37-5862-4ee3-95cd-1923530a1108",
   "metadata": {},
   "outputs": [],
   "source": [
    "# here if you make changes in d15 then d17 will be also change. It point to same memory location.\n",
    "d17 = d15"
   ]
  },
  {
   "cell_type": "code",
   "execution_count": 67,
   "id": "77723da1-fbb0-4104-8775-86414b0bd125",
   "metadata": {},
   "outputs": [],
   "source": [
    "del d15['Sponsors']"
   ]
  },
  {
   "cell_type": "code",
   "execution_count": 68,
   "id": "48979cd8-73b6-4ea4-9423-7ebd0e8ad184",
   "metadata": {},
   "outputs": [
    {
     "data": {
      "text/plain": [
       "{'Game': ('Cricket', 'Basketball', 'Football', 'Tennis'),\n",
       " 'Date': {10, 25, 31},\n",
       " 'Players': ['MSDhoni', 'Kolhi', 'Messi', 'Rohit']}"
      ]
     },
     "execution_count": 68,
     "metadata": {},
     "output_type": "execute_result"
    }
   ],
   "source": [
    "d15"
   ]
  },
  {
   "cell_type": "code",
   "execution_count": 69,
   "id": "e64836d2-698e-40db-9936-1a37ba7747cf",
   "metadata": {},
   "outputs": [
    {
     "data": {
      "text/plain": [
       "{'Game': ('Cricket', 'Basketball', 'Football', 'Tennis'),\n",
       " 'Date': {10, 25, 31},\n",
       " 'Players': ['MSDhoni', 'Kolhi', 'Messi', 'Rohit']}"
      ]
     },
     "execution_count": 69,
     "metadata": {},
     "output_type": "execute_result"
    }
   ],
   "source": [
    "d17"
   ]
  },
  {
   "cell_type": "code",
   "execution_count": 70,
   "id": "489f409d-4ae3-4f03-a5d5-86f874f4f894",
   "metadata": {},
   "outputs": [
    {
     "data": {
      "text/plain": [
       "{'Game': ('Cricket', 'Basketball', 'Football', 'Tennis'),\n",
       " 'Date': {10, 25, 31},\n",
       " 'Players': ['MSDhoni', 'Kolhi', 'Messi', 'Rohit'],\n",
       " 'Sponsors': {'JIO': 'Ambani', 'VI': 'Birla'}}"
      ]
     },
     "execution_count": 70,
     "metadata": {},
     "output_type": "execute_result"
    }
   ],
   "source": [
    "d16"
   ]
  },
  {
   "cell_type": "code",
   "execution_count": 71,
   "id": "729fa965-bca5-4c2e-9828-1b9d930a2849",
   "metadata": {},
   "outputs": [
    {
     "data": {
      "text/plain": [
       "{10, 25, 31}"
      ]
     },
     "execution_count": 71,
     "metadata": {},
     "output_type": "execute_result"
    }
   ],
   "source": [
    "# pop() :- D.pop(k[,d]) -> v, remove specified key and return the corresponding value.\n",
    "d15.pop('Date')"
   ]
  },
  {
   "cell_type": "code",
   "execution_count": 72,
   "id": "12b3313b-991b-47ae-ac87-0f0250397cf3",
   "metadata": {},
   "outputs": [
    {
     "data": {
      "text/plain": [
       "{'Game': ('Cricket', 'Basketball', 'Football', 'Tennis'),\n",
       " 'Players': ['MSDhoni', 'Kolhi', 'Messi', 'Rohit']}"
      ]
     },
     "execution_count": 72,
     "metadata": {},
     "output_type": "execute_result"
    }
   ],
   "source": [
    "d15"
   ]
  },
  {
   "cell_type": "code",
   "execution_count": 74,
   "id": "cb67eb07-dd53-42d8-a5da-f2dc9d7ead6b",
   "metadata": {},
   "outputs": [
    {
     "data": {
      "text/plain": [
       "{'a': (123, 456, 789), 'b': (123, 456, 789), 'c': (123, 456, 789)}"
      ]
     },
     "execution_count": 74,
     "metadata": {},
     "output_type": "execute_result"
    }
   ],
   "source": [
    "# fromkeys() :- Docstring: Create a new dictionary with keys from iterable and values set to value.\n",
    "# Syntax :- d.fromkeys(iterable, value=None, /)\n",
    "\n",
    "d18={}\n",
    "d18.fromkeys(('a','b','c'),(123,456,789))"
   ]
  },
  {
   "cell_type": "code",
   "execution_count": 1,
   "id": "02e55f6f-9b02-4294-8459-2c3c09df818a",
   "metadata": {},
   "outputs": [],
   "source": [
    "d19={'a':1,'b':2}\n",
    "d20={'c':3,'d':4}"
   ]
  },
  {
   "cell_type": "code",
   "execution_count": 76,
   "id": "3806a58d-ad8b-41d3-8c9b-e357fb1f3bbf",
   "metadata": {},
   "outputs": [
    {
     "data": {
      "text/plain": [
       "({'a': 1, 'b': 2}, {'c': 3, 'd': 4})"
      ]
     },
     "execution_count": 76,
     "metadata": {},
     "output_type": "execute_result"
    }
   ],
   "source": [
    "(d19,d20)"
   ]
  },
  {
   "cell_type": "code",
   "execution_count": 77,
   "id": "13cbc1f3-0e15-4870-b144-4800e95d03f4",
   "metadata": {},
   "outputs": [
    {
     "data": {
      "text/plain": [
       "[{'a': 1, 'b': 2}, {'c': 3, 'd': 4}]"
      ]
     },
     "execution_count": 77,
     "metadata": {},
     "output_type": "execute_result"
    }
   ],
   "source": [
    "[d19,d20]"
   ]
  },
  {
   "cell_type": "code",
   "execution_count": 2,
   "id": "92819d15-10d1-46f7-b806-068ad1cf55a9",
   "metadata": {},
   "outputs": [],
   "source": [
    "# update() :- D.update([E, ]**F) -> None.  Update D from dict/iterable E and F.\n",
    "d19.update(d20)"
   ]
  },
  {
   "cell_type": "code",
   "execution_count": 3,
   "id": "616f38ec-23af-4bbd-802d-a43af4d232f3",
   "metadata": {},
   "outputs": [
    {
     "data": {
      "text/plain": [
       "{'a': 1, 'b': 2, 'c': 3, 'd': 4}"
      ]
     },
     "execution_count": 3,
     "metadata": {},
     "output_type": "execute_result"
    }
   ],
   "source": [
    "d19"
   ]
  },
  {
   "cell_type": "code",
   "execution_count": 4,
   "id": "6a51c03a-f1a4-4b2f-8adf-eedf832cd6ac",
   "metadata": {},
   "outputs": [
    {
     "data": {
      "text/plain": [
       "{'c': 3, 'd': 4}"
      ]
     },
     "execution_count": 4,
     "metadata": {},
     "output_type": "execute_result"
    }
   ],
   "source": [
    "d20"
   ]
  },
  {
   "cell_type": "code",
   "execution_count": 6,
   "id": "218a7e8c-0724-467c-8915-a6350357dda6",
   "metadata": {},
   "outputs": [
    {
     "data": {
      "text/plain": [
       "3"
      ]
     },
     "execution_count": 6,
     "metadata": {},
     "output_type": "execute_result"
    }
   ],
   "source": [
    "# get() :- Return the value for key if key is in the dictionary, else default. It is bulit-in fun or method.\n",
    "d19.get('c')"
   ]
  },
  {
   "cell_type": "markdown",
   "id": "17b1e59a-a359-47c8-9910-7d0af0e9cd57",
   "metadata": {},
   "source": [
    "Dictionary Comprehension"
   ]
  },
  {
   "cell_type": "code",
   "execution_count": 7,
   "id": "e7e59d4e-8934-46c6-b8a4-6de5a1ad2157",
   "metadata": {},
   "outputs": [
    {
     "name": "stdout",
     "output_type": "stream",
     "text": [
      "{1: 1, 2: 4, 3: 9, 4: 16, 5: 25, 6: 36, 7: 49, 8: 64, 9: 81, 10: 100}\n"
     ]
    }
   ],
   "source": [
    "dp={}\n",
    "for i in range(1,11):\n",
    "    dp[i]=i**2\n",
    "print(dp)"
   ]
  },
  {
   "cell_type": "code",
   "execution_count": 10,
   "id": "ef6174c3-c82e-413d-afa3-a245855a2a8c",
   "metadata": {},
   "outputs": [
    {
     "data": {
      "text/plain": [
       "{1: 1, 2: 4, 3: 9, 4: 16, 5: 25, 6: 36, 7: 49, 8: 64, 9: 81, 10: 100}"
      ]
     },
     "execution_count": 10,
     "metadata": {},
     "output_type": "execute_result"
    }
   ],
   "source": [
    "{ i : i**2 for i in range(1,11) }"
   ]
  },
  {
   "cell_type": "code",
   "execution_count": 19,
   "id": "49e75956-476b-41f6-9a79-10d9d0145356",
   "metadata": {},
   "outputs": [],
   "source": [
    "d21= { i : i**3 for i in range(1,11) }"
   ]
  },
  {
   "cell_type": "code",
   "execution_count": 12,
   "id": "f2e51544-a5f2-4692-99a8-041b7f46faa9",
   "metadata": {},
   "outputs": [
    {
     "data": {
      "text/plain": [
       "{1: 18, 2: 36, 3: 54, 4: 72, 5: 90, 6: 108, 7: 126, 8: 144, 9: 162, 10: 180}"
      ]
     },
     "execution_count": 12,
     "metadata": {},
     "output_type": "execute_result"
    }
   ],
   "source": [
    "{ i : i*18 for i in range(1,11) }"
   ]
  },
  {
   "cell_type": "code",
   "execution_count": 13,
   "id": "9464af6b-55c5-4f87-b86d-e7967264a8e4",
   "metadata": {},
   "outputs": [
    {
     "data": {
      "text/plain": [
       "{1: 0.0,\n",
       " 2: 0.3010299956639812,\n",
       " 3: 0.47712125471966244,\n",
       " 4: 0.6020599913279624,\n",
       " 5: 0.6989700043360189,\n",
       " 6: 0.7781512503836436,\n",
       " 7: 0.8450980400142568,\n",
       " 8: 0.9030899869919435,\n",
       " 9: 0.9542425094393249,\n",
       " 10: 1.0}"
      ]
     },
     "execution_count": 13,
     "metadata": {},
     "output_type": "execute_result"
    }
   ],
   "source": [
    "import math\n",
    "{ i : math.log10(i) for i in range(1,11) }"
   ]
  },
  {
   "cell_type": "code",
   "execution_count": 16,
   "id": "38e67c4e-e975-45e1-ba73-f3857886be9d",
   "metadata": {},
   "outputs": [
    {
     "data": {
      "text/plain": [
       "{'a': 1, 'b': 2, 'c': 3, 'd': 4}"
      ]
     },
     "execution_count": 16,
     "metadata": {},
     "output_type": "execute_result"
    }
   ],
   "source": [
    "d19"
   ]
  },
  {
   "cell_type": "code",
   "execution_count": 17,
   "id": "0b9fe570-1790-489f-a965-c0e31467275f",
   "metadata": {},
   "outputs": [
    {
     "data": {
      "text/plain": [
       "True"
      ]
     },
     "execution_count": 17,
     "metadata": {},
     "output_type": "execute_result"
    }
   ],
   "source": [
    "'b' in d19"
   ]
  },
  {
   "cell_type": "code",
   "execution_count": 18,
   "id": "f44cc53b-4dcb-443e-99e2-5620555a61cf",
   "metadata": {},
   "outputs": [
    {
     "data": {
      "text/plain": [
       "False"
      ]
     },
     "execution_count": 18,
     "metadata": {},
     "output_type": "execute_result"
    }
   ],
   "source": [
    "'z' in d19"
   ]
  },
  {
   "cell_type": "code",
   "execution_count": 20,
   "id": "1cfc99ed-2dbc-4c60-9f43-723a9def69cd",
   "metadata": {},
   "outputs": [
    {
     "data": {
      "text/plain": [
       "{1: 1, 2: 8, 3: 27, 4: 64, 5: 125, 6: 216, 7: 343, 8: 512, 9: 729, 10: 1000}"
      ]
     },
     "execution_count": 20,
     "metadata": {},
     "output_type": "execute_result"
    }
   ],
   "source": [
    "d21"
   ]
  },
  {
   "cell_type": "code",
   "execution_count": 21,
   "id": "d172cab4-9fee-49b2-9079-43ff1b1d7a87",
   "metadata": {},
   "outputs": [
    {
     "name": "stdout",
     "output_type": "stream",
     "text": [
      "(1, 1)\n",
      "(2, 8)\n",
      "(3, 27)\n",
      "(4, 64)\n",
      "(5, 125)\n",
      "(6, 216)\n",
      "(7, 343)\n",
      "(8, 512)\n",
      "(9, 729)\n",
      "(10, 1000)\n"
     ]
    }
   ],
   "source": [
    "for i in d21.items():\n",
    "    print(i)"
   ]
  },
  {
   "cell_type": "code",
   "execution_count": 29,
   "id": "30787dab-e39e-4196-8c89-1aed35079035",
   "metadata": {},
   "outputs": [
    {
     "name": "stdout",
     "output_type": "stream",
     "text": [
      "8\n",
      "64\n",
      "216\n",
      "512\n",
      "1000\n"
     ]
    }
   ],
   "source": [
    "for i in d21.keys():\n",
    "    if i%2==0:\n",
    "        print(d21[i])"
   ]
  },
  {
   "cell_type": "code",
   "execution_count": 30,
   "id": "ee1dad15-ee4e-4300-aa2f-eb7ef9822148",
   "metadata": {},
   "outputs": [
    {
     "name": "stdout",
     "output_type": "stream",
     "text": [
      "400\n",
      "(200, 300, 400)\n"
     ]
    }
   ],
   "source": [
    "atuple = (100, 200, 300, 400, 500)\n",
    "print(atuple[-2])\n",
    "\n",
    "print(atuple[-4:-1])"
   ]
  },
  {
   "cell_type": "code",
   "execution_count": 32,
   "id": "a0995f99-6ba2-4e1b-b5af-40f48c0d2f93",
   "metadata": {},
   "outputs": [
    {
     "name": "stdout",
     "output_type": "stream",
     "text": [
      "<class 'str'>\n"
     ]
    }
   ],
   "source": [
    "atuple = (\"Orange\")\n",
    "\n",
    "print(type(atuple))"
   ]
  },
  {
   "cell_type": "code",
   "execution_count": 33,
   "id": "37e6d43b-53b7-4984-b09c-ad9e88c46527",
   "metadata": {},
   "outputs": [
    {
     "data": {
      "text/plain": [
       "(100, 100)"
      ]
     },
     "execution_count": 33,
     "metadata": {},
     "output_type": "execute_result"
    }
   ],
   "source": [
    "atuple=(100,)\n",
    "atuple*2"
   ]
  },
  {
   "cell_type": "code",
   "execution_count": 34,
   "id": "f752f9fa-110b-4cf8-ad01-223636ac1263",
   "metadata": {},
   "outputs": [
    {
     "name": "stdout",
     "output_type": "stream",
     "text": [
      "None\n"
     ]
    }
   ],
   "source": [
    "dict1 = {\"name\": \"Mike\", \"salary\": 8000}\n",
    "\n",
    "temp = dict1.get(\"age\")\n",
    "\n",
    "print(temp)"
   ]
  },
  {
   "cell_type": "code",
   "execution_count": 35,
   "id": "2d38bbad-d450-4d3f-908f-c562e5cbd1fe",
   "metadata": {},
   "outputs": [
    {
     "name": "stdout",
     "output_type": "stream",
     "text": [
      "True\n"
     ]
    }
   ],
   "source": [
    "dict1 = {\"key1\":1, \"key2\":2}\n",
    "\n",
    "dict2 = {\"key2\":2, \"key1\":1}\n",
    "\n",
    "print(dict1 == dict2)"
   ]
  },
  {
   "cell_type": "code",
   "execution_count": 36,
   "id": "f2f6d105-00e3-4ffd-8bde-c54ad459c04a",
   "metadata": {},
   "outputs": [],
   "source": [
    "s1={1,2,3}\n",
    "s2={5,7,2}"
   ]
  },
  {
   "cell_type": "code",
   "execution_count": 38,
   "id": "61c58844-74db-435c-a8ee-d7dfa9b7e4e9",
   "metadata": {},
   "outputs": [],
   "source": [
    "s2=s1.copy()"
   ]
  },
  {
   "cell_type": "code",
   "execution_count": 39,
   "id": "fa1c0cab-f635-4ccb-9f55-c732eee84cbd",
   "metadata": {},
   "outputs": [
    {
     "data": {
      "text/plain": [
       "{1, 2, 3}"
      ]
     },
     "execution_count": 39,
     "metadata": {},
     "output_type": "execute_result"
    }
   ],
   "source": [
    "s2"
   ]
  },
  {
   "cell_type": "code",
   "execution_count": 40,
   "id": "feb152a6-1b7e-4192-9b19-5067d50be407",
   "metadata": {},
   "outputs": [],
   "source": [
    "s2=set(s1)"
   ]
  },
  {
   "cell_type": "code",
   "execution_count": 41,
   "id": "4ad100c7-032c-40c9-a181-063cdb72f3da",
   "metadata": {},
   "outputs": [
    {
     "data": {
      "text/plain": [
       "{1, 2, 3}"
      ]
     },
     "execution_count": 41,
     "metadata": {},
     "output_type": "execute_result"
    }
   ],
   "source": [
    "s2"
   ]
  },
  {
   "cell_type": "code",
   "execution_count": 42,
   "id": "60391158-81fe-43ef-bfc6-1e13d4dc3d95",
   "metadata": {},
   "outputs": [],
   "source": [
    "s2.update(s1)"
   ]
  },
  {
   "cell_type": "code",
   "execution_count": 43,
   "id": "a257577b-7715-47c4-9673-da5973c12358",
   "metadata": {},
   "outputs": [
    {
     "data": {
      "text/plain": [
       "{1, 2, 3}"
      ]
     },
     "execution_count": 43,
     "metadata": {},
     "output_type": "execute_result"
    }
   ],
   "source": [
    "s2"
   ]
  },
  {
   "cell_type": "code",
   "execution_count": 44,
   "id": "8167a18c-e9d3-4571-9e8a-1209a5aa93ea",
   "metadata": {},
   "outputs": [],
   "source": [
    "s2=s1"
   ]
  },
  {
   "cell_type": "code",
   "execution_count": 46,
   "id": "86f64fcf-371f-444d-a9e3-b5ac0e7ef38a",
   "metadata": {},
   "outputs": [
    {
     "data": {
      "text/plain": [
       "{1, 2, 3}"
      ]
     },
     "execution_count": 46,
     "metadata": {},
     "output_type": "execute_result"
    }
   ],
   "source": [
    "s2"
   ]
  },
  {
   "cell_type": "code",
   "execution_count": 47,
   "id": "1ca26516-7958-4d49-b946-dfc1db53c07f",
   "metadata": {},
   "outputs": [
    {
     "name": "stdout",
     "output_type": "stream",
     "text": [
      "{'Pink', 'Blue'}\n"
     ]
    }
   ],
   "source": [
    "set1 = {\"Yellow\", \"Orange\", \"Black\"}\n",
    "\n",
    "set2 = {\"Orange\", \"Blue\", \"Pink\"}\n",
    "\n",
    "set3 = set2.difference(set1)\n",
    "\n",
    "print(set3)"
   ]
  },
  {
   "cell_type": "code",
   "execution_count": 48,
   "id": "a40101a6-c1f3-42aa-bdc1-46ad8415d0e0",
   "metadata": {},
   "outputs": [
    {
     "data": {
      "text/plain": [
       "{1, 2, 3}"
      ]
     },
     "execution_count": 48,
     "metadata": {},
     "output_type": "execute_result"
    }
   ],
   "source": [
    "s2"
   ]
  },
  {
   "cell_type": "code",
   "execution_count": 49,
   "id": "111ca8e5-4f61-4f76-882c-875ebc5fa368",
   "metadata": {},
   "outputs": [
    {
     "data": {
      "text/plain": [
       "1"
      ]
     },
     "execution_count": 49,
     "metadata": {},
     "output_type": "execute_result"
    }
   ],
   "source": [
    "s2.pop()"
   ]
  },
  {
   "cell_type": "code",
   "execution_count": null,
   "id": "08d75f6a-007d-4fc8-a417-d9d69da43e65",
   "metadata": {},
   "outputs": [],
   "source": []
  }
 ],
 "metadata": {
  "kernelspec": {
   "display_name": "Python 3 (ipykernel)",
   "language": "python",
   "name": "python3"
  },
  "language_info": {
   "codemirror_mode": {
    "name": "ipython",
    "version": 3
   },
   "file_extension": ".py",
   "mimetype": "text/x-python",
   "name": "python",
   "nbconvert_exporter": "python",
   "pygments_lexer": "ipython3",
   "version": "3.10.8"
  }
 },
 "nbformat": 4,
 "nbformat_minor": 5
}
