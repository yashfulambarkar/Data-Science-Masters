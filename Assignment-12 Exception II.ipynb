{
 "cells": [
  {
   "cell_type": "markdown",
   "id": "d6f3ef82-ba99-4577-8a91-198dc1f87352",
   "metadata": {},
   "source": [
    "Q1. Explain why we have to use the Exception class while creating a Custom Exception."
   ]
  },
  {
   "cell_type": "markdown",
   "id": "e0a3dc16-218b-4b44-ab18-61c6a0d41a96",
   "metadata": {},
   "source": [
    ":- We have to use Exception class while creating a Custom Exception because it is good practise. When we have to create a Custom exception means according to our program we need to define the exception class."
   ]
  },
  {
   "cell_type": "code",
   "execution_count": 1,
   "id": "48c4bf1a-e954-4289-98d5-194fecc70bdc",
   "metadata": {},
   "outputs": [],
   "source": [
    "class validate_pass(Exception):\n",
    "    def __init__(self, msg):\n",
    "        self.msg=msg\n",
    "        \n",
    "def check_pass(pswd):\n",
    "    if len(pswd)!=9:\n",
    "        raise validate_pass(\"InValid Password!!\")\n",
    "    elif len(pswd)==9:\n",
    "        print(\"Valid Password\")"
   ]
  },
  {
   "cell_type": "code",
   "execution_count": 2,
   "id": "0d7e15ed-8849-44ed-bcd7-1e59a97d1eae",
   "metadata": {},
   "outputs": [
    {
     "name": "stdin",
     "output_type": "stream",
     "text": [
      "Enter password:  fyasvfbh9\n"
     ]
    },
    {
     "name": "stdout",
     "output_type": "stream",
     "text": [
      "Valid Password\n",
      "Program Ends!!\n"
     ]
    }
   ],
   "source": [
    "try:\n",
    "    password=input(\"Enter password: \")\n",
    "    check_pass(password)\n",
    "    \n",
    "except validate_pass as e:\n",
    "    print(e)\n",
    "    \n",
    "finally:\n",
    "    print(\"Program Ends!!\")\n"
   ]
  },
  {
   "cell_type": "code",
   "execution_count": null,
   "id": "8ba42342-db24-4dee-9506-41a11badccb1",
   "metadata": {},
   "outputs": [],
   "source": []
  },
  {
   "cell_type": "markdown",
   "id": "eade85c5-828a-49a5-b289-1dbb1c725dbc",
   "metadata": {},
   "source": [
    "Q2. Write a python program to print Python Exception Hierarchy."
   ]
  },
  {
   "cell_type": "markdown",
   "id": "4d946297-9531-4758-90f8-dc46cb4b35dd",
   "metadata": {},
   "source": [
    ":- For printing the tree hierarchy we will use inspect module in Python. The inspect module provides useful functions to get information about objects such as modules, classes, methods, functions,  and code objects. For example, it can help you examine the contents of a class, extract and format the argument list for a function.\n",
    "\n",
    "For building a tree hierarchy we will use inspect.getclasstree().\n",
    "\n",
    "inspect.getclasstree() arranges the given list of classes into a hierarchy of nested lists. Where a nested list appears, it contains classes derived from the class whose entry immediately precedes the list.\n",
    "\n",
    "If the unique argument is true, exactly one entry appears in the returned structure for each class in the given list. Otherwise, classes using multiple inheritance and their descendants will appear multiple times."
   ]
  },
  {
   "cell_type": "code",
   "execution_count": 2,
   "id": "171242af-c4e1-4073-afe9-640d01738b12",
   "metadata": {},
   "outputs": [
    {
     "name": "stdout",
     "output_type": "stream",
     "text": [
      "Hierarchy for Built-in exceptions is : \n",
      "BaseException\n",
      "---Exception\n",
      "------TypeError\n",
      "---------FloatOperation\n",
      "---------MultipartConversionError\n",
      "------StopAsyncIteration\n",
      "------StopIteration\n",
      "------ImportError\n",
      "---------ModuleNotFoundError\n",
      "---------ZipImportError\n",
      "------OSError\n",
      "---------ConnectionError\n",
      "------------BrokenPipeError\n",
      "------------ConnectionAbortedError\n",
      "------------ConnectionRefusedError\n",
      "------------ConnectionResetError\n",
      "---------------RemoteDisconnected\n",
      "---------BlockingIOError\n",
      "---------ChildProcessError\n",
      "---------FileExistsError\n",
      "---------FileNotFoundError\n",
      "---------IsADirectoryError\n",
      "---------NotADirectoryError\n",
      "---------InterruptedError\n",
      "------------InterruptedSystemCall\n",
      "---------PermissionError\n",
      "---------ProcessLookupError\n",
      "---------TimeoutError\n",
      "---------UnsupportedOperation\n",
      "---------itimer_error\n",
      "---------herror\n",
      "---------gaierror\n",
      "---------SSLError\n",
      "------------SSLCertVerificationError\n",
      "------------SSLZeroReturnError\n",
      "------------SSLWantWriteError\n",
      "------------SSLWantReadError\n",
      "------------SSLSyscallError\n",
      "------------SSLEOFError\n",
      "---------Error\n",
      "------------SameFileError\n",
      "---------SpecialFileError\n",
      "---------ExecError\n",
      "---------ReadError\n",
      "---------URLError\n",
      "------------HTTPError\n",
      "------------ContentTooShortError\n",
      "---------BadGzipFile\n",
      "------EOFError\n",
      "---------IncompleteReadError\n",
      "------RuntimeError\n",
      "---------RecursionError\n",
      "---------NotImplementedError\n",
      "------------ZMQVersionError\n",
      "------------StdinNotImplementedError\n",
      "---------_DeadlockError\n",
      "---------BrokenBarrierError\n",
      "---------BrokenExecutor\n",
      "------------BrokenThreadPool\n",
      "---------SendfileNotAvailableError\n",
      "---------ExtractionError\n",
      "---------VariableError\n",
      "------NameError\n",
      "---------UnboundLocalError\n",
      "------AttributeError\n",
      "---------FrozenInstanceError\n",
      "------SyntaxError\n",
      "---------IndentationError\n",
      "------------TabError\n",
      "------LookupError\n",
      "---------IndexError\n",
      "---------KeyError\n",
      "------------NoSuchKernel\n",
      "------------UnknownBackend\n",
      "---------CodecRegistryError\n",
      "------ValueError\n",
      "---------UnicodeError\n",
      "------------UnicodeEncodeError\n",
      "------------UnicodeDecodeError\n",
      "------------UnicodeTranslateError\n",
      "---------UnsupportedOperation\n",
      "---------JSONDecodeError\n",
      "---------SSLCertVerificationError\n",
      "---------Error\n",
      "---------UnsupportedDigestmodError\n",
      "---------IllegalMonthError\n",
      "---------IllegalWeekdayError\n",
      "---------ParserError\n",
      "---------ClassNotFound\n",
      "---------ClipboardEmpty\n",
      "---------MessageDefect\n",
      "------------NoBoundaryInMultipartDefect\n",
      "------------StartBoundaryNotFoundDefect\n",
      "------------CloseBoundaryNotFoundDefect\n",
      "------------FirstHeaderLineIsContinuationDefect\n",
      "------------MisplacedEnvelopeHeaderDefect\n",
      "------------MissingHeaderBodySeparatorDefect\n",
      "------------MultipartInvariantViolationDefect\n",
      "------------InvalidMultipartContentTransferEncodingDefect\n",
      "------------UndecodableBytesDefect\n",
      "------------InvalidBase64PaddingDefect\n",
      "------------InvalidBase64CharactersDefect\n",
      "------------InvalidBase64LengthDefect\n",
      "------------HeaderDefect\n",
      "---------------InvalidHeaderDefect\n",
      "---------------HeaderMissingRequiredValue\n",
      "---------------NonPrintableDefect\n",
      "---------------ObsoleteHeaderDefect\n",
      "---------------NonASCIILocalPartDefect\n",
      "---------------InvalidDateDefect\n",
      "---------MacroToEdit\n",
      "---------InvalidFileException\n",
      "---------UnequalIterablesError\n",
      "---------InvalidVersion\n",
      "---------_InvalidELFFileHeader\n",
      "---------InvalidWheelFilename\n",
      "---------InvalidSdistFilename\n",
      "---------InvalidSpecifier\n",
      "---------InvalidMarker\n",
      "---------UndefinedComparison\n",
      "---------UndefinedEnvironmentName\n",
      "---------InvalidRequirement\n",
      "------------RequirementParseError\n",
      "---------InvalidVersion\n",
      "------AssertionError\n",
      "------ArithmeticError\n",
      "---------FloatingPointError\n",
      "---------OverflowError\n",
      "---------ZeroDivisionError\n",
      "------------DivisionByZero\n",
      "------------DivisionUndefined\n",
      "---------DecimalException\n",
      "------------Clamped\n",
      "------------Rounded\n",
      "---------------Underflow\n",
      "---------------Overflow\n",
      "------------Inexact\n",
      "---------------Underflow\n",
      "---------------Overflow\n",
      "------------Subnormal\n",
      "---------------Underflow\n",
      "------------DivisionByZero\n",
      "------------FloatOperation\n",
      "------------InvalidOperation\n",
      "---------------ConversionSyntax\n",
      "---------------DivisionImpossible\n",
      "---------------DivisionUndefined\n",
      "---------------InvalidContext\n",
      "------SystemError\n",
      "---------CodecRegistryError\n",
      "------ReferenceError\n",
      "------MemoryError\n",
      "------BufferError\n",
      "------Warning\n",
      "---------UserWarning\n",
      "------------GetPassWarning\n",
      "------------FormatterWarning\n",
      "---------EncodingWarning\n",
      "---------DeprecationWarning\n",
      "------------ProvisionalWarning\n",
      "---------PendingDeprecationWarning\n",
      "---------SyntaxWarning\n",
      "---------RuntimeWarning\n",
      "------------ProactorSelectorThreadWarning\n",
      "------------UnknownTimezoneWarning\n",
      "------------PEP440Warning\n",
      "---------FutureWarning\n",
      "------------ProvisionalCompleterWarning\n",
      "---------ImportWarning\n",
      "---------UnicodeWarning\n",
      "---------BytesWarning\n",
      "---------ResourceWarning\n",
      "---------DeprecatedTzFormatWarning\n",
      "---------PkgResourcesDeprecationWarning\n",
      "------_OptionError\n",
      "------_Error\n",
      "------error\n",
      "------Verbose\n",
      "------Error\n",
      "------SubprocessError\n",
      "---------CalledProcessError\n",
      "---------TimeoutExpired\n",
      "------TokenError\n",
      "------StopTokenizing\n",
      "------ClassFoundException\n",
      "------EndOfBlock\n",
      "------TraitError\n",
      "------Error\n",
      "------Error\n",
      "---------CancelledError\n",
      "---------TimeoutError\n",
      "---------InvalidStateError\n",
      "------_GiveupOnSendfile\n",
      "------error\n",
      "------Incomplete\n",
      "------TimeoutError\n",
      "------InvalidStateError\n",
      "------LimitOverrunError\n",
      "------QueueEmpty\n",
      "------QueueFull\n",
      "------Empty\n",
      "------Full\n",
      "------ArgumentError\n",
      "------ZMQBaseError\n",
      "---------ZMQError\n",
      "------------ContextTerminated\n",
      "------------Again\n",
      "------------InterruptedSystemCall\n",
      "---------ZMQBindError\n",
      "---------NotDone\n",
      "------PickleError\n",
      "---------PicklingError\n",
      "---------UnpicklingError\n",
      "------_Stop\n",
      "------ArgumentError\n",
      "------ArgumentTypeError\n",
      "------ConfigError\n",
      "---------ConfigLoaderError\n",
      "------------ArgumentError\n",
      "---------ConfigFileNotFound\n",
      "------ConfigurableError\n",
      "---------MultipleInstanceError\n",
      "------ApplicationError\n",
      "------error\n",
      "------TimeoutError\n",
      "------error\n",
      "------ReturnValueIgnoredError\n",
      "------KeyReuseError\n",
      "------UnknownKeyError\n",
      "------LeakedCallbackError\n",
      "------BadYieldError\n",
      "------ReturnValueIgnoredError\n",
      "------Return\n",
      "------InvalidPortNumber\n",
      "------error\n",
      "------LZMAError\n",
      "------RegistryError\n",
      "------_GiveupOnFastCopy\n",
      "------Error\n",
      "---------NoSectionError\n",
      "---------DuplicateSectionError\n",
      "---------DuplicateOptionError\n",
      "---------NoOptionError\n",
      "---------InterpolationError\n",
      "------------InterpolationMissingOptionError\n",
      "------------InterpolationSyntaxError\n",
      "------------InterpolationDepthError\n",
      "---------ParsingError\n",
      "------------MissingSectionHeaderError\n",
      "------NoIPAddresses\n",
      "------BadZipFile\n",
      "------LargeZipFile\n",
      "------BadEntryPoint\n",
      "------NoSuchEntryPoint\n",
      "------DuplicateKernelError\n",
      "------ErrorDuringImport\n",
      "------NotOneValueFound\n",
      "------CannotEval\n",
      "------OptionError\n",
      "------BdbQuit\n",
      "------Restart\n",
      "------ExceptionPexpect\n",
      "---------EOF\n",
      "---------TIMEOUT\n",
      "------PtyProcessError\n",
      "------FindCmdError\n",
      "------HomeDirError\n",
      "------ProfileDirError\n",
      "------IPythonCoreError\n",
      "---------TryNext\n",
      "---------UsageError\n",
      "---------StdinNotImplementedError\n",
      "------InputRejected\n",
      "------GetoptError\n",
      "------ErrorToken\n",
      "------PrefilterError\n",
      "------AliasError\n",
      "---------InvalidAliasError\n",
      "------Error\n",
      "---------InterfaceError\n",
      "---------DatabaseError\n",
      "------------InternalError\n",
      "------------OperationalError\n",
      "------------ProgrammingError\n",
      "------------IntegrityError\n",
      "------------DataError\n",
      "------------NotSupportedError\n",
      "------Warning\n",
      "------SpaceInInput\n",
      "------DOMException\n",
      "---------IndexSizeErr\n",
      "---------DomstringSizeErr\n",
      "---------HierarchyRequestErr\n",
      "---------WrongDocumentErr\n",
      "---------InvalidCharacterErr\n",
      "---------NoDataAllowedErr\n",
      "---------NoModificationAllowedErr\n",
      "---------NotFoundErr\n",
      "---------NotSupportedErr\n",
      "---------InuseAttributeErr\n",
      "---------InvalidStateErr\n",
      "---------SyntaxErr\n",
      "---------InvalidModificationErr\n",
      "---------NamespaceErr\n",
      "---------InvalidAccessErr\n",
      "---------ValidationErr\n",
      "------ValidationError\n",
      "------EditReadOnlyBuffer\n",
      "------_Retry\n",
      "------InvalidLayoutError\n",
      "------HeightIsUnknownError\n",
      "------ParserSyntaxError\n",
      "------InternalParseError\n",
      "------_PositionUpdatingFinished\n",
      "------SimpleGetItemNotFound\n",
      "------UncaughtAttributeError\n",
      "------HasNoContext\n",
      "------ParamIssue\n",
      "------_JediError\n",
      "---------InternalError\n",
      "---------WrongVersion\n",
      "---------RefactoringError\n",
      "------OnErrorLeaf\n",
      "------InvalidPythonEnvironment\n",
      "------MessageError\n",
      "---------MessageParseError\n",
      "------------HeaderParseError\n",
      "------------BoundaryError\n",
      "---------MultipartConversionError\n",
      "---------CharsetError\n",
      "------Error\n",
      "------HTTPException\n",
      "---------NotConnected\n",
      "---------InvalidURL\n",
      "---------UnknownProtocol\n",
      "---------UnknownTransferEncoding\n",
      "---------UnimplementedFileMode\n",
      "---------IncompleteRead\n",
      "---------ImproperConnectionState\n",
      "------------CannotSendRequest\n",
      "------------CannotSendHeader\n",
      "------------ResponseNotReady\n",
      "---------BadStatusLine\n",
      "------------RemoteDisconnected\n",
      "---------LineTooLong\n",
      "------InteractivelyDefined\n",
      "------KillEmbedded\n",
      "------Error\n",
      "---------NoSuchProcess\n",
      "------------ZombieProcess\n",
      "---------AccessDenied\n",
      "---------TimeoutExpired\n",
      "------_Ipv6UnsupportedError\n",
      "------QueueEmpty\n",
      "------QueueFull\n",
      "------DebuggerInitializationError\n",
      "------ExpatError\n",
      "------Error\n",
      "---------ProtocolError\n",
      "---------ResponseError\n",
      "---------Fault\n",
      "------ParseBaseException\n",
      "---------ParseException\n",
      "---------ParseFatalException\n",
      "------------ParseSyntaxException\n",
      "------RecursiveGrammarException\n",
      "------ResolutionError\n",
      "---------VersionConflict\n",
      "------------ContextualVersionConflict\n",
      "---------DistributionNotFound\n",
      "---------UnknownExtra\n",
      "------_Error\n",
      "------UnableToResolveVariableException\n",
      "------InvalidTypeInArgsException\n",
      "---GeneratorExit\n",
      "---SystemExit\n",
      "---KeyboardInterrupt\n",
      "---CancelledError\n",
      "---AbortThread\n"
     ]
    }
   ],
   "source": [
    "import inspect\n",
    "\n",
    "def treeClass(cls, ind=0):\n",
    "    \n",
    "    print('-'*ind + cls.__name__)\n",
    "    \n",
    "    for i in cls.__subclasses__():\n",
    "        treeClass(i, ind+3)\n",
    "        \n",
    "print(\"Hierarchy for Built-in exceptions is : \")\n",
    "\n",
    "inspect.getclasstree(inspect.getmro(BaseException))\n",
    "\n",
    "treeClass(BaseException)\n",
    "    "
   ]
  },
  {
   "cell_type": "code",
   "execution_count": null,
   "id": "0a62d9f3-8b68-47e0-b204-c6130b5bb0d4",
   "metadata": {},
   "outputs": [],
   "source": []
  },
  {
   "cell_type": "markdown",
   "id": "ad282f0d-92c0-4862-9686-053bc93389aa",
   "metadata": {},
   "source": [
    "Q3. What errors are defined in the ArithmeticError class? Explain any two with an example."
   ]
  },
  {
   "cell_type": "markdown",
   "id": "01796679-0d3f-4850-9556-d3682a8138c9",
   "metadata": {},
   "source": [
    ":- ArithmaticError types includes\n",
    "\n",
    "* OverFlowError\n",
    "* ZeroDivisionError\n",
    "* FloatingPointError"
   ]
  },
  {
   "cell_type": "code",
   "execution_count": 4,
   "id": "548d695e-fe98-4f1a-9689-c12b94cb6f38",
   "metadata": {},
   "outputs": [
    {
     "name": "stdout",
     "output_type": "stream",
     "text": [
      "5.0\n",
      "25.0\n",
      "15625.0\n",
      "5.960464477539062e+16\n",
      "7.52316384526264e+83\n",
      "(34, 'Numerical result out of range')\n"
     ]
    }
   ],
   "source": [
    "j=5.0\n",
    "\n",
    "try:\n",
    "    \n",
    "    for i in range(1,100):\n",
    "        j = j**i\n",
    "        print(j)\n",
    "        \n",
    "except ArithmeticError as e:\n",
    "    print(e)"
   ]
  },
  {
   "cell_type": "code",
   "execution_count": 3,
   "id": "f184cdae-95e4-4498-9690-b4c9d482f69a",
   "metadata": {},
   "outputs": [
    {
     "name": "stdout",
     "output_type": "stream",
     "text": [
      "division by zero\n"
     ]
    }
   ],
   "source": [
    "try:\n",
    "    a = 12\n",
    "    a/0\n",
    "\n",
    "except ArithmeticError as e:\n",
    "    print(e)"
   ]
  },
  {
   "cell_type": "code",
   "execution_count": null,
   "id": "4b3c6c80-d6a5-4416-a553-ffd1c637e04b",
   "metadata": {},
   "outputs": [],
   "source": []
  },
  {
   "cell_type": "markdown",
   "id": "1b2922ec-03be-4fed-b04c-8b57270fb778",
   "metadata": {},
   "source": [
    "Q4. Why LookupError class is used? Explain with an example KeyError and IndexError."
   ]
  },
  {
   "cell_type": "markdown",
   "id": "e79b8926-77fd-426e-acfc-7a52cb3ad5de",
   "metadata": {},
   "source": [
    ":- We use LookupError exception class to handle both IndexError and KeyError exception classes."
   ]
  },
  {
   "cell_type": "code",
   "execution_count": 6,
   "id": "c4a241b4-0cb4-41c6-b153-a0ed399546d4",
   "metadata": {},
   "outputs": [
    {
     "name": "stdout",
     "output_type": "stream",
     "text": [
      "5\n"
     ]
    }
   ],
   "source": [
    "try:\n",
    "    d = {'a':1, 'b':{1,4}, 'x':[1,4,7,9]}\n",
    "    d[5]\n",
    "    \n",
    "except LookupError as e:\n",
    "    print(e)"
   ]
  },
  {
   "cell_type": "code",
   "execution_count": 7,
   "id": "3896de6f-92e4-4410-97ca-7e57242fcd15",
   "metadata": {},
   "outputs": [
    {
     "name": "stdout",
     "output_type": "stream",
     "text": [
      "'y'\n"
     ]
    }
   ],
   "source": [
    "try:\n",
    "    d = {'a':1, 'b':{1,4}, 'x':[1,4,7,9]}\n",
    "    d['y']\n",
    "    \n",
    "except LookupError as e:\n",
    "    print(e)"
   ]
  },
  {
   "cell_type": "code",
   "execution_count": null,
   "id": "f47f76b6-32fb-473d-b802-39bcaa5a3401",
   "metadata": {},
   "outputs": [],
   "source": []
  },
  {
   "cell_type": "markdown",
   "id": "ca5b9619-fec8-4b68-9e5b-c6fa094f8d11",
   "metadata": {},
   "source": [
    "Q5. Explain ImportError. What is ModuleNotFoundError?"
   ]
  },
  {
   "cell_type": "code",
   "execution_count": 8,
   "id": "04ea7ce4-1e08-4fb0-b8e9-8afddd41d33c",
   "metadata": {},
   "outputs": [
    {
     "name": "stdout",
     "output_type": "stream",
     "text": [
      "No module named 'jack'\n"
     ]
    }
   ],
   "source": [
    "try:\n",
    "    import jack\n",
    "    \n",
    "except ImportError as e:\n",
    "    print(e)"
   ]
  },
  {
   "cell_type": "code",
   "execution_count": 12,
   "id": "fd0bf895-f9b1-4a4b-ba04-ec5bd8afad5f",
   "metadata": {},
   "outputs": [
    {
     "name": "stdout",
     "output_type": "stream",
     "text": [
      "No module named 'times'\n"
     ]
    }
   ],
   "source": [
    "try:\n",
    "    import times\n",
    "    \n",
    "except ModuleNotFoundError as e:\n",
    "    print(e)"
   ]
  },
  {
   "cell_type": "code",
   "execution_count": null,
   "id": "b38ecfd7-e7d1-4a85-a7b3-5d2b1bf6629b",
   "metadata": {},
   "outputs": [],
   "source": []
  },
  {
   "cell_type": "markdown",
   "id": "1c228abe-c937-4162-9ef5-f451e1e13e78",
   "metadata": {},
   "source": [
    "Q6. List down some best practices for exception handling in python."
   ]
  },
  {
   "cell_type": "markdown",
   "id": "1eee3e35-5fc7-4346-8a52-86e8ecd9edb0",
   "metadata": {},
   "source": [
    "#### Best practice Exception Handling.\n",
    "\n",
    "* Always write a specific exception name in except block.\n",
    "* Prints a valid messages.\n",
    "* always try to log the messages.\n",
    "* always avoid the multiple exception handling.\n",
    "* Prepare a proper documentation.\n",
    "* Cleanup all the resources."
   ]
  },
  {
   "cell_type": "code",
   "execution_count": null,
   "id": "bbdaeb42-61d3-4bf0-8647-93993da477d9",
   "metadata": {},
   "outputs": [],
   "source": []
  }
 ],
 "metadata": {
  "kernelspec": {
   "display_name": "Python 3 (ipykernel)",
   "language": "python",
   "name": "python3"
  },
  "language_info": {
   "codemirror_mode": {
    "name": "ipython",
    "version": 3
   },
   "file_extension": ".py",
   "mimetype": "text/x-python",
   "name": "python",
   "nbconvert_exporter": "python",
   "pygments_lexer": "ipython3",
   "version": "3.10.8"
  }
 },
 "nbformat": 4,
 "nbformat_minor": 5
}
