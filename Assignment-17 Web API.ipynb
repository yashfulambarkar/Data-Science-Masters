{
 "cells": [
  {
   "cell_type": "markdown",
   "id": "8190b23a-632b-4f1c-91d9-c25bf6889d21",
   "metadata": {},
   "source": [
    "Q1. What is an API? Give an example, where an API is used in real life."
   ]
  },
  {
   "cell_type": "markdown",
   "id": "5cb7becf-9173-46f5-94e3-c63832d4f89f",
   "metadata": {},
   "source": [
    "* API - It stands for Application Program Interface. It is a medium by which different software interacts. APIs are mechanisms that enable two software components to communicate with each other using a set of definitions and protocols. \n",
    "\n",
    "* For example, the weather bureau's software system contains daily weather data. The weather app on your phone “talks” to this system via APIs and shows you daily weather updates on your phone.\n",
    "\n",
    "* Project and Team Management. Tools like Jira, Basecamp, and Microsoft Teams provide communication between coworkers and data sharing functionality — and that all happens through API.\n",
    "\n",
    "* Online Payment Systems. Where digital money transfers occur, there is an API supporting the process. Many organizations choose to utilize APIs from a firm such as PayPal to provide secure, safe money transfers to their customers."
   ]
  },
  {
   "cell_type": "code",
   "execution_count": null,
   "id": "3c23ec7f-4f80-42e2-b4a9-5c731a7ce8fc",
   "metadata": {},
   "outputs": [],
   "source": []
  },
  {
   "cell_type": "markdown",
   "id": "be0b9c48-bbd8-485e-942d-5abcec2da2c8",
   "metadata": {},
   "source": [
    "Q2. Give advantages and disadvantages of using API."
   ]
  },
  {
   "cell_type": "markdown",
   "id": "d10bf15f-a6c0-4b5b-ab84-9708387dde05",
   "metadata": {},
   "source": [
    "##### Advantages:-\n",
    "\n",
    "* Efficiency: When you have content that is automatically published and made available on different channels simultaneously, APIs allow for more efficient data distribution. \n",
    "* Adaptability: One of the greatest benefits of APIs is the ability it has to adapt to changes through data migration and flexibility of services.\n",
    "\n",
    "\n",
    "##### Disadvantages:-\n",
    "\n",
    "* As a single point of entry, an API is a gateway and can become a hacker's primary target. Once the API is compromised, all other applications and systems become vulnerable."
   ]
  },
  {
   "cell_type": "code",
   "execution_count": null,
   "id": "76da5195-cf45-4131-b1f9-0a16007484fc",
   "metadata": {},
   "outputs": [],
   "source": []
  },
  {
   "cell_type": "markdown",
   "id": "d367caca-1b8a-4a98-905f-aa5f2e800aa8",
   "metadata": {},
   "source": [
    "Q3. What is a Web API? Differentiate between API and Web API."
   ]
  },
  {
   "cell_type": "markdown",
   "id": "a6582f89-fa5b-455a-9225-488008dbabd6",
   "metadata": {},
   "source": [
    "* Web API - It is subset of API. In WEB API it is using HTTP method to communicate between two system or software. A Web API is an application programming interface for the Web. A Browser API can extend the functionality of a web browser. A Server API can extend the functionality of a web server. The primary purpose of a Web API is to allow different software systems to access and retrieve data from a remote server. This allows for the creation of interconnected systems, where one system can use data or services provided by another.\n",
    "\n",
    "|API|WEB API|\n",
    "|:-:|:-:|\n",
    "|In API it is using TCP, SMTP, or HTTP Protocols|In Web API it is using HTTP Protocols|\n",
    "\n"
   ]
  },
  {
   "cell_type": "code",
   "execution_count": null,
   "id": "e0c9ded5-29ea-4630-8c85-10b80aa0b849",
   "metadata": {},
   "outputs": [],
   "source": []
  },
  {
   "cell_type": "markdown",
   "id": "3a2c7672-cb50-46ed-9ddd-4d0ec3884a93",
   "metadata": {},
   "source": [
    "Q4. Explain REST and SOAP Architecture. Mention shortcomings of SOAP.\n",
    "\n",
    "Q5. Differentiate between REST and SOAP."
   ]
  },
  {
   "cell_type": "markdown",
   "id": "f38e50db-bec2-4a79-b7fb-f44323522ebc",
   "metadata": {},
   "source": [
    "* REST - Representational State Transfer. It basically uses HTTP (Hyper Text Transfer Protocol). In this you can have GET, PUT, POST, DELETE methods. It is known for its simplicity, scalability, flexibility. It always follows client-server architecture.  \n",
    "* REST architecture provides several benefits, including being lightweight and easy to use, as well as providing a standardized way for applications to communicate with each other. RESTful web services use HTTP protocols and return data in the form of JSON or XML, making them accessible to a wide range of applications, including web, mobile, and desktop.\n",
    "\n",
    "\n",
    "* SOAP - Simple Object Access Protocol.It basically uses TCP (Transmission Control Protocol) / SMTP (Simple Mail Transmission Protocol) protocols. It basically send a messages in XML (Xtended Markup Langauge). Inside that you will find the WSDL (Web Service Description Langauge) in which you can able to write a set of rules. It is more secure than REST API's\n",
    "*  SOAP provides a standardized way for applications to communicate with each other, making it a reliable and secure choice for building web-based services. SOAP messages are typically sent over HTTP or other transport protocols and are formatted in XML, providing a consistent and well-documented way for applications to exchange data and functionality."
   ]
  },
  {
   "cell_type": "markdown",
   "id": "88182206-b1e1-4a0d-9db0-475e6e707119",
   "metadata": {},
   "source": [
    "|SOAP|REST|\n",
    "|:-:|:-:|\n",
    "|SOAP stands for Simple Object Access Protocol|REST stands for Representational State Transfer|\n",
    "|SOAP is a protocol. SOAP was designed with a specification. It includes a WSDL file which has the required information on what the web service does in addition to the location of the web service.|REST is an Architectural style in which a web service can only be treated as a RESTful service if it follows the constraints of being Client Server, Stateless, Cacheable, Layered System, Uniform Interface|\n",
    "|SOAP cannot make use of REST since SOAP is a protocol and REST is an architectural pattern.|REST can make use of SOAP as the underlying protocol for web services, because in the end it is just an architectural pattern.|\n",
    "|SOAP uses service interfaces to expose its functionality to client applications. In SOAP, the WSDL file provides the client with the necessary information which can be used to understand what services the web service can offer.|REST use Uniform Service locators to access to the components on the hardware device. For example, if there is an object which represents the data of an employee hosted on a URL as http://DataScience.com/ , the below are some of URI that can exist to access them.|\n"
   ]
  },
  {
   "cell_type": "markdown",
   "id": "45d62c66-55fc-4b9d-8017-802ebefee6b0",
   "metadata": {},
   "source": []
  }
 ],
 "metadata": {
  "kernelspec": {
   "display_name": "Python 3 (ipykernel)",
   "language": "python",
   "name": "python3"
  },
  "language_info": {
   "codemirror_mode": {
    "name": "ipython",
    "version": 3
   },
   "file_extension": ".py",
   "mimetype": "text/x-python",
   "name": "python",
   "nbconvert_exporter": "python",
   "pygments_lexer": "ipython3",
   "version": "3.10.8"
  }
 },
 "nbformat": 4,
 "nbformat_minor": 5
}
