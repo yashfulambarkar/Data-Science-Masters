{
 "cells": [
  {
   "cell_type": "markdown",
   "id": "e34e2f9f-bca1-4d4a-aec2-96cbe267e9c5",
   "metadata": {},
   "source": [
    "## Reverse of String"
   ]
  },
  {
   "cell_type": "code",
   "execution_count": 1,
   "id": "1e7b7472-9c3f-4eac-930f-11ebd3d5d8b9",
   "metadata": {},
   "outputs": [],
   "source": [
    "Name='Data Science Masters'"
   ]
  },
  {
   "cell_type": "code",
   "execution_count": 2,
   "id": "3d87fcd6-37ce-4e1d-84c4-47079b530e5d",
   "metadata": {},
   "outputs": [
    {
     "data": {
      "text/plain": [
       "'sretsaM ecneicS ataD'"
      ]
     },
     "execution_count": 2,
     "metadata": {},
     "output_type": "execute_result"
    }
   ],
   "source": [
    "Name[::-1]"
   ]
  },
  {
   "cell_type": "code",
   "execution_count": 5,
   "id": "41fa6d37-0b62-42c7-bc52-ac7b6b4c3570",
   "metadata": {},
   "outputs": [
    {
     "data": {
      "text/plain": [
       "'P y t h o n'"
      ]
     },
     "execution_count": 5,
     "metadata": {},
     "output_type": "execute_result"
    }
   ],
   "source": [
    "' '.join('Python')"
   ]
  },
  {
   "cell_type": "code",
   "execution_count": 7,
   "id": "57c5eded-3e27-43d4-b522-9a4a5343a868",
   "metadata": {},
   "outputs": [
    {
     "data": {
      "text/plain": [
       "<reversed at 0x7f98543dded0>"
      ]
     },
     "execution_count": 7,
     "metadata": {},
     "output_type": "execute_result"
    }
   ],
   "source": [
    "reversed(Name)"
   ]
  },
  {
   "cell_type": "code",
   "execution_count": 4,
   "id": "bfd129a3-cb70-4fa6-8973-69079884150e",
   "metadata": {},
   "outputs": [
    {
     "data": {
      "text/plain": [
       "'s r e t s a M   e c n e i c S   a t a D'"
      ]
     },
     "execution_count": 4,
     "metadata": {},
     "output_type": "execute_result"
    }
   ],
   "source": [
    "' '.join(reversed(Name))"
   ]
  },
  {
   "cell_type": "code",
   "execution_count": 6,
   "id": "d06abe9d-4c0c-4e24-9512-ee083ff216f0",
   "metadata": {},
   "outputs": [
    {
     "data": {
      "text/plain": [
       "'S@m@a@r@t'"
      ]
     },
     "execution_count": 6,
     "metadata": {},
     "output_type": "execute_result"
    }
   ],
   "source": [
    "'@'.join('Smart')"
   ]
  },
  {
   "cell_type": "code",
   "execution_count": 8,
   "id": "fe702855-339a-48bd-9a21-81defa742037",
   "metadata": {},
   "outputs": [
    {
     "data": {
      "text/plain": [
       "['p', 'a', 'm']"
      ]
     },
     "execution_count": 8,
     "metadata": {},
     "output_type": "execute_result"
    }
   ],
   "source": [
    "list(reversed('map'))"
   ]
  },
  {
   "cell_type": "code",
   "execution_count": 9,
   "id": "923ad398-e39b-4e04-a6bc-f7591a1bfeca",
   "metadata": {},
   "outputs": [
    {
     "name": "stdout",
     "output_type": "stream",
     "text": [
      "esitcarp tseb si sihT"
     ]
    }
   ],
   "source": [
    "for i in list(reversed('This is best practise')):\n",
    "    print(i,end='')"
   ]
  },
  {
   "cell_type": "code",
   "execution_count": 15,
   "id": "25b0810c-8520-4a92-8110-271552cf67a0",
   "metadata": {},
   "outputs": [
    {
     "data": {
      "text/plain": [
       "'Hello there'"
      ]
     },
     "execution_count": 15,
     "metadata": {},
     "output_type": "execute_result"
    }
   ],
   "source": [
    "# Removing character from the end of string\n",
    "\n",
    "str1=' Hello there '\n",
    "str1.strip()"
   ]
  },
  {
   "cell_type": "code",
   "execution_count": 17,
   "id": "1b19e1fc-9f3f-4f3a-a3db-88e6b7ef0a44",
   "metadata": {},
   "outputs": [
    {
     "data": {
      "text/plain": [
       "'Hello there '"
      ]
     },
     "execution_count": 17,
     "metadata": {},
     "output_type": "execute_result"
    }
   ],
   "source": [
    "str1.lstrip(\" \")"
   ]
  },
  {
   "cell_type": "code",
   "execution_count": 18,
   "id": "fef03cfc-784a-42b5-97dc-358769f4d8c4",
   "metadata": {},
   "outputs": [
    {
     "data": {
      "text/plain": [
       "' Hello there'"
      ]
     },
     "execution_count": 18,
     "metadata": {},
     "output_type": "execute_result"
    }
   ],
   "source": [
    "str1.rstrip(\" \")"
   ]
  },
  {
   "cell_type": "code",
   "execution_count": 21,
   "id": "06c10578-967a-4422-a660-1fd48f4481a9",
   "metadata": {},
   "outputs": [],
   "source": [
    "# Replacing the word with another one.\n",
    "\n",
    "str_a=\"Greeting of the Day\""
   ]
  },
  {
   "cell_type": "code",
   "execution_count": 22,
   "id": "245d2ae3-22ea-4c51-b646-e79399829e16",
   "metadata": {},
   "outputs": [
    {
     "data": {
      "text/plain": [
       "'Greeting for the Day'"
      ]
     },
     "execution_count": 22,
     "metadata": {},
     "output_type": "execute_result"
    }
   ],
   "source": [
    "str_a.replace('of','for')"
   ]
  },
  {
   "cell_type": "code",
   "execution_count": 23,
   "id": "60660182-dc4e-469a-bd2f-8a8c30999bdb",
   "metadata": {},
   "outputs": [],
   "source": [
    "str2='Go to Paris'"
   ]
  },
  {
   "cell_type": "code",
   "execution_count": 24,
   "id": "08c13ad9-ee7b-4f52-8c21-039a59e030a0",
   "metadata": {},
   "outputs": [
    {
     "data": {
      "text/plain": [
       "'Go to London'"
      ]
     },
     "execution_count": 24,
     "metadata": {},
     "output_type": "execute_result"
    }
   ],
   "source": [
    "str_n=str2.replace('Paris','London')\n",
    "str_n"
   ]
  },
  {
   "cell_type": "code",
   "execution_count": 25,
   "id": "810eae3d-c67b-423f-a590-8ae64fde79e3",
   "metadata": {},
   "outputs": [
    {
     "data": {
      "text/plain": [
       "'Big \\nBasket'"
      ]
     },
     "execution_count": 25,
     "metadata": {},
     "output_type": "execute_result"
    }
   ],
   "source": [
    "'Big \\nBasket'"
   ]
  },
  {
   "cell_type": "code",
   "execution_count": 30,
   "id": "f1f59d43-3e1a-4169-b416-926e9ecca8ae",
   "metadata": {},
   "outputs": [
    {
     "data": {
      "text/plain": [
       "'Big     Basket'"
      ]
     },
     "execution_count": 30,
     "metadata": {},
     "output_type": "execute_result"
    }
   ],
   "source": [
    "# expandtabs identifies \\t and gives tab where \\t is present.\n",
    "\n",
    "'Big \\tBasket'.expandtabs()"
   ]
  },
  {
   "cell_type": "code",
   "execution_count": 34,
   "id": "679c8199-9f84-433e-bc7f-ace48986161a",
   "metadata": {},
   "outputs": [
    {
     "data": {
      "text/plain": [
       "'Welcome to India.Have a nice day'"
      ]
     },
     "execution_count": 34,
     "metadata": {},
     "output_type": "execute_result"
    }
   ],
   "source": [
    "st1='Welcome to India.ave a nce dy'\n",
    "st1.replace('ave','Have').replace('nce','nice').replace('dy','day')"
   ]
  },
  {
   "cell_type": "code",
   "execution_count": 35,
   "id": "9603955c-4eec-4a1d-be4a-67c37d748a9f",
   "metadata": {},
   "outputs": [
    {
     "data": {
      "text/plain": [
       "False"
      ]
     },
     "execution_count": 35,
     "metadata": {},
     "output_type": "execute_result"
    }
   ],
   "source": [
    "st1.isupper()"
   ]
  },
  {
   "cell_type": "code",
   "execution_count": 36,
   "id": "3a5461e7-fe20-4cc0-a2ce-675178c24bb1",
   "metadata": {},
   "outputs": [
    {
     "data": {
      "text/plain": [
       "False"
      ]
     },
     "execution_count": 36,
     "metadata": {},
     "output_type": "execute_result"
    }
   ],
   "source": [
    "st1.islower()"
   ]
  },
  {
   "cell_type": "code",
   "execution_count": 40,
   "id": "e1801f8e-98cf-45fc-891f-8e2b50566ba6",
   "metadata": {},
   "outputs": [
    {
     "data": {
      "text/plain": [
       "False"
      ]
     },
     "execution_count": 40,
     "metadata": {},
     "output_type": "execute_result"
    }
   ],
   "source": [
    "st1.isalnum()"
   ]
  },
  {
   "cell_type": "code",
   "execution_count": 46,
   "id": "619df49e-ee87-4121-8e16-71746a780e84",
   "metadata": {},
   "outputs": [
    {
     "data": {
      "text/plain": [
       "True"
      ]
     },
     "execution_count": 46,
     "metadata": {},
     "output_type": "execute_result"
    }
   ],
   "source": [
    "# check str are alphanumeric or not.\n",
    "\n",
    "st2='Hello123'\n",
    "st2.isalnum()"
   ]
  },
  {
   "cell_type": "code",
   "execution_count": 42,
   "id": "131e9376-431d-472d-8844-79a8c7683ebd",
   "metadata": {},
   "outputs": [
    {
     "data": {
      "text/plain": [
       "True"
      ]
     },
     "execution_count": 42,
     "metadata": {},
     "output_type": "execute_result"
    }
   ],
   "source": [
    "' '.isspace()"
   ]
  },
  {
   "cell_type": "code",
   "execution_count": 43,
   "id": "a849732e-cdb4-473d-a0b3-f5dc558599ac",
   "metadata": {},
   "outputs": [
    {
     "data": {
      "text/plain": [
       "True"
      ]
     },
     "execution_count": 43,
     "metadata": {},
     "output_type": "execute_result"
    }
   ],
   "source": [
    "key1='dnkvojndsoins$'\n",
    "key1.endswith('$')"
   ]
  },
  {
   "cell_type": "code",
   "execution_count": 44,
   "id": "b9fb7965-6acf-4e90-a03c-5e0f5eaec6da",
   "metadata": {},
   "outputs": [
    {
     "data": {
      "text/plain": [
       "True"
      ]
     },
     "execution_count": 44,
     "metadata": {},
     "output_type": "execute_result"
    }
   ],
   "source": [
    "key1.startswith('d')"
   ]
  },
  {
   "cell_type": "code",
   "execution_count": 47,
   "id": "384fad36-78dc-4c4d-a06e-82858c4b8ea0",
   "metadata": {},
   "outputs": [
    {
     "data": {
      "text/plain": [
       "18"
      ]
     },
     "execution_count": 47,
     "metadata": {},
     "output_type": "execute_result"
    }
   ],
   "source": [
    "# to count the no of char in the string.\n",
    "\n",
    "s='abfjbf jsnan bofia'\n",
    "len(s)"
   ]
  },
  {
   "cell_type": "code",
   "execution_count": 48,
   "id": "bdb370cb-5f6e-47bc-82a5-5ea384f2a4ff",
   "metadata": {},
   "outputs": [
    {
     "data": {
      "text/plain": [
       "3"
      ]
     },
     "execution_count": 48,
     "metadata": {},
     "output_type": "execute_result"
    }
   ],
   "source": [
    "s.count('a')"
   ]
  },
  {
   "cell_type": "code",
   "execution_count": 53,
   "id": "615c825f-9873-4ca6-b6f9-4928a1596ba0",
   "metadata": {},
   "outputs": [
    {
     "name": "stdout",
     "output_type": "stream",
     "text": [
      "1 --> a\n",
      "2 --> b\n",
      "3 --> f\n",
      "4 --> j\n",
      "5 --> b\n",
      "6 --> f\n",
      "7 -->  \n",
      "8 --> j\n",
      "9 --> s\n",
      "10 --> n\n",
      "11 --> a\n",
      "12 --> n\n",
      "13 -->  \n",
      "14 --> b\n",
      "15 --> o\n",
      "16 --> f\n",
      "17 --> i\n",
      "18 --> a\n",
      "The length of s is 18\n"
     ]
    }
   ],
   "source": [
    "c=0\n",
    "for j in s:\n",
    "    c+=1\n",
    "    print(str(c)+' --> '+j)\n",
    "print('The length of s is',c)\n",
    "    "
   ]
  },
  {
   "cell_type": "code",
   "execution_count": 54,
   "id": "7ffa91f9-a494-4ef5-aa4b-09a9accd7755",
   "metadata": {},
   "outputs": [],
   "source": [
    "name='Lamborgini'"
   ]
  },
  {
   "cell_type": "code",
   "execution_count": 57,
   "id": "15b93f0f-6cab-4ed9-9a80-b71043b1c22e",
   "metadata": {},
   "outputs": [
    {
     "name": "stdout",
     "output_type": "stream",
     "text": [
      "0  =  L\n",
      "1  =  a\n",
      "2  =  m\n",
      "3  =  b\n",
      "4  =  o\n",
      "5  =  r\n",
      "6  =  g\n",
      "7  =  i\n",
      "8  =  n\n",
      "9  =  i\n"
     ]
    }
   ],
   "source": [
    "for i in range(len(name)):\n",
    "    print(i,' = ',name[i])"
   ]
  },
  {
   "cell_type": "code",
   "execution_count": 74,
   "id": "8475446f-9d80-4987-b3ec-bdfcc654f2d9",
   "metadata": {},
   "outputs": [
    {
     "name": "stdin",
     "output_type": "stream",
     "text": [
      " Blessings\n"
     ]
    },
    {
     "name": "stdout",
     "output_type": "stream",
     "text": [
      "8  --  s\n",
      "7  --  g\n",
      "6  --  n\n",
      "5  --  i\n",
      "4  --  s\n",
      "3  --  s\n",
      "2  --  e\n",
      "1  --  l\n",
      "0  --  B\n"
     ]
    }
   ],
   "source": [
    "# use index to iterate string in reverse.\n",
    "\n",
    "s3=input()\n",
    "n=len(s3)\n",
    "for i in range(n-1,-1,-1):\n",
    "    print(i,' -- ',s3[i])"
   ]
  },
  {
   "cell_type": "code",
   "execution_count": 77,
   "id": "96393472-3e1b-4142-b65f-f7d09ee7f73e",
   "metadata": {},
   "outputs": [
    {
     "name": "stdin",
     "output_type": "stream",
     "text": [
      " RAM\n"
     ]
    },
    {
     "name": "stdout",
     "output_type": "stream",
     "text": [
      "M\n",
      "A\n",
      "R\n"
     ]
    }
   ],
   "source": [
    "# By using while loop\n",
    "\n",
    "s3=input()\n",
    "n=len(s3)\n",
    "while n!=0:\n",
    "    print(s3[n-1])\n",
    "    n=n-1"
   ]
  },
  {
   "cell_type": "code",
   "execution_count": 3,
   "id": "22defb72-bc12-440a-ab80-8b7799d88311",
   "metadata": {},
   "outputs": [
    {
     "name": "stdin",
     "output_type": "stream",
     "text": [
      " Aeroplane\n"
     ]
    },
    {
     "name": "stdout",
     "output_type": "stream",
     "text": [
      "A is a vowel\n",
      "e is a vowel\n",
      "r is not a vowel\n",
      "o is a vowel\n",
      "p is not a vowel\n",
      "l is not a vowel\n",
      "a is a vowel\n",
      "n is not a vowel\n",
      "e is a vowel\n"
     ]
    }
   ],
   "source": [
    "# check given str contain how many vowels.\n",
    "\n",
    "name=input()\n",
    "vowels='AaEeIiOoUu'\n",
    "for i in name:\n",
    "    if i in vowels:\n",
    "        print(i,'is a vowel')\n",
    "    else:\n",
    "        print(i,'is not a vowel')"
   ]
  },
  {
   "cell_type": "markdown",
   "id": "5d4836b1-eb76-4244-ad04-56289a67dfca",
   "metadata": {},
   "source": [
    "## List"
   ]
  },
  {
   "cell_type": "code",
   "execution_count": 4,
   "id": "66d7bfb5-9467-4786-ac2c-b0c813dedb62",
   "metadata": {},
   "outputs": [
    {
     "data": {
      "text/plain": [
       "list"
      ]
     },
     "execution_count": 4,
     "metadata": {},
     "output_type": "execute_result"
    }
   ],
   "source": [
    "type([])"
   ]
  },
  {
   "cell_type": "code",
   "execution_count": 5,
   "id": "14228507-0330-4105-9469-85c4c61a874c",
   "metadata": {},
   "outputs": [],
   "source": [
    "l=['acs','rdff',23,'jack',78]"
   ]
  },
  {
   "cell_type": "code",
   "execution_count": 6,
   "id": "c6a98726-ce22-45b6-9f54-4a8394597293",
   "metadata": {},
   "outputs": [
    {
     "data": {
      "text/plain": [
       "['acs', 'rdff', 23, 'jack', 78]"
      ]
     },
     "execution_count": 6,
     "metadata": {},
     "output_type": "execute_result"
    }
   ],
   "source": [
    "l"
   ]
  },
  {
   "cell_type": "code",
   "execution_count": 7,
   "id": "1d4bf544-99fe-4e4d-a813-0a93b1b356b4",
   "metadata": {},
   "outputs": [
    {
     "data": {
      "text/plain": [
       "'Aeroplane'"
      ]
     },
     "execution_count": 7,
     "metadata": {},
     "output_type": "execute_result"
    }
   ],
   "source": [
    "name"
   ]
  },
  {
   "cell_type": "code",
   "execution_count": 8,
   "id": "1ca033e8-d70d-4344-a6fd-90b3fe3836c9",
   "metadata": {},
   "outputs": [
    {
     "data": {
      "text/plain": [
       "['A', 'e', 'r', 'o', 'p', 'l', 'a', 'n', 'e']"
      ]
     },
     "execution_count": 8,
     "metadata": {},
     "output_type": "execute_result"
    }
   ],
   "source": [
    "list(name)"
   ]
  },
  {
   "cell_type": "code",
   "execution_count": 11,
   "id": "121eb44e-1c08-46da-acdb-f0aaa9695ed0",
   "metadata": {},
   "outputs": [
    {
     "name": "stdout",
     "output_type": "stream",
     "text": [
      "['T', 'h', 'i', 's', ' ', 'i', 's', ' ', 'a', ' ', 'P', 'y', 't', 'h', 'o', 'n', ' ', 'c', 'l', 'a', 's', 's']\n"
     ]
    }
   ],
   "source": [
    "s=\"This is a Python class\"\n",
    "print(list(s))\n"
   ]
  },
  {
   "cell_type": "code",
   "execution_count": 13,
   "id": "245ead1c-d94c-4f51-bd86-70657cb86517",
   "metadata": {},
   "outputs": [],
   "source": [
    "l2=(list(s.split(\" \")))"
   ]
  },
  {
   "cell_type": "code",
   "execution_count": 14,
   "id": "388fb8c6-edaa-435c-914d-a746af2fd454",
   "metadata": {},
   "outputs": [
    {
     "data": {
      "text/plain": [
       "['This', 'is', 'a', 'Python', 'class']"
      ]
     },
     "execution_count": 14,
     "metadata": {},
     "output_type": "execute_result"
    }
   ],
   "source": [
    "l2"
   ]
  },
  {
   "cell_type": "code",
   "execution_count": 15,
   "id": "56fe7f07-6b66-4dce-9baa-c3e9630f3918",
   "metadata": {},
   "outputs": [
    {
     "data": {
      "text/plain": [
       "'Python'"
      ]
     },
     "execution_count": 15,
     "metadata": {},
     "output_type": "execute_result"
    }
   ],
   "source": [
    "l2[3]"
   ]
  },
  {
   "cell_type": "code",
   "execution_count": 16,
   "id": "fc67fbe6-26fc-4240-8e40-abd2aa5805e7",
   "metadata": {},
   "outputs": [
    {
     "data": {
      "text/plain": [
       "['class', 'Python', 'a', 'is', 'This']"
      ]
     },
     "execution_count": 16,
     "metadata": {},
     "output_type": "execute_result"
    }
   ],
   "source": [
    "l2[::-1]"
   ]
  },
  {
   "cell_type": "code",
   "execution_count": 17,
   "id": "0dfdaaac-6283-4eca-914b-1e11f7960835",
   "metadata": {},
   "outputs": [
    {
     "data": {
      "text/plain": [
       "['This', 'is', 'a', 'Python', 'class']"
      ]
     },
     "execution_count": 17,
     "metadata": {},
     "output_type": "execute_result"
    }
   ],
   "source": [
    "l2"
   ]
  },
  {
   "cell_type": "code",
   "execution_count": 19,
   "id": "c28ddb45-a072-4810-8d1a-06a32164321b",
   "metadata": {},
   "outputs": [
    {
     "data": {
      "text/plain": [
       "['This', 'is', 'a', 'Python', 'class', 'new element']"
      ]
     },
     "execution_count": 19,
     "metadata": {},
     "output_type": "execute_result"
    }
   ],
   "source": [
    "#  concatenation operation.\n",
    "\n",
    "l2 + ['new element']"
   ]
  },
  {
   "cell_type": "code",
   "execution_count": 21,
   "id": "747a16dc-a477-4545-a451-d8996b348b57",
   "metadata": {},
   "outputs": [
    {
     "data": {
      "text/plain": [
       "['This', 'is', 'a', 'Python', 'class', ['New2', 5]]"
      ]
     },
     "execution_count": 21,
     "metadata": {},
     "output_type": "execute_result"
    }
   ],
   "source": [
    "# Multiconcatenated List example\n",
    "\n",
    "l2 + [['New2',5]]"
   ]
  },
  {
   "cell_type": "code",
   "execution_count": 22,
   "id": "86b910ae-edcf-44c4-bb48-02c54eec1d8b",
   "metadata": {},
   "outputs": [
    {
     "data": {
      "text/plain": [
       "['This', 'is', 'a', 'Python', 'class', ['New2', 5]]"
      ]
     },
     "execution_count": 22,
     "metadata": {},
     "output_type": "execute_result"
    }
   ],
   "source": [
    "l3=l2 + [['New2',5]]\n",
    "l3"
   ]
  },
  {
   "cell_type": "code",
   "execution_count": 28,
   "id": "a70201fe-467e-4f96-99b9-fb588833381c",
   "metadata": {},
   "outputs": [
    {
     "data": {
      "text/plain": [
       "'New2'"
      ]
     },
     "execution_count": 28,
     "metadata": {},
     "output_type": "execute_result"
    }
   ],
   "source": [
    "l3[5][0]"
   ]
  },
  {
   "cell_type": "code",
   "execution_count": 29,
   "id": "7d590bb5-e154-4782-8c4e-63e90b9d7470",
   "metadata": {},
   "outputs": [
    {
     "data": {
      "text/plain": [
       "5"
      ]
     },
     "execution_count": 29,
     "metadata": {},
     "output_type": "execute_result"
    }
   ],
   "source": [
    "l3[-1][1]"
   ]
  },
  {
   "cell_type": "code",
   "execution_count": 31,
   "id": "217a56b1-2c99-4376-88b4-6e37e41ee538",
   "metadata": {},
   "outputs": [
    {
     "data": {
      "text/plain": [
       "['This', 'is', 'a', 'Python', 'class']"
      ]
     },
     "execution_count": 31,
     "metadata": {},
     "output_type": "execute_result"
    }
   ],
   "source": [
    "l2"
   ]
  },
  {
   "cell_type": "code",
   "execution_count": 32,
   "id": "a35a6446-f1f7-4dba-b916-ba94231674d3",
   "metadata": {},
   "outputs": [
    {
     "data": {
      "text/plain": [
       "['This', 'is', 'a', 'Python', 'class', 'This', 'is', 'a', 'Python', 'class']"
      ]
     },
     "execution_count": 32,
     "metadata": {},
     "output_type": "execute_result"
    }
   ],
   "source": [
    "l2 * 2"
   ]
  },
  {
   "cell_type": "code",
   "execution_count": 34,
   "id": "5918ddf1-1517-42fa-978e-74250f57d471",
   "metadata": {},
   "outputs": [
    {
     "name": "stdout",
     "output_type": "stream",
     "text": [
      "This\n",
      "is\n",
      "a\n",
      "Loop Completed char identified\n"
     ]
    }
   ],
   "source": [
    "for i in l2:\n",
    "    if i.lower()=='python':\n",
    "        break\n",
    "    else:\n",
    "        print(i)\n",
    "print('Loop Completed char identified')        "
   ]
  },
  {
   "cell_type": "code",
   "execution_count": 8,
   "id": "aef369ea-66e8-479d-8494-aff2aa935f28",
   "metadata": {},
   "outputs": [],
   "source": [
    "ls1=['Agra','LalMahal','IndiaGate','ZBridge','Lavasa']\n",
    "ls2=[12,48,37,79]"
   ]
  },
  {
   "cell_type": "code",
   "execution_count": 43,
   "id": "178f5bcd-1241-46e5-b4f9-4f37f698fd11",
   "metadata": {},
   "outputs": [
    {
     "data": {
      "text/plain": [
       "'ZBridge'"
      ]
     },
     "execution_count": 43,
     "metadata": {},
     "output_type": "execute_result"
    }
   ],
   "source": [
    "# it compare based on ascii values in str.\n",
    "\n",
    "max(ls1)"
   ]
  },
  {
   "cell_type": "code",
   "execution_count": 42,
   "id": "8352f847-12fd-4d95-b596-37bf6201ed20",
   "metadata": {},
   "outputs": [
    {
     "data": {
      "text/plain": [
       "'Agra'"
      ]
     },
     "execution_count": 42,
     "metadata": {},
     "output_type": "execute_result"
    }
   ],
   "source": [
    "min(ls1)"
   ]
  },
  {
   "cell_type": "code",
   "execution_count": 46,
   "id": "ed494e77-86e2-46ce-8fa3-600485c19c6c",
   "metadata": {},
   "outputs": [
    {
     "data": {
      "text/plain": [
       "79"
      ]
     },
     "execution_count": 46,
     "metadata": {},
     "output_type": "execute_result"
    }
   ],
   "source": [
    "max(ls2)"
   ]
  },
  {
   "cell_type": "code",
   "execution_count": 49,
   "id": "49672dec-5ecd-47b8-ae3c-14424d180fca",
   "metadata": {},
   "outputs": [
    {
     "data": {
      "text/plain": [
       "[12, 37, 48, 79]"
      ]
     },
     "execution_count": 49,
     "metadata": {},
     "output_type": "execute_result"
    }
   ],
   "source": [
    "ls2.sort()\n",
    "ls2"
   ]
  },
  {
   "cell_type": "code",
   "execution_count": 54,
   "id": "ba0fc7c6-f880-415c-b07d-e5dd6025b30d",
   "metadata": {},
   "outputs": [
    {
     "data": {
      "text/plain": [
       "['Agra', 'IndiaGate', 'LalMahal', 'Lavasa', 'ZBridge']"
      ]
     },
     "execution_count": 54,
     "metadata": {},
     "output_type": "execute_result"
    }
   ],
   "source": [
    "ls1.sort()\n",
    "ls1"
   ]
  },
  {
   "cell_type": "code",
   "execution_count": 4,
   "id": "3c7a7634-ec29-4709-a0c0-3fe5c78b6cac",
   "metadata": {},
   "outputs": [
    {
     "data": {
      "text/plain": [
       "['Agra', 'LalMahal', 'IndiaGate', 'ZBridge', 'Lavasa']"
      ]
     },
     "execution_count": 4,
     "metadata": {},
     "output_type": "execute_result"
    }
   ],
   "source": [
    "ls1"
   ]
  },
  {
   "cell_type": "code",
   "execution_count": 9,
   "id": "ee874331-8c67-49d8-8358-8a80573d255c",
   "metadata": {},
   "outputs": [],
   "source": [
    "# Append (inplace function means after aplying this function list gets automatically updated)\n",
    "\n",
    "ls1.append('HawaMahal')"
   ]
  },
  {
   "cell_type": "code",
   "execution_count": 10,
   "id": "f233e336-624c-4983-a743-da0430b5ed25",
   "metadata": {},
   "outputs": [
    {
     "data": {
      "text/plain": [
       "['Agra', 'LalMahal', 'IndiaGate', 'ZBridge', 'Lavasa', 'HawaMahal']"
      ]
     },
     "execution_count": 10,
     "metadata": {},
     "output_type": "execute_result"
    }
   ],
   "source": [
    "ls1"
   ]
  },
  {
   "cell_type": "code",
   "execution_count": 11,
   "id": "8eab85a0-316b-4e9d-a50c-e29baba5e95c",
   "metadata": {},
   "outputs": [],
   "source": [
    "ls1.append([2,4,6,8])"
   ]
  },
  {
   "cell_type": "code",
   "execution_count": 12,
   "id": "8b193981-de53-45db-b249-83ef44bf28e5",
   "metadata": {},
   "outputs": [
    {
     "data": {
      "text/plain": [
       "['Agra',\n",
       " 'LalMahal',\n",
       " 'IndiaGate',\n",
       " 'ZBridge',\n",
       " 'Lavasa',\n",
       " 'HawaMahal',\n",
       " [2, 4, 6, 8]]"
      ]
     },
     "execution_count": 12,
     "metadata": {},
     "output_type": "execute_result"
    }
   ],
   "source": [
    "ls1"
   ]
  },
  {
   "cell_type": "code",
   "execution_count": 13,
   "id": "52b6b3e4-6ef7-4935-beb6-cbf9f38f3c6b",
   "metadata": {},
   "outputs": [
    {
     "data": {
      "text/plain": [
       "['Agra',\n",
       " 'LalMahal',\n",
       " 'IndiaGate',\n",
       " 'ZBridge',\n",
       " 'Lavasa',\n",
       " 'HawaMahal',\n",
       " [2, 4, 6, 8],\n",
       " 'RajKamal',\n",
       " 'NilKamal']"
      ]
     },
     "execution_count": 13,
     "metadata": {},
     "output_type": "execute_result"
    }
   ],
   "source": [
    "# if I want to add more than one element at a time in a list then we have to use extend method.\n",
    "# Extend list by appending elements from the iterable.\n",
    "ls1.extend(['RajKamal','NilKamal'])\n",
    "ls1"
   ]
  },
  {
   "cell_type": "code",
   "execution_count": 7,
   "id": "fbc12f15-60bf-47d7-8523-81ff494c3d92",
   "metadata": {},
   "outputs": [
    {
     "data": {
      "text/plain": [
       "4"
      ]
     },
     "execution_count": 7,
     "metadata": {},
     "output_type": "execute_result"
    }
   ],
   "source": [
    "ls1[-1][1]"
   ]
  },
  {
   "cell_type": "code",
   "execution_count": 17,
   "id": "560e9dcc-de1a-4439-a9cd-c2dda72040b4",
   "metadata": {},
   "outputs": [
    {
     "data": {
      "text/plain": [
       "True"
      ]
     },
     "execution_count": 17,
     "metadata": {},
     "output_type": "execute_result"
    }
   ],
   "source": [
    "\"1\".isnumeric()"
   ]
  },
  {
   "cell_type": "code",
   "execution_count": 20,
   "id": "5b8edbae-d148-47f0-b966-d500c2d6180b",
   "metadata": {},
   "outputs": [
    {
     "data": {
      "text/plain": [
       "True"
      ]
     },
     "execution_count": 20,
     "metadata": {},
     "output_type": "execute_result"
    }
   ],
   "source": [
    "txt='adfv123'\n",
    "txt.isalnum()"
   ]
  },
  {
   "cell_type": "code",
   "execution_count": 21,
   "id": "f9bf76bc-b0ff-4615-8d25-bb27b5eccc05",
   "metadata": {},
   "outputs": [
    {
     "data": {
      "text/plain": [
       "'p w s k i l l s'"
      ]
     },
     "execution_count": 21,
     "metadata": {},
     "output_type": "execute_result"
    }
   ],
   "source": [
    "string = \"p w s k i l l s\"\n",
    "\n",
    "\" \".join(string.replace(\" \", \"\"))"
   ]
  },
  {
   "cell_type": "code",
   "execution_count": 22,
   "id": "8c54b841-1ae3-4430-92d2-4efcfce61044",
   "metadata": {},
   "outputs": [
    {
     "data": {
      "text/plain": [
       "True"
      ]
     },
     "execution_count": 22,
     "metadata": {},
     "output_type": "execute_result"
    }
   ],
   "source": [
    "\"pwskills\"[::-1].upper().replace(\"SLLIKSWP\", \"pwskills\").islower()"
   ]
  },
  {
   "cell_type": "code",
   "execution_count": 23,
   "id": "8e35dc4a-9ea7-4804-aebb-e691dbd461da",
   "metadata": {},
   "outputs": [
    {
     "name": "stdout",
     "output_type": "stream",
     "text": [
      "I\n",
      "Want\n",
      "To\n",
      "Become\n",
      "A\n",
      "Data\n",
      "Scientist\n"
     ]
    }
   ],
   "source": [
    "s = \"I want to become a data scientist\"\n",
    "\n",
    "for i in s.split():\n",
    "\n",
    "    i.capitalize()\n",
    "\n",
    "    print(i.title())"
   ]
  },
  {
   "cell_type": "code",
   "execution_count": 28,
   "id": "07ddc56b-254a-4e3e-9f8e-7bb80b05a66d",
   "metadata": {},
   "outputs": [
    {
     "data": {
      "text/plain": [
       "'Abujjtbjsafj'"
      ]
     },
     "execution_count": 28,
     "metadata": {},
     "output_type": "execute_result"
    }
   ],
   "source": [
    "a1='abujjTbjsafj'\n",
    "a1.capitalize()"
   ]
  },
  {
   "cell_type": "code",
   "execution_count": 30,
   "id": "117e7ab0-0bc7-4228-aa51-d554d8ad3f66",
   "metadata": {},
   "outputs": [
    {
     "data": {
      "text/plain": [
       "'$$$$$Hello'"
      ]
     },
     "execution_count": 30,
     "metadata": {},
     "output_type": "execute_result"
    }
   ],
   "source": [
    "a2='Hello'\n",
    "a2.rjust(10,'$')"
   ]
  },
  {
   "cell_type": "code",
   "execution_count": 31,
   "id": "15a51117-0a3a-4a54-aa8e-587a82aabe76",
   "metadata": {},
   "outputs": [
    {
     "data": {
      "text/plain": [
       "'##Hello###'"
      ]
     },
     "execution_count": 31,
     "metadata": {},
     "output_type": "execute_result"
    }
   ],
   "source": [
    "a2.center(10,'#')"
   ]
  },
  {
   "cell_type": "code",
   "execution_count": 1,
   "id": "91a50e82-2032-4646-a998-8b6f724f1d35",
   "metadata": {},
   "outputs": [
    {
     "data": {
      "text/plain": [
       "['Boat', 'Aeroplane', 'Train', 'Helicoptor']"
      ]
     },
     "execution_count": 1,
     "metadata": {},
     "output_type": "execute_result"
    }
   ],
   "source": [
    "lst1=['Boat','Aeroplane','Train','Helicoptor']\n",
    "lst1"
   ]
  },
  {
   "cell_type": "code",
   "execution_count": 2,
   "id": "3e4a55d7-94ee-437e-8dbd-a23dcc5f48c5",
   "metadata": {},
   "outputs": [
    {
     "data": {
      "text/plain": [
       "'Helicoptor'"
      ]
     },
     "execution_count": 2,
     "metadata": {},
     "output_type": "execute_result"
    }
   ],
   "source": [
    "# pop operation- Remove and return item at index (default last). syntax--> lst1.pop(index=-1, /)\n",
    "lst1.pop()"
   ]
  },
  {
   "cell_type": "code",
   "execution_count": 3,
   "id": "f69b83b6-fde3-44c1-a6d6-076b41496d08",
   "metadata": {},
   "outputs": [
    {
     "data": {
      "text/plain": [
       "['Boat', 'Aeroplane', 'Train']"
      ]
     },
     "execution_count": 3,
     "metadata": {},
     "output_type": "execute_result"
    }
   ],
   "source": [
    "lst1"
   ]
  },
  {
   "cell_type": "code",
   "execution_count": 4,
   "id": "1f74c33b-0d5b-486f-a56a-60d833b6e6e6",
   "metadata": {},
   "outputs": [
    {
     "data": {
      "text/plain": [
       "'Aeroplane'"
      ]
     },
     "execution_count": 4,
     "metadata": {},
     "output_type": "execute_result"
    }
   ],
   "source": [
    "lst1.pop(1)"
   ]
  },
  {
   "cell_type": "code",
   "execution_count": 5,
   "id": "d5fa366f-b8fa-4b08-b6fb-4cef42de0d22",
   "metadata": {},
   "outputs": [
    {
     "data": {
      "text/plain": [
       "['Boat', 'Train']"
      ]
     },
     "execution_count": 5,
     "metadata": {},
     "output_type": "execute_result"
    }
   ],
   "source": [
    "lst1"
   ]
  },
  {
   "cell_type": "code",
   "execution_count": 6,
   "id": "28d94c73-e4e9-4c1d-968a-5bb1baa2fdbe",
   "metadata": {},
   "outputs": [
    {
     "data": {
      "text/plain": [
       "['A', 'E', 'I', 'O', 'U']"
      ]
     },
     "execution_count": 6,
     "metadata": {},
     "output_type": "execute_result"
    }
   ],
   "source": [
    "# sorting and reverse on list.\n",
    "new_l=['A','E','I','O','U']\n",
    "new_l"
   ]
  },
  {
   "cell_type": "code",
   "execution_count": 7,
   "id": "aaad988e-83ec-4003-b611-e4116729be10",
   "metadata": {},
   "outputs": [
    {
     "data": {
      "text/plain": [
       "['U', 'O', 'I', 'E', 'A']"
      ]
     },
     "execution_count": 7,
     "metadata": {},
     "output_type": "execute_result"
    }
   ],
   "source": [
    "new_l[::-1]"
   ]
  },
  {
   "cell_type": "code",
   "execution_count": 8,
   "id": "57880b03-b7dd-4bf4-8e86-0b18b350f75c",
   "metadata": {},
   "outputs": [
    {
     "data": {
      "text/plain": [
       "['U', 'O', 'I', 'E', 'A']"
      ]
     },
     "execution_count": 8,
     "metadata": {},
     "output_type": "execute_result"
    }
   ],
   "source": [
    "new_l.reverse()\n",
    "new_l"
   ]
  },
  {
   "cell_type": "code",
   "execution_count": 13,
   "id": "da2fa3f6-591c-4bae-9713-54123b46dc8a",
   "metadata": {},
   "outputs": [
    {
     "data": {
      "text/plain": [
       "['A', 'E', 'I', 'O', 'U']"
      ]
     },
     "execution_count": 13,
     "metadata": {},
     "output_type": "execute_result"
    }
   ],
   "source": [
    "# Sort the list in ascending order and return None. Syntax --> new_l.sort(*, key=None, reverse=False)\n",
    "new_l.sort()\n",
    "new_l"
   ]
  },
  {
   "cell_type": "code",
   "execution_count": 14,
   "id": "868ee01e-3612-48cb-968b-1a4c0c7202ba",
   "metadata": {},
   "outputs": [
    {
     "data": {
      "text/plain": [
       "['U', 'O', 'I', 'E', 'A']"
      ]
     },
     "execution_count": 14,
     "metadata": {},
     "output_type": "execute_result"
    }
   ],
   "source": [
    "new_l.sort(reverse=True)\n",
    "new_l"
   ]
  },
  {
   "cell_type": "markdown",
   "id": "25b29f6e-e79c-4e4e-839a-6f50286fdfaa",
   "metadata": {},
   "source": [
    "### Nested List."
   ]
  },
  {
   "cell_type": "code",
   "execution_count": 4,
   "id": "1d029e60-f2c6-471e-a422-9015165a25d0",
   "metadata": {},
   "outputs": [
    {
     "data": {
      "text/plain": [
       "[[1, 2, 3, 4, 5], [0, 2, 4, 6, 8], [1, 3, 5, 7, 9]]"
      ]
     },
     "execution_count": 4,
     "metadata": {},
     "output_type": "execute_result"
    }
   ],
   "source": [
    "l1=[1,2,3,4,5]\n",
    "l2=[0,2,4,6,8]\n",
    "l3=[1,3,5,7,9]\n",
    "\n",
    "# make a lsit of lists to form a matrix.\n",
    "\n",
    "matrix=[l1,l2,l3]\n",
    "matrix"
   ]
  },
  {
   "cell_type": "code",
   "execution_count": 5,
   "id": "141c47c2-6b4e-4941-a726-05d2e11b4d7d",
   "metadata": {},
   "outputs": [
    {
     "data": {
      "text/plain": [
       "6"
      ]
     },
     "execution_count": 5,
     "metadata": {},
     "output_type": "execute_result"
    }
   ],
   "source": [
    "matrix[1][3]"
   ]
  },
  {
   "cell_type": "code",
   "execution_count": 22,
   "id": "c58f434c-bf87-4527-9e71-7ef15f3e8190",
   "metadata": {},
   "outputs": [
    {
     "data": {
      "text/plain": [
       "3"
      ]
     },
     "execution_count": 22,
     "metadata": {},
     "output_type": "execute_result"
    }
   ],
   "source": [
    "len(matrix)"
   ]
  },
  {
   "cell_type": "code",
   "execution_count": 6,
   "id": "f6620519-461d-4c34-8c16-5dfe829b3923",
   "metadata": {},
   "outputs": [
    {
     "data": {
      "text/plain": [
       "[7, 9]"
      ]
     },
     "execution_count": 6,
     "metadata": {},
     "output_type": "execute_result"
    }
   ],
   "source": [
    "matrix[2][3:5]"
   ]
  },
  {
   "cell_type": "code",
   "execution_count": 37,
   "id": "19ee514f-e042-40ae-a2a8-2b5cf787a25b",
   "metadata": {},
   "outputs": [
    {
     "data": {
      "text/plain": [
       "[1, 0, 1]"
      ]
     },
     "execution_count": 37,
     "metadata": {},
     "output_type": "execute_result"
    }
   ],
   "source": [
    "a=matrix[0][0],matrix[1][0],matrix[2][0]\n",
    "list(a)"
   ]
  },
  {
   "cell_type": "code",
   "execution_count": 28,
   "id": "19cf1137-c368-4226-b8bf-ddddd50e6919",
   "metadata": {},
   "outputs": [
    {
     "name": "stdout",
     "output_type": "stream",
     "text": [
      "{3, 4, 5}\n"
     ]
    }
   ],
   "source": [
    "ls=[]\n",
    "for i in range(len(matrix)):\n",
    "    for j in matrix[i]:\n",
    "        ls.append(matrix[i][2])\n",
    "s1=set(ls)\n",
    "print(s1)"
   ]
  },
  {
   "cell_type": "code",
   "execution_count": 30,
   "id": "4d8f0d47-3d31-4c29-a860-a8cca818582e",
   "metadata": {},
   "outputs": [
    {
     "data": {
      "text/plain": [
       "[[1, 2, 3, 4, 5], [0, 2, 4, 6, 8], [1, 3, 5, 7, 9]]"
      ]
     },
     "execution_count": 30,
     "metadata": {},
     "output_type": "execute_result"
    }
   ],
   "source": [
    "matrix"
   ]
  },
  {
   "cell_type": "code",
   "execution_count": 40,
   "id": "47b333b5-a0e0-481a-8c9a-21244e291170",
   "metadata": {},
   "outputs": [
    {
     "data": {
      "text/plain": [
       "[3, 4, 5]"
      ]
     },
     "execution_count": 40,
     "metadata": {},
     "output_type": "execute_result"
    }
   ],
   "source": [
    "b=matrix[0][2],matrix[1][2],matrix[2][2]\n",
    "list(b)"
   ]
  },
  {
   "cell_type": "code",
   "execution_count": 41,
   "id": "c485bf44-4f73-40ae-85d5-a19d2627b947",
   "metadata": {},
   "outputs": [
    {
     "data": {
      "text/plain": [
       "[0, 1, 2, 3, 4, 5, 6, 7, 8, 9]"
      ]
     },
     "execution_count": 41,
     "metadata": {},
     "output_type": "execute_result"
    }
   ],
   "source": [
    "# list comprehension.\n",
    "[i for i in range(10)]"
   ]
  },
  {
   "cell_type": "code",
   "execution_count": 45,
   "id": "67b85edb-ecb0-4034-82d8-45fcf955dfb4",
   "metadata": {},
   "outputs": [
    {
     "data": {
      "text/plain": [
       "[2, 4, 6, 8, 10, 12, 14, 16, 18]"
      ]
     },
     "execution_count": 45,
     "metadata": {},
     "output_type": "execute_result"
    }
   ],
   "source": [
    "[i for i in range(2,20,2)]"
   ]
  },
  {
   "cell_type": "code",
   "execution_count": 46,
   "id": "8a1536b0-50e6-4e29-bb6d-907086221a8c",
   "metadata": {},
   "outputs": [
    {
     "data": {
      "text/plain": [
       "[1, 3, 5, 7, 9, 11, 13, 15, 17, 19]"
      ]
     },
     "execution_count": 46,
     "metadata": {},
     "output_type": "execute_result"
    }
   ],
   "source": [
    "[i for i in range(1,20,2)]"
   ]
  },
  {
   "cell_type": "code",
   "execution_count": 47,
   "id": "92db589c-4946-43af-bbca-736fc85435c4",
   "metadata": {},
   "outputs": [
    {
     "data": {
      "text/plain": [
       "[0, 'odd', 2, 'odd', 4, 'odd', 6, 'odd', 8, 'odd']"
      ]
     },
     "execution_count": 47,
     "metadata": {},
     "output_type": "execute_result"
    }
   ],
   "source": [
    "[i if i%2==0 else \"odd\" for i in range(0,10)]"
   ]
  },
  {
   "cell_type": "code",
   "execution_count": 52,
   "id": "2331029b-d599-4787-b6ce-74775f97e054",
   "metadata": {},
   "outputs": [
    {
     "name": "stdin",
     "output_type": "stream",
     "text": [
      " 10\n"
     ]
    },
    {
     "name": "stdout",
     "output_type": "stream",
     "text": [
      "sum of even: 20\n",
      "sum of odd: 25\n"
     ]
    }
   ],
   "source": [
    "n=int(input())\n",
    "lm=list(range(n))\n",
    "sum_e=0\n",
    "sum_o=0\n",
    "for i in lm:\n",
    "    if i%2==0:\n",
    "        sum_e+=i\n",
    "    else:\n",
    "        sum_o+=i\n",
    "print('sum of even:',sum_e)\n",
    "print('sum of odd:',sum_o)\n",
    "        "
   ]
  },
  {
   "cell_type": "code",
   "execution_count": 55,
   "id": "f6a8919b-bcc9-4e1d-baf9-d574ce1d159e",
   "metadata": {},
   "outputs": [],
   "source": [
    "sum_even=sum([i for i in range(10) if i%2==0])"
   ]
  },
  {
   "cell_type": "code",
   "execution_count": 56,
   "id": "41e4b624-a1cb-4eb4-9e1a-d33a772161b8",
   "metadata": {},
   "outputs": [
    {
     "data": {
      "text/plain": [
       "20"
      ]
     },
     "execution_count": 56,
     "metadata": {},
     "output_type": "execute_result"
    }
   ],
   "source": [
    "sum_even"
   ]
  },
  {
   "cell_type": "code",
   "execution_count": 57,
   "id": "df0fbf1a-3bf6-4b1a-8df9-4ecc13eae9e2",
   "metadata": {},
   "outputs": [],
   "source": [
    "sum_odd=sum([i for i in range(10) if i%2!=0])"
   ]
  },
  {
   "cell_type": "code",
   "execution_count": 58,
   "id": "0121ba63-43ae-47e2-944b-74f06e159496",
   "metadata": {},
   "outputs": [
    {
     "data": {
      "text/plain": [
       "25"
      ]
     },
     "execution_count": 58,
     "metadata": {},
     "output_type": "execute_result"
    }
   ],
   "source": [
    "sum_odd"
   ]
  },
  {
   "cell_type": "code",
   "execution_count": 62,
   "id": "56147949-f477-4af7-9c6c-689121fd04f0",
   "metadata": {},
   "outputs": [
    {
     "data": {
      "text/plain": [
       "[1, 2, 3, 4, 5, 6, 7, 8, 9, 10]"
      ]
     },
     "execution_count": 62,
     "metadata": {},
     "output_type": "execute_result"
    }
   ],
   "source": [
    "ls=list(range(1,11))\n",
    "ls"
   ]
  },
  {
   "cell_type": "code",
   "execution_count": 63,
   "id": "2104fb8c-5b14-4070-8a1f-339f6c7fc02a",
   "metadata": {},
   "outputs": [
    {
     "data": {
      "text/plain": [
       "[1, 4, 9, 16, 25, 36, 49, 64, 81, 100]"
      ]
     },
     "execution_count": 63,
     "metadata": {},
     "output_type": "execute_result"
    }
   ],
   "source": [
    "squares=[i**2 for i in ls]\n",
    "squares"
   ]
  },
  {
   "cell_type": "code",
   "execution_count": 64,
   "id": "1f02c68e-e542-4c7a-b356-f8a2d3be8ba1",
   "metadata": {},
   "outputs": [
    {
     "data": {
      "text/plain": [
       "[1, 8, 27, 64, 125, 216, 343, 512, 729, 1000]"
      ]
     },
     "execution_count": 64,
     "metadata": {},
     "output_type": "execute_result"
    }
   ],
   "source": [
    "cubes=[i**3 for i in ls]\n",
    "cubes"
   ]
  },
  {
   "cell_type": "code",
   "execution_count": 68,
   "id": "a943c37d-8a77-493b-96e5-4641b253b7a4",
   "metadata": {},
   "outputs": [],
   "source": [
    "# create a list form given list of only positive no.\n",
    "ll=[-2,-1,0,1,2,3]"
   ]
  },
  {
   "cell_type": "code",
   "execution_count": 66,
   "id": "19fe2dba-b0cd-45c6-a8b6-e620c556a146",
   "metadata": {},
   "outputs": [
    {
     "data": {
      "text/plain": [
       "[0, 1, 2, 3]"
      ]
     },
     "execution_count": 66,
     "metadata": {},
     "output_type": "execute_result"
    }
   ],
   "source": [
    "lp=[i for i in ll if i>=0]\n",
    "lp"
   ]
  },
  {
   "cell_type": "code",
   "execution_count": 67,
   "id": "3edc019d-d7bb-4ea1-a6a1-11c71bfa9953",
   "metadata": {},
   "outputs": [
    {
     "data": {
      "text/plain": [
       "[-2, -1]"
      ]
     },
     "execution_count": 67,
     "metadata": {},
     "output_type": "execute_result"
    }
   ],
   "source": [
    "ln=[i for i in ll if i<0]\n",
    "ln"
   ]
  },
  {
   "cell_type": "code",
   "execution_count": 70,
   "id": "e3579a0f-a494-4532-b6ac-d4918d085d63",
   "metadata": {},
   "outputs": [
    {
     "data": {
      "text/plain": [
       "['Banana', 'Apple', 'Strawberry', 'Chiku']"
      ]
     },
     "execution_count": 70,
     "metadata": {},
     "output_type": "execute_result"
    }
   ],
   "source": [
    "# create a list of having only first letter of each word in given list.\n",
    "l5=['Banana','Apple','Strawberry','Chiku']\n",
    "l5"
   ]
  },
  {
   "cell_type": "code",
   "execution_count": 72,
   "id": "bfa64001-03d2-420e-9165-42bdac0b29ab",
   "metadata": {},
   "outputs": [
    {
     "data": {
      "text/plain": [
       "['B', 'A', 'S', 'C']"
      ]
     },
     "execution_count": 72,
     "metadata": {},
     "output_type": "execute_result"
    }
   ],
   "source": [
    "lfw=[i[0] for i in l5]\n",
    "lfw"
   ]
  },
  {
   "cell_type": "code",
   "execution_count": 79,
   "id": "04604f72-9739-4630-aaba-621fe19e7e6f",
   "metadata": {},
   "outputs": [],
   "source": [
    "# Example 4: Convert a list of temperatures from Celsius to Fahrenheit uing list comprehesnion\n",
    "# Formula: (9/5)*temp+32   (0o = 32F)\n",
    "celsius_temperatures = [0, 10, 20, 30, 40, 50]"
   ]
  },
  {
   "cell_type": "code",
   "execution_count": 78,
   "id": "ae1f044c-71e3-4881-92da-30ff0cf46466",
   "metadata": {},
   "outputs": [
    {
     "data": {
      "text/plain": [
       "[32.0, 50.0, 68.0, 86.0, 104.0, 122.0]"
      ]
     },
     "execution_count": 78,
     "metadata": {},
     "output_type": "execute_result"
    }
   ],
   "source": [
    "fahrenheit_temperatures = [((9/5)*i+32) for i in celsius_temperatures]\n",
    "fahrenheit_temperatures"
   ]
  },
  {
   "cell_type": "code",
   "execution_count": 88,
   "id": "f12d8a1c-3a82-4ea8-9da9-7d76139da243",
   "metadata": {},
   "outputs": [
    {
     "data": {
      "text/plain": [
       "[[1, 2, 3], [4, 5, 6], [7, 8, 9]]"
      ]
     },
     "execution_count": 88,
     "metadata": {},
     "output_type": "execute_result"
    }
   ],
   "source": [
    "# Example 5: Flatten a list of lists into a single list\n",
    "lists = [[1, 2, 3], [4, 5, 6], [7, 8, 9]]\n",
    "lists"
   ]
  },
  {
   "cell_type": "code",
   "execution_count": 92,
   "id": "fc4dc90b-c15f-4443-85d4-e32661c53a08",
   "metadata": {},
   "outputs": [
    {
     "data": {
      "text/plain": [
       "[1, 2, 3, 4, 5, 6, 7, 8, 9]"
      ]
     },
     "execution_count": 92,
     "metadata": {},
     "output_type": "execute_result"
    }
   ],
   "source": [
    "n_l= [ j for i in lists for j in i ]\n",
    "n_l"
   ]
  },
  {
   "cell_type": "code",
   "execution_count": 91,
   "id": "3b0dafc1-cfe6-4cbc-9c31-c3c1e69f86f0",
   "metadata": {},
   "outputs": [
    {
     "data": {
      "text/plain": [
       "[1, 2, 3, 4, 5, 6, 7, 8, 9]"
      ]
     },
     "execution_count": 91,
     "metadata": {},
     "output_type": "execute_result"
    }
   ],
   "source": [
    "new_fl= [ j[i] for i in range(len(lists)) for j in lists ]\n",
    "new_fl.sort()\n",
    "new_fl"
   ]
  },
  {
   "cell_type": "code",
   "execution_count": 100,
   "id": "27f31be6-57e4-4910-a628-941ba089153c",
   "metadata": {},
   "outputs": [],
   "source": [
    "## Assignment \n",
    "## Using both code and list comprehesnion\n",
    "# Example 2: Create a list of only the prime numbers from a given list\n",
    "numbers = [1, 2, 3, 4, 5, 6, 7, 8, 9, 10]\n"
   ]
  },
  {
   "cell_type": "code",
   "execution_count": 104,
   "id": "4d899c9d-9fa2-4c44-9383-4978792b9e27",
   "metadata": {},
   "outputs": [
    {
     "name": "stdout",
     "output_type": "stream",
     "text": [
      "20 Not a prime no\n"
     ]
    }
   ],
   "source": [
    "i=20\n",
    "f=False\n",
    "\n",
    "if i==1:\n",
    "    print(f'{i} Not a prime no')\n",
    "elif i>1:\n",
    "    for j in range(2,i):\n",
    "        if i%j==0:\n",
    "            f=True\n",
    "            break\n",
    "if f==True:\n",
    "    print(f'{i} Not a prime no')\n",
    "else:\n",
    "    (f'{i} is a prime no')\n",
    "        \n",
    "        \n",
    "        "
   ]
  },
  {
   "cell_type": "code",
   "execution_count": null,
   "id": "e0a43f50-553d-41a3-8b4b-d75f0e6dc155",
   "metadata": {},
   "outputs": [],
   "source": []
  },
  {
   "cell_type": "code",
   "execution_count": 105,
   "id": "07f755bf-90ff-4c66-a1ec-99bf7d07c552",
   "metadata": {},
   "outputs": [],
   "source": [
    "# Example 3: Create a list of all the possible combinations of 2 elements from a list\n",
    "number = [1, 2, 3, 4, 5]"
   ]
  },
  {
   "cell_type": "code",
   "execution_count": 117,
   "id": "72e8d64f-544a-4a81-a5a8-b29708c16141",
   "metadata": {},
   "outputs": [
    {
     "name": "stdout",
     "output_type": "stream",
     "text": [
      "(1, 1) (1, 2) (1, 3) (1, 4) (1, 5) (2, 1) (2, 2) (2, 3) (2, 4) (2, 5) (3, 1) (3, 2) (3, 3) (3, 4) (3, 5) (4, 1) (4, 2) (4, 3) (4, 4) (4, 5) (5, 1) (5, 2) (5, 3) (5, 4) (5, 5) "
     ]
    }
   ],
   "source": [
    "for i in number:\n",
    "    for j in number:\n",
    "        print((i,j),end=\" \")\n",
    "    "
   ]
  },
  {
   "cell_type": "code",
   "execution_count": 116,
   "id": "bf1bdf24-8ee6-464b-b715-c1c646e0d65d",
   "metadata": {},
   "outputs": [
    {
     "data": {
      "text/plain": [
       "[(1, 1),\n",
       " (1, 2),\n",
       " (1, 3),\n",
       " (1, 4),\n",
       " (1, 5),\n",
       " (2, 1),\n",
       " (2, 2),\n",
       " (2, 3),\n",
       " (2, 4),\n",
       " (2, 5),\n",
       " (3, 1),\n",
       " (3, 2),\n",
       " (3, 3),\n",
       " (3, 4),\n",
       " (3, 5),\n",
       " (4, 1),\n",
       " (4, 2),\n",
       " (4, 3),\n",
       " (4, 4),\n",
       " (4, 5),\n",
       " (5, 1),\n",
       " (5, 2),\n",
       " (5, 3),\n",
       " (5, 4),\n",
       " (5, 5)]"
      ]
     },
     "execution_count": 116,
     "metadata": {},
     "output_type": "execute_result"
    }
   ],
   "source": [
    "lll= [ (i,j) for i in number for j in number ]\n",
    "lll"
   ]
  },
  {
   "cell_type": "code",
   "execution_count": null,
   "id": "aa4c599e-1926-4285-8828-691ab9b4fb04",
   "metadata": {},
   "outputs": [],
   "source": []
  }
 ],
 "metadata": {
  "kernelspec": {
   "display_name": "Python 3 (ipykernel)",
   "language": "python",
   "name": "python3"
  },
  "language_info": {
   "codemirror_mode": {
    "name": "ipython",
    "version": 3
   },
   "file_extension": ".py",
   "mimetype": "text/x-python",
   "name": "python",
   "nbconvert_exporter": "python",
   "pygments_lexer": "ipython3",
   "version": "3.10.8"
  }
 },
 "nbformat": 4,
 "nbformat_minor": 5
}
