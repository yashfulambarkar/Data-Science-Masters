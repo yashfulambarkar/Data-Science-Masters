{
 "cells": [
  {
   "cell_type": "markdown",
   "id": "b37dbabd-9ece-4485-a156-37e95602ec34",
   "metadata": {},
   "source": [
    "### Function"
   ]
  },
  {
   "cell_type": "code",
   "execution_count": 1,
   "id": "3cf3e5ba-d93e-417f-8d2e-52a0c2a46559",
   "metadata": {},
   "outputs": [
    {
     "name": "stdout",
     "output_type": "stream",
     "text": [
      "Hello There!!\n"
     ]
    }
   ],
   "source": [
    "print(\"Hello There!!\")"
   ]
  },
  {
   "cell_type": "code",
   "execution_count": 2,
   "id": "35576aaf-9c7f-456f-a907-59ab4ba8b272",
   "metadata": {},
   "outputs": [],
   "source": [
    "l = [1,2,3,4,5,6]"
   ]
  },
  {
   "cell_type": "code",
   "execution_count": 3,
   "id": "98c0f749-52d1-459b-850d-1ca715593e2e",
   "metadata": {},
   "outputs": [
    {
     "data": {
      "text/plain": [
       "[1, 2, 3, 4, 5, 6]"
      ]
     },
     "execution_count": 3,
     "metadata": {},
     "output_type": "execute_result"
    }
   ],
   "source": [
    "l"
   ]
  },
  {
   "cell_type": "markdown",
   "id": "cb5cf2dc-7001-4442-a360-ad934569d2a9",
   "metadata": {},
   "source": [
    "To create a function we need to initialize it by def keyword.\n",
    "for ex:-  def fun_name() "
   ]
  },
  {
   "cell_type": "code",
   "execution_count": 4,
   "id": "c1f828a8-0bfa-42e5-9a07-0f98c9958348",
   "metadata": {},
   "outputs": [
    {
     "ename": "SyntaxError",
     "evalue": "incomplete input (2690612609.py, line 2)",
     "output_type": "error",
     "traceback": [
      "\u001b[0;36m  Cell \u001b[0;32mIn[4], line 2\u001b[0;36m\u001b[0m\n\u001b[0;31m    \u001b[0m\n\u001b[0m    ^\u001b[0m\n\u001b[0;31mSyntaxError\u001b[0m\u001b[0;31m:\u001b[0m incomplete input\n"
     ]
    }
   ],
   "source": [
    "def test():\n",
    "    "
   ]
  },
  {
   "cell_type": "code",
   "execution_count": 5,
   "id": "e35ab4e4-aec8-4de2-94af-38ff225f8c0f",
   "metadata": {},
   "outputs": [],
   "source": [
    "def test():\n",
    "    pass"
   ]
  },
  {
   "cell_type": "code",
   "execution_count": 6,
   "id": "afe9b0d6-0edf-4e8d-9d06-0638fa207777",
   "metadata": {},
   "outputs": [],
   "source": [
    "def test1():\n",
    "    print(\"This is my first function\")"
   ]
  },
  {
   "cell_type": "code",
   "execution_count": 7,
   "id": "75ee2ca2-c488-4193-9267-145fafc37dab",
   "metadata": {},
   "outputs": [
    {
     "name": "stdout",
     "output_type": "stream",
     "text": [
      "This is my first function\n"
     ]
    }
   ],
   "source": [
    "test1()"
   ]
  },
  {
   "cell_type": "code",
   "execution_count": 12,
   "id": "f0e9f7bf-a522-4823-9d5b-1ff13ee40e9b",
   "metadata": {},
   "outputs": [
    {
     "name": "stdout",
     "output_type": "stream",
     "text": [
      "This is my first function\n"
     ]
    },
    {
     "ename": "TypeError",
     "evalue": "unsupported operand type(s) for +: 'NoneType' and 'str'",
     "output_type": "error",
     "traceback": [
      "\u001b[0;31m---------------------------------------------------------------------------\u001b[0m",
      "\u001b[0;31mTypeError\u001b[0m                                 Traceback (most recent call last)",
      "Cell \u001b[0;32mIn[12], line 1\u001b[0m\n\u001b[0;32m----> 1\u001b[0m \u001b[43mtest1\u001b[49m\u001b[43m(\u001b[49m\u001b[43m)\u001b[49m\u001b[43m \u001b[49m\u001b[38;5;241;43m+\u001b[39;49m\u001b[43m \u001b[49m\u001b[38;5;124;43m'\u001b[39;49m\u001b[38;5;124;43mhere\u001b[39;49m\u001b[38;5;124;43m'\u001b[39;49m\n",
      "\u001b[0;31mTypeError\u001b[0m: unsupported operand type(s) for +: 'NoneType' and 'str'"
     ]
    }
   ],
   "source": [
    "test1() + 'here'"
   ]
  },
  {
   "cell_type": "code",
   "execution_count": 13,
   "id": "8769d33a-fb42-4346-87e6-959479ddb0c1",
   "metadata": {},
   "outputs": [],
   "source": [
    "def test3():\n",
    "    return \"This is my function with return\""
   ]
  },
  {
   "cell_type": "code",
   "execution_count": 14,
   "id": "a519fca8-b394-46c3-b944-3b069c0a1c4a",
   "metadata": {},
   "outputs": [
    {
     "data": {
      "text/plain": [
       "'This is my function with return'"
      ]
     },
     "execution_count": 14,
     "metadata": {},
     "output_type": "execute_result"
    }
   ],
   "source": [
    "test3()"
   ]
  },
  {
   "cell_type": "code",
   "execution_count": 17,
   "id": "74c99a27-aea9-4f1a-b17e-12bfededfca2",
   "metadata": {},
   "outputs": [
    {
     "data": {
      "text/plain": [
       "'This is my function with return type'"
      ]
     },
     "execution_count": 17,
     "metadata": {},
     "output_type": "execute_result"
    }
   ],
   "source": [
    "test3() + ' type'"
   ]
  },
  {
   "cell_type": "code",
   "execution_count": 8,
   "id": "9d1534a1-71f5-4bda-9b4d-0de40884f01e",
   "metadata": {},
   "outputs": [],
   "source": [
    "def test2():\n",
    "    l=[]\n",
    "    for i in [1,2,3,4,5]:\n",
    "        l.append(i)\n",
    "    return l\n",
    "        "
   ]
  },
  {
   "cell_type": "code",
   "execution_count": 9,
   "id": "24d414ec-af58-42a3-af85-8ec672d8b709",
   "metadata": {},
   "outputs": [
    {
     "data": {
      "text/plain": [
       "[1, 2, 3, 4, 5]"
      ]
     },
     "execution_count": 9,
     "metadata": {},
     "output_type": "execute_result"
    }
   ],
   "source": [
    "test2()"
   ]
  },
  {
   "cell_type": "code",
   "execution_count": 2,
   "id": "4002d25a-e839-4a3c-820f-88bc7b6686ef",
   "metadata": {},
   "outputs": [],
   "source": [
    "def f1():\n",
    "    return 1,4.5,'Hello',True"
   ]
  },
  {
   "cell_type": "code",
   "execution_count": 3,
   "id": "20e6b2a1-7200-4505-95d8-79950f90cdcf",
   "metadata": {},
   "outputs": [
    {
     "data": {
      "text/plain": [
       "(1, 4.5, 'Hello', True)"
      ]
     },
     "execution_count": 3,
     "metadata": {},
     "output_type": "execute_result"
    }
   ],
   "source": [
    "f1()"
   ]
  },
  {
   "cell_type": "code",
   "execution_count": 4,
   "id": "1920a642-53ce-4c68-87ab-a7f85220e277",
   "metadata": {},
   "outputs": [
    {
     "data": {
      "text/plain": [
       "'Hello'"
      ]
     },
     "execution_count": 4,
     "metadata": {},
     "output_type": "execute_result"
    }
   ],
   "source": [
    "f1()[2]"
   ]
  },
  {
   "cell_type": "code",
   "execution_count": 5,
   "id": "4f5454f3-a6c6-4d81-bef8-234c46c2c068",
   "metadata": {},
   "outputs": [],
   "source": [
    "x, y, z, w = f1()"
   ]
  },
  {
   "cell_type": "code",
   "execution_count": 6,
   "id": "7423cab2-9be9-4070-bce9-b7002b5c5642",
   "metadata": {},
   "outputs": [
    {
     "data": {
      "text/plain": [
       "1"
      ]
     },
     "execution_count": 6,
     "metadata": {},
     "output_type": "execute_result"
    }
   ],
   "source": [
    "x"
   ]
  },
  {
   "cell_type": "code",
   "execution_count": 7,
   "id": "fabfb488-a6ad-4fc5-9e31-03f09fe56d32",
   "metadata": {},
   "outputs": [
    {
     "data": {
      "text/plain": [
       "4.5"
      ]
     },
     "execution_count": 7,
     "metadata": {},
     "output_type": "execute_result"
    }
   ],
   "source": [
    "y"
   ]
  },
  {
   "cell_type": "code",
   "execution_count": 8,
   "id": "0d0abb46-bda6-454e-8f62-7d9aa5b34942",
   "metadata": {},
   "outputs": [
    {
     "data": {
      "text/plain": [
       "'Hello'"
      ]
     },
     "execution_count": 8,
     "metadata": {},
     "output_type": "execute_result"
    }
   ],
   "source": [
    "z"
   ]
  },
  {
   "cell_type": "code",
   "execution_count": 9,
   "id": "656eebfb-4646-4085-ba77-0de0093bb070",
   "metadata": {},
   "outputs": [
    {
     "data": {
      "text/plain": [
       "True"
      ]
     },
     "execution_count": 9,
     "metadata": {},
     "output_type": "execute_result"
    }
   ],
   "source": [
    "w"
   ]
  },
  {
   "cell_type": "code",
   "execution_count": 10,
   "id": "34dfffb8-2f9c-4e82-85b6-92736f311bc7",
   "metadata": {},
   "outputs": [],
   "source": [
    "def f2():\n",
    "    i = 20*6-12\n",
    "    return i"
   ]
  },
  {
   "cell_type": "code",
   "execution_count": 11,
   "id": "4451a6db-fd8e-43e3-8b40-4a0b431b6162",
   "metadata": {},
   "outputs": [
    {
     "data": {
      "text/plain": [
       "108"
      ]
     },
     "execution_count": 11,
     "metadata": {},
     "output_type": "execute_result"
    }
   ],
   "source": [
    "f2()"
   ]
  },
  {
   "cell_type": "code",
   "execution_count": 12,
   "id": "b118d5c5-d7ba-4702-8aa1-36a9a0eb80cb",
   "metadata": {},
   "outputs": [
    {
     "data": {
      "text/plain": [
       "int"
      ]
     },
     "execution_count": 12,
     "metadata": {},
     "output_type": "execute_result"
    }
   ],
   "source": [
    "type(f2())"
   ]
  },
  {
   "cell_type": "code",
   "execution_count": 13,
   "id": "866b437a-dfe7-4a3f-bb3b-ea583a11875d",
   "metadata": {},
   "outputs": [],
   "source": [
    "def f3(x,y):\n",
    "    z = x*y\n",
    "    return z"
   ]
  },
  {
   "cell_type": "code",
   "execution_count": 14,
   "id": "9a16fb72-ea21-4574-8b53-1de77c4d1602",
   "metadata": {},
   "outputs": [
    {
     "ename": "TypeError",
     "evalue": "f3() missing 2 required positional arguments: 'x' and 'y'",
     "output_type": "error",
     "traceback": [
      "\u001b[0;31m---------------------------------------------------------------------------\u001b[0m",
      "\u001b[0;31mTypeError\u001b[0m                                 Traceback (most recent call last)",
      "Cell \u001b[0;32mIn[14], line 1\u001b[0m\n\u001b[0;32m----> 1\u001b[0m \u001b[43mf3\u001b[49m\u001b[43m(\u001b[49m\u001b[43m)\u001b[49m\n",
      "\u001b[0;31mTypeError\u001b[0m: f3() missing 2 required positional arguments: 'x' and 'y'"
     ]
    }
   ],
   "source": [
    "f3()"
   ]
  },
  {
   "cell_type": "code",
   "execution_count": 15,
   "id": "57ffd776-07d7-4e92-b17d-a0283ae9c4ad",
   "metadata": {},
   "outputs": [
    {
     "data": {
      "text/plain": [
       "144"
      ]
     },
     "execution_count": 15,
     "metadata": {},
     "output_type": "execute_result"
    }
   ],
   "source": [
    "f3(16,9)"
   ]
  },
  {
   "cell_type": "code",
   "execution_count": 18,
   "id": "c76e8583-6445-4746-b1ab-3edb87c7342b",
   "metadata": {},
   "outputs": [
    {
     "data": {
      "text/plain": [
       "'RamRam'"
      ]
     },
     "execution_count": 18,
     "metadata": {},
     "output_type": "execute_result"
    }
   ],
   "source": [
    "f3(\"Ram\",2)"
   ]
  },
  {
   "cell_type": "code",
   "execution_count": 19,
   "id": "9220f092-c62d-4ebc-bf9e-08fd18de3c68",
   "metadata": {},
   "outputs": [],
   "source": [
    "def f4(a,b):\n",
    "    c=a+b\n",
    "    return c\n",
    "    "
   ]
  },
  {
   "cell_type": "code",
   "execution_count": 20,
   "id": "9b2ef4eb-d426-4d0c-a26d-9280846a70fd",
   "metadata": {},
   "outputs": [
    {
     "data": {
      "text/plain": [
       "[1, 2, 3, 4, 5, 6, 7, 8]"
      ]
     },
     "execution_count": 20,
     "metadata": {},
     "output_type": "execute_result"
    }
   ],
   "source": [
    "f4([1,2,3,4],[5,6,7,8])"
   ]
  },
  {
   "cell_type": "code",
   "execution_count": 22,
   "id": "78bfdd7d-bfa4-4267-9056-afd21b354f1a",
   "metadata": {},
   "outputs": [
    {
     "data": {
      "text/plain": [
       "'HelloWorld'"
      ]
     },
     "execution_count": 22,
     "metadata": {},
     "output_type": "execute_result"
    }
   ],
   "source": [
    "f4(b='World', a='Hello')"
   ]
  },
  {
   "cell_type": "code",
   "execution_count": 71,
   "id": "daf7a72c-6316-4d88-9190-5cd3869878e4",
   "metadata": {},
   "outputs": [],
   "source": [
    "l = [2, 34.2, 5+21j, 7, \"Hi\", 6, 9, 1, True, [3, 5, 0] ]"
   ]
  },
  {
   "cell_type": "code",
   "execution_count": 57,
   "id": "7a75cf96-bed1-4f6e-9eeb-434337cd0666",
   "metadata": {},
   "outputs": [],
   "source": [
    "def numf(a):\n",
    "    l2=[]\n",
    "    for i in a:\n",
    "        if type(i)==int or type(i)==float:\n",
    "            l2.append(i)\n",
    "        elif type(i)==list:\n",
    "            for j in i:\n",
    "                if type(j)==int or type(i)==float:\n",
    "                    l2.append(j)\n",
    "    return l2"
   ]
  },
  {
   "cell_type": "code",
   "execution_count": 58,
   "id": "d4e4c281-3b6f-4e13-9f76-3bb884437892",
   "metadata": {},
   "outputs": [
    {
     "data": {
      "text/plain": [
       "[2, 34.2, 7, 6, 9, 1, 3, 5, 0]"
      ]
     },
     "execution_count": 58,
     "metadata": {},
     "output_type": "execute_result"
    }
   ],
   "source": [
    "numf(l)"
   ]
  },
  {
   "cell_type": "code",
   "execution_count": 62,
   "id": "0646cf33-efbd-4e85-a775-5bb0292257a0",
   "metadata": {},
   "outputs": [],
   "source": [
    "# with *args or (*var_n) you can give any no of arguments to the function.\n",
    "\n",
    "def f5(*args):\n",
    "    return args"
   ]
  },
  {
   "cell_type": "code",
   "execution_count": 60,
   "id": "925f1776-e524-418b-bb3c-2af71922d469",
   "metadata": {},
   "outputs": [
    {
     "data": {
      "text/plain": [
       "('a',)"
      ]
     },
     "execution_count": 60,
     "metadata": {},
     "output_type": "execute_result"
    }
   ],
   "source": [
    "f5('a')"
   ]
  },
  {
   "cell_type": "code",
   "execution_count": 61,
   "id": "8ea1b18b-7492-4bb5-b7c6-5f596dc65758",
   "metadata": {},
   "outputs": [
    {
     "data": {
      "text/plain": [
       "(1, 4, 7, 'Hi', False)"
      ]
     },
     "execution_count": 61,
     "metadata": {},
     "output_type": "execute_result"
    }
   ],
   "source": [
    "f5(1,4,7,\"Hi\",False)"
   ]
  },
  {
   "cell_type": "code",
   "execution_count": 63,
   "id": "611776fe-5158-4d42-9eed-60c4a9a99d3e",
   "metadata": {},
   "outputs": [],
   "source": [
    "def f6(*b):\n",
    "    return b"
   ]
  },
  {
   "cell_type": "code",
   "execution_count": 64,
   "id": "80551b9d-c2c7-4114-8a0f-9e8aa0ca6e38",
   "metadata": {},
   "outputs": [
    {
     "data": {
      "text/plain": [
       "(2, 34.5, 'Kindle', False, [2, 5, 7], (1, 3))"
      ]
     },
     "execution_count": 64,
     "metadata": {},
     "output_type": "execute_result"
    }
   ],
   "source": [
    "f6(2, 34.5, \"Kindle\", False, [2,5,7], (1,3))"
   ]
  },
  {
   "cell_type": "code",
   "execution_count": 65,
   "id": "ad9aeda5-9e40-45bb-b259-045d968e9278",
   "metadata": {},
   "outputs": [],
   "source": [
    "def f7(*args, b):\n",
    "    return args, b"
   ]
  },
  {
   "cell_type": "code",
   "execution_count": 67,
   "id": "86e36762-b19e-4ea7-83b5-fc250d4a52ac",
   "metadata": {},
   "outputs": [
    {
     "ename": "TypeError",
     "evalue": "f7() missing 1 required keyword-only argument: 'b'",
     "output_type": "error",
     "traceback": [
      "\u001b[0;31m---------------------------------------------------------------------------\u001b[0m",
      "\u001b[0;31mTypeError\u001b[0m                                 Traceback (most recent call last)",
      "Cell \u001b[0;32mIn[67], line 1\u001b[0m\n\u001b[0;32m----> 1\u001b[0m \u001b[43mf7\u001b[49m\u001b[43m(\u001b[49m\u001b[38;5;241;43m1\u001b[39;49m\u001b[43m)\u001b[49m\n",
      "\u001b[0;31mTypeError\u001b[0m: f7() missing 1 required keyword-only argument: 'b'"
     ]
    }
   ],
   "source": [
    "f7(1)"
   ]
  },
  {
   "cell_type": "code",
   "execution_count": 66,
   "id": "e2120026-5119-4eac-8fbb-9e864d8472fa",
   "metadata": {},
   "outputs": [
    {
     "data": {
      "text/plain": [
       "(('a', 'b', 'c', 'd'), 24)"
      ]
     },
     "execution_count": 66,
     "metadata": {},
     "output_type": "execute_result"
    }
   ],
   "source": [
    "f7('a', 'b', 'c', 'd', b=24)"
   ]
  },
  {
   "cell_type": "code",
   "execution_count": 74,
   "id": "9f0a5b04-9c21-4fc2-9adc-feb4b46e3b36",
   "metadata": {},
   "outputs": [],
   "source": [
    "def f8(*args):\n",
    "    l2=[]\n",
    "    for i in args:\n",
    "        if type(i)==list:\n",
    "            l2.append(i)\n",
    "    return l2"
   ]
  },
  {
   "cell_type": "code",
   "execution_count": 76,
   "id": "4178e673-9f5d-4558-835e-c4e7eec55a9f",
   "metadata": {},
   "outputs": [
    {
     "data": {
      "text/plain": [
       "[[2, 5, 8, 0], ['a', 'b', 'c']]"
      ]
     },
     "execution_count": 76,
     "metadata": {},
     "output_type": "execute_result"
    }
   ],
   "source": [
    "f8(1,4,[2,5,8,0],(20,44,66),{'a':1,'b':2},[\"a\",\"b\",\"c\"])"
   ]
  },
  {
   "cell_type": "code",
   "execution_count": 79,
   "id": "1f04cae6-1ac3-4087-a428-657b495b6734",
   "metadata": {},
   "outputs": [],
   "source": [
    "# **kwargs (keyword arguments) will take any no of input as argument with key and value pair\n",
    "\n",
    "def f9(**kwargs):\n",
    "    return kwargs"
   ]
  },
  {
   "cell_type": "code",
   "execution_count": 80,
   "id": "7a44cb56-8b14-41b6-94ac-83972792d79e",
   "metadata": {},
   "outputs": [
    {
     "data": {
      "text/plain": [
       "{}"
      ]
     },
     "execution_count": 80,
     "metadata": {},
     "output_type": "execute_result"
    }
   ],
   "source": [
    "f9()"
   ]
  },
  {
   "cell_type": "code",
   "execution_count": 83,
   "id": "edca049d-724a-4298-9610-9ed6107e0075",
   "metadata": {},
   "outputs": [
    {
     "data": {
      "text/plain": [
       "dict"
      ]
     },
     "execution_count": 83,
     "metadata": {},
     "output_type": "execute_result"
    }
   ],
   "source": [
    "type(f9())"
   ]
  },
  {
   "cell_type": "code",
   "execution_count": 84,
   "id": "ba87462b-4369-4973-bf0f-81669a1a8edb",
   "metadata": {},
   "outputs": [
    {
     "data": {
      "text/plain": [
       "{'x': 1,\n",
       " 'y': 5,\n",
       " 'z': 'Ram',\n",
       " 'w': 'Sham',\n",
       " 'p': [22, 44, 66, 88],\n",
       " 'q': ('cat', 'dog', 'cow')}"
      ]
     },
     "execution_count": 84,
     "metadata": {},
     "output_type": "execute_result"
    }
   ],
   "source": [
    "f9(x=1, y=5, z=\"Ram\", w=\"Sham\", p=[22,44,66,88], q=('cat','dog','cow'))"
   ]
  },
  {
   "cell_type": "code",
   "execution_count": 89,
   "id": "7ddb6937-05f3-465d-a390-4a1a8309d6df",
   "metadata": {},
   "outputs": [],
   "source": [
    "def f10(**kwargs):\n",
    "    for i in kwargs.keys():\n",
    "        if type(kwargs[i])==tuple:\n",
    "            return i, kwargs[i]"
   ]
  },
  {
   "cell_type": "code",
   "execution_count": 90,
   "id": "e88c89e6-fbb9-4c0a-ba3a-2e837745f55c",
   "metadata": {},
   "outputs": [
    {
     "data": {
      "text/plain": [
       "('q', ('cat', 'dog', 'cow'))"
      ]
     },
     "execution_count": 90,
     "metadata": {},
     "output_type": "execute_result"
    }
   ],
   "source": [
    "f10(x=1, y=5, z=\"Ram\", w=\"Sham\", p=[22,44,66,88], q=('cat','dog','cow'))"
   ]
  },
  {
   "cell_type": "code",
   "execution_count": 91,
   "id": "aac01090-3b28-461d-9950-a183e24bdde7",
   "metadata": {},
   "outputs": [],
   "source": [
    "def f11(*args, **kwargs):\n",
    "    return args, kwargs"
   ]
  },
  {
   "cell_type": "code",
   "execution_count": 92,
   "id": "b6f45722-658b-44f9-8a82-b449d0db9515",
   "metadata": {},
   "outputs": [
    {
     "data": {
      "text/plain": [
       "((11, 22, 33, 44, 55), {'a': 'Hat', 'b': 'Bat'})"
      ]
     },
     "execution_count": 92,
     "metadata": {},
     "output_type": "execute_result"
    }
   ],
   "source": [
    "f11(11,22,33,44,55,a='Hat',b='Bat')"
   ]
  },
  {
   "cell_type": "markdown",
   "id": "29bbfbe5-3e51-45cf-b35e-925b8371086e",
   "metadata": {},
   "source": [
    "### Generator Function"
   ]
  },
  {
   "cell_type": "code",
   "execution_count": 1,
   "id": "0ce4edac-039d-4adb-89cd-3855afb9d3bc",
   "metadata": {},
   "outputs": [
    {
     "data": {
      "text/plain": [
       "range(1, 10)"
      ]
     },
     "execution_count": 1,
     "metadata": {},
     "output_type": "execute_result"
    }
   ],
   "source": [
    "range(1,10)"
   ]
  },
  {
   "cell_type": "markdown",
   "id": "03d2dc60-48dc-4a9e-9ba1-3a41fee71db1",
   "metadata": {},
   "source": [
    "* range() function is generating data one by one not in a single shot. it remebers the last generated element. It is not going to block entire memory thats why it is not taking longer time even if data is huge like millions of record."
   ]
  },
  {
   "cell_type": "code",
   "execution_count": 2,
   "id": "dd62796b-912d-46d3-8fa0-ec8b0caa164d",
   "metadata": {},
   "outputs": [],
   "source": [
    "l=[ 1,2,3,5,\"Skills\",33.4,False]"
   ]
  },
  {
   "cell_type": "code",
   "execution_count": 3,
   "id": "a3126bf2-052f-4256-a57b-3acc2f7a2716",
   "metadata": {},
   "outputs": [],
   "source": [
    "def t1(a):\n",
    "    ls=[]\n",
    "    for i in a:\n",
    "        if type(i)==int or type(i)==float:\n",
    "            ls.append(i)\n",
    "    return ls"
   ]
  },
  {
   "cell_type": "code",
   "execution_count": 4,
   "id": "58fd2cdb-820e-48a0-b526-7997a5130d06",
   "metadata": {},
   "outputs": [
    {
     "data": {
      "text/plain": [
       "[1, 2, 3, 5, 33.4]"
      ]
     },
     "execution_count": 4,
     "metadata": {},
     "output_type": "execute_result"
    }
   ],
   "source": [
    "t1(l)"
   ]
  },
  {
   "cell_type": "markdown",
   "id": "9b298525-bea4-4f25-aa3d-523a6212ee1c",
   "metadata": {},
   "source": [
    "* yield function is giving you the data one by one at a time."
   ]
  },
  {
   "cell_type": "code",
   "execution_count": 5,
   "id": "7989cf81-567c-4714-a8df-439ac455d525",
   "metadata": {},
   "outputs": [],
   "source": [
    "# Fibonacii Series:- 0,1,1,2,3,5,8,13........ like series."
   ]
  },
  {
   "cell_type": "code",
   "execution_count": 7,
   "id": "54f5462a-68cc-4838-be57-48e7f9899ce1",
   "metadata": {},
   "outputs": [],
   "source": [
    "def test_fib(n):\n",
    "    a,b=0,1\n",
    "    for i in range(n):\n",
    "        yield a\n",
    "        a,b=b,a+b\n",
    "    \n",
    "    "
   ]
  },
  {
   "cell_type": "code",
   "execution_count": 8,
   "id": "46189103-b23e-4332-8190-9a6a319d1e41",
   "metadata": {},
   "outputs": [
    {
     "data": {
      "text/plain": [
       "<generator object test_fib at 0x7f49a7c21b60>"
      ]
     },
     "execution_count": 8,
     "metadata": {},
     "output_type": "execute_result"
    }
   ],
   "source": [
    "test_fib(5)"
   ]
  },
  {
   "cell_type": "code",
   "execution_count": 10,
   "id": "3d3a33b0-57c8-4336-a281-63f5db60ddfa",
   "metadata": {},
   "outputs": [
    {
     "name": "stdout",
     "output_type": "stream",
     "text": [
      "0\n",
      "1\n",
      "1\n",
      "2\n",
      "3\n"
     ]
    }
   ],
   "source": [
    "for i in test_fib(5):\n",
    "    print(i)"
   ]
  },
  {
   "cell_type": "code",
   "execution_count": null,
   "id": "a6a477ca-aa08-4a66-b23f-95dd673b6e03",
   "metadata": {},
   "outputs": [],
   "source": []
  }
 ],
 "metadata": {
  "kernelspec": {
   "display_name": "Python 3 (ipykernel)",
   "language": "python",
   "name": "python3"
  },
  "language_info": {
   "codemirror_mode": {
    "name": "ipython",
    "version": 3
   },
   "file_extension": ".py",
   "mimetype": "text/x-python",
   "name": "python",
   "nbconvert_exporter": "python",
   "pygments_lexer": "ipython3",
   "version": "3.10.8"
  }
 },
 "nbformat": 4,
 "nbformat_minor": 5
}
