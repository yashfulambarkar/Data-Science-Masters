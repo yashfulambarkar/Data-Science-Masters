{
 "cells": [
  {
   "cell_type": "code",
   "execution_count": 1,
   "id": "0cf1d990-aec6-4b89-8e42-b4482addf024",
   "metadata": {},
   "outputs": [],
   "source": [
    "x = 15"
   ]
  },
  {
   "cell_type": "code",
   "execution_count": 2,
   "id": "53083dfa-85d7-42ae-9643-4bb568a9bb1a",
   "metadata": {},
   "outputs": [
    {
     "ename": "ZeroDivisionError",
     "evalue": "division by zero",
     "output_type": "error",
     "traceback": [
      "\u001b[0;31m---------------------------------------------------------------------------\u001b[0m",
      "\u001b[0;31mZeroDivisionError\u001b[0m                         Traceback (most recent call last)",
      "Cell \u001b[0;32mIn[2], line 1\u001b[0m\n\u001b[0;32m----> 1\u001b[0m \u001b[43mx\u001b[49m\u001b[38;5;241;43m/\u001b[39;49m\u001b[38;5;241;43m0\u001b[39;49m\n",
      "\u001b[0;31mZeroDivisionError\u001b[0m: division by zero"
     ]
    }
   ],
   "source": [
    "x/0"
   ]
  },
  {
   "cell_type": "code",
   "execution_count": 3,
   "id": "f3562c53-1a86-4864-ad6e-0d363d1a7992",
   "metadata": {},
   "outputs": [
    {
     "ename": "FileNotFoundError",
     "evalue": "[Errno 2] No such file or directory: 'test.txt'",
     "output_type": "error",
     "traceback": [
      "\u001b[0;31m---------------------------------------------------------------------------\u001b[0m",
      "\u001b[0;31mFileNotFoundError\u001b[0m                         Traceback (most recent call last)",
      "Cell \u001b[0;32mIn[3], line 1\u001b[0m\n\u001b[0;32m----> 1\u001b[0m f \u001b[38;5;241m=\u001b[39m \u001b[38;5;28;43mopen\u001b[39;49m\u001b[43m(\u001b[49m\u001b[38;5;124;43m\"\u001b[39;49m\u001b[38;5;124;43mtest.txt\u001b[39;49m\u001b[38;5;124;43m\"\u001b[39;49m\u001b[43m,\u001b[49m\u001b[38;5;124;43m'\u001b[39;49m\u001b[38;5;124;43mr\u001b[39;49m\u001b[38;5;124;43m'\u001b[39;49m\u001b[43m)\u001b[49m\n",
      "File \u001b[0;32m/opt/conda/lib/python3.10/site-packages/IPython/core/interactiveshell.py:282\u001b[0m, in \u001b[0;36m_modified_open\u001b[0;34m(file, *args, **kwargs)\u001b[0m\n\u001b[1;32m    275\u001b[0m \u001b[38;5;28;01mif\u001b[39;00m file \u001b[38;5;129;01min\u001b[39;00m {\u001b[38;5;241m0\u001b[39m, \u001b[38;5;241m1\u001b[39m, \u001b[38;5;241m2\u001b[39m}:\n\u001b[1;32m    276\u001b[0m     \u001b[38;5;28;01mraise\u001b[39;00m \u001b[38;5;167;01mValueError\u001b[39;00m(\n\u001b[1;32m    277\u001b[0m         \u001b[38;5;124mf\u001b[39m\u001b[38;5;124m\"\u001b[39m\u001b[38;5;124mIPython won\u001b[39m\u001b[38;5;124m'\u001b[39m\u001b[38;5;124mt let you open fd=\u001b[39m\u001b[38;5;132;01m{\u001b[39;00mfile\u001b[38;5;132;01m}\u001b[39;00m\u001b[38;5;124m by default \u001b[39m\u001b[38;5;124m\"\u001b[39m\n\u001b[1;32m    278\u001b[0m         \u001b[38;5;124m\"\u001b[39m\u001b[38;5;124mas it is likely to crash IPython. If you know what you are doing, \u001b[39m\u001b[38;5;124m\"\u001b[39m\n\u001b[1;32m    279\u001b[0m         \u001b[38;5;124m\"\u001b[39m\u001b[38;5;124myou can use builtins\u001b[39m\u001b[38;5;124m'\u001b[39m\u001b[38;5;124m open.\u001b[39m\u001b[38;5;124m\"\u001b[39m\n\u001b[1;32m    280\u001b[0m     )\n\u001b[0;32m--> 282\u001b[0m \u001b[38;5;28;01mreturn\u001b[39;00m \u001b[43mio_open\u001b[49m\u001b[43m(\u001b[49m\u001b[43mfile\u001b[49m\u001b[43m,\u001b[49m\u001b[43m \u001b[49m\u001b[38;5;241;43m*\u001b[39;49m\u001b[43margs\u001b[49m\u001b[43m,\u001b[49m\u001b[43m \u001b[49m\u001b[38;5;241;43m*\u001b[39;49m\u001b[38;5;241;43m*\u001b[39;49m\u001b[43mkwargs\u001b[49m\u001b[43m)\u001b[49m\n",
      "\u001b[0;31mFileNotFoundError\u001b[0m: [Errno 2] No such file or directory: 'test.txt'"
     ]
    }
   ],
   "source": [
    "f = open(\"test.txt\",'r')"
   ]
  },
  {
   "cell_type": "code",
   "execution_count": 5,
   "id": "1ef4a542-7fe6-4f32-be31-29e69a53be93",
   "metadata": {},
   "outputs": [
    {
     "name": "stdout",
     "output_type": "stream",
     "text": [
      "There is some issue in my code:  division by zero\n"
     ]
    }
   ],
   "source": [
    "try:\n",
    "    x/0\n",
    "\n",
    "except Exception as e:\n",
    "    print(\"There is some issue in my code: \",e)"
   ]
  },
  {
   "cell_type": "code",
   "execution_count": 6,
   "id": "24a2e777-eaf7-494e-8155-59a00e61451a",
   "metadata": {},
   "outputs": [
    {
     "name": "stdout",
     "output_type": "stream",
     "text": [
      "There is some issue in my code:  [Errno 2] No such file or directory: 'test.txt'\n"
     ]
    }
   ],
   "source": [
    "try:\n",
    "    f = open(\"test.txt\",'r')\n",
    "    \n",
    "except Exception as e:\n",
    "    print(\"There is some issue in my code: \",e)"
   ]
  },
  {
   "cell_type": "code",
   "execution_count": 7,
   "id": "5ce19483-70e7-470c-ae55-35f400a20673",
   "metadata": {},
   "outputs": [
    {
     "name": "stdout",
     "output_type": "stream",
     "text": [
      "This statment only runs when try block is completly executable without exception block.\n"
     ]
    }
   ],
   "source": [
    "try:\n",
    "    f = open(\"test.txt\",\"w\")\n",
    "    f.write(\"You are in test txt file.\")\n",
    "    \n",
    "except Exception as e:\n",
    "    print(\"There is some issue in my code: \",e)\n",
    "    \n",
    "else:\n",
    "    f.close()\n",
    "    print(\"This statment only runs when try block is completly executable without exception block.\")"
   ]
  },
  {
   "cell_type": "code",
   "execution_count": 9,
   "id": "e40b0aee-6955-489e-a817-a85c201a934b",
   "metadata": {},
   "outputs": [
    {
     "name": "stdout",
     "output_type": "stream",
     "text": [
      "There is some issue in my code:  [Errno 2] No such file or directory: 'test1.txt'\n"
     ]
    }
   ],
   "source": [
    "try:\n",
    "    f = open(\"test1.txt\",\"r\")\n",
    "    f.write(\"You are in test txt file.\")\n",
    "    \n",
    "except Exception as e:\n",
    "    print(\"There is some issue in my code: \",e)\n",
    "    \n",
    "else:\n",
    "    f.close()\n",
    "    print(\"This statment only runs when try block is completly executable without exception block.\")"
   ]
  },
  {
   "cell_type": "code",
   "execution_count": 11,
   "id": "84bdf551-3c7a-498e-9841-5c9524042a12",
   "metadata": {},
   "outputs": [
    {
     "name": "stdout",
     "output_type": "stream",
     "text": [
      "This block is always executes itself no matters what happens.\n"
     ]
    },
    {
     "ename": "FileNotFoundError",
     "evalue": "[Errno 2] No such file or directory: 'test1.txt'",
     "output_type": "error",
     "traceback": [
      "\u001b[0;31m---------------------------------------------------------------------------\u001b[0m",
      "\u001b[0;31mFileNotFoundError\u001b[0m                         Traceback (most recent call last)",
      "Cell \u001b[0;32mIn[11], line 2\u001b[0m\n\u001b[1;32m      1\u001b[0m \u001b[38;5;28;01mtry\u001b[39;00m:\n\u001b[0;32m----> 2\u001b[0m     f \u001b[38;5;241m=\u001b[39m \u001b[38;5;28;43mopen\u001b[39;49m\u001b[43m(\u001b[49m\u001b[38;5;124;43m\"\u001b[39;49m\u001b[38;5;124;43mtest1.txt\u001b[39;49m\u001b[38;5;124;43m\"\u001b[39;49m\u001b[43m,\u001b[49m\u001b[38;5;124;43m\"\u001b[39;49m\u001b[38;5;124;43mr\u001b[39;49m\u001b[38;5;124;43m\"\u001b[39;49m\u001b[43m)\u001b[49m\n\u001b[1;32m      3\u001b[0m     f\u001b[38;5;241m.\u001b[39mwrite(\u001b[38;5;124m\"\u001b[39m\u001b[38;5;124mYou are in test txt file.\u001b[39m\u001b[38;5;124m\"\u001b[39m)\n\u001b[1;32m      5\u001b[0m \u001b[38;5;28;01mfinally\u001b[39;00m:\n",
      "File \u001b[0;32m/opt/conda/lib/python3.10/site-packages/IPython/core/interactiveshell.py:282\u001b[0m, in \u001b[0;36m_modified_open\u001b[0;34m(file, *args, **kwargs)\u001b[0m\n\u001b[1;32m    275\u001b[0m \u001b[38;5;28;01mif\u001b[39;00m file \u001b[38;5;129;01min\u001b[39;00m {\u001b[38;5;241m0\u001b[39m, \u001b[38;5;241m1\u001b[39m, \u001b[38;5;241m2\u001b[39m}:\n\u001b[1;32m    276\u001b[0m     \u001b[38;5;28;01mraise\u001b[39;00m \u001b[38;5;167;01mValueError\u001b[39;00m(\n\u001b[1;32m    277\u001b[0m         \u001b[38;5;124mf\u001b[39m\u001b[38;5;124m\"\u001b[39m\u001b[38;5;124mIPython won\u001b[39m\u001b[38;5;124m'\u001b[39m\u001b[38;5;124mt let you open fd=\u001b[39m\u001b[38;5;132;01m{\u001b[39;00mfile\u001b[38;5;132;01m}\u001b[39;00m\u001b[38;5;124m by default \u001b[39m\u001b[38;5;124m\"\u001b[39m\n\u001b[1;32m    278\u001b[0m         \u001b[38;5;124m\"\u001b[39m\u001b[38;5;124mas it is likely to crash IPython. If you know what you are doing, \u001b[39m\u001b[38;5;124m\"\u001b[39m\n\u001b[1;32m    279\u001b[0m         \u001b[38;5;124m\"\u001b[39m\u001b[38;5;124myou can use builtins\u001b[39m\u001b[38;5;124m'\u001b[39m\u001b[38;5;124m open.\u001b[39m\u001b[38;5;124m\"\u001b[39m\n\u001b[1;32m    280\u001b[0m     )\n\u001b[0;32m--> 282\u001b[0m \u001b[38;5;28;01mreturn\u001b[39;00m \u001b[43mio_open\u001b[49m\u001b[43m(\u001b[49m\u001b[43mfile\u001b[49m\u001b[43m,\u001b[49m\u001b[43m \u001b[49m\u001b[38;5;241;43m*\u001b[39;49m\u001b[43margs\u001b[49m\u001b[43m,\u001b[49m\u001b[43m \u001b[49m\u001b[38;5;241;43m*\u001b[39;49m\u001b[38;5;241;43m*\u001b[39;49m\u001b[43mkwargs\u001b[49m\u001b[43m)\u001b[49m\n",
      "\u001b[0;31mFileNotFoundError\u001b[0m: [Errno 2] No such file or directory: 'test1.txt'"
     ]
    }
   ],
   "source": [
    "try:\n",
    "    f = open(\"test1.txt\",\"r\")\n",
    "    f.write(\"You are in test txt file.\")\n",
    "    \n",
    "finally:\n",
    "    print(\"This block is always executes itself no matters what happens.\")"
   ]
  },
  {
   "cell_type": "code",
   "execution_count": 12,
   "id": "c43eb0f7-6bb1-4cab-92dc-7912b1c9fa7d",
   "metadata": {},
   "outputs": [
    {
     "name": "stdout",
     "output_type": "stream",
     "text": [
      "There is some issue in my code:  [Errno 2] No such file or directory: 'test1.txt'\n",
      "I will always executes.\n"
     ]
    }
   ],
   "source": [
    "try:\n",
    "    f = open(\"test1.txt\",\"r\")\n",
    "    f.write(\"You are in test txt file.\")\n",
    "    \n",
    "except Exception as e:\n",
    "    print(\"There is some issue in my code: \",e)\n",
    "    \n",
    "else:\n",
    "    f.close()\n",
    "    print(\"This statment only runs when try block is completly executable without exception block.\")\n",
    "    \n",
    "finally:\n",
    "    print(\"I will always executes.\")"
   ]
  },
  {
   "cell_type": "code",
   "execution_count": 13,
   "id": "c14a7271-78b5-40ad-95c3-47ddc0c4ce94",
   "metadata": {},
   "outputs": [
    {
     "name": "stdout",
     "output_type": "stream",
     "text": [
      "This statment only runs when try block is completly executable without exception block.\n",
      "I will always executes.\n"
     ]
    }
   ],
   "source": [
    "try:\n",
    "    f = open(\"test1.txt\",\"w\")\n",
    "    f.write(\"You are in test txt file.\")\n",
    "    \n",
    "except Exception as e:\n",
    "    print(\"There is some issue in my code: \",e)\n",
    "    \n",
    "else:\n",
    "    f.close()\n",
    "    print(\"This statment only runs when try block is completly executable without exception block.\")\n",
    "    \n",
    "finally:\n",
    "    print(\"I will always executes.\")"
   ]
  },
  {
   "cell_type": "code",
   "execution_count": null,
   "id": "440907da-c015-4d8e-954b-e771abc1c20c",
   "metadata": {},
   "outputs": [],
   "source": []
  },
  {
   "cell_type": "markdown",
   "id": "a1d15e1d-0570-4e25-b85c-60eb5c80a42c",
   "metadata": {},
   "source": [
    "#### Custom Exception Handling."
   ]
  },
  {
   "cell_type": "code",
   "execution_count": 15,
   "id": "21c91a97-76c8-4619-a989-8b6291ce7121",
   "metadata": {},
   "outputs": [
    {
     "name": "stdin",
     "output_type": "stream",
     "text": [
      "Enter the age:  -40\n"
     ]
    }
   ],
   "source": [
    "age = int(input(\"Enter the age: \"))"
   ]
  },
  {
   "cell_type": "code",
   "execution_count": 16,
   "id": "76868626-6c05-4c92-b1cf-b577efe86e89",
   "metadata": {},
   "outputs": [],
   "source": [
    "class validateage(Exception):\n",
    "    def __init__(self,msg):\n",
    "        self.msg = msg\n",
    "    "
   ]
  },
  {
   "cell_type": "code",
   "execution_count": 23,
   "id": "fe4c9525-de5e-4f94-b60a-30987336bc61",
   "metadata": {},
   "outputs": [],
   "source": [
    "def val_age(age):\n",
    "    if age < 0 :\n",
    "        raise validateage(\"Age should not be less than zero.\")\n",
    "    elif age > 180:\n",
    "        raise validateage(\"Age is too High!!\")\n",
    "    else:\n",
    "        print(\"Entered Age is valid.\")"
   ]
  },
  {
   "cell_type": "code",
   "execution_count": 25,
   "id": "a7a14684-092d-4ba1-9515-971a47e927bb",
   "metadata": {},
   "outputs": [
    {
     "name": "stdin",
     "output_type": "stream",
     "text": [
      "Enter the age:  -36\n"
     ]
    },
    {
     "name": "stdout",
     "output_type": "stream",
     "text": [
      "Age should not be less than zero.\n",
      "Program ends!!\n"
     ]
    }
   ],
   "source": [
    "try:\n",
    "    age = int(input(\"Enter the age: \"))\n",
    "    val_age(age)\n",
    "\n",
    "except validateage as e:\n",
    "    print(e)\n",
    "\n",
    "finally:\n",
    "    print(\"Program ends!!\")\n",
    "    \n"
   ]
  },
  {
   "cell_type": "code",
   "execution_count": 26,
   "id": "2b61c6c9-8237-4821-b5a6-700afc40e6e1",
   "metadata": {},
   "outputs": [
    {
     "name": "stdin",
     "output_type": "stream",
     "text": [
      "Enter the age:  205\n"
     ]
    },
    {
     "name": "stdout",
     "output_type": "stream",
     "text": [
      "Age is too High!!\n",
      "Program ends!!\n"
     ]
    }
   ],
   "source": [
    "try:\n",
    "    age = int(input(\"Enter the age: \"))\n",
    "    val_age(age)\n",
    "\n",
    "except validateage as e:\n",
    "    print(e)\n",
    "\n",
    "finally:\n",
    "    print(\"Program ends!!\")"
   ]
  },
  {
   "cell_type": "code",
   "execution_count": 27,
   "id": "5d024490-fa94-470e-8a3e-d00c703d209b",
   "metadata": {},
   "outputs": [
    {
     "name": "stdout",
     "output_type": "stream",
     "text": [
      "Hello\n"
     ]
    }
   ],
   "source": [
    "try:\n",
    "    raise Exception\n",
    "    print(\"Hi\")\n",
    "    \n",
    "except Exception as e:\n",
    "    print(\"Hello\")"
   ]
  },
  {
   "cell_type": "markdown",
   "id": "f1ae1854-4bf7-43e8-ba87-814b2c66445a",
   "metadata": {},
   "source": [
    "#### List of General use Exception."
   ]
  },
  {
   "cell_type": "code",
   "execution_count": 1,
   "id": "0ea1f7c3-0277-4f60-a9f5-69a351b27ca9",
   "metadata": {},
   "outputs": [
    {
     "name": "stdout",
     "output_type": "stream",
     "text": [
      "division by zero\n"
     ]
    }
   ],
   "source": [
    "try:\n",
    "    a = 12\n",
    "    a/0\n",
    "    \n",
    "except ZeroDivisionError as e:\n",
    "    print(e)"
   ]
  },
  {
   "cell_type": "code",
   "execution_count": 2,
   "id": "e573a5be-9aee-4acd-bcd6-61b764a03aa5",
   "metadata": {},
   "outputs": [
    {
     "name": "stdout",
     "output_type": "stream",
     "text": [
      "invalid literal for int() with base 10: 'abc'\n"
     ]
    }
   ],
   "source": [
    "try:\n",
    "    int(\"abc\")\n",
    "\n",
    "except ValueError as e:\n",
    "    print(e)"
   ]
  },
  {
   "cell_type": "code",
   "execution_count": 3,
   "id": "6c309fe9-6e35-45ed-a780-38a162d5bcb2",
   "metadata": {},
   "outputs": [
    {
     "name": "stdout",
     "output_type": "stream",
     "text": [
      "[Errno 2] No such file or directory: 'file5.txt'\n"
     ]
    }
   ],
   "source": [
    "try:\n",
    "    f = open(\"file5.txt\",'r')\n",
    "    \n",
    "except FileNotFoundError as e:\n",
    "    print(e)"
   ]
  },
  {
   "cell_type": "code",
   "execution_count": 4,
   "id": "d2a99b21-3d9f-4a84-bed6-0576bc99d87e",
   "metadata": {},
   "outputs": [
    {
     "name": "stdout",
     "output_type": "stream",
     "text": [
      "No module named 'Yash'\n"
     ]
    }
   ],
   "source": [
    "try:\n",
    "    import Yash\n",
    "\n",
    "except ImportError as e:\n",
    "    print(e)"
   ]
  },
  {
   "cell_type": "code",
   "execution_count": 5,
   "id": "e5c05d08-338c-4a6c-8efb-badf07e40c86",
   "metadata": {},
   "outputs": [
    {
     "name": "stdout",
     "output_type": "stream",
     "text": [
      "'c'\n"
     ]
    }
   ],
   "source": [
    "try:\n",
    "    d={'a':1, 'b':[2,4,5,6]}\n",
    "    d['c']\n",
    "    \n",
    "except KeyError as e:\n",
    "    print(e)"
   ]
  },
  {
   "cell_type": "code",
   "execution_count": 6,
   "id": "e7841542-0d9e-4cec-a63f-9cacc3a5246a",
   "metadata": {},
   "outputs": [
    {
     "name": "stdout",
     "output_type": "stream",
     "text": [
      "'str' object has no attribute 'sign'\n"
     ]
    }
   ],
   "source": [
    "try:\n",
    "    \"Hello\".sign()\n",
    "    \n",
    "except AttributeError as e:\n",
    "    print(e)"
   ]
  },
  {
   "cell_type": "code",
   "execution_count": 7,
   "id": "24aab923-c815-4659-9edc-e427f4719a00",
   "metadata": {},
   "outputs": [
    {
     "name": "stdout",
     "output_type": "stream",
     "text": [
      "list index out of range\n"
     ]
    }
   ],
   "source": [
    "try:\n",
    "    l1 = [1,3,5,7]\n",
    "    l1[7]\n",
    "    \n",
    "except IndexError as e:\n",
    "    print(e)"
   ]
  },
  {
   "cell_type": "code",
   "execution_count": 8,
   "id": "c338754a-af3d-434c-b416-b24f3b367335",
   "metadata": {},
   "outputs": [
    {
     "name": "stdout",
     "output_type": "stream",
     "text": [
      "can only concatenate str (not \"int\") to str\n"
     ]
    }
   ],
   "source": [
    "try:\n",
    "    \"Hello\" + 123\n",
    "    \n",
    "except TypeError as e:\n",
    "    print(e)"
   ]
  },
  {
   "cell_type": "code",
   "execution_count": 8,
   "id": "78821e01-f947-41d9-a2d2-0fa24eb41617",
   "metadata": {},
   "outputs": [],
   "source": [
    "def test(file):\n",
    "    try:\n",
    "        with open(file,'r') as f:\n",
    "            f.read()\n",
    "\n",
    "    except Exception as e:\n",
    "        print('Error occurs',e)\n",
    "\n",
    "    except FileNotFoundError as e1:\n",
    "        print(e1)"
   ]
  },
  {
   "cell_type": "code",
   "execution_count": 9,
   "id": "4753d91d-38c6-4293-a053-d1e3689c4fb6",
   "metadata": {},
   "outputs": [
    {
     "name": "stdout",
     "output_type": "stream",
     "text": [
      "Error occurs [Errno 2] No such file or directory: 'file8.txt'\n"
     ]
    }
   ],
   "source": [
    "test('file8.txt')"
   ]
  },
  {
   "cell_type": "markdown",
   "id": "ab4208cf-6a2c-4c05-9b86-bb8f1dd8b1d9",
   "metadata": {},
   "source": [
    "#### Best practice Exception Handling.\n",
    "\n",
    "* Always write a specific exception name in except block.\n",
    "* Prints a valid messages.\n",
    "* always try to log the messages.\n",
    "* always avoid the multiple exception handling.\n",
    "* Prepare a proper documentation.\n",
    "* Cleanup all the resources."
   ]
  },
  {
   "cell_type": "code",
   "execution_count": 7,
   "id": "a3022e6f-ce33-4f67-b2c8-90b08098cd79",
   "metadata": {},
   "outputs": [],
   "source": [
    "# Always write a specific exception name in except block.\n",
    "# Prints a valid messages.\n",
    "# always try to log the messages.\n",
    "\n",
    "import logging\n",
    "\n",
    "logging.basicConfig( filename = 'prog1.log', level=logging.INFO )\n",
    "\n",
    "try:\n",
    "    a=20\n",
    "    logging.info(\"The value of a is: {}\".format(a))\n",
    "    a/0\n",
    "    \n",
    "except ZeroDivisionError as e:\n",
    "    logging.error(\"This is a ZeroDivisionError I am handling. {}\".format(e))\n",
    "    "
   ]
  },
  {
   "cell_type": "code",
   "execution_count": 10,
   "id": "e18ff0b1-1c9b-45e4-a022-77f33bedd2cf",
   "metadata": {},
   "outputs": [],
   "source": [
    "# Cleanup all the resources.\n",
    "\n",
    "try:\n",
    "    with open('file.txt','w') as f:\n",
    "        f.write(\"The file has created with messages\")\n",
    "\n",
    "except FileNotFoundError as e:\n",
    "    print(e)\n",
    "    \n",
    "finally:\n",
    "    f.close()"
   ]
  },
  {
   "cell_type": "code",
   "execution_count": null,
   "id": "54be60b4-eb30-4723-aaaa-4ad57f8f3635",
   "metadata": {},
   "outputs": [],
   "source": []
  },
  {
   "cell_type": "code",
   "execution_count": null,
   "id": "07fd0417-6e2e-4f55-89d0-96b8b5a76f4c",
   "metadata": {},
   "outputs": [],
   "source": []
  }
 ],
 "metadata": {
  "kernelspec": {
   "display_name": "Python 3 (ipykernel)",
   "language": "python",
   "name": "python3"
  },
  "language_info": {
   "codemirror_mode": {
    "name": "ipython",
    "version": 3
   },
   "file_extension": ".py",
   "mimetype": "text/x-python",
   "name": "python",
   "nbconvert_exporter": "python",
   "pygments_lexer": "ipython3",
   "version": "3.10.8"
  }
 },
 "nbformat": 4,
 "nbformat_minor": 5
}
