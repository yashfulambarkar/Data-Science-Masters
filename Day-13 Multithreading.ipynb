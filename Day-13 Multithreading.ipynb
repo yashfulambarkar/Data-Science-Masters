{
 "cells": [
  {
   "cell_type": "markdown",
   "id": "55bef2b8-0fa8-4f2f-b16e-8efea79127f3",
   "metadata": {},
   "source": [
    "* Multithreading :- A process of running multiple threads simultaneously within a single process.\n",
    "\n",
    "* The purpose of multithreading in Python is to improve the performance of a program by using multiple CPUs or CPU cores."
   ]
  },
  {
   "cell_type": "code",
   "execution_count": 9,
   "id": "463ec614-6342-4fcc-91b1-23e596f20bcd",
   "metadata": {},
   "outputs": [],
   "source": [
    "import threading"
   ]
  },
  {
   "cell_type": "code",
   "execution_count": 2,
   "id": "50396b46-979f-41b2-9dac-9cd8f522539b",
   "metadata": {},
   "outputs": [],
   "source": [
    "def test(id):\n",
    "    print(\"This is my test id %d\" % id)"
   ]
  },
  {
   "cell_type": "code",
   "execution_count": 3,
   "id": "725a9157-082d-4ac1-b343-a2c0576e0ccd",
   "metadata": {},
   "outputs": [
    {
     "name": "stdout",
     "output_type": "stream",
     "text": [
      "This is my test id 10\n"
     ]
    }
   ],
   "source": [
    "test(10)"
   ]
  },
  {
   "cell_type": "code",
   "execution_count": 4,
   "id": "4a0c2086-04b4-4224-b3d8-20f9d9799442",
   "metadata": {},
   "outputs": [
    {
     "name": "stdout",
     "output_type": "stream",
     "text": [
      "This is my test id 24\n"
     ]
    }
   ],
   "source": [
    "test(24)"
   ]
  },
  {
   "cell_type": "code",
   "execution_count": 5,
   "id": "e0b4de33-88e0-4707-a1a5-97a180158e6f",
   "metadata": {},
   "outputs": [
    {
     "name": "stdout",
     "output_type": "stream",
     "text": [
      "This is my test id 2\n"
     ]
    }
   ],
   "source": [
    "test(2)"
   ]
  },
  {
   "cell_type": "code",
   "execution_count": 6,
   "id": "3bb99a8b-4cdb-45b9-9dab-834df0ed5f61",
   "metadata": {},
   "outputs": [],
   "source": [
    "# if we want to achieve the above 3 different result in one single process then we have to use threading concepts.\n",
    "\n",
    "thread = [threading.Thread(target = test, args = (i,)) for i in [10, 24, 2]]"
   ]
  },
  {
   "cell_type": "code",
   "execution_count": 7,
   "id": "05672d36-55ac-46ef-b2bc-d8119e2c7ddc",
   "metadata": {},
   "outputs": [
    {
     "data": {
      "text/plain": [
       "[<Thread(Thread-5 (test), initial)>,\n",
       " <Thread(Thread-6 (test), initial)>,\n",
       " <Thread(Thread-7 (test), initial)>]"
      ]
     },
     "execution_count": 7,
     "metadata": {},
     "output_type": "execute_result"
    }
   ],
   "source": [
    "thread"
   ]
  },
  {
   "cell_type": "code",
   "execution_count": 8,
   "id": "b3829a16-a1f9-45d8-810b-c082c5194029",
   "metadata": {},
   "outputs": [
    {
     "name": "stdout",
     "output_type": "stream",
     "text": [
      "This is my test id 10\n",
      "This is my test id 24\n",
      "This is my test id 2\n"
     ]
    }
   ],
   "source": [
    "for t in thread:\n",
    "    t.start()"
   ]
  },
  {
   "cell_type": "code",
   "execution_count": 1,
   "id": "184dd445-6d55-4f5d-b58f-f3151130b83c",
   "metadata": {},
   "outputs": [],
   "source": [
    "import urllib.request"
   ]
  },
  {
   "cell_type": "code",
   "execution_count": 2,
   "id": "170c41c8-0efe-47b1-83dc-6ff34ef080c1",
   "metadata": {},
   "outputs": [],
   "source": [
    "def download_file(url, filename):\n",
    "    urllib.request.urlretrieve(url, filename)"
   ]
  },
  {
   "cell_type": "code",
   "execution_count": 3,
   "id": "c48c5dbb-718b-4375-8e6b-efe193418b43",
   "metadata": {},
   "outputs": [],
   "source": [
    "download_file('https://raw.githubusercontent.com/itsfoss/text-files/master/agatha.txt','url1.txt')"
   ]
  },
  {
   "cell_type": "code",
   "execution_count": 4,
   "id": "b3e3b0c4-3c01-4428-a672-d1e5fc26ffee",
   "metadata": {},
   "outputs": [],
   "source": [
    "url_list = ['https://raw.githubusercontent.com/itsfoss/text-files/master/agatha.txt', 'https://raw.githubusercontent.com/itsfoss/text-files/master/sherlock.txt' ,'https://raw.githubusercontent.com/itsfoss/text-files/master/sample_log_file.txt']"
   ]
  },
  {
   "cell_type": "code",
   "execution_count": 5,
   "id": "43576768-7481-4ca5-9444-4220e780bfbb",
   "metadata": {},
   "outputs": [
    {
     "data": {
      "text/plain": [
       "['https://raw.githubusercontent.com/itsfoss/text-files/master/agatha.txt',\n",
       " 'https://raw.githubusercontent.com/itsfoss/text-files/master/sherlock.txt',\n",
       " 'https://raw.githubusercontent.com/itsfoss/text-files/master/sample_log_file.txt']"
      ]
     },
     "execution_count": 5,
     "metadata": {},
     "output_type": "execute_result"
    }
   ],
   "source": [
    "url_list"
   ]
  },
  {
   "cell_type": "code",
   "execution_count": 6,
   "id": "9236720b-e480-453b-965c-e1dafc6fcc6e",
   "metadata": {},
   "outputs": [
    {
     "data": {
      "text/plain": [
       "['url_data1.txt', 'url_data2.txt', 'url_data3.txt']"
      ]
     },
     "execution_count": 6,
     "metadata": {},
     "output_type": "execute_result"
    }
   ],
   "source": [
    "data_list = ['url_data1.txt','url_data2.txt','url_data3.txt']\n",
    "data_list"
   ]
  },
  {
   "cell_type": "code",
   "execution_count": 11,
   "id": "9e5d2c32-e468-4dc5-8a92-d87be2adcc1c",
   "metadata": {},
   "outputs": [],
   "source": [
    "thread = [threading.Thread(target = download_file, args = (url_list[i], data_list[i])) for i in range(len(url_list))]"
   ]
  },
  {
   "cell_type": "code",
   "execution_count": 12,
   "id": "a02c99a9-2f32-4996-9f40-d34e6776092c",
   "metadata": {},
   "outputs": [
    {
     "data": {
      "text/plain": [
       "[<Thread(Thread-8 (download_file), initial)>,\n",
       " <Thread(Thread-9 (download_file), initial)>,\n",
       " <Thread(Thread-10 (download_file), initial)>]"
      ]
     },
     "execution_count": 12,
     "metadata": {},
     "output_type": "execute_result"
    }
   ],
   "source": [
    "thread"
   ]
  },
  {
   "cell_type": "code",
   "execution_count": 13,
   "id": "5aa30fd0-beea-47a3-bc03-f33744ebf3e9",
   "metadata": {},
   "outputs": [],
   "source": [
    "for t in thread:\n",
    "    t.start()"
   ]
  },
  {
   "cell_type": "code",
   "execution_count": 16,
   "id": "a287beef-b7dc-4a3a-a112-f3ed805ab22d",
   "metadata": {},
   "outputs": [],
   "source": [
    "import time"
   ]
  },
  {
   "cell_type": "code",
   "execution_count": 35,
   "id": "a7d63a2f-6f3a-4a20-b5dd-f2546a29b361",
   "metadata": {},
   "outputs": [],
   "source": [
    "def test1(x):\n",
    "    for i in range(10):\n",
    "        print(\"The value of x is %d and the value of i is %d \" %(x,i))"
   ]
  },
  {
   "cell_type": "code",
   "execution_count": 36,
   "id": "1e71a667-6fa1-43e1-a98c-6ddd9a280971",
   "metadata": {},
   "outputs": [
    {
     "name": "stdout",
     "output_type": "stream",
     "text": [
      "The value of x is 12 and the value of i is 0 \n",
      "The value of x is 12 and the value of i is 1 \n",
      "The value of x is 12 and the value of i is 2 \n",
      "The value of x is 12 and the value of i is 3 \n",
      "The value of x is 12 and the value of i is 4 \n",
      "The value of x is 12 and the value of i is 5 \n",
      "The value of x is 12 and the value of i is 6 \n",
      "The value of x is 12 and the value of i is 7 \n",
      "The value of x is 12 and the value of i is 8 \n",
      "The value of x is 12 and the value of i is 9 \n"
     ]
    }
   ],
   "source": [
    "test1(12)"
   ]
  },
  {
   "cell_type": "code",
   "execution_count": 22,
   "id": "7196a9ea-8f42-4b95-a93d-89ceeb16c66a",
   "metadata": {},
   "outputs": [],
   "source": [
    "def test2(x):\n",
    "    for i in range(10):\n",
    "        print(\"The value of x is %d and the value of i is %d \" %(x,i))\n",
    "        time.sleep(1)"
   ]
  },
  {
   "cell_type": "code",
   "execution_count": 23,
   "id": "a3175949-bbd4-4766-9959-6c60d6ce47d3",
   "metadata": {},
   "outputs": [
    {
     "name": "stdout",
     "output_type": "stream",
     "text": [
      "The value of x is 5 and the value of i is 0 \n",
      "The value of x is 5 and the value of i is 1 \n",
      "The value of x is 5 and the value of i is 2 \n",
      "The value of x is 5 and the value of i is 3 \n",
      "The value of x is 5 and the value of i is 4 \n",
      "The value of x is 5 and the value of i is 5 \n",
      "The value of x is 5 and the value of i is 6 \n",
      "The value of x is 5 and the value of i is 7 \n",
      "The value of x is 5 and the value of i is 8 \n",
      "The value of x is 5 and the value of i is 9 \n"
     ]
    }
   ],
   "source": [
    "test2(5)"
   ]
  },
  {
   "cell_type": "code",
   "execution_count": 28,
   "id": "819b93db-269f-47bb-9857-df135c72fc2e",
   "metadata": {},
   "outputs": [],
   "source": [
    "l3 = [12,5,9]"
   ]
  },
  {
   "cell_type": "code",
   "execution_count": 32,
   "id": "0110c8d2-7d5e-4904-a804-21d0195efd7f",
   "metadata": {},
   "outputs": [],
   "source": [
    "thread2 = [threading.Thread(target = test2, args=(i,)) for i in l3  ]"
   ]
  },
  {
   "cell_type": "code",
   "execution_count": 33,
   "id": "8c8b4108-f17f-4048-81e6-8c93fa47639a",
   "metadata": {},
   "outputs": [
    {
     "data": {
      "text/plain": [
       "[<Thread(Thread-24 (test2), initial)>,\n",
       " <Thread(Thread-25 (test2), initial)>,\n",
       " <Thread(Thread-26 (test2), initial)>]"
      ]
     },
     "execution_count": 33,
     "metadata": {},
     "output_type": "execute_result"
    }
   ],
   "source": [
    "thread2"
   ]
  },
  {
   "cell_type": "code",
   "execution_count": 34,
   "id": "31e1087d-4187-4ed3-8cbd-15905fa01ebb",
   "metadata": {},
   "outputs": [
    {
     "name": "stdout",
     "output_type": "stream",
     "text": [
      "The value of x is 12 and the value of i is 0 \n",
      "The value of x is 5 and the value of i is 0 \n",
      "The value of x is 9 and the value of i is 0 \n",
      "The value of x is 12 and the value of i is 1 The value of x is 5 and the value of i is 1 \n",
      "The value of x is 9 and the value of i is 1 \n",
      "\n",
      "The value of x is 5 and the value of i is 2 \n",
      "The value of x is 12 and the value of i is 2 \n",
      "The value of x is 9 and the value of i is 2 \n",
      "The value of x is 5 and the value of i is 3 \n",
      "The value of x is 12 and the value of i is 3 \n",
      "The value of x is 9 and the value of i is 3 \n",
      "The value of x is 5 and the value of i is 4 \n",
      "The value of x is 12 and the value of i is 4 \n",
      "The value of x is 9 and the value of i is 4 \n",
      "The value of x is 5 and the value of i is 5 \n",
      "The value of x is 9 and the value of i is 5 \n",
      "The value of x is 12 and the value of i is 5 \n",
      "The value of x is 5 and the value of i is 6 \n",
      "The value of x is 12 and the value of i is 6 \n",
      "The value of x is 9 and the value of i is 6 \n",
      "The value of x is 5 and the value of i is 7 \n",
      "The value of x is 12 and the value of i is 7 \n",
      "The value of x is 9 and the value of i is 7 \n",
      "The value of x is 5 and the value of i is 8 \n",
      "The value of x is 12 and the value of i is 8 \n",
      "The value of x is 9 and the value of i is 8 \n",
      "The value of x is 5 and the value of i is 9 The value of x is 12 and the value of i is 9 \n",
      "\n",
      "The value of x is 9 and the value of i is 9 \n"
     ]
    }
   ],
   "source": [
    "for t2 in thread2:\n",
    "    t2.start()"
   ]
  },
  {
   "cell_type": "code",
   "execution_count": 38,
   "id": "9a7db380-7147-46bf-86ea-9aedbf148b58",
   "metadata": {},
   "outputs": [],
   "source": [
    "thread1 = [threading.Thread(target = test1, args=(i,)) for i in l3  ]"
   ]
  },
  {
   "cell_type": "code",
   "execution_count": 39,
   "id": "f5f51380-7093-4f0e-aec9-c12527211174",
   "metadata": {},
   "outputs": [
    {
     "name": "stdout",
     "output_type": "stream",
     "text": [
      "The value of x is 12 and the value of i is 0 \n",
      "The value of x is 12 and the value of i is 1 \n",
      "The value of x is 12 and the value of i is 2 \n",
      "The value of x is 12 and the value of i is 3 \n",
      "The value of x is 12 and the value of i is 4 \n",
      "The value of x is 12 and the value of i is 5 \n",
      "The value of x is 12 and the value of i is 6 \n",
      "The value of x is 12 and the value of i is 7 \n",
      "The value of x is 12 and the value of i is 8 \n",
      "The value of x is 12 and the value of i is 9 \n",
      "The value of x is 5 and the value of i is 0 \n",
      "The value of x is 5 and the value of i is 1 \n",
      "The value of x is 5 and the value of i is 2 \n",
      "The value of x is 5 and the value of i is 3 \n",
      "The value of x is 5 and the value of i is 4 \n",
      "The value of x is 5 and the value of i is 5 \n",
      "The value of x is 5 and the value of i is 6 \n",
      "The value of x is 5 and the value of i is 7 \n",
      "The value of x is 5 and the value of i is 8 \n",
      "The value of x is 5 and the value of i is 9 \n",
      "The value of x is 9 and the value of i is 0 \n",
      "The value of x is 9 and the value of i is 1 \n",
      "The value of x is 9 and the value of i is 2 \n",
      "The value of x is 9 and the value of i is 3 \n",
      "The value of x is 9 and the value of i is 4 \n",
      "The value of x is 9 and the value of i is 5 \n",
      "The value of x is 9 and the value of i is 6 \n",
      "The value of x is 9 and the value of i is 7 \n",
      "The value of x is 9 and the value of i is 8 \n",
      "The value of x is 9 and the value of i is 9 \n"
     ]
    }
   ],
   "source": [
    "for t in thread2:\n",
    "    t.start()"
   ]
  },
  {
   "cell_type": "code",
   "execution_count": 1,
   "id": "cd452915-e7ce-4936-ab88-b0a00bb7a437",
   "metadata": {},
   "outputs": [],
   "source": [
    "import threading"
   ]
  },
  {
   "cell_type": "code",
   "execution_count": 2,
   "id": "1093a9d5-195c-401e-a78e-dfbf856ad2f8",
   "metadata": {},
   "outputs": [],
   "source": [
    "import time"
   ]
  },
  {
   "cell_type": "code",
   "execution_count": 3,
   "id": "d86a051e-4866-44bf-9192-eac4b1a1c91d",
   "metadata": {},
   "outputs": [],
   "source": [
    "sha_var = 0\n",
    "lock_var = threading.Lock()\n",
    "\n",
    "def test3(a):\n",
    "    global sha_var\n",
    "    with lock_var:\n",
    "        sha_var = sha_var+1\n",
    "        print(\"The value of a is %d and value of sha_var is %d\" %(a,sha_var))\n",
    "        time.sleep(1)"
   ]
  },
  {
   "cell_type": "code",
   "execution_count": 4,
   "id": "021709a9-e451-4f42-a149-f8e7c2406dc5",
   "metadata": {},
   "outputs": [
    {
     "name": "stdout",
     "output_type": "stream",
     "text": [
      "The value of a is 8 and value of sha_var is 1\n"
     ]
    }
   ],
   "source": [
    "test3(8)"
   ]
  },
  {
   "cell_type": "code",
   "execution_count": 5,
   "id": "7b34bd69-6c80-468e-9081-7dff05a9eb05",
   "metadata": {},
   "outputs": [
    {
     "name": "stdout",
     "output_type": "stream",
     "text": [
      "The value of a is 22 and value of sha_var is 2\n"
     ]
    }
   ],
   "source": [
    "test3(22)"
   ]
  },
  {
   "cell_type": "code",
   "execution_count": 6,
   "id": "72751266-e9ca-4464-8e88-e04b69622c10",
   "metadata": {},
   "outputs": [],
   "source": [
    "thread4 = [ threading.Thread(target = test3, args=(i,)) for i in [8,22,35,75] ]"
   ]
  },
  {
   "cell_type": "code",
   "execution_count": 7,
   "id": "2c2681a5-f08c-4239-b22d-6a1cd501653f",
   "metadata": {},
   "outputs": [
    {
     "name": "stdout",
     "output_type": "stream",
     "text": [
      "The value of a is 8 and value of sha_var is 3\n",
      "The value of a is 22 and value of sha_var is 4\n",
      "The value of a is 35 and value of sha_var is 5\n",
      "The value of a is 75 and value of sha_var is 6\n"
     ]
    }
   ],
   "source": [
    "for t in thread4:\n",
    "    t.start()"
   ]
  },
  {
   "cell_type": "code",
   "execution_count": null,
   "id": "0630fc29-64a4-4ef6-b994-faee4cd1b4b0",
   "metadata": {},
   "outputs": [],
   "source": []
  }
 ],
 "metadata": {
  "kernelspec": {
   "display_name": "Python 3 (ipykernel)",
   "language": "python",
   "name": "python3"
  },
  "language_info": {
   "codemirror_mode": {
    "name": "ipython",
    "version": 3
   },
   "file_extension": ".py",
   "mimetype": "text/x-python",
   "name": "python",
   "nbconvert_exporter": "python",
   "pygments_lexer": "ipython3",
   "version": "3.10.8"
  }
 },
 "nbformat": 4,
 "nbformat_minor": 5
}
