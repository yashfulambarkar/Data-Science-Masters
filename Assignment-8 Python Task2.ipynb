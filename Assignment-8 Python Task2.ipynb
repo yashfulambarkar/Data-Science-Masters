{
 "cells": [
  {
   "cell_type": "markdown",
   "id": "73a2f6f7-c479-4a12-bb23-701bff4ca0a8",
   "metadata": {},
   "source": [
    "Q1. You are writing code for a company. The requirement of the company is that you create a python\n",
    "function that will check whether the password entered by the user is correct or not. The function should\n",
    "take the password as input and return the string “Valid Password” if the entered password follows the\n",
    "below-given password guidelines else it should return “Invalid Password”.\n",
    "\n",
    "Note: \n",
    "1. The Password should contain at least two uppercase letters and at least two lowercase letters.\n",
    "2. The Password should contain at least a number and three special characters.\n",
    "3. The length of the password should be 10 characters long."
   ]
  },
  {
   "cell_type": "code",
   "execution_count": 1,
   "id": "d40d1d56-d586-4a0e-8b4c-2047a6ea3b07",
   "metadata": {},
   "outputs": [],
   "source": [
    "def pass_check(password):\n",
    "    \n",
    "    l='abcdefghijklmnopqrstuvwxyz'\n",
    "    u=l.upper()\n",
    "    n='0123456789'\n",
    "    s='!@#$&^*)(_-='\n",
    "    \n",
    "    if len(password)==10:\n",
    "        l1=[]\n",
    "        l2=[]\n",
    "        l3=[]\n",
    "        l4=[]\n",
    "        for i in password:\n",
    "            if i in l:\n",
    "                l1.append(i)\n",
    "            elif i in u:\n",
    "                l2.append(i)\n",
    "            elif i in n:\n",
    "                l3.append(i)\n",
    "            elif i in s:\n",
    "                l4.append(i)\n",
    "        \n",
    "        if len(l1)>=2 and len(l2)>=2 and len(l3)>=1 and len(l4)>=3:\n",
    "            return \"Valid Password\"\n",
    "        else:\n",
    "            return \"Invalid Password\"\n",
    "    \n",
    "    else:\n",
    "        return \"Invalid Password\""
   ]
  },
  {
   "cell_type": "code",
   "execution_count": 2,
   "id": "36b90a70-4988-4c29-b928-28d05e2310d5",
   "metadata": {},
   "outputs": [
    {
     "data": {
      "text/plain": [
       "'Valid Password'"
      ]
     },
     "execution_count": 2,
     "metadata": {},
     "output_type": "execute_result"
    }
   ],
   "source": [
    "pass_check('TsJ$5h*p@l')"
   ]
  },
  {
   "cell_type": "code",
   "execution_count": null,
   "id": "c0ef12dd-3316-4960-8fc5-352398314e7c",
   "metadata": {},
   "outputs": [],
   "source": []
  },
  {
   "cell_type": "markdown",
   "id": "d6e9b691-dc6f-4a3e-a9a0-4d6ae6a1baa6",
   "metadata": {},
   "source": [
    "Q2. Solve the below-given questions using at least one of the following:\n",
    "1. Lambda function\n",
    "2. Filter function\n",
    "3. Map function\n",
    "4. List Comprehension\n"
   ]
  },
  {
   "cell_type": "markdown",
   "id": "620baa10-8dcf-46d5-9c80-13faa4350a9b",
   "metadata": {},
   "source": [
    "A] Check if the string starts with a particular letter"
   ]
  },
  {
   "cell_type": "code",
   "execution_count": 12,
   "id": "dba5801c-9661-4a97-aee6-0f574b0b25c5",
   "metadata": {},
   "outputs": [
    {
     "name": "stdin",
     "output_type": "stream",
     "text": [
      " Aeroplane\n"
     ]
    },
    {
     "data": {
      "text/plain": [
       "['Starts with A']"
      ]
     },
     "execution_count": 12,
     "metadata": {},
     "output_type": "execute_result"
    }
   ],
   "source": [
    "str1=input()\n",
    "l=[\"Starts with A\" for i in str1 if i.startswith('A')  ]\n",
    "l"
   ]
  },
  {
   "cell_type": "code",
   "execution_count": null,
   "id": "8139a871-734d-4957-b8ea-189af06ebefe",
   "metadata": {},
   "outputs": [],
   "source": []
  },
  {
   "cell_type": "markdown",
   "id": "1913e14a-38f8-487c-b770-5a4d6ea31c91",
   "metadata": {},
   "source": [
    "B] Check if the string is numeric."
   ]
  },
  {
   "cell_type": "code",
   "execution_count": 19,
   "id": "58bad54c-89d1-4fb3-8423-6b85000dc563",
   "metadata": {},
   "outputs": [],
   "source": [
    "str2='abc5'\n",
    "str3='1234'\n",
    "p = lambda i : int(i)"
   ]
  },
  {
   "cell_type": "code",
   "execution_count": 17,
   "id": "464481d4-736f-4905-9465-cbdb22babed0",
   "metadata": {},
   "outputs": [
    {
     "data": {
      "text/plain": [
       "1234"
      ]
     },
     "execution_count": 17,
     "metadata": {},
     "output_type": "execute_result"
    }
   ],
   "source": [
    "p(str3)"
   ]
  },
  {
   "cell_type": "code",
   "execution_count": null,
   "id": "ef47af49-219a-4692-85b1-2a3710d18f2e",
   "metadata": {},
   "outputs": [],
   "source": [
    "p(str2)  # This gives ValueError: invalid literal for int() with base 10: 'abc5'"
   ]
  },
  {
   "cell_type": "code",
   "execution_count": null,
   "id": "1207a2e6-dd47-483a-b5aa-efd128862bc8",
   "metadata": {},
   "outputs": [],
   "source": []
  },
  {
   "cell_type": "markdown",
   "id": "52a9f763-c158-45d6-bfc5-096238586895",
   "metadata": {},
   "source": [
    "C] Sort a list of tuples having fruit names and their quantity. \n",
    "\n",
    "[(\"mango\",99),(\"orange\",80), (\"grapes\", 1000)]"
   ]
  },
  {
   "cell_type": "code",
   "execution_count": 22,
   "id": "9f3ed054-97bc-447b-b21c-d820dbd57091",
   "metadata": {},
   "outputs": [],
   "source": [
    "t1= [(\"mango\",99),(\"orange\",80), (\"grapes\", 1000)]"
   ]
  },
  {
   "cell_type": "code",
   "execution_count": 32,
   "id": "b27ebecf-46f5-4677-a55d-f240ab882bc7",
   "metadata": {},
   "outputs": [
    {
     "data": {
      "text/plain": [
       "[('grapes', 1000), ('mango', 99), ('orange', 80)]"
      ]
     },
     "execution_count": 32,
     "metadata": {},
     "output_type": "execute_result"
    }
   ],
   "source": [
    "list(filter(lambda i : i[0] ,t1))"
   ]
  },
  {
   "cell_type": "code",
   "execution_count": 34,
   "id": "c4d2f215-b18f-4f3e-ae84-c83313a3d003",
   "metadata": {},
   "outputs": [],
   "source": [
    "t1.sort(key=lambda i : i[1])"
   ]
  },
  {
   "cell_type": "code",
   "execution_count": 35,
   "id": "6137ee30-e5ec-4662-b253-a7cc28a110ce",
   "metadata": {},
   "outputs": [
    {
     "data": {
      "text/plain": [
       "[('orange', 80), ('mango', 99), ('grapes', 1000)]"
      ]
     },
     "execution_count": 35,
     "metadata": {},
     "output_type": "execute_result"
    }
   ],
   "source": [
    "t1"
   ]
  },
  {
   "cell_type": "code",
   "execution_count": null,
   "id": "99a7b43b-7d2f-44ac-bf20-3c00f1774c66",
   "metadata": {},
   "outputs": [],
   "source": []
  },
  {
   "cell_type": "markdown",
   "id": "17ba11bc-2041-4302-9677-2f3c3624637f",
   "metadata": {},
   "source": [
    "D] Find the squares of numbers from 1 to 10."
   ]
  },
  {
   "cell_type": "code",
   "execution_count": 36,
   "id": "8bbf0559-ca91-4b8c-85e3-4e3556d6d1ef",
   "metadata": {},
   "outputs": [
    {
     "data": {
      "text/plain": [
       "[1, 4, 9, 16, 25, 36, 49, 64, 81, 100]"
      ]
     },
     "execution_count": 36,
     "metadata": {},
     "output_type": "execute_result"
    }
   ],
   "source": [
    "squares = [ i**2 for i in range(1,11) ]\n",
    "squares"
   ]
  },
  {
   "cell_type": "code",
   "execution_count": null,
   "id": "94e5479a-b243-4880-8bd4-152d33b9adb4",
   "metadata": {},
   "outputs": [],
   "source": []
  },
  {
   "cell_type": "markdown",
   "id": "215c61e8-5a61-4185-b994-31bad3915764",
   "metadata": {},
   "source": [
    "E] Find the cube root of numbers from 1 to 10."
   ]
  },
  {
   "cell_type": "code",
   "execution_count": 37,
   "id": "bd746b5b-ce1e-4cf6-b6b8-59af2fd3d302",
   "metadata": {},
   "outputs": [],
   "source": [
    "num=[ i for i in range(1,11) ]"
   ]
  },
  {
   "cell_type": "code",
   "execution_count": 38,
   "id": "afecdfaa-e59a-4291-b623-762e19aad663",
   "metadata": {},
   "outputs": [
    {
     "data": {
      "text/plain": [
       "[1, 2, 3, 4, 5, 6, 7, 8, 9, 10]"
      ]
     },
     "execution_count": 38,
     "metadata": {},
     "output_type": "execute_result"
    }
   ],
   "source": [
    "num"
   ]
  },
  {
   "cell_type": "code",
   "execution_count": 48,
   "id": "86300d04-d39a-4fc4-ae06-d9cc5ebae82c",
   "metadata": {},
   "outputs": [
    {
     "data": {
      "text/plain": [
       "[1.0,\n",
       " 1.2599210498948732,\n",
       " 1.4422495703074083,\n",
       " 1.5874010519681994,\n",
       " 1.7099759466766968,\n",
       " 1.8171205928321397,\n",
       " 1.912931182772389,\n",
       " 2.0,\n",
       " 2.080083823051904,\n",
       " 2.154434690031884]"
      ]
     },
     "execution_count": 48,
     "metadata": {},
     "output_type": "execute_result"
    }
   ],
   "source": [
    "list(map(lambda i : i**(1/3),num))"
   ]
  },
  {
   "cell_type": "code",
   "execution_count": null,
   "id": "65ddebde-3ed1-4d7f-9aad-66f4332d2711",
   "metadata": {},
   "outputs": [],
   "source": []
  },
  {
   "cell_type": "markdown",
   "id": "0b44c0d5-74a9-4987-bd6d-dbab8098de1b",
   "metadata": {},
   "source": [
    "F] Check if a given number is even."
   ]
  },
  {
   "cell_type": "code",
   "execution_count": 3,
   "id": "ae95759d-4201-42d1-b1f9-2a7f4d8f9548",
   "metadata": {},
   "outputs": [
    {
     "name": "stdin",
     "output_type": "stream",
     "text": [
      " 22\n"
     ]
    },
    {
     "name": "stdout",
     "output_type": "stream",
     "text": [
      "22 is even.\n"
     ]
    }
   ],
   "source": [
    "i_no=int(input())\n",
    "\n",
    "if i_no%2==0:\n",
    "    print(\"{} is even.\".format(i_no))\n",
    "else:\n",
    "    print(i_no,\"is not even.\")\n",
    "    "
   ]
  },
  {
   "cell_type": "code",
   "execution_count": null,
   "id": "eace6f61-cb9b-4421-b329-b2adc02d0153",
   "metadata": {},
   "outputs": [],
   "source": []
  },
  {
   "cell_type": "markdown",
   "id": "ae791764-1526-4dcb-9843-17ded2f21a6d",
   "metadata": {},
   "source": [
    "G] Filter odd numbers from the given list.\n",
    " \n",
    " [1,2,3,4,5,6,7,8,9,10]"
   ]
  },
  {
   "cell_type": "code",
   "execution_count": 4,
   "id": "5124e04f-128f-421f-9cee-d807769aa47e",
   "metadata": {},
   "outputs": [],
   "source": [
    "list2 = [1,2,3,4,5,6,7,8,9,10]"
   ]
  },
  {
   "cell_type": "code",
   "execution_count": 5,
   "id": "46da1945-46b1-4cdd-9312-f981ea2c4fa0",
   "metadata": {},
   "outputs": [
    {
     "data": {
      "text/plain": [
       "[1, 2, 3, 4, 5, 6, 7, 8, 9, 10]"
      ]
     },
     "execution_count": 5,
     "metadata": {},
     "output_type": "execute_result"
    }
   ],
   "source": [
    "list2"
   ]
  },
  {
   "cell_type": "code",
   "execution_count": 9,
   "id": "9edaa0d2-d131-4a4d-abba-3e2241887a31",
   "metadata": {},
   "outputs": [
    {
     "data": {
      "text/plain": [
       "[1, 3, 5, 7, 9]"
      ]
     },
     "execution_count": 9,
     "metadata": {},
     "output_type": "execute_result"
    }
   ],
   "source": [
    "list(filter(lambda i : i%2!=0, list2))"
   ]
  },
  {
   "cell_type": "code",
   "execution_count": null,
   "id": "36d45a90-3f00-4103-8e46-2f39d82af78f",
   "metadata": {},
   "outputs": [],
   "source": []
  },
  {
   "cell_type": "markdown",
   "id": "d7f50b18-e6cf-455d-b3fb-cff20c7a49ba",
   "metadata": {},
   "source": [
    "H] Sort a list of integers into positive and negative integers lists.\n",
    "\n",
    "[1,2,3,4,5,6,-1,-2,-3,-4,-5,0]"
   ]
  },
  {
   "cell_type": "code",
   "execution_count": 10,
   "id": "0a7ff6a3-1c81-432b-bda3-1bd0f3a293f0",
   "metadata": {},
   "outputs": [],
   "source": [
    "l5=[1,2,3,4,5,6,-1,-2,-3,-4,-5,0]"
   ]
  },
  {
   "cell_type": "code",
   "execution_count": 11,
   "id": "6debcb1e-e07e-4036-b2a5-692e068fee0e",
   "metadata": {},
   "outputs": [
    {
     "data": {
      "text/plain": [
       "[1, 2, 3, 4, 5, 6, -1, -2, -3, -4, -5, 0]"
      ]
     },
     "execution_count": 11,
     "metadata": {},
     "output_type": "execute_result"
    }
   ],
   "source": [
    "l5"
   ]
  },
  {
   "cell_type": "code",
   "execution_count": 12,
   "id": "307044bc-e910-4d02-ac5b-e3a70da4ad83",
   "metadata": {},
   "outputs": [],
   "source": [
    "lp=[]\n",
    "ln=[]\n",
    "for i in l5:\n",
    "    if i>=0:\n",
    "        lp.append(i)\n",
    "    else:\n",
    "        ln.append(i)"
   ]
  },
  {
   "cell_type": "code",
   "execution_count": 15,
   "id": "182e6eee-5f5f-41ad-a54a-385f9bc6f478",
   "metadata": {},
   "outputs": [],
   "source": [
    "lp.sort()"
   ]
  },
  {
   "cell_type": "code",
   "execution_count": 16,
   "id": "7132bd1b-188f-496a-bbec-6d221b01ce3e",
   "metadata": {},
   "outputs": [
    {
     "data": {
      "text/plain": [
       "[0, 1, 2, 3, 4, 5, 6]"
      ]
     },
     "execution_count": 16,
     "metadata": {},
     "output_type": "execute_result"
    }
   ],
   "source": [
    "lp"
   ]
  },
  {
   "cell_type": "code",
   "execution_count": 17,
   "id": "d49252bf-e4a5-418a-beb3-bb96e18684a0",
   "metadata": {},
   "outputs": [],
   "source": [
    "ln.sort()"
   ]
  },
  {
   "cell_type": "code",
   "execution_count": 18,
   "id": "b19e0fc4-507d-48e7-8d57-6332f4faadb4",
   "metadata": {},
   "outputs": [
    {
     "data": {
      "text/plain": [
       "[-5, -4, -3, -2, -1]"
      ]
     },
     "execution_count": 18,
     "metadata": {},
     "output_type": "execute_result"
    }
   ],
   "source": [
    "ln"
   ]
  },
  {
   "cell_type": "code",
   "execution_count": null,
   "id": "f2164c4a-162a-4f7e-ab5e-14772a00b9ad",
   "metadata": {},
   "outputs": [],
   "source": []
  }
 ],
 "metadata": {
  "kernelspec": {
   "display_name": "Python 3 (ipykernel)",
   "language": "python",
   "name": "python3"
  },
  "language_info": {
   "codemirror_mode": {
    "name": "ipython",
    "version": 3
   },
   "file_extension": ".py",
   "mimetype": "text/x-python",
   "name": "python",
   "nbconvert_exporter": "python",
   "pygments_lexer": "ipython3",
   "version": "3.10.8"
  }
 },
 "nbformat": 4,
 "nbformat_minor": 5
}
